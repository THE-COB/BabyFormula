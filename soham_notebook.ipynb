{
 "cells": [
  {
   "cell_type": "code",
   "execution_count": 1,
   "metadata": {},
   "outputs": [],
   "source": [
    "import requests\n",
    "import os\n",
    "import json\n",
    "import pandas as pd\n",
    "import openpyxl"
   ]
  },
  {
   "cell_type": "code",
   "execution_count": 33,
   "metadata": {},
   "outputs": [
    {
     "name": "stdout",
     "output_type": "stream",
     "text": [
      "Collecting openpyxl\n",
      "  Downloading openpyxl-3.0.10-py2.py3-none-any.whl (242 kB)\n",
      "\u001b[K     |████████████████████████████████| 242 kB 6.1 MB/s eta 0:00:01\n",
      "\u001b[?25hCollecting et-xmlfile\n",
      "  Using cached et_xmlfile-1.1.0-py3-none-any.whl (4.7 kB)\n",
      "Installing collected packages: et-xmlfile, openpyxl\n",
      "Successfully installed et-xmlfile-1.1.0 openpyxl-3.0.10\n",
      "Note: you may need to restart the kernel to use updated packages.\n"
     ]
    }
   ],
   "source": [
    "pip install openpyxl"
   ]
  },
  {
   "cell_type": "code",
   "execution_count": 61,
   "metadata": {},
   "outputs": [
    {
     "name": "stdout",
     "output_type": "stream",
     "text": [
      "   Unnamed: 0            id        id_str    screen_name  \\\n",
      "0           0  9.867816e+08  9.867816e+08   jeffsessions   \n",
      "1           1  9.335129e+07  9.335129e+07     devinpandy   \n",
      "2           2  7.711059e+17  7.711059e+17    chrisbishre   \n",
      "3           3  9.148155e+17  9.148155e+17      nancymace   \n",
      "4           4  1.081293e+18  1.081293e+18  funk4congress   \n",
      "\n",
      "   confirmed_account_type           state                     twitter_name  \\\n",
      "0                       1         Alabama                    Jeff Sessions   \n",
      "1                       1         Georgia                  DDP (he/him/el)   \n",
      "2                       1      California                       Chris Bish   \n",
      "3                       1  South Carolina                       Nancy Mace   \n",
      "4                       1        Illinois  Joel Funk for Southern Illinois   \n",
      "\n",
      "  real_name bioguide  office_holder party  district  level  woman birthday  \\\n",
      "0       NaN      NaN            NaN   NaN       NaN    NaN    NaN      NaN   \n",
      "1       NaN      NaN            NaN   NaN       NaN    NaN    NaN      NaN   \n",
      "2       NaN      NaN            NaN   NaN       NaN    NaN    NaN      NaN   \n",
      "3       NaN      NaN            NaN   NaN       NaN    NaN    NaN      NaN   \n",
      "4       NaN      NaN            NaN   NaN       NaN    NaN    NaN      NaN   \n",
      "\n",
      "  last_updated  \n",
      "0   2021-04-20  \n",
      "1   2021-04-20  \n",
      "2   2021-04-20  \n",
      "3   2021-04-20  \n",
      "4   2021-04-20  \n"
     ]
    }
   ],
   "source": [
    "politicians = pd.read_csv('data/us_politicians.csv')\n",
    "print(politicians.head())\n",
    "\n",
    "politicians_usernames = politicians['screen_name']\n"
   ]
  },
  {
   "cell_type": "code",
   "execution_count": 66,
   "metadata": {},
   "outputs": [
    {
     "data": {
      "text/html": [
       "<div>\n",
       "<style scoped>\n",
       "    .dataframe tbody tr th:only-of-type {\n",
       "        vertical-align: middle;\n",
       "    }\n",
       "\n",
       "    .dataframe tbody tr th {\n",
       "        vertical-align: top;\n",
       "    }\n",
       "\n",
       "    .dataframe thead th {\n",
       "        text-align: right;\n",
       "    }\n",
       "</style>\n",
       "<table border=\"1\" class=\"dataframe\">\n",
       "  <thead>\n",
       "    <tr style=\"text-align: right;\">\n",
       "      <th></th>\n",
       "      <th>Unnamed: 0</th>\n",
       "      <th>id</th>\n",
       "      <th>text</th>\n",
       "      <th>author_id</th>\n",
       "      <th>created_at</th>\n",
       "      <th>public_metrics</th>\n",
       "      <th>entities</th>\n",
       "      <th>author</th>\n",
       "      <th>withheld</th>\n",
       "    </tr>\n",
       "  </thead>\n",
       "  <tbody>\n",
       "    <tr>\n",
       "      <th>9031</th>\n",
       "      <td>543672</td>\n",
       "      <td>1520916036433981440</td>\n",
       "      <td>FDA clears release of limited infant formula o...</td>\n",
       "      <td>1464111555826569216</td>\n",
       "      <td>2022-05-02 00:00:14+00:00</td>\n",
       "      <td>{'retweet_count': 0, 'reply_count': 0, 'like_c...</td>\n",
       "      <td>{'annotations': [{'start': 0, 'end': 2, 'proba...</td>\n",
       "      <td>{'name': 'AgriFood Tech News', 'id': '14641115...</td>\n",
       "      <td>NaN</td>\n",
       "    </tr>\n",
       "    <tr>\n",
       "      <th>7249</th>\n",
       "      <td>453496</td>\n",
       "      <td>1524516643413663744</td>\n",
       "      <td>@DEPoland @SenWarren Need more boobs to end ba...</td>\n",
       "      <td>1930271539</td>\n",
       "      <td>2022-05-11 22:27:46+00:00</td>\n",
       "      <td>{'retweet_count': 0, 'reply_count': 0, 'like_c...</td>\n",
       "      <td>{'mentions': [{'start': 0, 'end': 9, 'username...</td>\n",
       "      <td>{'verified': False, 'username': 'MaineMan2020'...</td>\n",
       "      <td>NaN</td>\n",
       "    </tr>\n",
       "    <tr>\n",
       "      <th>4332</th>\n",
       "      <td>204972</td>\n",
       "      <td>1526164571148505088</td>\n",
       "      <td>Why won't Biden allow baby formula imports NOW...</td>\n",
       "      <td>1151522934844002304</td>\n",
       "      <td>2022-05-16 11:36:03+00:00</td>\n",
       "      <td>{'retweet_count': 1, 'reply_count': 1, 'like_c...</td>\n",
       "      <td>{'urls': [{'start': 204, 'end': 227, 'url': 'h...</td>\n",
       "      <td>{'id': '1151522934844002304', 'username': 'mrv...</td>\n",
       "      <td>NaN</td>\n",
       "    </tr>\n",
       "    <tr>\n",
       "      <th>8844</th>\n",
       "      <td>179152</td>\n",
       "      <td>1526378205711683584</td>\n",
       "      <td>@CNBC Thanks @JeffBezos, now can you charge le...</td>\n",
       "      <td>1472962190172987392</td>\n",
       "      <td>2022-05-17 01:44:57+00:00</td>\n",
       "      <td>{'retweet_count': 0, 'reply_count': 0, 'like_c...</td>\n",
       "      <td>{'mentions': [{'start': 0, 'end': 5, 'username...</td>\n",
       "      <td>{'name': 'Earth Air Water', 'verified': False,...</td>\n",
       "      <td>NaN</td>\n",
       "    </tr>\n",
       "    <tr>\n",
       "      <th>3228</th>\n",
       "      <td>329507</td>\n",
       "      <td>1525156679309856768</td>\n",
       "      <td>The baby formula has been proven to have harmf...</td>\n",
       "      <td>1315001228338880512</td>\n",
       "      <td>2022-05-13 16:51:03+00:00</td>\n",
       "      <td>{'retweet_count': 0, 'reply_count': 0, 'like_c...</td>\n",
       "      <td>{'urls': [{'start': 190, 'end': 213, 'url': 'h...</td>\n",
       "      <td>{'created_at': '2020-10-10T18:49:02.000Z', 'id...</td>\n",
       "      <td>NaN</td>\n",
       "    </tr>\n",
       "    <tr>\n",
       "      <th>...</th>\n",
       "      <td>...</td>\n",
       "      <td>...</td>\n",
       "      <td>...</td>\n",
       "      <td>...</td>\n",
       "      <td>...</td>\n",
       "      <td>...</td>\n",
       "      <td>...</td>\n",
       "      <td>...</td>\n",
       "      <td>...</td>\n",
       "    </tr>\n",
       "    <tr>\n",
       "      <th>6763</th>\n",
       "      <td>102956</td>\n",
       "      <td>1527233852799959040</td>\n",
       "      <td>@DallissonSanto1 @briantylercohen If by fine y...</td>\n",
       "      <td>1382986844137254912</td>\n",
       "      <td>2022-05-19 10:24:59+00:00</td>\n",
       "      <td>{'retweet_count': 0, 'reply_count': 0, 'like_c...</td>\n",
       "      <td>{'mentions': [{'start': 0, 'end': 16, 'usernam...</td>\n",
       "      <td>{'username': 'MoniqueSmiling', 'verified': Fal...</td>\n",
       "      <td>NaN</td>\n",
       "    </tr>\n",
       "    <tr>\n",
       "      <th>9765</th>\n",
       "      <td>314717</td>\n",
       "      <td>1525202996153528320</td>\n",
       "      <td>Federal inspectors spotted the potential for b...</td>\n",
       "      <td>14370739</td>\n",
       "      <td>2022-05-13 19:55:05+00:00</td>\n",
       "      <td>{'retweet_count': 0, 'reply_count': 1, 'like_c...</td>\n",
       "      <td>{'urls': [{'start': 210, 'end': 233, 'url': 'h...</td>\n",
       "      <td>{'verified': True, 'name': 'The Gazette', 'pub...</td>\n",
       "      <td>NaN</td>\n",
       "    </tr>\n",
       "    <tr>\n",
       "      <th>4531</th>\n",
       "      <td>415359</td>\n",
       "      <td>1524793651636973568</td>\n",
       "      <td>Baby formula…. Copy it , screenshot it and sha...</td>\n",
       "      <td>1378642362935705600</td>\n",
       "      <td>2022-05-12 16:48:30+00:00</td>\n",
       "      <td>{'retweet_count': 1, 'reply_count': 0, 'like_c...</td>\n",
       "      <td>{'urls': [{'start': 80, 'end': 103, 'url': 'ht...</td>\n",
       "      <td>{'verified': False, 'name': 'John Dominck', 'p...</td>\n",
       "      <td>NaN</td>\n",
       "    </tr>\n",
       "    <tr>\n",
       "      <th>7595</th>\n",
       "      <td>338947</td>\n",
       "      <td>1525126915631288320</td>\n",
       "      <td>The four things that created the baby formula ...</td>\n",
       "      <td>3305447466</td>\n",
       "      <td>2022-05-13 14:52:46+00:00</td>\n",
       "      <td>{'retweet_count': 0, 'reply_count': 2, 'like_c...</td>\n",
       "      <td>NaN</td>\n",
       "      <td>{'created_at': '2015-08-03T23:31:23.000Z', 'us...</td>\n",
       "      <td>NaN</td>\n",
       "    </tr>\n",
       "    <tr>\n",
       "      <th>2970</th>\n",
       "      <td>126017</td>\n",
       "      <td>1527054182053580800</td>\n",
       "      <td>@dejensn @CNN What actions? Did he make the co...</td>\n",
       "      <td>1275643479943720960</td>\n",
       "      <td>2022-05-18 22:31:02+00:00</td>\n",
       "      <td>{'retweet_count': 0, 'reply_count': 0, 'like_c...</td>\n",
       "      <td>{'mentions': [{'start': 0, 'end': 8, 'username...</td>\n",
       "      <td>{'verified': False, 'name': 'ungovernabletallb...</td>\n",
       "      <td>NaN</td>\n",
       "    </tr>\n",
       "  </tbody>\n",
       "</table>\n",
       "<p>10000 rows × 9 columns</p>\n",
       "</div>"
      ],
      "text/plain": [
       "      Unnamed: 0                   id  \\\n",
       "9031      543672  1520916036433981440   \n",
       "7249      453496  1524516643413663744   \n",
       "4332      204972  1526164571148505088   \n",
       "8844      179152  1526378205711683584   \n",
       "3228      329507  1525156679309856768   \n",
       "...          ...                  ...   \n",
       "6763      102956  1527233852799959040   \n",
       "9765      314717  1525202996153528320   \n",
       "4531      415359  1524793651636973568   \n",
       "7595      338947  1525126915631288320   \n",
       "2970      126017  1527054182053580800   \n",
       "\n",
       "                                                   text            author_id  \\\n",
       "9031  FDA clears release of limited infant formula o...  1464111555826569216   \n",
       "7249  @DEPoland @SenWarren Need more boobs to end ba...           1930271539   \n",
       "4332  Why won't Biden allow baby formula imports NOW...  1151522934844002304   \n",
       "8844  @CNBC Thanks @JeffBezos, now can you charge le...  1472962190172987392   \n",
       "3228  The baby formula has been proven to have harmf...  1315001228338880512   \n",
       "...                                                 ...                  ...   \n",
       "6763  @DallissonSanto1 @briantylercohen If by fine y...  1382986844137254912   \n",
       "9765  Federal inspectors spotted the potential for b...             14370739   \n",
       "4531  Baby formula…. Copy it , screenshot it and sha...  1378642362935705600   \n",
       "7595  The four things that created the baby formula ...           3305447466   \n",
       "2970  @dejensn @CNN What actions? Did he make the co...  1275643479943720960   \n",
       "\n",
       "                     created_at  \\\n",
       "9031  2022-05-02 00:00:14+00:00   \n",
       "7249  2022-05-11 22:27:46+00:00   \n",
       "4332  2022-05-16 11:36:03+00:00   \n",
       "8844  2022-05-17 01:44:57+00:00   \n",
       "3228  2022-05-13 16:51:03+00:00   \n",
       "...                         ...   \n",
       "6763  2022-05-19 10:24:59+00:00   \n",
       "9765  2022-05-13 19:55:05+00:00   \n",
       "4531  2022-05-12 16:48:30+00:00   \n",
       "7595  2022-05-13 14:52:46+00:00   \n",
       "2970  2022-05-18 22:31:02+00:00   \n",
       "\n",
       "                                         public_metrics  \\\n",
       "9031  {'retweet_count': 0, 'reply_count': 0, 'like_c...   \n",
       "7249  {'retweet_count': 0, 'reply_count': 0, 'like_c...   \n",
       "4332  {'retweet_count': 1, 'reply_count': 1, 'like_c...   \n",
       "8844  {'retweet_count': 0, 'reply_count': 0, 'like_c...   \n",
       "3228  {'retweet_count': 0, 'reply_count': 0, 'like_c...   \n",
       "...                                                 ...   \n",
       "6763  {'retweet_count': 0, 'reply_count': 0, 'like_c...   \n",
       "9765  {'retweet_count': 0, 'reply_count': 1, 'like_c...   \n",
       "4531  {'retweet_count': 1, 'reply_count': 0, 'like_c...   \n",
       "7595  {'retweet_count': 0, 'reply_count': 2, 'like_c...   \n",
       "2970  {'retweet_count': 0, 'reply_count': 0, 'like_c...   \n",
       "\n",
       "                                               entities  \\\n",
       "9031  {'annotations': [{'start': 0, 'end': 2, 'proba...   \n",
       "7249  {'mentions': [{'start': 0, 'end': 9, 'username...   \n",
       "4332  {'urls': [{'start': 204, 'end': 227, 'url': 'h...   \n",
       "8844  {'mentions': [{'start': 0, 'end': 5, 'username...   \n",
       "3228  {'urls': [{'start': 190, 'end': 213, 'url': 'h...   \n",
       "...                                                 ...   \n",
       "6763  {'mentions': [{'start': 0, 'end': 16, 'usernam...   \n",
       "9765  {'urls': [{'start': 210, 'end': 233, 'url': 'h...   \n",
       "4531  {'urls': [{'start': 80, 'end': 103, 'url': 'ht...   \n",
       "7595                                                NaN   \n",
       "2970  {'mentions': [{'start': 0, 'end': 8, 'username...   \n",
       "\n",
       "                                                 author  withheld  \n",
       "9031  {'name': 'AgriFood Tech News', 'id': '14641115...       NaN  \n",
       "7249  {'verified': False, 'username': 'MaineMan2020'...       NaN  \n",
       "4332  {'id': '1151522934844002304', 'username': 'mrv...       NaN  \n",
       "8844  {'name': 'Earth Air Water', 'verified': False,...       NaN  \n",
       "3228  {'created_at': '2020-10-10T18:49:02.000Z', 'id...       NaN  \n",
       "...                                                 ...       ...  \n",
       "6763  {'username': 'MoniqueSmiling', 'verified': Fal...       NaN  \n",
       "9765  {'verified': True, 'name': 'The Gazette', 'pub...       NaN  \n",
       "4531  {'verified': False, 'name': 'John Dominck', 'p...       NaN  \n",
       "7595  {'created_at': '2015-08-03T23:31:23.000Z', 'us...       NaN  \n",
       "2970  {'verified': False, 'name': 'ungovernabletallb...       NaN  \n",
       "\n",
       "[10000 rows x 9 columns]"
      ]
     },
     "execution_count": 66,
     "metadata": {},
     "output_type": "execute_result"
    }
   ],
   "source": [
    "all_tweets = pd.read_csv(\"data/baby_formula_sample.csv\")\n",
    "#os.listdir(\"../BabyFormula_local/baby_formula.xlsx\")\n",
    "all_tweets_sample = all_tweets.sample(10000)\n",
    "all_tweets_sample"
   ]
  },
  {
   "cell_type": "code",
   "execution_count": 55,
   "metadata": {},
   "outputs": [
    {
     "data": {
      "text/plain": [
       "7385              521988866\n",
       "9838             3098187051\n",
       "7370              185834011\n",
       "7298    1225795746794016768\n",
       "3887    1167817018004955136\n",
       "               ...         \n",
       "3305             4293654257\n",
       "3050     907961186339086336\n",
       "9453               18269496\n",
       "6515               15647482\n",
       "2715    1493498876640124928\n",
       "Name: author_id, Length: 1000, dtype: int64"
      ]
     },
     "execution_count": 55,
     "metadata": {},
     "output_type": "execute_result"
    }
   ],
   "source": [
    "all_tweets_sample['author_id']"
   ]
  },
  {
   "cell_type": "code",
   "execution_count": 67,
   "metadata": {},
   "outputs": [
    {
     "name": "stdout",
     "output_type": "stream",
     "text": [
      "['DEPoland', 'SenWarren', 'CNBC', 'JeffBezos', 'CW39Houston', 'Jim_Jordan', 'donaldtrumpjnr', 'Catherinemonks3', 'bessbell', 'HouseGOP', 'SenateGOP', 'HARRISFAULKNER', 'ElizabethBanks', 'EndGameWW3', 'KariLake', 'JoeBiden', 'ThePerezHilton', 'TheDemocrats', 'datasembly', 'sethweathers', 'elonmusk', 'NickAdamsinUSA', 'LizinBali', 'joshua_eaton', 'tressiemcphd', 'mkraju', 'JackPosobiec', 'YouTube', 'LangmanVince', 'TrussellTrust', 'SaraCarterDC', 'JackPolakoff', 'IngrahamAngle', 'HomelandGOP', 'HouseGOP', 'GOP', 'RonJohnsonWI', 'POTUS', 'lisamurkowski', 'SenDanSullivan', 'DebNiel80040841', 'RepStefanik', 'jgreco599', 'reesewoolsey', 'TomCottonAR', 'NJAsmGerry', 'NewJerseyOAG', 'ConsumerNJ', 'HawleyMO', 'JDCocchiarella', 'prchovanec', 'JennyJen68', 'RepBethVanDuyne', 'MarshaBlackburn', 'methmaxxer', 'EliseStefanik', 'EliseStefanik', 'GOP', 'amyklobuchar', 'TomCottonAR', 'mendel_reb', 'IsraeliAvraham', 'Calliewest', 'RadioGuyChris', 'trandel', 'AP', 'heinushen', 'Kooshareem', 'brandiesmith', 'marklevinshow', 'NotHoodlum', 'SenJeffMerkley', 'SecBlinken', 'UN', 'JosepBorrellF', 'jolingkent', 'EliseStefanik', 'EliseStefanik', 'RepMTG', 'RepBoebert', 'HouseGOP', 'GOP', 'TrekCore', 'marcorubio', 'Abbyneal53', 'EliseStefanik', 'POTUS', 'WhiteHouse', 'HHSGov', 'Menelopieflower', 'AaronParnas', 'DlanodPmurt17', 'Kathy4Truth', 'FoxBusiness', 'nytimes', 'EliseStefanik', 'RepThomasMassie', 'realmichaelseif', 'US_FDA', 'DanaPerino', 'JesseBWatters', 'EliseStefanik', 'foxandfriends', 'hinsonashley', 'trump4_america', 'Scott20272309', 'TheLaurenChen', 'nytimes', '93wibc', 'NicholeBerlie', 'dandakich', 'bonchieredstate', 'newsmax', 'POTUS', 'DavMicRot', 'elonmusk', 'Twitter', 'Tennesseine', 'kylegriffin1', 'missb62', 'GOP', 'Kat_Cammack', 'ainsleyearhardt', 'pdoocy', 'kilmeade', 'WashTimes', 'YouTube', 'RepDustyJohnson', 'SteveScalise', 'US_FDA', 'USMiniTru', 'POTUS', 'allisonroyaltv', 'hankhill205', 'WesleyHuntTX', 'EliseStefanik', 'ShutUpChewy', 'RicardodeLaEsp4', 'betterworld_22', 'PaulJen01998021', 'lanele123', 'PressSec', 'StephenKing', 'BillKristol', 'VP', 'US_FDA', 'MsKellyMHayes', 'CharlieCrist', 'RonPaul', 'Reuters', 'RonFilipkowski', 'POTUS', 'MirKumari', 'jonpower', 'JimMFelton', 'RepChrisStewart', 'SpeakerPelosi', 'RepSwalwell', 'truthf_inghurts', 'EliseStefanik', 'laurenboebert', 'TheView', 'RBReich', 'elonmusk', 'BryanGa86604258', 'evan7257', 'gatewaypundit', 'EmceeProphetic', 'graydonb', 'UnkleMikey713', 'RBReich', 'WSJ', 'foxnewspolitics', 'StephenM', 'VDHanson', 'angelicamwill', 'YouTube', 'CheryleJ0806', 'AbbottNews', 'POTUS', 'JoeBiden', 'BreitbartNews', 'RepThomasMassie', 'emperoreagan', 'HawleyMO', 'RNCResearch', 'PressSec', 'ericswalwell', 'morningmika', 'clairecmc', 'WalshFreedom', 'JesseKellyDC', 'CatturdFan', 'Jim_Jordan', 'bb_mariafelize', 'marcorubio', 'kvanaren', 'GOPChairwoman', 'chickbasser', 'wholelottaspite', 'linakhanFTC', 'mowers', 'laurenboebert', 'BillyDo25884949', 'johnsmi56401851', 'CBSNews', 'biz_raheem', 'ButtercupPB', 'laurafranciso', 'SRuhle', 'BetteMidler', 'LaLecheLeagueUS', 'AmerMedicalAssn', 'catturd2', 'catnjustme', 'rachelstos', 'thomasm31355681', 'ToastyLoaff', 'rayvnnray', 'SRuhle', 'bcogbolu', 'CatherineMFDS', 'RealCandaceO', 'YetisRevenge', 'gatewaypundit', 'SophieCoco1104', 'TristanSnell', 'SneakerPhetish', 'factcheckdotorg', 'atlasmc', 'ChsrlesGranber1', 'Yankeesagainag1', 'Acyn', 'newsmax', 'HawleyMO', 'newsmax', 'KathyT56422180', 'RepMTG', 'timburchett', 'newsmax', 'guypbenson', 'GOP', 'Lancegooden', 'RichNj23', 'CheriJacobus', 'sportsterchic', 'joekent16jan19', 'WendyRogersAZ', 'CahnEmily', 'YeahYeahWaitWut', 'ilDonaldoTrump', 'audiguycar', 'realLizUSA', 'domtheedom', 'DonaldJTrumpJr', 'stilljlmb', 'crmf38', 'RNCResearch', 'elonmusk', 'RonnyJacksonTX', 'MillerStream', 'DarnelSugarfoo', 'XianJaneway', 'GOPrepublicans', 'Ag1430', 'TheInsiderPaper', 'scrowder', 'garethicke', 'DonaldJTrumpJr', 'mkraju', 'MarshaBlackburn', 'SenatorMenendez', 'BagdMilkSoWhat', 'CNN', 'Colt_45_Outlaw', 'Deplorable_Troy', 'Jim_Jordan', 'goprodious2', 'CNNPolitics', 'SleepingCheugy', 'SeattleMorn2', 'aunteef', 'SRuhle', 'itsJeffTiedrich', 'JoeBiden', 'TheRealHoarse', 'seanhannity', 'GOPChairwoman', 'doehlerd85', 'RepStefanik', 'kristysf', 'Cevasco_Carla', 'MsMaryellen', 'JJones37253640', 'SpeakerPelosi', 'POTUS', 'GOP', 'SenateDems', 'MarshaBlackburn', 'TheDemocrats', 'Jim_Jordan', 'Villgecrazylady', 'seanmdav', 'HowardKurtz', 'RepSwalwell', 'bltchesnmodels', 'Heebeejeebeez1', 'TeeJ2021', 'TheSWPrincess', 'MaybeOlder', 'MarshaBlackburn', 'POTUS', 'SibileTV', 'MSNBC', 'KatiePhang', 'LiberalLaugh', 'FoxNews', 'chesterbelloc3', 'POTUS', 'IncomeSharks', 'elonmusk', 'BetteMidler', 'MELANIATRUMP', 'Orangezipple1', 'LauraLeeBiology', 'lyn_gae', 'CryptoHaas', 'tedcruz', 'LaLecheLeagueUS', 'MCCH2021', 'jimmyfailla', 'geraldcelente', 'ProfessorPongo', 'Cevasco_Carla', 'alexandriadoes', 'FOXNashville', 'MarshaBlackburn', 'RonnyJacksonTX', 'RepStefanik', 'TheDemocrats', 'zerohedge', 'POTUS', 'VP', 'TheDemocrats', 'GOP', 'LPNational', 'SpeakerPelosi', 'PeteButtigieg', 'marklevinshow', 'DanCrenshawTX', 'marklevinshow', 'DanCrenshawTX', 'pressrepublican', 'EliseStefanik', 'jerrymberger', 'GOPChairwoman', 'kylenabecker', 'ColumbiaBugle', 'KristenCarney', 'RonColeman', 'asadyyc', 'MailOnline', 'POTUS', 'DNC', 'GOP', 'KetoCarnivore', 'greg_price11', 'sama', 'Jim_Jordan', 'Jim_Jordan', 'TomCottonAR', 'tarynisaacs', 'thescorpihope', 'BrianDMcBride', 'VinnieTortorich', 'khankiso', 'PatAaron10', 'KellyannePolls', 'veekay122002', 'IndyCar', 'IMS', 'nadiaoxford', 'AP', 'GovInslee', 'newsmax', 'akheriaty', 'DrewHolden360', 'theoceanlawyers', 'michaelpbreton', 'joekent16jan19', 'kwagular', 'realcraigbates', 'DonaldJTrumpJr', 'laurenboebert', 'googlenews', 'MollyJongFast', 'GOPChairwoman', 'BooBibity', 'Tink_240', 'VeganMamaRed1', 'Angry_Staffer', 'TheTiffPotter', 'KISS107', 'HHSGov', 'RepLisaMcClain', 'RepCawthorn', 'GOODBYEPETROL', 'Jim_Jordan', 'TCJaalin', 'DadBod4Liife', 'Buckeye_RedLeg', 'RepMcGovern', 'AskTSA', 'LaLecheLeagueUS', 'EliseStefanik', 'jusjoseph2', 'mmpadellan', 'TheRickWilson', 'OccupyDemocrats', 'MeidasTouch', 'amazon', 'JeffBezos', 'AFP', 'newsmax', 'C4T4LYST716', 'StefanMychajliw', 'GOP', 'TheView', 'ColumbiaBugle', 'IlhanMN', 'POTUS', 'Not_the_Bee', 'TheBrodyy', 'espn', 'WerderEdESPN', 'writerkev', 'FoxNews', '_prettyanna_', 'cc_fla', 'Eliyahu775', 'POTUS', 'MattyLad', 'nytimes', 'buhosca', 'POTUS', 'GOP', 'FoxNews', 'GOP', 'toooomanytweets', 'headi420', 'TeamScienceWins', 'mmpadellan', 'dscc', 'TheDemocrats', 'WhiteHouse', 'harrisonjaime', 'DNCWarRoom', 'Jim_Jordan', 'MarshaBlackburn', 'marcaross', 'zerohedge', 'CharyssaParent', 'FoxNews', 'EliseStefanik', 'RepAshleyHinson', 'WSJ', 'WSJopinion', 'Jim_Jordan', 'kynicoi', 'ikaayce', 'theangelezra', 'smellslikekrist', 'quintabrunson', 'CoriHyland', 'Lorjorlyn', 'RepMTG', 'RepTroyNehls', 'POTUS', 'FoxNews', 'Jim_Jordan', 'DrewSav', 'RepMTG', 'newsmax', 'billmaher', 'joerogan', 'IrishTea1', 'JoeBiden', 'jsolomonReports', 'Ima_Researcher', 'RepTroyNehls', 'allredke', 'RepDanBishop', 'EliseStefanik', 'elonmusk', 'ChuckGrassley', 'ajactionj23', 'bp98422', 'PojeLori', 'juneslili', 'RepChipRoy', 'kylegriffin1', 'DonaldJTrumpJr', 'SpliceToday2022', 'DeeGeeStuff', 'andreagail_k', 'laurenboebert', 'TheFarEastFiles', 'AP', 'WhiteHouse', 'LizKay42', 'cntrfld9', 'seanhannity', 'NickMeansWell', 'MarshallFaulk69', 'elonmusk', 'funder', 'GRANNA80188211', 'BrettChigoy', 'Kat_Cammack', 'TomiLahren', 'RepStefanik', 'GregAbbott_TX', 'jimsciutto', 'deltachild4', 'divafeminist', 'carolleisa', 'MollyJongFast', 'CathyLMarlin1', 'elonmusk', 'CBSNews', 'ibnrozlan', 'cjslovey', '0bamna', 'briantylercohen', 'RepYoungKim', 'ZckBnt', 'Yodadio3', 'RinainDC', 'Southpolitics2u', 'ttwsyfahh', 'JNzlstar', 'TheRealHoarse', 'SenRickScott', 'rosegerard5', 'POTUS', 'chrystal_ok', 'Saadia___M', 'EliseStefanik', 'HomelandGOP', 'GOPLeader', 'steven94117', 'BetteMidler', 'Jim_Jordan', 'RepLisaMcClain', 'RepStefanik', 'JonsLongs', 'HAWTToys', 'jenvanlaar', 'NewsHour', 'JoeBiden', 'Jim_Jordan', 'TrumpLOST5', 'msuzanne2003', 'Blueliberals', 'PeteButtigieg', 'CNN', 'WhiteHouse', 'PressSec', 'POTUS', 'Kat_Cammack', 'Kat_Cammack', 'Coulombetj29', 'KDCodyTN', 'RandPaul', 'townhallcom', 'RonFilipkowski', 'morningmika', 'RepStefanik', 'SenJoniErnst', 'TwitchyTeam', 'DavidVe19877190', 'Aprilba84522710', 'RepSwalwell', 'HC_Richardson', 'viriditax', 'powerbottomdad1', 'emmett_desiree', 'kayleighmcenany', 'MMFP01', 'johnbroich', 'RepTimRyan', 'BeaglesResist', 'GOPChairwoman', 'hexcellerate', 'mehdirhasan', 'MehdiHasanShow', 'RashidaTlaib', 'MarshaBlackburn', 'ponyphaeton', 'kvanaren', 'The_Goonhongo', 'tonyposnanski', 'BetteMidler', 'OccupyDemocrats', 'jemelehill', 'NotHoodlum', 'briantylercohen', 'TheDemocrats', 'PeteButtigieg', 'wsmco', 'DavidBCollum', 'momofthethings', 'GOPChairwoman', 'GregAbbott_TX', 'mmmaiammm1', '24baseballReed', 'Oriana0214', 'zeusanna', 'frontierindica', 'MNageswarRaoIPS', 'RanaAyyub', 'YasMohammedxx', 'jihadwatchRS', 'Curious111188', 'RepStefanik', 'elonmusk', 'JoeBiden', 'VP', 'realDailyWire', 'LessGovMoreFun', 'GOPChairwoman', 'LeaderMcConnell', 'GOP', 'EdHull8', 'TheDailyEdge', 'EdanClay', 'FrancisBrennan', 'EliseStefanik', 'TheLeadCNN', 'elizcohencnn', 'politico', 'steven94117', 'BetteMidler', 'Kevvvvvo', 'nap___queen', 'PaulCogan', 'Babe199X_', 'HouseCommerce', 'GOPLeader', 'RNCResearch', 'EliseStefanik', 'marcorubio', 'Manly_Paul', 'YouTube', 'pruett_collin', 'RonDeSantisFL', 'DanCrenshawTX', 'RepStefanik', 'Chicago1Ray', 'dbongino', 'cwebbonline', 'MarshaBlackburn', 'JuddLegum', 'evahagendazs', 'Avellini7', 'NoLieWithBTC', 'pibelino', 'realLizUSA', 'WSJ', 'kylenabecker', 'MarshaBlackburn', 'Jim_Jordan', 'IngrahamAngle', 'warrenpeacexx', 'KimberlyNFoster', 'TreesSecret', 'wayshealynon', 'RealJamesWoods', 'NE_Bill1', 'thehill', 'RinainDC', 'elonmusk', 'Jim_Jordan', 'JoeBiden', 'JoeBiden', 'birdzfriend', 'GabbyOrr_', 'MarshaBlackburn', 'POTUS', 'SagelySquid', '_Starkilla', 'Idubbbz', 'debbrra_debra', 'BurnerSowells', 'RNCResearch', 'CoryBooker', 'amyklobuchar', 'SenDuckworth', 'FoxNews', 'ChristinaFunde2', 'MarkKra29389454', 'seanhannity', 'Kathy4Truth', 'EliseStefanik', 'NianticLabs', 'RepTiffany', 'MarySteinway', 'MattWalshBlog', 'realDailyWire', 'loganclarkhall', 'seanmdav', 'Reuters', 'BetteMidler', 'kayleighmcenany', 'DonaldJTrumpJr', 'catturd2', 'TheView', 'POTUS', 'GOPChairwoman', 'SouthernMom18', 'RepValDemings', 'RandPaul', 'POTUS', 'zerohedge', 'donwinslow', 'thingsareF', 'braxton_mccoy', 'johnlegend', 'RepMTG', 'JoeBiden', 'Quiz_master1', 'LambWithGuns', 'mkraju', 'BBCWorld', 'Jim_Jordan', 'AbbottNews', 'seanhannity', 'RWindham17', 'mistermonponts', 'RibcageDiary_', 'mattyglesias', 'SinbadSailor69', 'US_FDA', 'POTUS', 'kathygriffin', 'jimmykimmel', 'JimmyKimmelLive', 'mulaney', 'thelonelyisland', 'mollymcnearney', 'RepMaloney', 'TankGirljunkie', 'DrunkenCrunker', 'NoLieWithBTC', 'RepThomasMassie', 'PressSec', 'POTUS', 'kathygriffin', 'Morning_Joe', 'Surgeon_General', 'clairecmc', 'JacksonLeeTX18', 'criter_dee', 'mkraju', 'RepStefanik', 'GalimaBarnes', 'Acyn', 'VoteBlue24', 'David37478539', 'catturd2', 'LateNightSeth', 'POTUS', 'laurenboebert', 'Jim_Jordan', 'thehill', 'FinanceKO', 'zerohedge', 'YouTube', 'washingtonpost', 'HouseDemocrats', 'RandyCalifornia', 'StaceyCKs1', 'Jim_Jordan', 'TimRunsHisMouth', 'RoySewell11', 'tedcruz', 'lisssssha', 'MollyJongFast', 'Matthew49908870', 'Nicolette_Shea', 'elonmusk', 'GOPChairwoman', 'Septimus_1984', 'Cudabarbie1', 'AaronParnas', 'POTUS', 'GOP', 'DonaldJTrumpJr', 'DylanMSanderson', 'champ2k_', 'bridgetekelly', 'RepStefanik', 'thehill', 'HillaryClinton', 'MrUniteUs', 'insidesparkles1', 'DonaldJTrumpJr', 'johnnycy89', 'PolitiBunny', 'RNCResearch', 'GOPChairwoman', 'GOP', 'DrPaulGosar', 'Kat_Cammack', 'EliseStefanik', 'pjgraves03', 'RepBuddyCarter', 'TeamCavuto', 'DonaldJTrumpJr', 'TuckerCarlson', 'tedcruz', 'michaeljknowles', 'washingtonpos', 'BusinessInsider', 'HuffPost', 'cameronwallace', 'pau1_br0wn', 'BoredInATX88', 'EvilMopacATX', 'atlasshrugs', 'sinister_bacon', 'thehill', 'Aaaannieway', 'ClaraJeffery', 'DonaldJTrumpJr', 'GovRonDeSantis', 'RepMTG', 'olu_mighty9', 'POTUS', 'DonaldJTrumpJr', 'TeamPelosi', 'RepBice', 'SenatorLankford', 'MetaResister', 'heykarch44', 'Bipporip', 'marcorubio', 'EdwardsGErollo', 'NadiaRo47834701', 'NoLieWithBTC', 'guypbenson', 'MilesTaylorUSA', 'jasonselvig', 'US_FDA', 'DouglasKBlair', 'DailySignal', 'PaulDDullea', 'RubenGallego', 'GOPLeader', 'EWErickson', 'QuoteDigging', 'TheDemocrats', 'RepFeenstra', 'realDailyWire', 'MaryMargOlohan', 'SenJeffMerkley', 'SecBlinken', 'UN', 'JosepBorrellF', 'POTUS', 'SpeakerPelosi', 'FoxNews', 'ClayTravis', '1armsteve', 'EricRSammons', 'branco_domingos', 'marcorubio', 'B52Malmet', 'realDailyWire', 'GOPLeader', 'GOP', 'SenateGOP', 'FoxNews', 'mkraju', 'TheRickWilson', 'joncoopertweets', 'mattgaetz', 'RepDaveJoyce', 'RepDaveJoyce', 'RepMTG', 'business', 'TimeToVoteRed', 'matthewstoller', 'POTUS', 'RNCResearch', 'gatewaypundit', 'Vyxri', 'RepMTG', 'Samanth48487861', 'GinaFla', 'B52Malmet', 'JDCocchiarella', 'ms_julianna', 'DILLIGAF1776', 'nc_diditagain17', 'QueenoftheBEAV1', 'American_Jeny20', 'MAGAMichellee', 'JoeBiden', 'Yahoo', 'kylegriffin1', 'HeatherCherone', 'USPS', 'wttw', 'RustlinJimmy69', 'GOP', 'POTUS', 'Majesticstar5', 'rawphonegirl', 'gatewaypundit', 'summerasana', 'summerasana', 'rickwtyler', 'MtLion15', 'kitschburgh', 'schachin', 'RepMTG', 'gilson_kristi', 'redco2012', 'PhillvCA', 'AFreeQueen', 'charliekirk11', 'RhondaPowers', 'HillaryKelly', 'Moms4Liberty', 'InstFreeSpeech', 'WILawLiberty', 'slf_liberty', 'ADFLegal', 'DFIPolicy', 'NoLieWithBTC', 'nytimes', 'ScottMickels', 'D2Nightmare', 'POTUS', 'TTuberville', 'RepCawthorn', 'Ritta_MU', 'WKwinn', 'thehill', 'JoeBiden', 'JoJoFromJerz', 'Acyn', 'HawleyMO', 'NBSaphierMD', 'erdocAA', 'DonaldJTrumpJr', 'marklevinshow', 'LibertyLinda4', 'Acyn', 'Jim_Jordan', 'Jim_Jordan', 'RepDanBishop', 'HuffmanForNC', 'clariss55827655', 'RNCResearch', 'POTUS', 'BarbMcQuade', 'POTUS', 'TwitchyTeam', 'JesseKellyDC', 'WTIC1080', 'MsKellyMHayes', 'MysVZ', 'BetteMidler', 'News12NJ', 'GovMurphy', 'seanhannity', 'jswillims21', 'townhallcom', 'redsteeze', 'mmpadellan', 'POTUS', 'Jim_Jordan', 'IngrahamAngle', 'Corneli45570254', 'BoobaDrawings', 'MorabitoCM', 'APA', 'CNBC', 'Chicago1Ray', 'trashytrashrat', 'thehill', 'GOP', 'RepNancyMace', 'chrislhayes', 'carolhague1', 'kj_charles', 'kylegriffin1', 'WHCOS', 'elonmusk', 'RepMTG', 'MikeHowardII', 'SteetcherBucket', 'MArizona928', 'RetCorr', 'tatereeves', 'firstladyofms', 'seanhannity', 'EliseStefanik', 'bayoomidiora', 'EliseStefanik', 'RepMTG', 'GovMurphy', 'POTUS', 'bdomenech', 'bharris1968', 'RinainDC', 'paulapoundstone', 'StephenGutowski', 'Popehat', 'MonroePoliceLA', 'AttyAbdul', 'westonsooner', 'ms_puncher', 'EAWallaceDudley', 'mister_hunt', 'AvanteSearch', '150385meows', 'waikikibeech', 'ACTBrigitte', 'RepMTG', 'Stonekettle', 'GOPChairwoman', 'GOP', 'patriotpatrick1', 'newsmax', 'DottieBacalis', 'JNAlexandratos', 'Sky_Lee_1', 'johnpavlovitz', 'HouseGOP', 'RabbitResist', '_Carja', 'JDCocchiarella', 'ahark1997', 'CalebWachter', 'Cernovich', 'Onlywrds2playw', 'SpeakerPelosi', 'POTUS', 'SteveDaines', 'JoeBiden', 'JoeBiden', 'unhealthytruth', 'mdenuccio', 'timburchett', 'joshua_eaton', 'FoxNews', 'Jim_Jordan', 'POTUS', 'DHSgov', 'HHSGov', 'KJP46', 'WHCOS', 'jrpsaki', 'MilesTaylorUSA', 'SenMarkey', 'funder', 'DaveLapell', 'EliseStefanik', 'GovKathyHochul', 'Degrasse81', 'fud31', 'JesseKellyDC', 'ChrystalS18', 'nytimes', 'WhiteHouse', 'RepMTG', 'deaflibertarian', 'IDJoe4Congress', 'realcraigbates', 'DonaldJTrumpJr', 'POTUS', 'Broodmoor1', 'jordan_serena', 'MIGIRLINVA1', 'KamVTV', 'laurenboebert', 'SenJeffMerkley', 'SecBlinken', 'UN', 'JosepBorrellF', 'BetterStuffToDo', 'King3Ann', 'RinainDC', 'RepGusBilirakis', 'MarketWatch', 'Jim_Jordan', 'IngrahamAngle', 'MarkHamill', 'TexasHippie12', 'BurningKarma2', '__tubes__', 'leadlagreport', 'TheRickWilson', 'tanyaemua', 'BragoVictoria', 'EricKleefeld', 'greg_price11', 'AishaBhabhi', 'debrathewitch', 'CapriCaput', 'TrumpLoser2016', 'ChristinaPushaw', 'NolanZugernat', 'laurenboebert', 'TheNaturalBlaze', 'mburm201', 'thedailybeast', 'mattklewis', 'RepMTG', 'washingtonpost', 'POTUS', 'cdiver2002', 'FoxNews', 'Commentary', 'NoahCRothman', 'Jim_Jordan', 'amac0668', 'FoxNews', 'JDCocchiarella', 'tommytom9000', 'seanhannity', 'Cevasco_Carla', 'POTUS', 'nogg_the', 'thewaynegarner', 'Babygravy9', 'catturd2', 'StunLikes', 'kylegriffin1', 'JoyAnnReid', 'DKThomp', 'reedgalen', 'jawh9', 'POTUS', 'loversmotif', 'LilRdVet2', 'FoxNews', 'WellandTribune', 'voxdotcom', 'Ezinger44', 'jamiedupree', 'invisiblemass01', 'briantylercohen', 'Esterostktrader', 'JustTheNews', 'DHSWI', 'OkEdvocates', 'MichaelBerrySho', 'RBReich', 'BritPinnock', 'bigdaddyofnine', 'velvethammer', 'bettemiddler', 'BonginoReport', 'JoeBiden', 'BetteMidler', 'sarahbeth345', 'eekymom', 'elonmusk', 'StephenKing', 'Katie_Falls', 'HillaryClinton', 'HeatherLm71', 'RepMTG', 'Kat_Cammack', 'GOP', 'newsmax', 'CNN', 'TimRyan', 'DrSquishy', 'SRuhle', 'GOP', 'Cernovich', 'MAGAMichellee', 'ShannonBream', 'BraddockBessie', 'PrillMistie', '8x_neon', 'nytimes', 'realDailyWire', 'YouTube', 'kylegriffin1', 'PeteSouza', 'newsmax', 'WSJ', 'Reuters', 'SenJoniErnst', 'SpeakerPelosi', 'BrettSpeth', 'GOPChairwoman', 'RepMTG', 'ABC', 'jj_talking', '123itsmeMary', 'RepBice', 'HouseGOP', 'realDailyWire', 'TexasLonestar71', 'SenHawleyPress', 'SenateGOP', 'KyleClark', 'writerkev', 'DonaldJTrumpJr', 'MAM74368780', 'JDCocchiarella', 'I_See_Hypocrisy', 'tanulewicz', 'RinainDC', 'RepMTG', 'WhiteHouse', 'nypost', 'ChillyDots', 'dbongino', 'Jim_Jordan', 'txchristabelle', 'fred_guttenberg', 'POTUS', 'MailOnline', 'Buddha2xx', 'TheRealHoarse', 'TB12to87', 'GhostPournelle', 'KatiePavlich', 'Gwaps_Baxkup', 'sketerdavids0n', 'chrismoonusa', 'KekePalmer', 'N76247476Man', 'MeidasTouch', 'GOPChairwoman', 'LeaderMcConnell', 'elonmusk', 'SenatorBennet', 'jessicashortall', 'BradPorcellato', 'DanRather', 'BetteMidler', 'MarketWatch', 'lhfang', 'PaulSorrentino3', 'alrightPET', 'astronaimee', 'jessicashortall', 'RepJayapal', 'JerichoFell', 'wsls', 'JoeBiden', 'RepGregSteube', 'hollygregory33', 'BN9', 'TheBardMain', 'AnonNews14', 'SpeakerPelosi', 'RepValDemings', 'CongressmanHice', 'HouseGOP', 'ChuckDeVore', 'somuchtodo2', 'catturd2', 'ilDonaldoTrump', 'joerogan', 'TuckerCarlson', 'DavidForney99', 'OWHnews', 'KatCammack', 'SenTedCruz', 'DanCrenshawTX', 'MissBeeBright', 'MarshaBlackburn', 'ThatBoiLucifer', 'LucaBradley3', 'Sk4rbl4d3', 'PillKnifer', 'CWRR0107', 'GameSpot', 'TimRunsHisMouth', 'AOC', 'WildcatsWoody', 'Lukewearechange', 'whatgives1313', 'VetThrasher', 'Tiffany4444444', 'Kat_Cammack', 'POTUS', 'CongMikeSimpson', 'BreitbartNews', 'TheView', 'punishedpants', 'POTUS', 'AlexKoppelman', 'RepAdamSchiff', 'JoeBiden', 'YouTube', 'Amy_Siskind', 'AnnBrenoff', 'PeteButtigieg', 'SenJeffMerkley', 'SecBlinken', 'UN', 'JosepBorrellF', 'JustSmokey_147', 'steve_seaton', 'RandPaul', 'JustMe1947', 'SenJohnKennedy', 'thesouthern', 'Jim_Jordan', 'kcismek37', 'DawnSantarlasci', 'LitAnscombe', 'AbbottNews', 'rikki_texas', 'AnnieAndrewsMD', 'WFKARS', 'home_grown_sanc', 'RepMTG', 'psych0metrics1', 'diannaj_007', 'JoeSilverman7', 'WSJ', 'mchooyah', 'YouTube', 'ThisWeekABC', 'MarshaBlackburn', 'Jim_Jordan', 'RoyLehman', 'cspanwj', 'RepJamesComer', 'JoeBiden', 'POTUS', 'PopCrave', 'mwiindethedude', 'SYamudah', 'shazikitweaky', 'aluochokello', 'notcjxjordyc', 'HerChocoLit', 'KekePalmer', 'TomCottonAR', 'TommyHicksGOP', 'MakKehoe', 'bonniefree3', 'ShelbyTalcott', 'DailyCaller', 'VP', 'KirilPetkov', 'GrammyC4Zone', 'gmbluedestiny', 'POTUS', 'GOP', 'TuckerCarlson', 'seanhannity', 'JesseBWatters', 'DanCham03014042', 'BruceAHeyman', 'POTUS', 'TheDemocrats', 'POTUS', 'SecMayorkas', 'Hamilton_Jonson', 'dorisovotes', 'JohnJos64059200', 'PaulCogan', 'HouseGOP', 'HowardKurtz', 'klc4_trump', 'karendoyle5515', 'Cali_Cris1', 'AnniezGone5150', 'thewire_in', 'POTUS', 'RealCandaceO', 'WhiteHouse', 'HouseDemocrats', 'HouseRep_Caucus', 'SenateFloor', 'ClayTravis', 'GovParsonMO', 'MOEducation', 'Missouri_NG', 'WayTigerPR', 'fortleonardwood', 'GOP', 'wfaa', 'FoxNews', 'RepStefanik', 'US_FDA', 'FoxNews', 'elonmusk', 'RepGosar', 'RepMTG', 'RepMattGaetz', 'RepBoebert', 'RepMassie', 'replouiegohmert', 'ArtCovUnion247', 'PagnattiJr', 'NickAdamsinUSA', 'EpochTimes', 'RonFilipkowski', 'lfeatherstone', 'HadleyFreeman', 'unherd', 'seanhannity', 'EliseStefanik', 'TeamCMR', 'hinsonashley', 'stephaniebice', 'allspiritseve', 'ilDonaldoTrump', 'POTUS', 'boredpanda', 'GregAbbott_TX', 'BPUnion', 'GregAbbott_TX', 'BigLeeBronzer', 'HawleyMO', 'LactFoundation', 'McGovernMed', 'BidenTracking', 'mmc02939722', 'Victoria4Texas', 'POTUS', 'alexbruesewitz', 'DanCrenshawTX', 'TuckerCarlson', 'RepMTG', 'JackPosobiec', 'SamanthaJPower', 'BetteMidler', 'LiVe2DaNceATL', 'AP', 'joncoopertweets', 'phillipellis36', 'rhonda_harbison', 'Jim_Jordan', 'RepHerrell', 'denisewu', 'nytimes', 'tivissutherland', 'Popehat', 'donwinslow', 'JudiciaryGOP', 'CharlieCrist', 'Wasred4skins', 'sfallick', 'Albert1049', 'BetteMidler', 'libsoftiktok', 'JJintheUS', 'FiteWrite', 'ZeroDarkKitty', 'ChristinaPushaw', 'kellyfphares', 'JanisSaxon2', 'SharylAttkisson', 'Lily195066', 'RinainDC', 'KaivanShroff', 'RepGregMurphy', 'DavidAsmanfox', 'tedcruz', 'elkipper', 'SpeakerPelosi', 'HouseDemocrats', 'null', 'KonstantinDelF2', 'OrwellNGoode', 'pulte', 'CNN', 'BrianToddCNN', 'MayasDragon', 'minhtngo', 'POTUS', 'RepJimBanks', 'psychoticgoober', 'fred_guttenberg', 'GOP', 'January6thCmte', 'jrpsaki', 'PressSec', 'abc_national', 'BCMAmerica', 'BCFOfficial_', 'CR', 'ivn', 'IWV', 'IWF', 'POTUS', 'VP', 'WHCOS', 'chuckschumer', 'HouseDemocrats', 'SenateDems', 'SpeakerPelosi', 'DNC', 'DaNikePlugs', 'ZubyMusic', 'retired2964', 'marcorubio', 'fatsnowman123', 'RoseMa08', 'BrantheBuoyant', 'ssinp', 'MadeInTheUSANJ', 'elonmusk', 'RBReich', 'OANN', 'mycatisanorange', 'BetteMidler', 'RepMTG', 'therecount', 'mkraju', 'SenatorTester', 'SenBooker', 'SenJeffMerkley', 'SenWarren', 'shadwhite', 'TrustCareHealth', 'christadpage', 'AuronMacintyre', 'SenJohnKennedy', 'BTNFLY', 'monicaonairtalk', 'CalvinKlein', 'POTUS', 'JoeBiden', 'h_iluminati137', 'SusanWindle', 'joeygarrison', 'PressSec', 'EliseStefanik', 'Lancegooden', 'Ilhan', 'FTC', 'RepAOC', 'RepRashida', 'RepPressley', 'RepMarkTakano', 'EleanorNorton', 'RepBonnie', 'RepAndreCarson', 'RepCori', 'RepHuffman', 'RepBarbaraLee', 'TeamPelosi', 'WalshFreedom', 'zachhomol_', 'samibbb521', 'JackPosobiec', 'HouseGOP', 'FionaMPartridge', 'getliquidized', 'realLizUSA', 'KariLake', 'Txgardengirl62', 'JoeBiden', 'FastEddie42069', 'marcusdiazeth', 'cocktailrant', 'PotatoOfDestiny', 'prof_jpc', 'SaltySquirrel2', 'MplsAlexander', 'r83804433', 'daniela127', 'catturd2', 'Cevasco_Carla', 'CNNPolitics', 'HouseCommerce', 'HouseGOP', 'GOP', 'Nestle', 'laurenboebert', 'elonmusk', 'tedcruz', 'DrShaena', 'AliAdair22', 'aubreyhirsch', 'BlackCatUnloads', 'WHCOS', 'AJBayatpour', 'tygercast', 'Eli_the_Highest', 'David_Leavitt', 'DefiantLs', 'Drew_TandB', '2021_Chacon', 'mikeklis', 'TomPelissero', 'joshuasharf', 'tkdylan', 'undrcvrmexican', 'saralikeclara', 'witch_worst', 'JudeRLeeds', 'AwakenSlowly', 'nicolelampert', 'radley_ms', 'burberryzainab', 'mz_Ayeesh', 'fact_factoid', 'seriuslyserius', 'karma_galore', 'bharris1968', 'susanbeeha', 'DykeCrone', 'kendence', 'MelChap0', 'DARSCOHEZ', 'RichardGrenell', 'olex_scherba', 'AlexandraChalup', 'DavidTaormia', 'lawyer4laws', 'michelleko2d', 'Kadee_Russ', 'JudiciaryGOP', 'Michael_Yon', 'umlautconquer', 'MaxthedogDan', 'RinainDC', 'RpsAgainstTrump', 'ElCerebr0', 'BobsLessons', 'RepStefanik', 'chbun820', 'KamVTV', 'tomheaney', 'MuellerSheWrote', 'RonFilipkowski', 'NFLMockstar', 'connieSuver', 'greg_price11', 'RyanAFournier', 'EliseStefanik', 'GOPLeader', 'NationalParklvr', 'realLizUSA', 'shyamsh01445874', 'KimberlyNFoster', 'JoshShapiroPA', 'marcorubio', 'marcorubio', 'SenHydeSmith', 'JohnCornyn', 'BrianOSheaSPI', 'BurdsIVue', 'RAZ0RFIST', 'BetteMidler', 'tina_leeds', 'amazon', 'mchooyah', 'TheDemocrats', 'JudiciaryGOP', 'UnYeetableHush', 'WhiteHouse', 'HouseGOP', 'HouseDemocrats', 'gatewaypundit', 'RepMTG', 'AndyWon35844635', 'Sarah__FL', 'JeanetteNunezFL', 'RonDeSantisFL', 'PeteButtigieg', 'EliseStefanik', 'POTUS', 'Gus_802', 'HawleyMO', 'MikeLevin', 'ringsforfun', 'SenJeffMerkley', 'SecBlinken', 'UN', 'JosepBorrellF', 'Beyondthevayle', 'TheAtlantic', 'USA_Anne711', 'VDejan0000', 'miagl11', 'sayitnspinit', 'laurie_stamatin', 'AmyChillin', 'RepMTG', 'ReverendWarnock', 'DGodfatherMoody', 'gatewaypundit', 'FoxNews', 'ZekeJMiller', 'docbluedream', 'Chris_Feld', 'DrJamesOlsson', 'Steve_Sailer', 'alexmeshkin', 'newsmax', 'Kat_Cammack', 'RosalindaDesroc', 'banksnld', 'Theresaroets911', 'HawleyMO', 'ColoradoGal22', 'LLivingood', 'kathrynw5', 'gregolear', 'RoArquette', 'politicalmath', 'johnrobertsFox', 'JoeBiden', 'WhiteHouse', 'RepStefanik', 'RayKump', 'WhiteHouse', 'thedogsmaid', 'Popehat', 'ddayen', 'LindseyGrahamSC', 'MailOnline', 'kcsf16', 'MaryVought', 'elwasson', 'MelAnneRose', 'GOP', 'ericswalwell', 'clayandbuck', 'JakeBequette91', 'WritishBanker', 'RealCarlVernon', 'RepMTG', 'RepAndyBiggsAZ', 'JudiciaryGOP', 'RajaGili', 'kollackwalker', 'freddyatton', 'mkraju', 'JackPosobiec', 'notsofiacoppola', 'Fury2077', 'Unknown92007291', 'AmethystX1979', 'StephenM', 'BetteMidler', 'FPWellman', 'SpeakerPelosi', 'POTUS', 'RepCawthorn', 'EliseStefanik', 'JackPosobiec', 'wherami1984', 'NPR', 'ChuckGrassley', 'MailOnline', 'SteveSNunya', 'TheInsiderPaper', 'Nestle', 'NOTPILLOWGUY', 'daisyeye1', 'JudiciaryGOP', 'RepDanBishop', 'POTUS', 'EliseStefanik', 'CatalinaLauf', 'BreitbartNews', 'Mary_MJR_2020', 'kayleighmcenany', 'copdoc1', 'POTUS', 'reflectivity', 'BigoBarnett', 'jeananncord', 'ProjectLincoln', 'screamlogic', 'mmenca4', 'TheRealHoarse', 'erumors', 'jilevin', 'Reuters', 'wwwojtekk', 'sportssammy05', 'Cevasco_Carla', 'theblaze', 'wtva9news', 'tay_morggggg', 'JoeBiden', 'POTUS', 'US_FDA', 'derekthe_author', 'sdemarco89', 'Higgies42', 'Cernovich', 'POTUS', 'ExplorerArts', 'Kat_Cammack', 'EliseStefanik', 'jrcrawley', 'JohnBell812', 'RepJohnRose', 'LindseyGrahamSC', 'matthewstoller', 'thehill', 'DemocraticDaisy', 'zach13mcminn', 'justinamash', 'Lancegooden', 'FoxNews', 'RepLisaMcClain', 'kat_cary', 'TeamScienceWins', 'mmpadellan', 'KatyTurNBC', 'jolingkent', 'KatyOnMSNBC', 'SeanGar46492916', 'BBCWorld', 'YouTube', 'nombsayin', 'donwinslow', 'JessOwensYoung', 'ClintoPete', 'GobertOrGoHome', 'SpencerJCox', 'GovMurphy', 'TheBabylonBee', 'MidnightCigare1', 'sgearl9043', 'TheDaleJackson', 'ScottforFlorida', 'chuckschumer', 'harrisonjaime', 'MailOnline', 'NicoleSganga', 'ajlamesa', 'GOP', 'RinainDC', '262MEBrown', 'stonercinderlla', 'axios', 'criter_dee', 'mkraju', 'BenCourts1', 'MittRomney', 'rebeccamakkai', 'ericswalwell', 'POTUS', 'laurenboebert', 'elonmusk', 'Daytobehappy', 'GOPLeader', 'RepMTG', 'thehill', 'MonetSimone', 'FacebookWatch', 'newsmax', 'scottlincicome', 'SabbySabs2', 'SpeakerPelosi', 'ReginaWilhelmi1', 'TheLeoTerrell', 'sarah717074444', 'StrikeDebt', 'RepAndyBiggsAZ', 'piyushmittal', 'marcorubio', 'washingtonpost', 'AmandaLarreni', 'KatiePavlich', 'AmericaNewsroom', 'FoxNews', 'ZumwaltHeinz', 'KingsleyCortes', 'RepMTG', 'washingtonpost', 'CBSNews', 'KMPHFOX26', 'thecentersquare', '011011000D', 'CahnEmily', 'jgrecoj', 'TheRealHoarse', 'JPGJEFF', 'ElectionWiz', 'JimmyJam201978', 'Breaking911', 'mrc314', 'MalloryMcMorrow', 'bessbell', 'fishandwhistles', 'RepMTG', 'Shane_Taylor', 'LongTimeHistory', 'kidswarrior30', 'chrislhayes', 'newsmax', 'RepMTG', 'WSJ', 'TomTheBott', 'MontySinnett', 'JohnnyOTexas1', 'ReginaWilhelmi1', 'kayleighmcenany', 'Bell2024_', 'PamelaGeller', 'C1985Bears', 'Jim_Jordan', 'realRawPaul', 'HawleyMO', 'briantylercohen', 'RepMTG', 'NewsHour', 'RepStefanik', 'EricMMatheny', 'NBCNews', 'TuckerCarlson', 'SpeakerPelosi', 'bshaefit', 'MelChap0', 'Morning_Joe', 'Surgeon_General', 'simonjedge', 'elonmusk', 'riff_paul', 'RepMTG', 'elonmusk', 'Tesla', 'dogecoin', 'BillyM2k', 'MattWallace888', 'PentagonPresSec', 'CloydRivers', 'RepHartzler', 'realDailyWire', '1mfriend', 'Jim_Jordan', 'cspanwj', 'JudyJudyinTexas', 'RepRalphNorman', 'bshaefit', 'PaulCogan', 'patgill69033215', 'BreitbartNews', 'MarkHamill', 'OANN', 'ChanelRion', 'ArcieriJohn', 'FoxNews', 'TNGOP', 'RepDavidKustoff', 'DonaldJTrumpJr', 'Cevasco_Carla', 'ThisWeekABC', 'GStephanopoulos', 'juliecbarrett', 'GOPChairwoman', 'GOPChairwoman', 'SecretaryPete', 'EliseStefanik', 'nypost', 'kylegriffin1', 'RepBoebert', 'TeamPelosi', 'HausenKiki', 'LALewman', 'POTUS', 'Morning_Joe', 'JoeNBC', 'POTUS', 'GOP', 'SenateGOP', 'HouseGOP', 'AwakePatriot86', 'guypbenson', 'WestJournalism', 'emmaehanks', 'smack_the_sun', 'BWRBooks', 'CaptainQuickFix', 'VCthaGoAT', 'clhubes', 'damintoell', 'Walmart', 'tanuki102938', 'CNN', 'MikeyD15', 'BlueOc1981', 'RepSteel', 'RepYoungKim', 'barnes_law', 'sourpatchlyds', 'MarshaBlackburn', 'TheRickWilson', 'Acosta', 'cthagod', 'IPutnick', 'smoorhea', 'BellaMax12', 'RepMTG', 'morningmika', 'clairecmc', 'TheBabylonBee', 'CarolynRyanTV', 'Kat_Cammack', 'edwardtbabinski', 'doofgeek4011', 'RepTenney', 'POTUS', 'Tommy84646526', 'FoxNews', 'SenSherrodBrown', 'BetteMidler', 'voxdotcom', 'georgehahn', 'RepSamGraves', 'USRepLong', 'VickyHartzlerMO', 'RepBlaine', 'RepJasonSmith', 'PJDinLA', 'Radikal_Dreamer', 'NoLieWithBTC', 'BArbara23385920', 'catturd2', 'benshapiro', 'TonyFair02', 'dark_gone', 'GamebredFighter', 'GOPLeader', 'googlenews', 'FDArecalls', 'US_FDA', 'POTUS', 'YouTube', 'RandyWe99459289', 'MattVerderame', 'lindyli', 'catturd2', 'thebradfordfile', 'MailOnline', 'RepStefanik', 'vinny24240701', 'FoxNews', 'TuckerCarlson', 'stony2point0', 'TPostMillennial', 'MeghanMcCain', 'DailyMail', 'BTFU2000', 'cwebbonline', 'Yahoo', 'ACTforAmerica', 'taradublinrocks', 'tonisnidow', 'chiproytx', 'RepDanBishop', 'Conner6064', 'FoxNews', 'chaparellmember', 'LisaMarieBoothe', 'HeathWatchman', 'BannedSheepDog', '1776LibertyTree', 'GregAbbott_TX', 'BPUnion', 'AngelaBelcamino', 'elonmusk', 'Highlandrimtra1', 'LifeNewsHQ', 'to_discussion', 'again_jenn', 'SoOvaryActing', 'igorbobic', 'maggieNYT', 'ArthurDelaneyHP', 'Robillard', 'JessClarke007', 'PeterTOWNSV1LLE', 'damnkimberlee', 'RossSchumann', 'WhiteHouse', 'joncoopertweets', 'seanhannity', 'Gaya_Genda', 'GOPChairwoman', 'aedison', 'MollyJongFast', '13catsontheroof', 'libsoftiktok', 'MarshaBlackburn', 'Kat_Cammack', 'dbongino', 'RedEyedDespair', 'JDCocchiarella', 'the_shoe_yes', 'FoxBusiness', 'TheLeoTerrell', 'BetteMidler', 'MarshaBlackburn', 'BetteMidler', 'USFDA', 'MarshaBlackburn', 'POTUS', 'Goodbinkxbt', 'spittinchiclets', 'realchasegeiser', 'TimRunsHisMouth', 'JackPosobiec', 'US_FDA', 'DoodlesTrks', 'newsmax', 'Tod_With_One_D', 'realLizUSA', 'SenThomTillis', 'catturd2', 'FoxNews', 'BreitbartNews', 'FischerKing64', 'Cernovich', 'TheLeoTerrell', 'JesseKellyDC', 'FoxNews', 'GabAboutTrade', 'msksimpson', 'bessbell', 'Ron_Nirenberg', 'safoodbank', 'hyphel_tower', 'newsmax', 'cathymcmorris', 'RepStefanik', 'RepAshleyHinson', 'RepBice', 'nytimes', 'WRAL', 'stevehammel', 'WRALmartha', 'WRALLena', 'gowenstv5', 'crabberwral', 'WRALDebra', 'sbeckwral', 'chouchoutv', 'keelyarthur50YS', 'LovingoodTV', 'AlyssaRosenberg', 'chefjoseandres', 'elonmusk', 'NoLieWithBTC', 'JeffreyRitchey', 'Serienya', 'MarshaBlackburn', 'TODAYshow', 'SpeakerPelosi', 'WyldeHeartedSon', 'Jim_Jordan', 'MarshaBlackburn', 'wesbury', 'politicalmath', 'conor64', 'YouTube', 'RealJohnDennis', 'elonmusk', 'WindsBlowHeavy', 'jenresisted', 'POTUS', 'briantylercohen', 'DrGJackBrown', 'elacs', 'marcorubio', 'marcorubio', 'RSBNetwork', 'SteveHofstetter', 'UnvaxxedFreedom', 'RepMTG', 'SpeakerPelosi', 'onebadmamajama2', 'TomiLahren', 'elonmusk', 'elonmusk', 'JudiciaryGOP', 'Imwithherb', 'Trumpcrazytrain', 'Thunderlips78', 'ErickAguilarJAX', 'ericswalwell', 'RepThomasMassie', 'ACTBrigitte', 'bennyjohnson', 'KaitMarieox', 'US_FDA', 'PeterPitts', 'FoxNews', 'debsdavalle', 'lizam_ca', 'PopCrave', 'grandoldmemes', 'Sifill_LDF', 'RepStefanik', 'michaelgwaltz', 'MailOnline', 'JRMajewski', 'JessOwensYoung', 'MarkJacob16', 'jackie14916195', 'GOP', 'GOPChairwoman', 'mchooyah', 'AaronGremory', 'NikkiInDC', 'OperaBrendaSLP', 'US_FDA', 'ElizabethSurin1', 'Tejanobrown', 'LindseyGrahamSC', 'LAist', 't9mvfydb94', 'CurstDragon', 'NotThePuppy', 'RossSchumann', 'amyklobuchar', 'fox12oregon', 'ABC10', 'lisa49081', 'BruceAcree', 'BillKristol', 'RandPaul', 'BariAWilliams', 'KatiePhang', 'RepTroyNehls', 'CalltoActivism', 'catturd2', 'bobforgovernor', 'JustTheNews', 'TomiLahren', 'strummaster42', 'AbbeyScott16', 'halliesav', 'wifiwench', 'MarketWatch', 'JoeFreeAgent', 'tedcruz', 'Lawdemigod', 'ChewieBearStare', 'PaddyJoeDalton', 'AmiriKing', 'ElonBeans', 'peamom', 'TeamPelosi', 'fred_guttenberg', 'rosadelauro', 'RepGosar', 'RepStefanik', 'KateisBlu', 'TheRealHoarse', 'WashTimes', 'ChickC69925504', 'FlowerGirlBaker', 'NoLieWithBTC', 'Ncarango9', 'oneoffour_se', 'ErinSilence', 'mitchellscomet', 'Esqueer_', 'RepCarolMiller', 'cathymcmorris', 'US_FDA', 'RonFilipkowski', 'davemillar71', 'BrentScher', 'nataliejohnsonn', 'WhiteHouse', 'MarshaBlackburn', 'JuddLegum', 'SenJeffMerkley', 'SecBlinken', 'UN', 'JosepBorrellF', 'stclairashley', 'nypost', 'GovRonDeSantis', 'FLCaseyDeSantis', 'yesisworld', 'ErynGreenfield', 'seanhannity', 'Alyssa_Milano', 'The_SativaDiva', 'PeteButtigieg', 'TuckerCarlson', 'nypost', 'nytimes', 'SpeakerPelosi', 'EpochTimes', 'thehill', 'JudgeClayJ', 'POTUS', 'GOP', 'GOPChairwoman', 'NoLieWithBTC', 'MoistenedTart', 'cocoso61', 'NateWeymouth', 'linuxgeekroc', 'FoxNews', 'JesseBWatters', 'jesseprimetime', 'newsmax', 'POTUS', 'GOPLeader', 'catturd2', 'RepMTG', 'GeneforTexas', 'Master61306858', 'Challyy02', 'olokooflagos', 'RepStefanik', 'US_FDA', 'WSJ', 'Saundradelgad19', 'News4SA', 'askjillian', 'TheCantoneZone', 'whowhathuhokay', 'briantylercohen', 'flowingsarcasm', 'RobinMc13032677', 'hexhatesuall', 'TGallantTrill', 'seriuslyserius', 'karma_galore', 'bharris1968', 'DonaldJTrumpJr', 'RoofAdvisorUK', 'GillianMcKeith', 'TwitchyTeam', 'RNCResearch', 'bennyjohnson', 'janicecarlson77', 'POTUS', 'DonaldJTrumpJr', 'MScottMcCulloug', 'TheLegalMindset', 'thatstarwarsgrl', 'Alias_Rosie', 'TerfyMcTerfy', 'csbonta', 'POLITICOPro', 'BreitbartNews', 'seanhannity', 'elizcohencnn', 'm98135isN55HP', 'Acyn', 'yinzerchemist', 'voxdotcom', 'jimmyfailla', 'Clarity65808926', 'MTMaximus75', 'ted_thorne', 'RepStefanik', 'Jessicam6946', 'ccambron', 'TheRealHoarse', 'EliseStefanik', 'YahooNews', 'JoeBiden', 'mattgaetz', 'thehill', 'RepMTG', 'laurenboebert', 'gayle_mccreanor', 'DrJamesOlsson', 'marklevinshow', 'koulakarma', 'FPWellman', 'EliseStefanik', 'senrobportman', 'JaayCarrillo', 'quintabrunson', 'marcorubio', 'StephenMarche', 'realTuckFrumper', 'FriedliebLes', 'RepStefanik', 'GOP', 'catturd2', 'elonmusk', 'Twitter', 'Twitter', 'Twitter', 'hecch', 'newsmax', 'laurenboebert', 'PRWeekUS', 'GStephanopoulos', 'ajlamesa', 'Cernovich', 'GOPChairwoman', 'gatewaypundit', 'GOPLeader', 'Houlasrule2', 'GabbyOrr_', 'YouTube', 'Dreamsofelysia', 'MarketWatch', 'SRuhle', 'KristenEskow', 'FOX59', 'RepSpartz', 'CBS4Indy', 'RonFilipkowski', 'lhfang', 'UncleYpmuj', '_Mouthpounder', 'k10hurst420', 'Alex_Panetta', 'sta97487124', 'KiannaBanana', 'AllisonsVapePen', 'ChipsMom', 'MadeInTheUSANJ', 'Jim_Jordan', 'bette', 'YouTube', 'WilliSouthside', 'thehill', 'PaulieMan1981', 'Dom21Rom', 'technicallygr8', 'TryFreethinking', 'elonmusk', 'TheLeoTerrell', 'DocSysEngr', 'axios', 'tyleroakley', 'RepValDemings', 'KamVTV', 'WHCOS', 'RepSlotkin', 'ElissaSlotkin', 'NativeIndianDog', 'PreSafeAmerica', 'GabbyOrr_', 'Bubblebathgirl', 'KatyKatStation', 'POTUS', 'divafeminist', 'loosebricks', 'SenJohnKennedy', 'jhb430', 'morningmika', 'ericswalwell', 'greg_doucette', 'HouseGOP', 'neocon53', 'RantyAmyCurtis', 'bethanyshondark', 'MSNBC', 'NBCNews', 'nbc', 'CNBC', 'morningmika', 'Morning_Joe', 'POTUS', 'GOP', 'elonmusk', 'AcrossParents', 'chasestrangio', 'rapidsloth', 'TribeOG1', 'ABC', 'JulieAnderson41', 'nytimes', 'JesseKellyDC', 'GunnyJ', 'TheRickWilson', 'Ouija_squeegeee', '9NEWS', 'NoLieWithBTC', 'yashar', 'ElectionBabe', 'LinaHidalgoTX', 'brandiesmith', 'TuckerCarlson', 'bruces', 'RepClayHiggins', 'Polish333', 'WesleyHuntTX', 'EliseStefanik', 'SenJeffMerkley', 'SecBlinken', 'UN', 'JosepBorrellF', 'KellDA', 'karolcummins', 'Fleshlight', 'MarshaBlackburn', 'MysterySolvent', 'smc429', 'TeamPelosi', 'SpeakerPelosi', 'ShrikeTron', 'rhonda_harbison', 'HouseGOP', 'therealltlkrow', 'realLizUSA', 'cordlessnick', 'JNeoMarvin', 'HawleyMO', 'tonykatz', 'rdans1997', 'marklevinshow', 'HeatherIsUnsane', 'giantgingervet', 'DebbieDonnaruma', 'WhiteHouse', 'JoeBiden', 'KamalaHarris', 'US_FDA', 'UNICEFUSA', 'HHSGov', 'LaLecheLeagueUS', 'Lactaid', 'bloodcouturier', 'Afacelessdream', 'brwngrlkaren', 'quintabrunson', 'BetteMidler', 'rosegerard5', '46_deb', 'TXAmyJo72', 'Jack__Daniel___', 'POTUS', 'Winback24', 'jeff_krfr', 'SenTedCruz', 'endofanerajc', '4myloveofbeer', 'bennettkdavis', 'ericswalwell', 'swodinsky', 'RonnyJacksonTX', 'Yahoo', 'Kat_Cammack', 'TheLastRefuge2', 'antifaoperative', 'TrisResists', 'Clark_Kent_USA', 'MarshaBlackburn', 'OccupyWallStNYC', 'rhdny_sty', 'EricRSammons', 'AbidShamdeen', 'CBS6', 'ImBrendanKing', 'DarlaShine', 'marklevinshow', 'FlourishingThru', 'HillaryClinton', 'FOX13News', 'YouTube', 'JudiciaryGOP', 'AZGOP', 'KariLake', 'NoLongerBlu', 'RhettB0683', 'RepStefanik', 'CooneyforMT', 'RepRosendale', 'sm', 'AnnieAndrewsMD', 'MeliTheChosen', 'Mario85462000', 'MasteratArms200', 'SharylAttkisson', 'RVsaluki', 'PRM13001813', 'SumatraSue', 'AggressiveDem', 'FreedomClique', 'EnrelChi', 'jeffschlueter1', 'Peace4Patriots_', 'fred_rulz', 'CleeseRaymond', 'Bigteethyouhave', '9livez1', 'Emma34770971', 'chan_leeze', 'RepublicanRehab', 'Jennie_SC1', 'RealDoctorT', 'JimlikesBB', 'Annie20554592', 'SandraNotSandy1', 'Q_Estrada', 'GrieveNSpin', 'vonhowland', 'wallisweaver', 'StirredCrazy', 'avertexofmyown', 'ResusCGMedia', 'Ziyech64802551', 'lizstl13', 'DegenWoke', 'ReganLieutenant', 'liewbob', 'Woody4123', 'dfbeck44', 'Utleyjacobite', 'LadyDead4u2', 'MoonlightNfts', 'pithypacky', 'bay_shoe', 'hansonDigby', 'Jennife99766325', 'Mainecoonman', 'WeAreSoFracked', 'spanna65', 'JessGrose', 'bessbell', 'tankeratheart', 'chelseahandler', 'POTUS', 'JustTheNews', 'SRuhle', 'MahrSoli', 'nevergiveup264', 'RepStefanik', 'realDailyWire', 'MELANIATRUMP', 'behindyourback', 'PC_Butter_Bread', 'RepMTG', 'EddieSmith3080', 'Jim_Jordan', 'redwinerun', 'KamVTV', 'HouseGOP', 'RepStefanik', 'Captain_Seasick', 'WildMercurygrl', 'JoshuaPotash', 'GovKathyHochul', 'pocantico98', 'mattgaetz', 'geostylegeo', 'TPM', 'MarshaBlackburn', 'RepJimBanks', 'JustTheNews', 'JudyGra35816777', 'Maximus191016', 'BBCWorld', 'whiskeyvice', 'davidb2789', 'seanhannity', 'JesseKellyDC', 'YouTube', 'JoeBiden', 'HondoNelson', 'NeveltenJohn', 'CaroCastilloCC', 'ajlamesa', 'chipfranklin', 'RepStefanik', 'UnitedEggProd', 'Jack0Clubs', 'CNNPolitics', 'JoJoFromJerz', 'MTRichards400', 'Public_Citizen', 'KatiePMcGrady', 'liz_churchill_', 'ReaIDonJT45', 'elonmusk', 'OWHnews', 'MahketVoodoo', 'Chesschick01', 'US_FDA', 'BreitbartNews', 'JesseKellyDC', 'leslie_hileslie', 'Acosta', 'cthagod', 'JoeBiden', 'POTUS', 'anonymousdiosa', 'Yahoo', 'samstein', 'BoSnerdley', 'CalltoActivism', 'GatesMcgavick', 'RNCResearch', 'RepStefanik', '1Chillwind', 'AlixClaps', 'elwinslow', 'TimRunsHisMouth', 'TkdgrlKg', 'Jim_Jordan', 'FoxNews', 'MELANIATRUMP', 'FerRariBTC', 'FerRariBTC', 'jennnna311', 'FatSeanLives', 'CTGOP', 'JoeBiden', 'WhiteHouse', 'congressdotgov', 'TheDemocrats', 'GabbyOrr_', 'NMalliotakis', 'RioPaloma1', 'NDBusiness', 'waycools', 'KarenDoe50', 'CoryBooker', 'OnlyInVegas702', 'VCalingcourt', 'Lastdreamer2013', 'EliseStefanik', 'January6thCmte', 'RepMTG', 'KatiePavlich', 'BetteMidler', 'UKChange', 'BillGates', 'gatesfoundation', 'MarshaBlackburn', 'kylegriffin1', 'momsresistnow', 'MarshaBlackburn', 'CPhT_LVN_RN', 'Esqueer_', 'jessicashortall', 'EPoe187', 'NickAdamsinUSA', 'AmFem101', 'DKThomp', 'DonaldJTrumpJr', 'seanhannity', 'BlueWave215', 'GOP', 'RepMTG', 'CTVNews', 'RepAndyBiggsAZ', 'RelaxedMomma', 'voxdotcom', 'YouTube', 'FoxNews', 'TuckerCarlson', 'WestJournalism', 'Jim_Jordan', 'DanCrenshawTX', 'FoxNews', 'DNC', 'JamesBradleyCA', 'FoxNews', 'BldheartLib', 'ken3598', 'RNCResearch', 'mbachelet', 'PalomaUnicef', 'UNReliefChief', 'WFPChief', 'greg_price11', 'fake_biden', 'HotlineJosh', 'RepSwalwell', 'TomiLahren', 'GovAbbott', 'Scotus', 'Heidi_Maed_It', 'andrew_escude', 'FenucciMiles', 'Joanne60183156', 'KatiePavlich', 'msjeannerogers', 'EL1421', 'CassLyninVegas', 'shannonrwatts', 'TailspinterryNV', 'jellen805', 'libsoftiktok', '1Nicdar', 'BreitbartNews', 'JamesMurphy', 'nypmetro', 'newsmax', 'RepJimBanks', 'RepMTG', 'yarotrof', 'tdarthur', 'LByock', 'DawnEKruger3', 'LinaCarinci1', 'Veena_Moose', 'itsJeffTiedrich', 'RadioGuyChris', '71TorinoGT', 'Geldner', 'SenSchumer', 'TuckerCarlson', 'FoxNews', 'YouTube', 'MailOnline', 'RinainDC', 'BreitbartNews', 'PamelaHensley22', 'EricGreitens', 'mattgaetz', 'mikeyshaps', 'WhiskeyMD247365', 'thehill', 'RepMTG', 'Acyn', 'washingtonpost', 'GOPChairwoman', 'GOP', 'lavern_spicer', 'POTUS', 'benshapiro', 'briantylercohen', 'marcorubio', 'AbbottNews', 'thehill', 'Stormfeather', 'myincal', 'laurenboebert', 'GoodForCongress', 'ZaleskiLuke', 'UN', 'NATO', 'CNN', 'DrydenNovelette', 'ybarrap', 'B52Malmet', 'MailOnline', 'abcnews', 'komonews', 'LeaderMcConnell', 'FredWimpy', 'scott_cb', 'JoeBiden', 'fwdcrocblu', 'RepStefanik', 'US_FDA', 'marcorubio', 'EricMMatheny', 'Yanky_Pollak', 'elonmusk', 'JoeSilverman7', 'JonnyMicro', 'laurenboebert', 'marcorubio', 'DHSgov', 'POTUS', 'kairyssdal', 'truthandcoffee', 'PeteButtigieg', 'POTUS', 'DashDobrofsky', 'RepMTG', 'RepGregSteube', 'SenJoniErnst', 'the_je85', 'BabeTruth2', 'MonicaCrowley', 'HardikPatel911', 'armes_edith', 'LIFEHouston', 'HoustonFoodBank', 'Costco', 'marklevinshow', 'HouseGOP', 'RepTenney', 'elonmusk', 'Astro_Angry', 'YouTube', 'James_E_White', 'Grits4Breakfast', 'benshapiro', 'POTUS', 'MailOnline', 'FoxNews', 'marcorubio', 'laurenboebert', 'CNN', 'RepMTG', 'RepMTG', 'RepLizCheney', 'AdamKinzinger', 'HouseGOP', 'Jim_Jordan', 'chumleighofang', 'fred_guttenberg', 'POTUS', '_Colorful_Words', 'evanasmith', 'GovAbbott', 'JoeBiden', 'POTUS', 'AliceNiaH', 'leakylike', 'C2H6O2_Milk', 'AnaOpp', 'CNN', 'musiccritic11', 'nypost', 'POTUS', '_HeatherDWaters', 'JeffinAurora', 'morethanmySLE', 'GabbyOrr_', 'KagisanoZa', 'DianeHankinson5', 'CalltoActivism', 'CNN', 'SBRochester', 'realSimonaMP', 'RepLeeZeldin', 'DailyMail', 'BreitbartNews', 'sarahjmerch', 'johnpavlovitz', 'OlyWebDiva', 'Jenifer72906731', 'RepMTG', 'jrpsaki', 'fr14167260', 'TheLeoTerrell', 'HomaBashWEWS', 'MIGIRLINVA1', 'KamVTV', 'bendreyfuss', 'YouTube', 'GabbyOrr_', 'DukeEnergy', 'EliseStefanik', 'GOPChairwoman', 'POTUS', 'EricRSammons', 'RepDWStweets', 'HUDgov', 'Jose_AAlv', 'POTUS', 'HouseDemocrats', 'bblock29', 'elonmusk', 'theblaze', 'Free_speech_5_0', 'laurenboebert', 'Morse4Senate', 'RealAnnieBlack', 'chopaganda', 'RealBetyCardens', 'RNCResearch', 'DebNiel80040841', 'MSNBC', 'NoahCRothman', '200Low', 'StephenM', 'TimRandosaurus', 'MitchellAHorton', 'fishontherun2', 'linus_bohunk', 'vodkasnowflake', 'DocDeezWhat', 'seanhannity', 'SenatorHagerty', 'AshTheJoker216', 'puny2008', 'boriskarloff_', 'jayerotika', 'KekePalmer', 'Jim_Jordan', 'WHCOS', 'JoeBiden', 'sound_hologram', 'JoeSilverman7', 'roanoketimes', 'HouseGOP', 'RepBenCline', 'RepBobGood', 'MorganGriffith', 'stacyhrae', 'FoxNews', 'SenJeffMerkley', 'SecBlinken', 'UN', 'JosepBorrellF', 'RepTiffany', 'bast_i', 'DavidLa96172474', 'PPathole', 'elonmusk', 'jack', 'BreitbartNews', 'Jim_Jordan', 'MonetaryCurrent', 'gatewaypundit', 'thedeadlydonald', 'cenkuygur', 'JohnFetterman', 'TheYoungTurks', 'AustinScottGA08', 'POTUS', 'factcheckdotorg', 'MeidasTouch', 'GoSatvik', 'GOPChairwoman', 'Rep_Clyde', 'pete_fuller_ga', 'HallCountyDem', 'pbanderson', 'Mr_Brooksher', 'IndivisibleLum', 'ForsythDemGA', 'TheQuartering', 'stockxsniper', 'seanmdav', 'YouTube', 'RepMTG', 'jrpsaki', 'thevivafrei', 'sepaige', 'katiedidanddid', 'Ecoxx21', 'HillaryKelly', 'debbiep98661507', 'RepValDemings', 'IamOld5', 'jaketapper', 'Mrbl0Nde69', 'grittyrepublic', 'SneakerPhetish', 'KekeRenae', 'sphericaltime', 'ysmeiraa', 'ThatsSoDerek', 'KatyMontgomerie', 'tweetofdad', 'Duece_444', 'Sarj37', 'osullivanauthor', 'AKA_RealDirty', 'MailOnline', 'APurpleDork', 'RealMoFo85', 'LangmanVince', 'Stonekettle', 'RonFilipkowski', 'cb_people', 'rinushoogstad', 'EliseStefanik', 'antifatalism', 'ibookery', 'padresj', 'Veronica6018', 'ChiBureaucrat', 'BenjaminCarollo', 'JCats2013', 'kimguilfoyle', 'RepMTG', 'victoriaadowney', 'Acyn', 'MarshaBlackburn', 'mikesyl70049122', 'jhaubein', 'aaronjmate', 'RNCResearch', 'ConcernedinNYC2', 'HuffPostPol', 'dcexaminer', 'vicster198', 'robitaill8', 'MarshaBlackburn', 'disabstraction', 'OnGlick', 'IndepThnkr', 'ccowboy723', 'SenFeinstein', 'kylegriffin1', 'nypost', 'ohsorational', 'cateici', 'NoLieWithBTC', 'ChristinaPushaw', 'S_McG_61', 'AnimalsCause', 'ParchmentScroll', 'Dena_Natali', 'Nash076', 'RepMTG', 'amazon', 'marklevinshow', 'DanCrenshawTX', 'PressSec', 'jrpsaki', 'briantylercohen', 'PalmerReport', 'EliseStefanik', 'EliseStefanik', 'SenJoniErnst', 'Nguyen_anime3', 'GovernorVA', 'GovRonDeSantis', 'citsecurities', 'MorganStanley', 'GoldmanSachs', 'jpmorgan', 'Citi', 'WellsFargo', 'BNYMellon', 'CMEGroup', 'charliekirk11', 'HouseGOP', 'RepChuck', 'JoeBiden', 'nycbubbles', 'ChrisMurphyCT', 'TheSWPrincess', 'AP', 'NoLieWithBTC', 'marcorubio', 'MarshaBlackburn', 'jsolomonReports', 'RiveraMiscoris4', 'GT707GT707', 'merry_ghouled', 'LisaMarieBoothe', 'jrpsaki', 'notcapnamerica', 'Notyour28981739', 'kylegriffin1', 'GOPLeader', 'GOPLeader', 'GOP', 'GOP', 'RightNowJimDaws', 'cwalenta', 'elonmusk', 'RepStefanik', 'jfroebe', 'MSNBC', 'AntheaButler', 'marcorubio', 'analogplanet', 'MarshaBlackburn', 'laurie_stamatin', 'twittinnanee', 'RepMTG', 'WhiteHouse', 'elonmusk', 'thrasherxy', 'Landorcan', 'hannastasia', 'prettyflowerrss', 'RideInTheStorm', 'LouLouLa10', 'spectator', 'DougDailey12', 'dagenmcdowell', 'Yahoo', 'SenTomCotton', 'GeorgeTakei', 'lhfang', 'garyprice54', 'newsmax', 'kwagular', 'RonnyJacksonTX', 'ElyKreimendahl', 'GeorgiaLogCabin', 'TheLeoTerrell', 'LynzforCongress', 'RepMTG', 'hjwoof', 'kennemca', 'RonFilipkowski', 'JenniferShutt', 'jacob_fischler', 'elonmusk', 'VICENews', 'MrJames__321', 'JohnnaCrider1', 'JudiciaryGOP', 'JoeBiden', 'GOPChairwoman', 'MarshaBlackburn', 'POTUS', 'AtlRey', 'iSmashFizzle', 'ruatwitt', 'OuttaOz', 'evanasmith', 'GovAbbott', 'JoeBiden', 'POTUS', 'clhubes', 'RepTiffany', 'LopezResists', 'GaddyTam12ge', 'Sifill_LDF', 'BetteMidler', 'Jim_Jordan', 'MarshaBlackburn', 'TruWordsRSpoken', 'kylegriffin1', 'POTUS', 'POTUS', 'DonaldJTrumpJr', 'CongMikeSimpson', 'BrettBaldridge', 'mattgaetz', 'ItWasACoup', 'RepNancyMace', 'Samanth48487861', 'libsoftiktok', 'zerohedge', 'RepThomasMassie', 'GOPChairwoman', 'Ke_Ho', 'inyanya31', 'bennyjohnson', 'WEBailey', 'kayleighmcenany', 'RepCawthorn', '_Roughneck_Rob', 'nmo941', 'JoanneL57220598', 'PirroFans', 'Jim_Jordan', 'Jim_Jordan', 'RepJamesComer', 'MichelleSteelCA', 'Jim_Jordan', 'jabU_Free', 'Jim_Jordan', 'RepSwalwell', 'LincolnProjct', 'FabricOfOrleans', 'fozmeadows', 'catturd2', 'Majax16', 'nytimes', 'POTUS', 'RepJamesComer', 'Jim_Jordan', 'FoxNews', 'Cracken257', 'Acyn', 'jewelsann', 'Cevasco_Carla', 'IBCLCinCA', 'PeteButtigieg', 'RBReich', 'DoctorVive', 'NahBabeeNah', 'SOWEN1966', 'srslyberserk', 'repdarrellissa', 'YouTube', 'RepJeffries', 'TeamCavuto', 'RobWittman', 'DavidAsmanfox', 'dagenmcdowell', 'brianklaas', 'GeorgeTakei', 'Laurel4liberty', 'KLVeritas', 'GReschenthaler', 'KellDA', 'Chefbear1', 'briantylercohen', 'ResistMonsters', 'WhiteHouse', 'dryamontillado', 'WhiteHouse', 'POTUS', 'BIZPACReview', 'NotThatMadden', 'tedcruz', 'All100Senators', 'kim_crawley', 'elonmusk', 'SRuhle', 'HouseGOP', 'AP', 'Amy_Siskind', 'AnnBrenoff', 'BeFrissoned', 'natsechobbyist', 'Kat_Cammack', 'PunsUnfunny', 'Thiohna', 'dagenmcdowell', 'TomiLahren', 'DalhiMackle', 'glightfinancial', 'Hedgeye_Staples', 'WatchTheBreaks', 'KamVTV', 'AnnCoulter', 'amyklobuchar', 'beinlibertarian', 'PressSec', 'GovStitt', 'FletchMatlock', 'YahooNews', 'davidcomdico', 'RonPlacone', 'Amb8819', 'saletan', 'PeteButtigieg', 'NoLieWithBTC', 'RepMattGaetz', 'RepMTG', 'ElAmerican_', 'careylorbrown', 'JoeBiden', 'Andy', 'YouTube', 'LeaderMcConnell', 'ICCooler', 'marcorubio', 'rockraider3', 'Cernovich', 'InsiderNews', 'NM101333', 'lynnwa', 'johnrobertsFox', 'Jimi_Stella', 'cgwoodward1', 'Lancegooden', 'libsoftiktok', 'POTUS', 'MEB40122141', 'HomeAffairsSA', 'CyrilRamaphosa', 'PresidencyZA', 'CNN', 'EliseStefanik', 'yesisworld', 'realDailyWire', 'LeaderMcConnell', 'Lormif1', 'Energetic_Nova', 'YDCHPH', 'JohnArnoldFndtn', 'KatiePavlich', 'CBSNews', 'camiloreports', 'EliseStefanik', 'FoxNews', 'MarshaBlackburn', 'parkreturns', 'Jim_Jordan', 'IngrahamAngle', 'RealSoCalBadger', 'HarryHutchiso23', 'RepTroyNehls', 'Albert1049', 'POTUS', 'realTylerZed', 'elonmusk', 'slashdot', 'chitown2socal', 'AricToler', 'SpeakerPelosi', 'NickAdamsinUSA', 'RonFilipkowski', 'newtgingrich', 'RepAshleyHinson', 'EpochTimes', 'RepMTG', '52Katydid', 'Nani808', 'CyrusMMcQueen', 'mrtigerwilde', 'jjjetplane', 'Z4Z3R0', 'slizzow9', 'CNN', 'xTrillValentine', 'BetteMidler', 'EliseStefanik', 'walmarthelp', 'Walmart', 'US_FDA', 'RepMikeRogersAL', 'GovernorKayIvey', 'SenatorDelMarsh', 'POTUS', 'VP', 'bethanyshondark', 'DennisNorthrup', 'RNCResearch', 'SenDanSullivan', 'johnrobertsFox', 'JoeBiden', 'WhiteHouse', 'catturd2', 'thehill', 'FoxNews', 'VoteGloriaJ', 'RepTimBurchett', 'JasonZacharyTN', 'kroger', 'mae6489', 'HiveBunnie', 'rebeccamakkai', 'RepMTG', 'GOPLeader', 'RepBoebert', 'blewis823', 'NickMeansWell', 'paulanoukas', 'Jim_Jordan', 'DJSUCKAFREE479', 'espn', 'TJQuinnESPN', 'JoeBiden', 'glumirror', 'bloodiestmage', 'FoxNews', 'danielkrouse4', 'Ebony84Rose', 'chockwitmilk', 'Brian95554409', 'AestheteGaming', 'RadioGuyChris', 'CraigTinsky', 'NunyaBi04301962', 'kristina_wong', 'CasteMember', 'mattdizwhitlock', 'TribTomWharton', 'Jason_K_King', 'mkraju', 'YouTube', 'yannickhk1', 'AaronParnas', 'DonaldJTrumpJr', 'Keithrichards83', 'DailyMail', 'GOPLeader', 'RepMTG', 'miksu2006', 'ABCWorldNews', 'WMTWTV', 'Chicago1Ray', 'LeaderMcConnell', 'GOP', 'YouTube', 'TheTodayShow', 'liz_churchill_', 'white_arrow_uk', 'FoxNews', 'jesseprimetime', 'cooltxchick', 'AmyAThatcher', 'ElonTwatter', 'Jim_Jordan', 'POTUS', 'JesseBWatters', 'Nextdoor', 'snopes', 'italinquen', 'RepMTG', 'hodgetwins', 'DarlingVonna', 'DanCrenshawTX', 'elonmusk', 'Rep_Clyde', 'OccupyDemocrats', 'HouseDemocrats', 'newsmax', 'Saadia___M', 'plcfrybaby', 'ToddGloria', 'PureWaterSD', 'RepKenBuck', 'kylegriffin1', 'thereidout', 'RepStefanik', 'WhiteHouse', 'robcortezlive', 'medicinalpizza', 'miss_teabaggins', 'DRexrode', 'RepMTG', 'JoeBiden', 'EliseStefanik', 'RoseFle54723126', 'JamesBradleyCA', 'lavern_spicer', 'NatlRestShow', 'WeRRestaurants', 'IlliniRestAssoc', 'RepJeffries', 'MWPKGP', 'Icanbelieveher', 'TomiLahren', 'BreitbartNews', 'RepMTG', 'RepMTG', 'durbinwatson09', 'JDCocchiarella', 'marcorubio', 'jdfoster78', 'kaplanjbrandon', 'KamVTV', 'RepMTG', 'loosebricks', 'DarrellIssa', 'thefrancosuarez', 'HuffPost', 'voxdotcom', 'GrammyC4Zone', 'Ed01143775', 'Kat_Cammack', 'PoliticClipper', 'RevShark', '7News', 'bertchintus', 'Cernovich', 'HawleyMO', 'KatiePavlich', 'FoxNews', 'POTUS', 'Jim_Jordan', 'GOP', 'GOP', 'BradTexas3', 'TheLeoTerrell', 'GoDodgersRams', 'Daniel2Sarah', 'PoetressLily', 'bipglo', 'kylegriffin1', 'MittRomney', 'JohnM53093509', 'ArtValley818_', 'TODAYshow', 'PeteButtigieg', 'GOPNoMor', 'ccowboy723', 'rebeccamakkai', 'Jim_Jordan', 'DrAudreyGlover', 'IlhanMN', 'GOP', 'FoxNews', 'BetteMidler', 'AbbottNews', 'pickledlavender', 'JesseKellyDC', 'ConservaTibbs', 'FoxNews', '8NewsNow', 'ericowensdc', 'RepMTG', 'marcorubio', 'mchooyah', 'thehill', 'halomancer1', 'briantylercohen', 'theblaze', 'guypbenson', 'Logo_Daedalus', 'EliseStefanik', 'GOPChairwoman', 'GovKathyHochul', 'cwebbonline', 'RonnyJacksonTX', 'bobehuncho', 'oscarroriz', 'JohnBoelts', 'RepSwalwell', 'teddmanii', 'BPUnion', 'kayleighmcenany', 'ToombsToni', 'BillGates', 'POTUS', 'CalltoActivism', 'JDCocchiarella', 'nypost', 'InkonElbows', 'RinainDC', 'Lee_in_Iowa', 'POTUS', 'JessOwensYoung', 'archiebell86', 'thehill', 'RinainDC', 'CherylAHayden1', 'camnhardy', 'lionsdenmother1', 'RonWyden', '321_cheese', 'miss_teabaggins', 'KatiePavlich', 'JoeBiden', 'WhiteHouse', 'TheLaurenChen', 'WhiteHouse', 'OroMoscu', 'IAPonomarenko', 'USATRUMPMAN1', 'chucktodd', 'kylegriffin1', 'GOP', 'GOP', 'GOP', 'HorizonUnltd', 'ddale8', 'TeamScienceWins', 'peterallard', 'mmpadellan', 'GOP', 'Yahoo', 'catturd2', 'TwiddleeeeDee', 'Bonkers45', '987Lucylu', 'chuckfurumori', 'TPostMillennial', 'RealHousewifeMi', 'TheToddofTodd', 'RepMTG', 'USATODAY', 'GOP', 'theliamnissan', 'robreiner', 'CNNPolitics', 'ajlamesa', 'MattPutorti', 'gellered', 'NelsonforWI', 'Vote4AnnMarie', 'Booker4KY', 'PhilArballo', 'PalmerforIL', 'delina4az', 'LukeMixonLA', 'GashForCongress', 'DNC', 'DNCWarRoom', 'DNCWomen', 'DNCYouthCouncil', 'Morning_Joe', 'BreitbartNews', 'DurBob56', 'RinainDC', 'Canuck51', 'Cbobohannon', 'realLizUSA', 'kayphilly81', 'Public_Citizen', 'jasonrantz', 'jschwartz0000', 'NovElection2024', 'OberWuzHere', 'zerohedge', 'marcorubio', 'wdsu', 'RobDeluca111', 'SaltyChippa', 'shawn55555', 'StephenKing', 'TuckerCarlson', 'gainward11', 'NoLieWithBTC', 'EliseStefanik', 'mamabear_ca', 'safelyfedcanada', 'nojoudalmallees', 'CBCNews', 'BreitbartNews', 'kimbal', 'SenStabenow', 'GaryPeters', 'PolitiBunny', 'RepTiffany', 'jolingkent', 'NBCNews', 'jeff_hanna', 'AnaMardoll', 'AndrewLeeTCNT', 'BillFOXLA', 'StephenM', 'FoxNews', 'wayne02563264', 'sara0766', 'jetusername', 'DanRather', 'ClayTravis', 'thehill', 'SenWarren', 'PaulTonko', 'All435Reps', 'Tim_Walz', 'lhfang', 'pwtham11', 'RepSwalwell', 'HouseGOP', 'RBReich', 'Michael42426104', 'JayChpJones', 'Amy_Siskind', 'JoeBiden', 'SenRickScott', 'WhiteHouse', 'US_FDA', 'JoeBiden', 'gatewaypundit', 'Jim_Jordan', 'IngrahamAngle', 'YouTube', 'YouTube', 'seanhannity', 'mchalfant16', 'WHCOS', 'bharris1968', 'RubenGallego', 'RepSwalwell', 'EliseStefanik', 'NoLieWithBTC', 'simonmyers51', 'nathaliejacoby1', 'ChrisMurphyCT', 'bigbattypha', 'waltermasterson', 'Yahoo', 'BetteMidler', 'Cevasco_Carla', 'MsKellyMHayes', 'RepMTG', 'RepDavidKustoff', 'MZHemingway', 'nypost', 'BillGates', 'FAO', 'TeamPelosi', 'NBSaphierMD', 'seanhannity', 'TheLeoTerrell', 'WSJ', 'and_chillin', 'GOP', 'Meuser4Congress', 'AtlRey', 'PALanghals', 'RealMikeDoss', 'redwinerun', 'KamVTV', 'CBSMiami', 'drvolts', 'Bell2024_', 'NYOutdoorsMom', 'RepMTG', 'washingtonpost', 'CahnEmily', 'Jim_Jordan', 'HawleyMO', 'DavidAMorse1701', 'RamonaFeminist', 'TeamCMR', 'YouTube', 'zabdydbaz', 'RepCarolMiller', 'RepAlexMooney', 'Veganandproud3', 'NBSaphierMD', 'RepThomasMassie', 'BreitbartNews', 'BetteMidler', 'HRFK_ORG', 'DCIsecretariat', 'USAID', 'invisiblemass01', 'FatherKraken', 'elimanyarrows', 'briantylercohen', 'newsmax', 'RutherfordRocks', 'LMentertain', 'PattyJones3', 'Kat_Cammack', 'stclairashley', 'JackPosobiec', 'WBTWNews13', 'OutnumberedFNC', 'HARRISFAULKNER', 'EmilyCompagno', 'kayleighmcenany', 'cherylcasone', 'guypbenson', 'CurtisHouck', 'benshapiro', 'AP_Politics', 'AP', 'connector4u', 'Lil_VixenVicky', 'tonyposnanski', 'BillKristol', 'Breaking911', 'BetteMidler', '420AttyChicago', 'fake_biden', 'bharris1968', 'SenWhitehouse', 'DeevaaS', 'maximumPango', 'LisaA311', 'RinainDC', 'AbbottNews', 'GregAbbott_TX', 'Sifill_LDF', 'rweingarten', 'drvolts', 'hunterbaker', 'geezeguys', 'mrbravo365', 'JimJamison84', 'evanasmith', 'ChristinaPushaw', 'SWinstonWolkoff', 'MELANIATRUMP', 'MattBors', 'marcorubio', 'RonFilipkowski', 'UKChange', 'lalecheleague', 'USATODAY', 'ReverendWarnock', 'seanshardy', 'mschlapp', 'Andy', 'TomiLahren', 'BIZPACReview', 'kimk85858', 'senatorshoshana', 'LPOhio', 'MarshaBlackburn', 'AdamParkhomenko', 'JasonLaCanfora', 'Saikmedi', 'ClareCraigPath', 'markbland', 'tripoley1966', 'mkraju', 'JoeBiden', 'axios', 'PeteButtigieg', 'at_astros', 'Kat_Cammack', 'elwasson', 'TeamScienceWins', 'mmpadellan', 'MazJobrani', 'Jim_Jordan', 'LerinStein', 'ninaturner', 'OccupyDemocrats', 'catturd2', 'lhfang', 'RubinReport', 'thevivafrei', 'CloydRivers', 'RepMTG', 'Jim_Jordan', 'wxyzdetroit', 'bharris1968', 'fox13seattle', 'BetoORourke', 'Kat_Cammack', 'AbbottNews', 'DonaldJTrumpJr', '45Melissa24', 'browneyegirl400', 'martymalo1', 'Nona_Urbizniz', 'MikeSington', 'MtgStlCarlisle', 'segalmr', 'nicholasrfish', 'gatewaypundit', 'DonaldJTrumpJr', 'JoeBiden', 'PhDVoice', 'PhD_Genie', 'dissertology', 'RepPatFallon', 'Deborahv7241963', 'JoeBiden', 'DeaceProducer', 'GOP', 'officialOKGOP', 'USATODAY', 'GOPChairwoman', 'Freedom_Alley3', 'elonmusk', 'JesseBWatters', 'kalcraig38', 'Oborosen', 'sofieroberta', 'briantylercohen', 'NickAdamsinUSA', 'POTUS', 'POTUS', 'SpeakerPelosi', 'MarshaBlackburn', 'Kat_Cammack', 'chuckschumer', 'tedcruz', 'GOPLeader', 'NBCNews', 'SenTomCotton', 'US_FDA', 'TheRealMcKeever', 'TrendingLiberal', 'jillwow', 'POTUS', 'FTC', 'DOJPH', 'HHSGov', 'RepMTG', 'mattgaetz', 'laurenboebert', 'andybiggs4az', 'GOPChairwoman', 'Kat_Cammack', 'newsmax', 'FischbachMN7', 'SecMayorkas', 'samanthamarika1', 'willchamberlain', 'RepMTG', 'NikkiFried', 'sourpatchlyds', 'townhallcom', 'atrupar', 'thecorpmex', 'POTUS', 'RepStefanik', 'RepStefanik', 'CNN', 'cephalopodion', 'GKanenwisher', 'JayInslee', 'DoombergT', 'thedude11291129', 'lilygrutcher', 'dlbeard', 'janise62794570', 'TexasGurl365', 'Joseph_ZestLife', 'JoeNBC', 'ann_neona', 'aleuvenisyn', 'JimWelke', 'LakotaMan1', 'GOP', 'tndp', 'texasdemocrats', 'TexasGOP', 'DNC', 'HouseDemocrats', 'SenateDems', 'CNN', 'MSNBC', 'NewsHour', 'POTUS', 'usmayors', 'nytpolitics', 'ajc', 'RepTroyNehls', 'joekent16jan19', 'dwilliams1210', 'RepKatiePorter', 'POTUS', 'D1g4TheTruth', 'matthewstoller', 'benshapiro', 'SenWarren', 'FoxNews', 'RealBrittHughes', 'thekrishkodali', 'Acyn', 'TampaTraveller', 'DatCatDer', 'NoName_xx_ahf', 'RepMTG', 'CrochetCali', 'GamebredFighter', 'MeghanMcCain', 'DailyMail', 'POTUS', 'POTUS', 'WhiteHouse', 'TomCottonAR', 'DanCrenshawTX', 'ccowboy723', 'MayorAdler', 'RepDonBacon', 'IowaHawkeye68', 'Kat_Cammack', 'JoeBiden', 'TuckerCarlson', 'ChristinaPushaw', 'KateHydeNY', 'LifeLibertyEvan', 'dizzyborden1972', 'Rachel_JSA', 'cdiver2002', 'newsmax', 'tomborelli', 'bstein80', 'Jim_Jordan', 'EliseStefanik', 'pressrepublican', 'EliseStefanik', 'ReedTweadon', 'FPWellman', 'DanPoSTL', 'MayoIsSpicyy', 'DPanigale18', 'TinaPhe55713378', 'im_mykidsmom', 'APFactCheck', 'Acyn', 'DonaldJTrumpJr', 'Jim_Jordan', 'Jim_Jordan', 'joan22', 'MarshaBlackburn', 'POTUS', 'stompintexan', 'RepMTG', 'EliseStefanik', 'kylegriffin1', 'RepMTG', 'GovTimWalz', '0s0suavecito', 'TracyLCooper2', 'RepStefanik', 'AdamParkhomenko', 'MeatHunter6', 'WesleyHuntTX', 'EliseStefanik', 'newsmax', 'EliseStefanik', 'SenatorWarnock', 'SenOssoff', 'HUDgov', 'RepMTG', 'PollyMyers18', 'Michael64510013', 'RantyAmyCurtis', 'cspan', 'LeaderMcConnell', 'LeaderMcConnell', 'TimRunsHisMouth', 'GOP', 'BetteMidler', 'TyWebbNananana', 'KamVTV', 'darakass', 'US_FDA', 'NEWS_MAKER', 'HarrisonKrank', 'amyklobuchar', 'angrybklynmom', 'Rom6233', 'RepMTG', 'tosin_aki', 'RepValDemings', 'RepMTG', 'nypost', 'RepDanBishop', 'babyformula', 'RonnyJacksonTX', 'TrumpsBlonde_2', 'shelleyL0506', 'catturd2', 'YouTube', 'DonaldJTrumpJr', 'people', 'LisaDH15', 'MeidasTouch', 'lapham923', 'theblaze', 'EliseStefanik', 'JesseKellyDC', 'MarkDavis', 'michaelcburgess', 'cornicelliny', '6abc', 'tdarthur', 'LByock', 'ABC', 'WhiteHouse', 'HouseDemocrats', 'SenateDems', 'CBSNews', 'NBCNews', 'roberto_parrot', 'Deb04585800', 'YPOwaves', 'p2thel2theg', 'GOPLeader', 'CityNewsKIT', 'SallyMayweather', 'gioviano_gail', 'RealSoCalBadger', 'HarryHutchiso23', 'RepTroyNehls', 'DJ_LUCHINI777', 'KendrasUsername', 'NajHilton', 'POTUS', 'GOP', 'thrasherxy', 'EliseStefanik', 'JackPosobiec', 'seanhannity', 'MailOnline', 'anders_aslund', 'HouseDemocrats', 'sarni66', 'TruWordsRSpoken', 'EliseStefanik', 'POTUS', 'POTUS', 'SecMayorkas', 'SusanLynch22', 'Suzyqfit4u', 'LightfootInHwd', 'yoksig', 'SuzieBird4', 'jackie14916195', 'katherineOma', 'P4boxers', 'DemocracyWorker', 'DearAuntCrabby', 'embeessem', 'jkf3500', 'taboo1099', 'OGNurseRatchet', 'momsbsm1', 'HickoryFlatG8r', 'openpodbaydoor_', 'peaceandteachin', 'ResisterChic', 'DanaStarr18', 'fraggle_rock74', 'SemisarcasticDp', 'AkilahObviously', 'RepTroyNehls', 'HasbroChildrens', 'KimKalunian', 'wpri12', 'SenJeffMerkley', 'SecBlinken', 'UN', 'JosepBorrellF', 'BreciFlea', 'natsechobbyist', 'Kat_Cammack', 'babylist', 'Acyn', '24sales2U', 'Mark42024274', 'NRO', 'tedcruz', 'james_t_quinn', 'ABC', 'nbc', 'CBS', 'RepBethVanDuyne', 'MarianTheMaiden', 'tsieber2', 'RonFilipkowski', 'JoeBiden', 'LocalPoliticsis', 'kylegriffin1', 'walterkirn', 'iamMacTheDJ', 'CapeQueen75', 'ReginaMichele5', 'MasteratArms200', 'RepJasonSmith', 'MarshaBlackburn', 'Jim_Jordan', 'ArianeNicolas_', 'mickimmiller', 'Siltronic123', 'AmandaLarreni', 'BreitbartNews', 'OversightDems', 'RepDWStweets', 'RepMaloney', 'redincosta', 'POTUS', 'StanislausPach1', 'usatodayopinion', 'USATODAY', 'tswarens', 'News12LI', 'WhiteHouse', 'POTUS', 'Bayneofallevil', 'NBSaphierMD', 'BetteMidler', 'ReedMichaelMc', 'libsoftiktok', 'nogooddeed2', 'CNN', 'KatiePavlich', 'leslie_hileslie', 'TheBabylonBee', 'PabloReports', 'skepticscott61', 'WGNNews', 'RepJoshG', 'H34RT13SS', 'StephenKing', 'WiltingBrent', 'KamVTV', 'Chicago1Ray', 'PauleenLe', 'WCCO', 'OutlawBParker', 'gatewaypundit', 'Jim_Jordan', 'IngrahamAngle', 'TSA_Pacific', 'TheView', 'mistclance', 'RepBrianMast', 'justin_ecker', 'CarolineStan', 'POTUS', 'ClayTravis', 'EliseStefanik', 'business', 'Ecoboombox', 'YouTube', 'realDailyWire', 'BetteMidler', 'nypost', 'Thumpermonkey56', 'RepTimRyan', 'ReddogOHIO', 'POTUS', 'Arianna66260401', 'DonaldJTrumpJr', 'RepMTG', 'POTUS', 'RandyBashore', 'FoxNews', 'HawleyMO', 'KamVTV', 'OGSuperpatriot', 'MsBlaireWhite', 'michaelmalice', 'Kat_Cammack', 'wcax', 'EliseStefanik', '_KOBrien', 'Longy5566', 'DoombergT', 'glenn_resists', 'Troopaloop', 'RossSchumann', 'POTUS', 'YouTube', 'EliseStefanik', 'TeamCMR', 'hinsonashley', 'stephaniebice', 'prageru', 'marcorubio', 'marcorubio', 'RepMTG', 'TheDemocrats', 'dolomiteHEX', 'anthonyzenkus', 'davidmweissman', 'RepMTG', 'MurrayCampaign', 'PattyMurray', 'laurenboebert', 'TomDoubting', 'nowthisnews', 'marcorubio', 'laurenboebert', 'elonmusk', 'HouseOfMichele', 'MarshaBlackburn', 'POTUS', 'TomiLahren', 'POTUS', 'MarshaBlackburn', 'RepMTG', 'newaitress', 'miss_teabaggins', 'HodaAndJenna', 'Angry_Staffer', 'nypost', 'RepLizCheney', 'LifeNewsHQ', 'mikepompeo', 'RonnyJacksonTX', 'RonnyJacksonTX', 'FoxNews', 'TomCottonAR', 'ElizabethBanks', 'erraticstatic', 'IvanJamison4', 'Angry_Staffer', 'RepStefanik', 'GregAbbott_TX', 'mikeosswald', 'caroljsroth', 'GOPChairwoman', 'nicolejames', 'UCCowboy', 'mj_lee', 'SenJeffMerkley', 'SecBlinken', 'UN', 'JosepBorrellF', 'TomiLahren', 'DonaldJTrumpJr', 'JoJoFromJerz', 'RepSwalwell', 'mdsoll315', 'seanhannity', 'KevinHench', 'elonmusk', 'briantylercohen', 'TheDemocrats', 'EliseStefanik', 'UKChange', 'holladay_joy', 'RicoBella2', 'unscriptedmike', 'kwagular', 'RepTroyNehls', '___l___f_j', 'RepThomasMassie', 'Johnnie30722916', 'WalkerBragman', 'jacob_richman', 'MarshaBlackburn', 'otepofficial', 'cheese_blogger', 'Wasps_n_Moths', 'TomiLahren', 'silvernt', 'TexanBeauty86', 'Morsfio', 'danstewart6030', 'AmberStawicki', 'BetteMidler', 'SouthernSummr', 'Arbane4', 'emperoreagan', 'seanhannity', 'Candace1200', 'USATODAY', 'kirlly56', 'the_mjl', 'StJamesStJames', 'richsignorelli', 'Tesla', 'elonmusk', 'RepKatCammack', 'MSNBC', 'ActionDemocrat', 'AgapeLove28', 'kylegriffin1', 'babyshebear25', 'Jim_Jordan', 'thehill', 'FoxNews', 'Jim_Jordan', 'gatewaypundit', 'burnt_smell', 'libsoftiktok', 'thehill', 'SpeakerPelosi', 'RBReich', 'WSJ', 'dbongino', 'orianamoru', 'LeaderMcConnell', 'POTUS', 'nytimes', 'POTUS', 'AP', 'PressSec', 'nytimes', 'MSNBC', 'Sethrogen', 'TuckerCarlson', 'TulsiGabbard', 'SpeakerPelosi', 'SenSchumer', 'ncculture', 'RepMTG', 'davidm57997692', 'sam4soph', 'JeffBezos', 'PoliticsInsider', 'GOPLeader', 'DouglasLukasik', 'Martinsuz', 'GOPChairwoman', 'BryanOl91984517', 'methodicjon', 'fullerkathy1', 'POTUS', 'meddawg95', 'Hart_Murphy', 'fred_guttenberg', 'POTUS', 'tedcruz', 'ACTBrigitte', 'MailOnline', 'johnrich', 'WHO', 'JoyAnnReid', 'Yamiche', 'MSNBC', 'SaraLibby', 'RepMTG', 'OHenry1776', 'RepStefanik', 'US_FDA', 'OliWoot', 'HawleyMO', 'EliseStefanik', 'foxandfriends', 'hinsonashley', 'FoxNews', 'GOP', 'SailorSwift47', 'BuddyDaDogg', 'SarahKSilverman', 'TonyGonzales4TX', 'CNN', 'ErinBurnett', 'Wheredowegofro3', 'GordonS08674645', 'PhilConnorsII', 'littlemissmarxi', 'rndulceavery', 'MarshaBlackburn', 'POTUS', 'ElyKreimendahl', 'WEBailey', 'kayleighmcenany', 'PunishedSpook', 'EldritchW1tch', 'JuddLegum', 'Saadia___M', 'cspanwj', 'GaryTait20', 'robinBa13242742', 'SanFranSooner', 'RNCResearch', 'SNMilitary', 'TheDemocrats', 'carguy98204', 'SydneyCarton1', 'ClayTravis', 'BetteMidler', 'DonaldJTrumpJr', 'DougzInBoston', 'futureicon', 'MarshaBlackburn', 'JoeBiden', 'SecMayorkas', 'Mary_MJR_2020', 'AshleyGWinter', 'DollyParton', 'iansmithfitness', 'USRepMikeDoyle', 'POTUS', 'Morning_Joe', 'HARRISFAULKNER', 'HouseGOP', 'RepMTG', 'RepMTG', 'BreitbartNews', 'mchooyah', 'RepMTG', 'JoeOpinionated', 'shoelaces3', 'klutzyAfternoon', 'mafect', 'elonmusk', 'YouTube', 'theblaze', 'RepSteel', 'ElisaArmen2', 'kylegriffin1', 'realDailyWire', 'HimboOnComputer', 'OSINTcel', 'errjustsaying', 'janetharry1', 'FoxNews', 'GamebredFighter', 'WFKARS', 'RonFilipkowski', 'CareyFulton12', 'CNN', 'myndmaven', 'EliseStefanik', 'Soplox', 'geis_shane', 'jasonschreier', 'jbletlow', 'RepGolden', 'ScottFranklinFL', 'tx_blessed', 'beki007s', 'mrudolph22', '45LVNancy', 'RPopBox', 'RoArquette', 'Jewtastic', 'Saadia___M', 'SaritaBdeG', 'jmal52', 'scottbraddock', 'txchristabelle', 'TheLeoTerrell', 'SpeakerPelosi', 'domesticworkers', 'WalshFreedom', 'EliseStefanik', 'RepAshleyHinson', 'RepKatCammack', 'HARRISFAULKNER', 'joncoopertweets', 'heyylilmimi', 'enimsaj_naoj', 'USAinKSA', 'RepMTG', 'lamplightc', 'TimRunsHisMouth', 'RNCResearch', 'Conley95Kirsten', 'FoxNews', 'DagnyTaggart369', 'GOPChairwoman', 'realLizUSA', 'ForumNon', 'theserfstv', 'briebriejoy', 'ForMedicare4all', 'realDailyWire', 'realTuckFrumper', 'GOPLeader', 'Know_More_News', 'aimeeebot', 'briantylercohen', 'RepMTG', 'seanhannity', 'scottlincicome', 'TheZvi', 'mattyglesias', 'wesyang', 'BECommander11', 'RepDLamborn', 'Cd5Torres', 'Jim_Jordan', 'MailOnline', 'DrKarleenG', 'TheOriginalFFF', 'GOPChairwoman', 'RepTiffany', 'WHCOS', 'GOPChairwoman', 'RepStefanik', 'YachtSalesKing', 'EricGreitens', 'DanRather', 'RpsAgainstTrump', 'RepStefanik', 'JoeBiden', 'BMonalisa_', 'YouTube', 'POTUS', 'BetteMidler', 'amyklobuchar', 'DI82589', 'EricRSammons', 'tedcruz', 'Jim_Jordan', 'GOP', 'LinDixonBarr1', 'POTUS', 'joncoopertweets', 'kayleighmcenany', 'TuckerCarlson', 'saryoak', 'tanulewicz', 'RinainDC', 'SecretaryPete', 'Kat_Cammack', 'AndrewB77056088', 'Enoughi10883551', 'VOTEBLUEPLEASE', 'perkysdad', 'cathy_vanek', 'dbongino', 'HouseGOP', 'FerDalcanale', 'stanveuger', 'gyp_casino', 'briantylercohen', 'BigBoobs_Milf', 'ashleyn1cole', 'newsmax', 'ilyseh', 'BetteMidler', 'laurenboebert', 'AbbottGlobal', 'RepStefanik', 'JoeJackson206', 'Hayden4L', 'AnnamaryKennell', 'charliekirk11', 'kwajkido3', 'rlis191', 'DrJamesOlsson', 'richardhetu', 'StanKeebals', 'Tamaralynn212', 'PeteButtigieg', 'librool', '_MattBoswell', 'Gritty20202', 'BarbraStreisand', 'GOP', 'joshsteinbergMD', 'ManasiAgrawalMD', 'AshwinMDIBD', 'IBDMD', 'gilkaplan', 'JeanFredericCo1', 'IOIBD1', 'LancetGastroHep', 'Flaviostein', 'WBUR', 'KatiePavlich', 'tamsully12', 'NoLieWithBTC', 'SenSherrodBrown', 'SteveHofstetter', 'timburchett', 'markpoloncarz', 'raptalksk', 'thehill', 'BreitbartNews', 'MailOnline', 'dromeo23', 'WhiteHouse', 'KamVTV', 'PatriotForeve11', 'LonnieTosca', 'Gaya_Genda', 'MikePCurry88', 'RNCResearch', 'johnrobertsFox', 'PressSec', 'kayleighmcenany', 'AmericaRpts', 'davidcicilline', 'RepMGS', 'leftcoastbabe', 'leahmcelrath', 'TimClark65DN', 'sourpatchlyds', 'Cernovich', 'sarahaines', 'BadMedicalTakes', 'AmerAcadPeds', 'PresFranklinNHI', 'DarioVizcaino3', 'JDCocchiarella', 'ChiPublicHealth', 'CookCoHealth', 'CookCtyHealth', 'DrGeraldineLuna', 'aleshaszone', 'ThinkerOfStock', 'kathrynanton', 'JCBarraza2', 'charliekirk11', 'EvelDick', 'mercedesschlapp', 'RNCResearch', 'SammiStitches', 'MarshaBlackburn', 'kwagular', '1OregonPatriot', 'catturd2', 'MarshaBlackburn', 'Barry_Ivey', 'thehill', 'NBSaphierMD', 'Lady_Star_Gem', 'RandPaul', 'truestormlover', 'abbyplusthree', 'HillaryClinton', 'rholftroy', 'TheBabylonBee', 'SenWhitehouse', 'LegendJayyyy', 'Callmebigdadd_y', 'iluvmilfs69696', 'GranddadGilf', 'backendoc', 'POTUS', 'Jim_Jordan', 'Cinfood16', 'steph_towers', '_cqlj', 'SkyNews', 'News3LV', 'Suzy2313922857', 'Jim_Jordan', 'GillianHTurner', 'US_FDA', 'AbbottNews', 'rv22_20', '9NEWS', 'TheLeoTerrell', 'shattadede', 'POTUS', 'MWPKGP', 'YPOwaves', 'Icanbelieveher', 'TomiLahren', 'GOP', 'HouseGOP', 'GOPLeader', 'EliseStefanik', 'JRutherfordFL', 'DNC', 'pelosi', 'HouseDemocrats', 'sammwichh', 'FDA', 'CNNPolitics', 'OhNoSheTwitnt', 'nat_paulsen', 'RepMTG', 'KamVTV', 'catturd2', 'CarlaHSands', 'catturd2', 'MarshaBlackburn', 'Kat_Cammack', 'elonmusk', 'CalltoActivism', 'RepAndyBiggsAZ', 'KarienneMcguire', 'Eggpuff', 'thrasherxy', 'MailOnline', 'SpeakerPelosi', 'Carma_2012', 'abofnc', 'Julia20526177', 'MROsLADY', 'ReginaWilhelmi1', 'marcorubio', 'JuliSoots', 'realDailyWire', 'yesisworld', 'Casey94810758', 'pitgpitw1', 'RonJohnsonWI', 'OutrageOk', 'FoxNews', 'lita_fannin', 'lauraboerman', 'FoxNews', 'nhkaren3', 'GOP', 'DrCaliff_FDA', 'NewsHour', 'SenatorDurbin', 'MooXProductions', 'ElectionWiz', 'LivePDDave1', 'KamVTV', 'TheLeoTerrell', 'DonaldJTrumpJr', 'reedgalen', 'elonmusk', 'Yahoo', 'bharris1968', 'DevinCow', 'EricGreitens', 'Keller_Trader', 'POTUS', 'WhiteHouse', 'BruceCoffman12', 'VilleMafia', 'Booker4KY', 'CNNPolitics', 'ChristinaPushaw', 'sullivanradio', 'ajlamesa', 'vjeannek', 'Robdissident', 'VaushV', 'schumway_48', 'Lanagirl321', 'RepValDemings', 'kfcaudell', 'Janicec59070193', 'briantylercohen', 'Watcher4H', 'TimeforLaura', 'DrShayPhD', 'Aimee48200004', 'FDA', 'POTUS', 'byheartbaby', 'TomiLahren', 'AP', 'MarshaBlackburn', '1billy2beers', 'IlhanMN', 'GOP', 'middle60s', 'CNN', 'RepJayapal', 'EliseStefanik', 'POTUS', 'perk9600', 'SRoK83', 'ChefJTaylor', 'MuellersGame', 'briantylercohen', 'seanhannity', 'KodyHale12', 'fractweets', 'ghenchy1', 'radiocatskill', 'bdittm', 'NatWICAssoc', 'BlankHelen', 'FeedingPA', 'DrSteveCook', 'ChildrensHW', 'SarahHassmer', 'lola98330175', '1ereG3', 'FoxNews', 'XDarwinAwardsX', 'briantylercohen', 'GregAbbott_TX', 'joshjcraddock', 'IlhanMN', 'GOP', 'DailyCaller', 'TheDCPolitics', 'RepJimBanks', 'newsmax', 'GovHolcomb', 'ToddRokitaIN', 'whocaresbiiitch', 'AmethystX1979', 'Michael64510013', 'RantyAmyCurtis', 'PattyMurray', 'CNNPolitics', 'KristineNielson', 'LMalloy', 'benshapiro', 'WashTimes', 'RonFilipkowski', 'GregAbbott_TX', 'BetteMidler', 'alpha_numer0', 'moonraker717', 'saintnickz7', 'RepTiffany', 'cwebbonline', 'Sarahjanecares', 'LJU3', 'techyes32', 'igorbobic', 'AynRandCultist', 'Elatorre9', 'blackonthegram', 'kandyandydandy', 'JoshuaPotash', 'WrittenByHanna', 'CindyKendrick11', 'KIXNKARBS', 'bgpereira3', 'TFherder', 'HennieInglis', 'leftoblique', 'SecretaryPete', 'jenn_ficarra', 'FoxNews', 'JesseBWatters', 'PeteButtigieg', 'thehill', 'BruceAHeyman', 'steeletalk', 'jordan_fellas', 'donwinslow', 'danielbsmith', 'PolitiFact', 'ericswalwell', 'IngrahamAngle', 'DonaldJTrumpJr', 'kyrstensinema', 'JackPosobiec', 'Natalie97444553', 'RealCandaceO', 'aliblack', 'emilybrooksnews', 'EliseStefanik', 'HouseGOP', 'YahooFinanceCA', 'craasch', 'EliseStefanik', 'WhiteHouse', 'ImperialLuis1', 'RepMTG', 'CalltoActivism', 'DonaldJTrumpJr', 'prolife', 'nytimes', 'robertfranek', 'PoliticusSarah', 'LadyBlu05541568', 'Jim_Jordan', 'SenTomCotton', 'oliviamunn', 'lolSafeSpace', 'Na_dia_girl', 'ShadowB88750056', 'RepTroyNehls', 'Katheren8', 'washingtonpost', 'JoeBiden', 'TomCottonAR', 'CNN', 'caitoz', 'w41gy', 'RepJerryNadler', 'VentiBravoLatte', 'nancylwalker101', 'LeaBlackMiami', 'RonFilipkowski', 'SpicyMel16', 'RebootedSystem', 'MaridythM', 'KatiePavlich', 'RepRaskin', 'danielson2047', 'TotalRecall9', 'MattWalshBlog', 'xiaolongbaobabe', 'gapuppie', 'mkraju', 'RepThomasMassie', 'NTU', 'Grace_Segers', 'SenatorLujan', 'GovWhitmer', 'SenStabenow', 'JohnRLottJr', 'RepThomasMassie', 'paulwaldman1', 'JuddLegum', 'Ms_FahQ', 'AnsgarTOdinson', 'FoxNews', 'EliseStefanik', 'wernamuh', 'ferocitycap', 'US_FDA', 'POTUS', 'tndy_sntchr', 'NGreat330', 'PJjumpyboi', 'Sandy28195783', 'Local12', 'bessbell', 'Invopay1', 'RepSwalwell', 'aaronhoyland', 'TeamPelosi', 'POTUS', 'BetteMidler', 'MarciaPhyfer', 'samanthamarika1', 'AnaOpp', 'GOP', 'newsmax', 'MarshaBlackburn', 'POTUS', 'GuntherEagleman', 'DeenaKeys', 'RNCResearch', 'CaitJGibson', 'MuellerSheWrote', 'seanhannity', 'JuliePSmith1', 'naomiibclc', 'michaeljknowles', 'kcsf16', 'chasestrangio', 'AmerAcadPeds', 'SenJeffMerkley', 'SecBlinken', 'UN', 'JosepBorrellF', 'JacquiInWI', 'SRuhle', 'JoJoFromJerz', 'BillHagertyTN', 'slimefin', 'SovereignDad', 'ruff2022', 'jennifervandevy', 'DonaldJTrumpJr', 'Jim_Jordan', 'POTUS', 'anthonyzenkus', 'KatTheHammer2', 'KAGMOM2', 'DineshDSouza', 'politico', 'TPostMillennial', 'tempusviators', 'RepValDemings', 'ComixDivision', 'JesseKellyDC', 'crecermarketing', 'POTUS', 'danielmarkhugh', 'MarshaBlackburn', 'MarshaBlackburn', 'HouseGOP', 'patriottakes', 'BreannaMorello', 'Dr0pp0', 'SebGorka', 'IncomeEqualitee', 'BrandotheJDavis', 'BetteMidler', 'CODED0g', 'Mattwo7', 'VikingPolitical', 'Streetsdisple', 'AlwaysThinkHow', 'basedbarboach', 'Sessler', 'jhkayejr', 'Supervenous', 'mikecavalier', 'sssssparkers', 'bikeblisschick', 'Morning_Joe', 'Miral_mira11', 'SecBlinken', 'UN', 'hamill_law', 'JackPosobiec', 'AmerUpdateNews', 'Jim_Jordan', 'Jim_Jordan', 'Stonekettle', 'Reuters', 'EricGreitens', 'KamVTV', 'BobHowa81164100', 'JoeBiden', 'MarkHalperin', 'Estleton12', 'Alex_Panetta', 'CahnEmily', 'AbbottNews', 'TristanSnell', 'nypost', 'marcorubio', 'shebainpdx', 'HawleyMO', 'Purocuyu', 'nytimes', 'JoshShapiroPA', 'kylegriffin1', 'Kathleenona1', 'SenTedCruz', 'RealBetyCardens', 'GabbyOrr_', 'POTUS', 'JoeBiden', 'GovSisolak', 'TimRunsHisMouth', 'RosieM2020', 'LoreyJeanene', 'EliseStefanik', 'EliseStefanik', 'KamVTV', 'Cernovich', 'augustwestfly', 'RonPlacone', 'MariaBartiromo', 'ggreenwald', 'APompliano', 'RepStefanik', 'All435Reps', 'WhiteHouse', 'SandraSentinel', 'HEYDOCGAYE', 'ericswalwell', 'yung1hardaway', 'KashCf', 'DJTIlovemusic', 'SMBerry6770', 'CahnEmily', 'DonaldJTrumpJr', 'crampell', 'jpbiggar', 'cwebbonline', 'BetteMidler', 'SV_108', 'POTUS', 'evanasmith', 'GovAbbott', 'JoeBiden', 'POTUS', 'SpeakerPelosi', 'RepBoebert', 'seanhannity', 'RepBoebert', 'onetermcongress', 'googlenews', 'katiestallard', 'cspanwj', 'Kikokiki_txt', 'thedailybeast', 'VanDevente1', 'JaneVulgamott', 'AChromaticHeavn', 'susanwiliam2022', 'MissElektrik03', 'AndrewYang', 'POTUS', 'gopTODD', 'jacksonhinklle', 'TheView', 'WhoopiGoldberg', 'BillyPetrak', 'Fletch172', 'Malakof5thAve', 'DonaldJTrumpJr', 'grandoldmemes', 'Kimmy113_', 'BetteMidler', 'BetteMidler', 'MarshaBlackburn', 'POTUS', 'donwinslow', 'Morning_Joe', 'XxAnimaTorixX', 'Fam4Fun', 'voxdotcom', 'ChristinaPushaw', 'uckanabe', 'Gistloversblog1', 'bertchintus', 'POTUS', 'DevinCow', 'JudiciaryGOP', 'GOP', 'SenJoniErnst', 'Limbictweets', 'TomFitton', 'JayHSleeper1', 'Fuzzy_Fuzzbutt', 'aorgat', 'FoxNews', 'MarshaBlackburn', 'Guehs8', 'jenduende', 'AlyssaRosenberg', 'PostOpinions', 'CathyRovner', 'Tebuforyou', 'Heritage_Action', 'RandPaul', 'GOPLeader', 'johnrich', 'LeiferHolly', 'stillgray', 'DJTTracker', 'RepMTG', 'rnider', 'hunterzorro2', 'kylegriffin1', 'PeteButtigieg', 'catturd2', 'NickAdamsinUSA', 'RepHarshbarger', 'Timodc', 'sloaneellen', 'scottlincicome', 'CGTNOfficial', 'thehill', 'OklahomaSimone', 'TheeSupaSoka', 'Omar_Ikbal', 'CupofJOE_', 'voxdotcom', 'POTUS', 'SpeakerPelosi', 'HouseDemocrats', 'burn_loot', 'plskrncz', 'KportldyJean', 'newsmax', 'danielledsouzag', 'abarne49', 'TeamMaga45', 'PirateStyle7', 'POTUS', 'i_had_jaundice', 'BigGirl_Val', 'AngieJonesz', 'NPR', 'nypost', 'ConceptualJames', 'ArthurP41275988', 'thehill', 'geraldcelente', 'CheriJacobus', 'strummaster42', 'BIZPACReview', 'BetteMidler', 'ProCanadian5', 'MarshaBlackburn', 'ReallyAmerican1', 'ksbw', 'realconvictdon1', 'realLizUSA', 'POTUS', 'FoxNews', 'BetteMidler', 'DonaldJTrumpJr', 'AbbottNews', 'antifaoperative', 'MayoIsSpicyy', 'McCainSuzanne', 'EliseStefanik', 'DarrellIssa', 'JonathanRStone', 'JohnM53093509', 'ArtValley818_', 'davidmweissman', 'Keggs719', 'shira39503', 'kylegriffin1', '8NEWS', 'TomCottonAR', 'newsmax', 'EliseStefanik', 'MeidasTouch', 'OccupyDemocrats', 'Jim_Jordan', 'matthewstoller', 'MarshaBlackburn', 'MarshaBlackburn', 'kylegriffin1', 'WSJ', 'PeteButtigieg', 'listenup473', 'KaitMarieox', 'AnthonySabol1', 'washingtonpost', 'Grace90831230', 'NARNfan', 'JesseKellyDC', 'AusASEANEAS', 'MITIMalaysia', 'AzminAli', 'AusHCMalaysia', 'DFAT_TradeTalk', 'elonmusk', 'greg_price11', 'laurenboebert', 'EliseStefanik', 'CatPickens', 'laurenboebert', 'seanhannity', 'kayleighmcenany', 'LaraLeaTrump', 'BreitbartNews', 'GOP', 'RepStefanik', 'RepMTG', 'SenateGOP', 'ConversationUK', 'lovethisnation_', 'georgeregnery', 'stealthartkid', 'GabbyOrr_', 'AronBlye', 'MarG_G_Meri', 'Nevermind0987', 'libsoftiktok', 'POTUS', 'FoxNews', 'MyFuckableWife', 'RonFilipkowski', 'RepMTG', 'SamanthaJPower', 'StephenM', 'realDailyWire', 'Oregonian', 'JoeBiden', 'NadiaGronkowski', 'PinkEmperor55', 'papi_demillie', 'Gistloversblog1', 'stuartpstevens', 'glamma2892', 'elonmusk', 'MarshaBlackburn', 'charliekirk11', 'PoliticsTrouble', 'Matt65320420', 'PaddyJoeDalton', 'chefjoseandres', 'elonmusk', 'Holycowbatman1', 'RealizeYour', 'Erulastiel14', 'TimTheEnchantar', 'vet_dot', 'DHarshbargerTN1', 'Fleischma19Mark', 'Esqueer_', 'Roshan_Rinaldi', 'LesterHoltNBC', 'AUG_SciMed', 'Wikweko', 'Kat_Cammack', 'RepMullin', 'TRHLofficial', 'BrookwoodBobby', 'bethanyshondark', 'JesseKellyDC', 'OregonGovBrown', 'ORDOJ', 'ABCPolitics', 'EliseStefanik', 'laurenboebert', 'strummaster42', 'RepFeenstra', 'HeMeme_Man', 'dirty_librarian', 'letoiIe', 'orgfarmer', 'BetteMidler', 'newtgingrich', 'SpeakerPelosi', 'Storm4Congress', 'GOPLeader', 'GOPLeader', 'moehammid1', 'TheBloomington1', 'Ilhan', 'ABC', 'JDCocchiarella', 'AbbottNews', 'MarshaBlackburn', 'Chuck234567890', 'AntinatalistUSA', 'voxdotcom', 'gunnarson_j', 'RepStefanik', 'dub4502245', 'LLORT_A_SEMIT_3', 'HoustonChron', 'CNN', 'diaryofawhitey1', 'owain_wn14', 'dh4onethingonly', 'BootsOma', 'JoeBiden', 'ajlamesa', 'MarshaBlackburn', 'SpeakerPelosi', 'POTUS', 'tedlieu', 'EliseStefanik', 'politicususa', 'Ph_uck_MAGA_ts', 'rose_rybo', 'clhubes', 'newsmax', 'POTUS', 'seanhannity', 'TuckerCarlson', 'GOP', 'HouseGOP', 'ACTBrigitte', 'TwitterMoments', 'BetteMidler', 'ChuckGrassley', 'Linds8314', 'RandPaul', 'Jim_Jordan', 'TomiLahren', 'nodsaibot', 'GiancarloSopo', 'benshapiro', 'RepStefanik', 'NBCNews', 'Jim_Jordan', 'IngrahamAngle', 'mirthblaster36', 'HillaryClinton', 'BobStone3', 'GOPChairwoman', 'Tiffany4444444', 'jimmyfailla', 'Zach_Livingston', 'briantylercohen', 'EmilyBronwen', 'larainefan', 'DoggiePoo3', 'SueHelton12', 'RepAndyBiggsAZ', 'Ismwatcher_up', 'Chicago1Ray', 'dbongino', 'ptwearnhardtfan', 'TheDemocrats', 'POTUS', 'PressSec', 'SpeakerPelosi', 'CBalan010611', 'EliseStefanik', 'ParisHilton', 'RepBuddyCarter', 'cad6711', 'JenniferJJacobs', 'bblock29', 'Slatzism', 'GamebredFighter', 'RepBoebert', 'GOPLeader', 'afbranco', 'LAGOP', 'HouseGOP', 'SenateGOP', 'michaelbushe', 'frown_upside', 'KaivanShroff', 'elonmusk', 'RepAshleyHinson', 'AlexKoppelman', 'donmoyn', 'ilpomodoro2', 'EclecticRadical', 'RepMTG', 'johnlegend', 'ytunderground23', 'teflontelfer', 'MediagirlDc', 'xcharliegoldx', 'MarycabMC', 'FrenchFriedG', 'Thats_Lindsay', 'FoodieBeautyOG', 'mustbepear', 'Rondune774', 'SenSchumer', 'POTUS', 'MustangPrecious', 'ShahidForChange', 'ASavageNation', 'KILM3NY', 'JohnLalor18', 'GOP', 'Kat_Cammack', 'IGN', 'laurenboebert', 'Bs3dn', 'cindyluuwho61', 'BrentCubfan', 'RonMilnerBoodle', 'elonmusk', 'GalimaBarnes', 'Acyn', 'VoteBlue24', 'swole4theprole', 'DonaldJTrumpJr', 'briantylercohen', 'Swagger_Waggon6', 'androjmo', 'RepBrianMast', 'SmellyCat2Sunny', 'MarshaBlackburn', 'atalexander', 'NoLongerBennett', 'braxton_mccoy', 'ceparmele', 'RepMTG', 'AmodeiForNevada', 'nrlc', 'RepSaraJacobs', 'SteveScaliseGOP', 'Saadia___M', 'earthylisa', 'CarignanAbreu', 'Paula_Panda', 'OCDfirecracker', 'jeff_skrentner', 'Yodadio3', 'RinainDC', 'Icoacheducators', 'StephenM', 'EliseStefanik', 'ATimRonan', 'Karlton111', 'MosesModel', 'PointsLaughs', 'BSHerrle', 'JimlikesBB', 'ArtysHouse', 'Yuri_Bezmen0v', 'over23under18', 'FactsAreBiased', 'ArcherBM', 'LadyBB85125431', 'Maxamegalon2000', 'Trek_The_Globe', 'JonRFleming', 'JohnFloridaMan', 'H2Ofountains', 'lostintheburbs', 'michaeltmcc', 'AngryFleas', 'Kelledin', 'LeeGrand18', 'kalymera1960', 'Vincent03409491', 'MiguelR630', 'nygpapi2000', 'breckgirl4ever', 'JustinM11151153', 'okumamac73', 'Robb242', 'NOCwYt', 'vonninnyhammer', 'paulguynj', '4danielgibson', 'OnCableTv', 'actually_thor', 'AlmaBona', 'PootDibou', 'NickDone8', 'teamphil', 'MarkChesney', 'commonpatriot', 'ForrestFernMist', 'StirredCrazy', 'PamelaEdwards', 'Joe__312', 'Mic5check', 'battle_bullshit', 'GeorgeWTrumpWon', 'FighterTh', 'kayewhitehead', 'seanhannity', 'LucasKunceMO', 'newsmax', 'RepMikeJohnson', 'Schilling1776', 'devotaj_arts', 'KenCantrell6', 'michaeljknowles', 'SilksworthPost', 'MSNBC', 'CNN', 'POTUS', 'WhiteHouse', 'JoeBiden', 'JoeBiden', 'beiner5', 'wbir', 'UnitedW22607736', 'Jim_Jordan', 'unusual_whales', 'TomiLahren', 'JavierMc_Style', 'POTUS', 'Kay17591004', 'KeithOlbermann', 'JoeTalkShow', 'JerryMoran', 'Jorsch2R', 'DarlaStephen2', 'RonFilipkowski', 'Sen_JoeManchin', 'SenJohnKennedy', 'SenTedCruz', 'SenRandPaul', 'GinaAvondo', 'patrick_rizzo10', 'JoJoFromJerz', 'JackassWisperer', 'GOPChairwoman', 'marklevinshow', 'EliseStefanik', 'rosemhook', 'RNCResearch', 'phyllyla', 'newsmax', 'bly_nell', 'RepMTG', 'sophiesmomrocks', 'RNCResearch', 'GOP', 'newsmax', 'SRuhle', 'DrSNWilson', 'GOPChairwoman', 'Stonewall1776', 'RepMTG', 'Victayree', 'Mike_chen2', 'foster_type', 'jefftimmer', 'Altair4_2381', 'Karnythia', 'NoLieWithBTC', 'IlhanMN', 'GOP', 'FoxNews', 'karol', 'tedcruz', 'CNN', 'BrianToddCNN', 'BuzzFeed', 'HoosierRebel44', 'JudiciaryGOP', 'NolteNC', 'BreitbartNews', 'POTUS', 'LeachAtTheBeach', 'FoxNews', 'dstoneri22', 'GraceJoyPeace55', 'BreitbartNews', 'RepSwalwell', 'NicolaSturgeon', 'Nespresso', 'RepMTG', 'SenRonJohnson', 'JackPosobiec', 'EduEngineer', 'tedcruz', 'zorichcd', 'JesseKellyDC', 'BonginoReport', 'MandyConnell', 'TubbsShow', 'KatiePavlich', 'nathaliejacoby1', 'Floridianpress', 'FoxNews', 'SteveHofstetter', 'joncoopertweets', 'JudiciaryGOP', 'Jim_Jordan', 'seanhannity', 'TuckerCarlson', 'IngrahamAngle', 'SpeakerPelosi', 'EdLaborCmte', 'BobbyScott', 'TheRickWilson', 'Lisa_Matassa', '13Heroes', 'KIR_bigg50', 'KatyMiller100', 'catturd2', 'MarshaBlackburn', 'jackikotkiewicz', 'GOP', 'FiatLuxGenesis', 'cpat3188', 'RonFilipkowski', 'WhiteHouse', 'daveaitel', 'VintageFede', 'mitchellreports', 'fezcoki1', 'chrismoonusa', 'sketerdavids0n', 'healingwithluv1', 'KekePalmer', 'VICENews', 'FoxNews', 'MarkJacob16', 'Jim_Jordan', 'RepStefanik', 'lukei4655', 'GOPChairwoman', 'POTUS', 'melina_lacy', 'doc_singing', 'Faithfulone77', 'BIZPACReview', 'gatewaypundit', 'Johanne31785773', 'Cernovich', 'Jim_Jordan', 'GOP', 'Cevasco_Carla', 'OANN', 'MysterySolvent', 'voxdotcom', 'zoonotic1', 'DrJBhattacharya', 'GidMK', 'drg1985', 'tdarthur', 'LByock', 'joaintcrazy', 'DondlePercy', 'DanieTHBee', 'linnen_renee', 'Daytobehappy', 'MSNBC', 'MaddowBlog', 'scttfrnks', 'BullyMaus', 'Jim_Jordan', 'kelliwardaz', 'ptcl22', 'jesse_marionea', 'JoeBiden', 'BernieSanders', 'AOC', 'SpeakerPelosi', '_douxberry', 'SRuhle', 'CassandraRules', 'TheLeoTerrell', 'Katiepapa75', 'AustinScottGA08', 'POTUS', 'FLOTUS', 'VP', 'HHSGov', 'NamelessCynic', 'lorriannbrewer', 'marcorubio', 'SJSBuchanan', 'PeteSouza', 'TheLeoTerrell', 'KitOlson27', 'ericswalwell', 'GOP', 'bethanyshondark', 'Jim_Jordan', 'ldrntexas', 'MarTheResister', 'elonmusk', 'italinquen', 'RepMTG', 'Miller_time_FL', 'alfajorcita', 'OlafFub4Prez', 'PeopleofNY27', 'ipostnews', 'JimHeaney', 'Samanth48487861', 'MichaelJStern1', 'MarshaBlackburn', 'OhNoItsCorso', 'JedArnett1', 'MarlonCTaylor', 'pdoocy', 'jrpsaki', 'VillaKathleen', 'OutlawRider6', 'susanszil', 'ArchCordileone', 'younited2016', 'SecretaryPete', 'FOX13News', 'DanODonnellShow', 'POTUS', 'TheBabylonBee', '1love1struggle', 'LHDavis2209', 'quintabrunson', 'reneemize3', 'StephenM', 'GooseSprngsteen', 'WendyHarmon19', '1crzydg', 'NoLieWithBTC', 'marcorubio', 'Twitter', 'kofleor', 'LynnLuck4', 'qiqis1mpact', 'SophieTews', 'Esqueer_', 'IckisLickus', 'fred_guttenberg', 'RoeCamie', 'POTUS', 'NoLieWithBTC', 'zerohedge', 'FoxNews', 'HillaryClinton', 'RealMacReport', 'JesseKellyDC', 'AshleyRParker', 'michaelscherer', 'Kat_Cammack', 'EliseStefanik', 'GamebredFighter', 'RepMTG', 'laurenboebert', 'RepJasonSmith', 'SenSchumer', 'Cernovich', 'brianschatz', 'libsoftiktok', 'KING5Seattle', 'Rob_roborob', 'RepBoebert', 'USATODAY', 'adamace25', 'BartiromoChaz', 'CNN', 'spurlworld', 'dbongino', 'seanhannity', 'LindseyGrahamSC', 'FoxNews', 'RepMTG', 'LionBlogosphere', 'Paulaballa954', 'cmnsenselady', 'perrymetzger', 'Get_Smarter', 'JeremyRyanSlate', 'HotepJesus', 'HotepJesus', 'Crisco214', 'SenatorTimScott', 'NajoeMonique', 'jakeshieldsajj', 'Drnicolecb', 'agraybee', 'brooklynbird', 'weirdowoman24', 'Cevasco_Carla', 'mittjg', 'jayme4congress', 'WSJopinion', 'ManvelMom', 'DianeMa56751224', 'RepSwalwell', 'statesman', 'dagenmcdowell', 'RonFilipkowski', 'Jim_Jordan', 'GovAbbott', 'GOP', 'Cernovich', 'DineshDSouza', 'MailOnline', 'thecitizeNY', 'seanhannity', 'nobodytrickedme', 'tropichef', 'marcorubio', 'GOPLeader', 'Change', 'GOP', 'Kat_Cammack', 'MaajidNawaz', 'EpochTimes', 'HawleyMO', 'broadcastben_', 'GovernorVA', 'POTUS', 'tonybellerose', 'Jim_Jordan', 'SenTedCruz', 'MarshaBlackburn', 'GOP', 'astute_american', 'kim_because', 'JaneKn0wsBest', 'mirandaisrisen', 'ThinkyTexan', 'RFirethief', 'dcffk', 'cathworkingmom', 'Newnameel', 'DaethSerina', 'MurphyYuiko', '666Dark6ness666', 'Ellies2ndaccnt', 'Constance_1844', 'AmSheiTheDragon', 'moonblast2001', 'Sange1962', 'PLPercussionist', 'pixposies', 'LiamDan008', 'thetoyman1', 'GayleKing', 'BreitbartNews', 'AbridgedThe', 'heathernwi', 'WestJournalism', 'amidala64', 'TomiLahren', 'ASoftstar', 'googlenews', 'libsoftiktok', 'BetteMidler', 'elonmusk', 'DrBethebel', 'KIRO7Seattle', 'JoeBiden', 'reallygraceful', 'IUsedToBeALib', 'ChristinaPushaw', 'TheQuartering', 'cenkuygur', 'EricMMatheny', 'Sen_JoeManchin', 'petercoffin', 'USDA', 'stacyhrae', 'POTUS', 'Patrici30423853', 'reallyritakay', 'fritzinmo', 'GOPLeader', 'marklevinshow', 'gatewaypundit', 'embean', 'briantylercohen', 'WhiteHouse', 'YouTube', 'GOP', 'HouseGOP', 'SenateGOP', 'GOPLeader', 'LeaderMcConnell', 'nap___queen', 'Gravelle2018', 'briantylercohen', 'ashertheowl', '6usmc1', 'JordanSchachtel', 'ElectionWiz', 'KabrinaKay', 'Mirexshotz', 'jcu412', 'pinkbbyhoney', 'spicyghouI', 'Kenneth33071904', 'MrsDixsonGrimes', 'lolacoaster', 'RozzaKat13', 'seminoetic', 'RepAndreCarson', 'GovWhitmer', 'carrieb0351', 'Acyn', 'EliseStefanik', 'POTUS', 'realDailyWire', 'DavidMc23698569', 'jabmcfate', 'AllyneLloyd', 'ACTBrigitte', 'WhiteHouse', 'jaywillis', 'NewAbnormalPod', 'MollyJongFast', 'andylevy', 'ChampagnePlants', 'thesomarylander', 'FoxNews', 'VP', 'LqLana', 'oclocal_ami', 'JenSiebelNewsom', 'GavinNewsom', 'LifeLibertyEvan', 'UPI', 'RBReich', 'Proud_Rep', 'RedState', 'catturd2', 'bigcedargirl31', 'POTUS', 'RepAshleyHinson', 'SwainForSenate', 'CritFacts', 'FKASerioJosh', 'MeToobirdy', 'licoricetick', 'pileapop', 'SculleryT', 'JudgeClayJ', 'GovAbbott', 'GMA', 'AbbottNews', 'POSITIVITYinPPL', 'NBCNews', 'RepMTG', 'TaskandPurpose', 'CSojourner', 'Dotty46165851', 'LoveVDone', 'JaneTea4', 'FoxNews', 'jenresisted', 'briantylercohen', 'ShelKel2', 'SpeakerPelosi', 'IngrahamAngle', 'NYCMayorsOffice', 'NYCMayor', 'CentralParkNYC', 'nilerodgers', 'KurtSchlichter', 'aliblack', 'EliseStefanik', 'DanRather', 'kdnerak33', 'DevinTinnell', 'dbfortn', 'ewarren', 'ReneeAlida', 'newsmax', 'realLizUSA', 'PrimodaCovid', 'emmett_desiree', 'kayleighmcenany', 'RepMTG', 'TeamPelosi', 'AmericaNowFirst', 'GeoffRBennett', 'wendyp4545', 'pull_up_poofs', 'GOPChairwoman', 'realspaceblatt', 'Acyn', 'GOPChairwoman', 'POTUS', 'MotherJones', 'stephrenee81', 'RepMTG', 'sanjayanetwork2', 'USATODAY', 'RepMTG', 'StephenM', 'SenTedCruz', 'HSJForCongress', 'RealMayraFan', 'Acyn', 'RckyMtnBckpckr', 'POTUS', 'BreitbartNews', 'ABCNetwork', 'TheView', 'JoeBiden', 'HalRogersKY5', 'SenBobCasey', 'All100Senators', 'POTUS', 'LynneReed19', 'RepMTG', 'LePapillonBlu2', 'JoJoBir99279385', 'nowthisnews', 'RepPressley', 'RepLoriTrahan', 'RepKClark', 'HogfanTn', 'Lady_Star_Gem', 'JaredStuart11', 'JDCocchiarella', 'KAKEnews', 'tmboser', 'DanScavino', 'DynastyTheorist', 'diannaj_007', 'Public_Name_Req', 'claireballor', 'maringwolf', 'erinbooke', 'dallasnews', 'laurenboebert', 'ACTBrigitte', 'RepMTG', 'jrpsaki', 'BarbByrum', 'JackBergman_MI1', 'billhuizenga', 'LisaForCongress', 'VoteMeijer', 'JohnMoolenaar', 'TimWalberg', 'shamrahFSM', 'WTeach2', 'SenWarren', 'IreneWh19320068', 'JimlGENTRY1', '___lor__', 'ACTBrigitte', 'marklevinshow', 'RepMTG', 'Varneyco', 'RepSteveChabot', 'DonaldJTrumpJr', 'MorningsMaria', 'RepKatCammack', 'MariaBartiromo', 'FoxBusiness', 'RepAdamSchiff', 'ZelenskyyUa', 'DDiggler2023', 'DemandHacker', 'RNCResearch', 'StephenM', 'RepTimRyan', 'Acyn', 'KingOfCupsMgmt', 'jacob_richman', 'ericfizer', 'MarshaBlackburn', 'TheAtlantic', 'GOPChairwoman', 'SpeakerPelosi', 'SpeakerPelosi', 'JennaEllisEsq', 'ihnoot', 'slprevette', 'KittyVanDerPoof', 'NBSaphierMD', 'KATUNews', 'DolciStacy', 'NBCNews', 'JuliusGoat', 'perfect_vision_', 'POTUS', 'BillOReilly', 'NoSpinNews', 'DonaldJTrumpJr', 'TeaPainUSA', 'Roberts175', 'RN549', 'GOPChairwoman', 'JackMurphyRGR', 'lhfang', 'BagdMilkSoWhat', 'isgoodrum', 'intercosmonaut', 'MarshaBlackburn', 'EricGreitens', 'JoeSpectorNY', 'repdarrellissa', 'Marytru52', 'happycrazytown', 'Jim_Jordan', 'henryporter24', 'ChiActivist312', 'AlexMarlow', 'BreitbartTech', 'carney', 'MailOnline', 'newsmax', 'RubinReport', 'realDailyWire', 'mspoint1106', 'MSNBC', 'CNN', 'SaintDonald45', 'POTUS', 'FoxNews', 'MarshaBlackburn', 'nys_cannabis', 'RochesterChambr', 'CPeoplesStokes', 'laurenboebert', 'fractalfrogJRT', 'PMC_Sunshine', 'Sblahov', 'RepStefanik', 'SnowEliora', 'FLOTUS', 'Surgeon_General', 'selenagomez', 'AmbRice46', 'MTV', 'hhs', 'BillHanage', 'JenniferNuzzo', 'ShikhaJainMD', 'ewarren', 'BigBoobs_Milf', 'KamalaHarris', 'ChanelRion', 'HoosierRebel44', 'RepMTG', 'HoosierRebel44', 'FoxNews', 'MarshaBlackburn', 'VoteBluePA', 'RepSwalwell', 'HouseGOP', 'RepMTG', 'January6thCmte', 'RepLoudermilk', 'BernieSanders', 'LiVe2DaNceATL', 'QPortunia', 'KamVTV', 'LoriLightfoot', 'POTUS', 'benshapiro', 'Jim_Jordan', 'realjordan_M', 'KYShamrock721', 'Animaleyz', 'JenniferShutt', 'PressSec', 'villana1926', 'TheDemocrats', 'FoxNews', 'TheFive', 'JesseBWatters', 'seanhannity', 'TuckerCarlson', 'IngrahamAngle', 'RepStefanik', 'DevinNunes', 'GOPChairwoman', 'GOPLeader', 'SenTedCruz', 'RonDeSantisFL', 'DonaldJTrumpJr', 'glennbeck', 'larryelder', 'JoePiscopoShow', 'foxnewsradio', 'SenJohnKennedy', 'MDaware', 'jessicashortall', 'WFKARS', 'WorldPeace33334', 'GeraldoRivera', 'Gatorade', 'laurenboebert', 'POTUS', 'Kaceesthoughts', 'RepStefanik', 'stillgray', 'owillis', 'N76247476Man', 'bharris1968', 'MarshaBlackburn', 'BellaDawn01527', 'cspan', 'SpeakSamuel', 'HouseGOP', 'FoxNews', 'GOP', 'Krystal33229521', 'joncoopertweets', 'Loralei_leigh', 'GOPLeader', 'POTUS', 'dwayne_barger', 'tom_wellborn3', 'MarshaBlackburn', 'POTUS', 'RizomaSchool', 'marcorubio', 'GOPPolkFL', 'TeamMarco', 'queen0fheathens', 'POTUS', 'MarcusPun', 'MotherRiverZen', 'ibukacca21', 'carlquintanilla', 'WhiteHouse', 'tpgkag1', 'IngrahamAngle', 'costakonti1', 'JesseKellyDC', 'ACTBrigitte', 'WintSunshine', 'Willigale3', 'HoosierEm', 'patriottakes', 'dreamforlittles', 'Truckster_Dad', 'GOP', 'DonaldJTrumpJr', 'GOP', 'HouseDemocrats', 'GOP', 'FitFounder', 'HouseGOP', 'RepMTG', 'nanwhaley', 'BernieSanders', 'daveweigel', 'Here4TheC00k13s', 'KCBSRadio', 'MichaelBasing78', 'AnnieAndrewsMD', 'RepMTG', 'WSJ', 'DashDobrofsky', 'JDCocchiarella', 'RepMTG', 'jrpsaki', 'liora62', 'backtolife_2022', 'DanaLoeschRadio', 'laurenboebert', 'DLoesch', 'RadioAmericaNet', 'MarkWarner', 'wilxTV', 'nprpolitics', 'YouTube', 'CNN', 'KillerkattArt', 'lastpositivist', 'TomCottonAR', 'ArtValley818_', 'whatgives1313', 'BeachgirlinCT', 'angrybklynmom', 'RubenGallego', 'RepSwalwell', 'Charles80803419', 'DrMRK7', 'mrs_bloomberg', 'BetteMidler', 'willchamberlain', 'HouseGOP', 'Real_Elan_Musk', 'GOP', 'wa_beaver', 'JohnM53093509', 'JackPosobiec', 'ksorbs', 'CurtisHouck', 'marykbruce', 'PeteButtigieg', 'StephMillerShow', 'CoHortalez', 'ACTBrigitte', 'aleepadilaaa', 'RNCResearch', 'HerreraBeutler', 'robreiner', 'outinspace76', 'Rindie611', 'ericswalwell', 'DrGJackBrown', 'Jim_Jordan', 'RepPatFallon', 'HillaryClinton', 'glennbeck', 'theblaze', 'thehill', 'TimRunsHisMouth', 'FactMinistry', 'HouseGOP', 'RepBice', 'GeraldoRivera', 'GOPLeader', 'MarnaNightingal', 'DPGRAY1962', 'JuddLegum', 'ProustLisa', 'DAAAAMN_GINAA', 'libsoftiktok', 'POTUS', 'POTUS', 'AliMayorkas', 'DHSgov', 'RepSwalwell', 'HouseDemocrats', 'HouseGOP', 'FoxNews', 'foxandfriends', 'GOP', 'isomerik', 'AmandaLeftCoast', 'HayMan85241181', 'MarshaBlackburn', 'POTUS', 'RepMTG', 'SpeakerPelosi', 'dbongino', 'TheAcsMan', 'therecount', 'RandPaul', 'MeetThePress', 'chucktodd', 'POTUS', 'TaylorSwift', 'mkraju', 'POTUS', 'cubanita356', '_BlackWellness_', 'IamtheLZ', 'AbbottNews', 'zerohedge', 'POTUS', 'realDailyWire', 'boldbrains', 'IAPolls2022', 'therecount', 'ABC', 'BetteMidler', 'heyblackmom', 'DonaldJTrumpJr', 'JackPosobiec', 'RepMTG', 'marklevinshow', 'JacobYusufov', 'elonmusk', 'ChuckGrassley', 'StephenKing', 'RepMTG', 'dbongino', 'juliecbarrett', 'mikepompeo', 'WFKARS', 'briantylercohen', 'joncoopertweets', 'GOP', 'SenateGOP', 'HouseGOP', 'GOPLeader', 'LeaderMcConnell', 'GOPChairwoman', 'jvq', 'abcrothers', 'political_alert', 'ScottMorrisonMP', 'bttrfly76', 'ChuckGrassley', 'KevinCSullivan', 'RAZ0RFIST', 'MozFrame', 'JesseKellyDC', 'romantic_drift', 'ENBrown', 'HouseGOP', 'DanCham03014042', 'leo31bush', 'FoxNews', 'karol', 'T_OConnell', 'RandPaul', 'JohnFugelsang', 'laurenboebert', 'elonmusk', 'POTUS', 'evanasmith', 'GovAbbott', 'JoeBiden', 'POTUS', 'Mazzola___', 'AmandaMarcotte', 'paulanoukas', 'ChristianWalk1r', 'POTUS', 'JoeBiden', 'FoxNews', 'ElectionWiz', 'SL_Jaycee', 'zerohedge', 'BreannaMorello', 'Acyn', 'GOP', 'ChristinaHaas17', 'RepStefanik', 'RepSwalwell', 'DamienLDJohnson', 'TheRonboe', 'RinainDC', 'SenateGOP', 'GOPLeader', 'LeaderMcConnell', 'AP', 'TAMU', 'uflorida', 'dudenameddino', 'jessicai917', 'PalmerReport', 'Jim_Jordan', 'JackPosobiec', 'KAGSnews', 'JoshuaPotash', 'NoahTzedek', 'RepMTG', 'impliedChoppy', 'RadioGuyChris', 'POTUS', 'kvanaren', 'shantilly_t', 'Breaking911', 'POTUS', 'EliseStefanik', 'DoombergT', 'awkward_kc', 'breedsomebees', 'GramPepe1', 'LeaderMcConnell', 'flower_and_vine', 'traceyleighb', 'MooreSurg100', 'catturd2', 'mkraju', 'BittyBo92340678', 'FoxNews', 'MarshaBlackburn', 'Kat_Cammack', 'RepStefanik', 'NelsDer', 'benz_miles', 'samstein', 'GregAbbott_TX', 'RepMTG', 'jrpsaki', 'shongables', 'rolandsmartin', 'cbs46', 'TeamPelosi', 'TheCutestWaifu', 'AlexW991', 'GuhlMike', 'PDMusk32', 'pattonoswalt', 'pegobry', 'In2TheMystic111', 'GOPChairwoman', 'Caniretireyet12', 'mommamia1217', 'RepStefanik', 'GOPChairwoman', 'tedcruz', 'MichelleKinney', 'TheRickWilson', 'LangmanVince', 'americanwire_', 'BLaw', 'RWPUSA', 'TomCottonAR', 'WanderW83777213', 'millanpatterson', 'JoeBiden', 'MarkHertling', 'WHCOS', 'FLOTUS', 'RonFilipkowski', 'Salon', 'wkyc', 'JesseKellyDC', 'RepMTG', 'SenJohnThune', 'Maria39192718', 'AlicSmart22', 'RepMTG', 'SpeakerPelosi', 'christieoctave', 'RobertH94241674', 'Jim_Jordan', 'himat900', 'UNAMAnews', 'UNICEFAfg', 'UAEAid', 'KSAmofaEN', 'US4AfghanPeace', 'CNN', 'AngryCardio', 'Dan41751200', 'KevinLibeling', 'itsJeffTiedrich', 'NBCDFW', 'AmeliaImpulsive', 'LindeEffect', 'loveUSAMAGA', 'BreastMilkEnjyr', '_celia_bedelia_', 'catturd2', 'AmerAcadPeds', 'SareEmm', 'leslibless', 'TimRunsHisMouth', 'wildcurlgirl', 'LizbethsTweets', 'ScottLeeBooks', 'RepDustyJohnson', 'GOPLeader', 'US_FDA', 'seanfeucht', 'JBurt73', 'usatodayopinion', 'RexHuppke', 'CNNPolitics', 'Amanda06633260', 'Warrior2028Adam', 'GeorgeTakei', 'RonFilipkowski', 'MrKdub', 'JeffreyPeel', 'ericswalwell', 'Richa_Writes', 'LisaBaertlein', 'MDHealthDept', 'DonaldJTrumpJr', 'Jim_Jordan', 'Chill1593', 'MamaTr1ed', 'ch_uff', 'RepChrisStewart', 'SenSchumer', 'LeaderMcConnell', 'stephenfgordon', 'mchooyah', 'POTUS', 'JoeBiden', 'CNN', 'JaquePierre4', 'KerryOLeary4', 'MarvinRJeffcoat', '8BrianVogel4', 'MatrixSimulated', 'CalvinE43701301', 'nicher66', 'JimBowersclimb', 'USAintheRGV', 'T_WJackson', 'TiwannaRN42', 'Quin4Trump', 'SlaterBrowne', 'keepitwilder', 'Wahboom', 'TriciaB27424971', 'shplinters', 'DorisMele', 'robcarlson20', 'B26Rick', 'Apritions', 'GinaRankin6', 'LiveinaRepublic', 'Douglashicks63', 'kcinor', 'DarrellBuckne13', 'yvonnecar20', 'CrabbyMilton', 'absolutelywoman', 'mimisweetpawss', 'sherry2diamond', 'marvin_hill123', 'NoBulls55224206', 'ImJustDebi', 'dan75198621', 'SouthernElixer', 'dorthy_fromoz', 'TAnthonyPotter', 'Peanut44546416', 'WonderWoman024', 'Michel78118339', 'dulcieburt', 'nuff_haddie', 'ownlylivinboyNY', 'ZupancicJareen', 'Brendabcdefghi', 'wendyp4545', 'Rev74205', 'Darfinity', 'Jan6thFalseFlag', 'NBCNews', 'SenTedCruz', 'EliseStefanik', 'anaestradav', 'Person80460776', 'MattWalshBlog', 'ericswalwell', 'GovAbbott', 'BPUnion', 'MarshaBlackburn', 'sattfly', 'EliseStefanik', 'All435Reps', 'johnrich', 'greggutfeld', 'Rafaelvigo4', 'hbottemiller', 'erindataviz', 'datasembly', 'SarahKSilverman', 'kellyfphares', 'thetoyman1', 'marklevinshow', 'thehill', 'V_its_me888', 'DanielleEsposti', 'chasestrangio', 'MsAvaArmstrong', 'JDCocchiarella', 'Ziohater', 'Local3News', 'POTUS', 'joerogan', 'SRuhle', 'HouseGOP', 'RepFeenstra', 'POTUS', 'GregAbbott_TX', 'WhiteHouse', 'RNCResearch', 'GOPChairwoman', 'navium_exuro', 'accidental_tica', 'Book_Lady_127', 'aubreyhirsch', 'angephalange', 'abmoser88', 'SRuhle', 'MeganLeazes', 'SRuhle', 'slipknothooh', 'DNDTHEBAND', 'elonmusk', 'FoxNews', 'Kat_Cammack', 'HunkMuraco', 'LucyDunagan', 'WhiteHouse', 'TheLeadCNN', 'djrothkopf', 'RepJayapal', 'BigBoobs_Milf', 'SteveSchmidtSES', 'SarahPalinUSA', 'MCS_BlueVoter', 'Liz_Cheney', 'Amy_Siskind', 'GOP', 'ryanciminski', 'teachique', 'LawrenceLogic1', 'Jim_Jordan', 'RepMTG', 'JoeBiden', 'CoryMillsFL', 'Sheil92058061', 'RealAnnieBlack', 'HuskerKevWWE', 'DarioVizcaino3', 'JDCocchiarella', 'nypost', 'karenalainehunt', 'krystalball', 'CanuckINDallas', 'GlobeKPD', 'RoyJone79070983', 'joeybaggadonuzz', 'Jim_Jordan', 'americanwire_', 'News12NJ', 'TomCottonAR', 'Daniel_E1992', 'RoadsideMum', 'MelChap0', 'RepMTG', 'LPofCT', 'pegobry', 'MSNBC', 'MailOnline', 'market_moron', 'nytimes', 'EliseStefanik', 'GovInslee', 'FoxNews', 'RNCResearch', 'USATODAY', 'dcconsulting4', 'TwitchyTeam', 'dkr_45', 'CNNPolitics', 'KellyJean80', 'JessOwensYoung', 'saragoldrickrab', 'MsAvaArmstrong', 'InsiderNews', 'doctoralexa', 'SenJeffMerkley', 'SecBlinken', 'UN', 'JosepBorrellF', 'JeremyRedfernFL', 'US_FDA', 'RepMTG', 'JoeBiden', 'BreitbartNews', 'JoeBiden', 'CurtisHouck', 'edokeefe', 'truthspeaker22', 'SecretaryPete', 'lisamurkowski', 'DblocDunks', 'DonaldJTrumpJr', 'realLizUSA', 'BreezyScroll', 'ericswalwell', 'ActuallyLipski', 'MonicaCrowley', 'LeaderMcConnell', 'ConceptualJames', 'slvrbltbeergirl', 'US_FDA', 'marcorubio', 'POTUS', 'charliespiering', 'redsteeze', 'Jim_Jordan', 'IngrahamAngle', 'PennLive', 'zerohedge', 'Loisco', 'Transparentfact', 'Dannauchnicht', 'Annitzky', 'LiviaClauss', 'DonaldJTrumpJr', 'Charvettebey', 'RFERL', 'EliseStefanik', 'College_szn', 'TheBlackLayers', 'FoxNews', 'jesseprimetime', 'MN_Kel', 'BetteMidler', 'NBCNews', 'GOP', 'mysticslibrary', 'WhiteHouse', 'POTUS', 'pressec', 'jrpsaki', 'JoeBiden', 'FoxNews', 'TheFive', 'DonaldJTrumpJr', 'GOP', 'POTUS', 'PressSec', 'stillgray', 'DruidActual', 'Marikke8', 'Lukewearechange', 'POTUS', 'marcorubio', 'christi4356', 'jrodimon', 'SarahjaneSquad', 'NoLieWithBTC', 'keegan_tweets', 'MondeBoeuf', 'mj_lee', 'maggieNYT', 'JDiamond1', 'FitzFox5DC', 'fox5dc', 'dcdiaperbank', 'WorksNewAgeUSA', 'TeamPelosi', 'JoyAnnReid', 'laurenboebert', 'MeidasTouch', 'Kathy4Truth', 'JackPosobiec', 'Jim_Jordan', 'ivylarsen', 'jepersing', 'GOP', 'PARISDENNARD', 'foxnewsnight', 'brookeaat', 'JoeTalkShow', 'johnlegend', 'NPR', 'Mrcarmie', 'vincent_vangoat', 'SanchezMamacita', 'RebelleDeja', 'Kraiger2', 'helovesbrat', 'DondlePercy', 'linnen_renee', 'SenJoniErnst', 'FoxNews', 'MELANIATRUMP', 'FLOTUS', 'MELANIATRUMP', 'ElyKreimendahl', 'POTUS', 'cwebbonline', 'Jessicam6946', 'YunhoThatsWut', 'wolfpox', 'Vanessa_ABee', 'RepDanBishop', 'RepDanBishop', 'robertalives', 'ABC30', 'Deb04585800', 'stmdc', 'ClaraJeffery', 'KUSINews', 'NewHampJournal', 'kilmeade', 'foxandfriends', 'Betsy_Ross76', 'ArapahoeSO', 'Jim_Jordan', 'TexasMooseMan', 'jessepstein', 'girlziplocked', 'gobrandongo1', 'AJBayatpour', 'bone00afide', 'LeaderMcConnell', 'RepSwalwell', 'HouseDemocrats', 'HouseGOP', 'IsaacStrycker', 'FoxNews', 'LiberalDogMom', 'RepStefanik', 'BetteMidler', 'any_minute_now', 'sarahmsheehan1', 'Graycie1970', 'tunes4karlak', 'HLeluga', 'VelvetBennett6', 'StarimusArt', 'VintageMom17', 'Prolife_Sam', 'treesnbeezzz', 'DonaldJTrumpJr', 'AaronParnas', 'Spike19621', 'AttyAbdul', 'DonaldJTrumpJr', 'TennesseeBoy8', 'thehill', 'hstgerard', 'KevinMKruse', 'RepMikeJohnson', 'TheRickyDavila', 'AnubusIIMD', 'seanhannity', 'AbbottNews', 'almostjingo', 'jrpsaki', 'Bubblebathgirl', 'POTUS', 'joled16', 'realTuckFrumper', 'WTP_USA1', 'PammsyB', 'BarbenCrotts', '_______KMD', 'Ann_Elizabeth65', 'DonaldJTrumpJr', 'katiephangshow', 'ravenl20', 'Kat_Cammack', 'kylegriffin1', 'DanRather', 'Jim_Jordan', 'MailOnline', 'czechnologist75', 'RepThomasMassie', 'realDailyWire', 'kris_kinder', 'redsteeze', 'scary_monstrs', 'JasonPTortorici', 'ScottPresler', 'SRuhle', 'ElieNYC', 'ECMcLaughlin', 'hackerfantastic', 'StellaTessler', 'ericswalwell', 'Kat_Cammack', 'VP', 'SRuhle', 'JoePiscopoShow', 'JrzyJoePiscopo', 'susanwiliam2022', 'gutgremlins', 'krystalball', 'HawleyMO', 'EliseStefanik', 'SenSchumer', 'ChicagoFed', 'WhiteHouseCEA', 'dbongino', 'realDailyWire', 'Jonboy19541', 'LivePDDave1', 'theformulamom', 'esaagar', 'FoxNews', 'KaitMarieox', 'KaitMarieox', 'JosephineKohlh1', 'BootsOma', 'RiverLevon', 'TPostMillennial', 'aussielovesyou', 'PhilJC2', 'pberginc', 'MisterGroyper', 'JoshShapiroPA', 'AP_1776', 'conservmillen', 'APerson55668161', 'LeaderMcConnell', 'FoxNews', 'BretBaier', 'SenSchumer', 'SenJeffMerkley', 'SecBlinken', 'UN', 'JosepBorrellF', 'gatewaypundit', 'laurenboebert', 'aubreyhirsch', 'veiy_a', 'kitsune_jenna', 'TS_WorldTravel', 'POTUS', 'Booker4KY', 'AaronParnas', 'RepKatCammack', 'bsurveillance', 'tomkeene', 'Jim_Jordan', 'jennifervandevy', 'DonaldJTrumpJr', 'TheLeoTerrell', 'tjtrout1', 'OKPoliticalMeme', 'GraceAl38236563', 'WhiteHouse', 'MarshaBlackburn', 'TruthSeiker', 'FoxNews', 'JoeBiden', 'Patharveynews', '11', 'CBSLA', 'nypost', 'drscottjensen', 'BirkMatt', 'rishober', 'bearshark8', 'RigelOrionBeta', 'OHioNO', 'thrasherxy', 'RepGregSteube', 'sherilla4', 'AllenHaddick', 'JaysDomain', 'freedomspeech50', 'DonaldJTrumpJr', 'RepBoebert', 'Yahoo', 'kylegriffin1', 'FoxNews', 'PolReader', 'commercedems', 'SecretaryPete', 'USDOT', 'POTUS', 'JoePiscopoShow', 'jsolomonReports', 'JrzyJoePiscopo', 'transmedbiomed', 'BeerInStemGlass', 'Vera_Lustig', 'ShahrarAli', 'ThomasCango', 'FoxNews', 'jesseprimetime', 'mysuncoast', 'RonFilipkowski', 'JDiamond1', 'laurenboebert', 'elonmusk', 'BJDennisJr', 'Maryannmme', 'TimRunsHisMouth', 'laurenboebert', 'POTUS', 'Suskat', 'KatiePavlich', 'JNzlstar', 'TheRealHoarse', 'fred_guttenberg', 'PalmerReport', 'POTUS', 'SecretaryPete', 'mchooyah', 'Yamitora1', 'mkraju', 'GOP', 'FoxNews', 'TrumpTrain_News', 'JLenardDetroit', 'bitemecommies', 'anja_weimer', 'Quin4Trump', 'DamonCross11', 'sig_new', 'AdorablePups5', 'FaleroJr', 'OldPrague', 'dtordtor2', 'KeecoWang', 'Lauria1960', 'kcinor', 'Larryputt', 'traveler002', 'CanYouHearMeN15', 'ukraine__lady', 'LaughTrackItsT1', 'kennysm91297483', 'Americanism37', 'MarilynLavala', 'cutiemcbeal01', 'Tom_Neverwinter', 'FLMrs4TRUMP', 'GraceFreeTI2022', 'Bob30716413', 'nightwarrior603', '2020_Vision_', 'VRadke', 'Conservgurl28', 'MysticArrow8', '1838FreemanRob', 'JoanneLuvsGod', 'PMaryTimo1', 'acs_xrp', 'ernestleenot', 'Rosa57320797', 'HarryMi47749146', 'KesselMatty', 'qfd_bruce', 'satansradio666', 'jddoug', 'Moxystar2', 'MyQueenRedVenus', 'WhalenMona', '777SpiritDreams', 'AntiProgreWorld', 'Erica7016', 'JackieK10125838', 'Kendall_K22', 'GOPLeader', 'SenateGOP', 'HouseGOP', 'JoeBiden', 'jrpsaki', 'Titizma1', 'MarshaBlackburn', 'OnceandfutureQF', 'WaltonFA', 'ElAmerican_', 'ChuckCallesto', 'TravisLeeThali1', 'BuzzPatterson', 'MoistenedTart', 'FrancisBrennan', 'EliseStefanik', 'allisonroyaltv', 'AmericanGal2021', 'Jim_Jordan', '_WithAnS', 'RepThomasMassie', 'Marcus4Georgia', 'keathley_anna', 'FoxNews', 'TuckerCarlson', 'Acyn', 'ENBrown', 'Bear373', 'MartyMakary', 'amyklobuchar', 'TheLastRefuge2', 'riv931964', 'AConcernedPare2', 'KimHarr29385594', 'Karlton111', 'BSHerrle', 'tip_ct', 'MTStringer1', 'michaeltmcc', 'Kelledin', 'JimlikesBB', 'JohnFloridaMan', 'suprdave11', 'Maxamegalon2000', 'ArtysHouse', 'over23under18', 'ArcherBM', 'LadyBB85125431', 'Trek_The_Globe', 'ATimRonan', 'JonRFleming', 'H2Ofountains', 'lostintheburbs', 'AngryFleas', 'LeeGrand18', 'kalymera1960', 'Vincent03409491', 'MiguelR630', 'nygpapi2000', 'breckgirl4ever', 'JustinM11151153', 'okumamac73', 'Robb242', 'NOCwYt', 'vonninnyhammer', 'paulguynj', '4danielgibson', 'OnCableTv', 'actually_thor', 'AlmaBona', 'PootDibou', 'NickDone8', 'teamphil', 'MarkChesney', 'commonpatriot', 'ForrestFernMist', 'StirredCrazy', 'PamelaEdwards', 'Joe__312', 'Mic5check', 'battle_bullshit', 'GeorgeWTrumpWon', 'FighterTh', 'EarthOne_13', 'SpeakerPelosi', 'jimmyfailla', 'HillaryClinton', 'KimKardashian', 'KrisJenner', 'TIME', 'POTUS', 'CMPiagentini', 'RepHoulahan', 'WhoopiGoldberg', 'sunny', 'GeraldoRivera', 'sirimahanthesh', 'jazzminFly', 'K1ngL0ser', 'TheOfficerTatum', 'cdanieltideman', 'POTUS', 'Theprop12876022', 'Tawn32010458', 'WRAL', 'VicedRhino', 'ChrisMurphyCT', 'WhiteHouse', 'rqglass', 'Booker4KY', 'HeavySan', 'WildHoney808', 'RepJohnLarson', 'themodernnmom', 'ChuckChuckaree', 'TXPatriot4Life', 'sassyfrass63', 'timburchett', 'Cevasco_Carla', 'angmarino111', 'RepMarkWalker', 'RepTedBudd', 'MarjorieKEastmn', 'NCGOP', 'AdamBaldwin', 'ucmilkbank', 'elonmusk', 'VP', 'POTUS', 'sullivanradio', 'briantylercohen', 'RTMannJr', 'AZturningblue', 'sunny', 'bejaha', 'SecGranholm', 'robbwolf', 'bshaefit', 'whohannah', 'SenSherrodBrown', 'GabeTheWey', 'jessrraine', 'NikkiFried', 'SetupsProfit', 'SpeakerPelosi', 'PressSec', 'stillnotkaro', 'briannacocuzzo', 'GOPChairwoman', 'ScottPresler', 'realtworoosters', 'kg_stiles', 'ChristinaHaas17', 'RepStefanik', 'Jim_Jordan', 'RonFilipkowski', 'itsJeffTiedrich', 'RepMaloney', 'RepSpeier', 'JoeBiden', 'mschlapp', 'MarshaBlackburn', 'RepMTG', 'Karnythia', 'RepWexton', 'HeadStartgov', 'AppropsDems', 'RinainDC', 'RepMTG', 'DrFlinn', 'JaneRiordan', 'GabbyOrr_', 'VP', 'K_JeanPierre', 'KJP46', 'YouTube', 'RonFilipkowski', 'LinaGasm', 'JenlovesOBG', 'WillieGeist', 'JonLemire', 'GOP', 'BetteMidler', 'bunnie_mom', 'DonaldJTrumpJr', 'WhiteHouse', 'bouledenerfs_', 'wattaj0ke', 'MyKatAccount', 'bharris1968', 'POTUS', 'HouseGOP', 'FOX2News', 'ENBrown', 'GOP', 'DisneyDollface', 'FoxNews', 'TomCottonAR', 'POTUS', 'JohnDWalke', 'RepLaMalfa', 'Stonekettle', 'GeromanAT', 'VeraVanHorne', 'cuz8190b', 'lawntransboy', 'DJTTracker', 'LLLGB', 'ACTBrigitte', 'FixxieW', 'usathirdworld', 'brin3m', 'Leslie64993617', 'donwinslow', 'JGoodman_CSTT', 'adamcurry', 'AlexJones', 'LeiOdee', 'KenPaxtonTX', 'WKYT', 'Kentuckyweather', 'jaketapper', 'LAist', 'AuronMacintyre', 'scottlincicome', 'TrevHal', 'jjhorgan', 'BreitbartNews', 'AtriumHealth', 'LevineChildrens', 'MarshaBlackburn', 'GOP_PR51', 'sarahnferris', 'HC_Richardson', 'cspanwj', 'loganclarkhall', 'AlBernstein', 'jshoota88', 'MailOnline', 'KatiePhang', 'YouTube', 'WSJ', 'SteveHiltonx', 'InBizzaroWorld', 'CBSNews', 'Ivanka_Jade', 'RegisteredVote7', 'TheBabylonBee', 'newsmax', 'RepKatCammack', 'lowrad57', 'JDCocchiarella', 'TimRunsHisMouth', 'TimRunsHisMouth', 'jack', 'paraga', 'marciadorsey', 'jack', 'BillsManBoobs', 'travisebel', 'AtodaJ2020', 'hfbclub', 'ScottAdamsSays', 'billmaher', 'SenJeffMerkley', 'SecBlinken', 'UN', 'JosepBorrellF', 'jrpsaki', 'katieledecky', 'WhiteHouse', 'TeamUSA', 'USASwimming', 'POTUS', 'jrpsaki', 'JontTrubek', 'kdonmike', 'briantylercohen', 'stephschor', 'chrisgalea', 'Acyn', 'joekent16jan19', 'ColumbiaBugle', 'HerreraBeutler', 'EricRSammons', 'WSJopinion', 'cathymcmorris', 'HouseGOP', 'SenatorTimScott', 'RepBoebert', 'takesthepoints', 'swingline2020', 'NBCNews', 'MarioDB', 'RepMcCaul', 'RepMarkGreen', 'RepMariaSalazar', 'RepCarlos', 'SenatorRisch', 'SenRubioPress', 'SenTedCruz', 'SenRickScott', 'SenBillCassidy', 'WestJournalism', 'ravnsfan1', 'DavidKiesler', 'joncoopertweets', 'MelChap0', 'PeteButtigieg', 'JoJoFromJerz', 'MixxDeb', 'TheLeoTerrell', 'Jim_Jordan', 'thevoidbeckon', 'willchamberlain', 'theblaze', 'Breaking911', 'RNCResearch', 'SenRickScott', 'US_FDA', 'redsteeze', 'HillaryClinton', '45Spammy', 'ericgarland', 'RepJeffries', '700R____', 'MariaBartiromo', 'MorningsMaria', 'FoxBusiness', 'Stonekettle', 'RepSwalwell', 'hodnett_andrew', 'Jim_Jordan', 'domenicadelia22', 'ainsleyearhardt', 'Empressmish13', 'FoxNews', 'jesseprimetime', 'RonFilipkowski', 'stclairashley', 'BillGates', 'elonmusk', 'Richzeoli', 'JWNelson41', 'RepThomasMassie', 'POTUS', 'Jim_Jordan', 'Catheri30002677', 'dcexaminer', 'anthonyzenkus', 'greg_price11', 'PopMemes4', 'FaulknerFocus', 'OutnumberedFNC', 'cnnbrk', 'RepMTG', 'RhondaBedford48', 'mr_games2021', 'TitusNation', 'Yahoo', 'Baseball0679171', 'DPGodown', 'scottwongDC', 'SteveScalise', 'SterlingRose62', 'Kat_Cammack', 'LivePDDave1', 'FranceneS1977', 'RandPaul', 'zerohedge', 'cspan', 'colinmackay11', 'ksorbs', '1BoysFan', 'POTUS', 'CharlieCrist', 'DHSgov', 'AliMayorkas', 'TheDemocrats', 'BoSnerdley', 'nypost', 'sunnysaggy', 'nuts2406', 'TheSpaceGal', 'TSA', 'flyLAXairport', 'EliseStefanik', 'elonmusk', 'iamofdaniel', 'kylegriffin1', 'seanhannity', 'Lizerenity', 'FPWellman', 'kylegriffin1', 'RonFilipkowski', 'Change', 'pantermurphy94', 'AllyM716', 'BriannAtl35', 'POTUS', 'DoniTheDon_', 'JonMChester', 'SaraCarterDC', 'Anne_Marie_2', 'MRSM1TH0161', 'RepMTG', 'marcorubio', 'ericswalwell', 'jaketapper', 'NannieTalk', 'clhubes', 'LovelyLannaa', 'HoustonChron', 'yrfriendamelia', 'EliseStefanik', 'queenie4rmnola', 'thevivafrei', 'BurgessOwens', 'COVIDOversight', 'WhipClyburn', 'POTUS', 'BillKristol', 'Acyn', 'PammsyB', 'CommodusJTrump', 'Jim_Jordan', 'MarshaBlackburn', 'LeaderMcConnell', 'FoxNews', 'BretBaier', 'POTUS', 'rabiasquared', 'MeidasTouch', 'shelleyterriah', 'GerryRitzxMP', 'AP_Politics', 'SenBlumenthal', 'ResisterForever', 'KeithOlbermann', 'elonmusk', 'PretzelGrimm', 'JamesMartinSJ', 'Breck_Worsham', 'JoyceBHenson2', 'GOPLeader', 'DonJBacon', 'september_gurl', 'RepLaMalfa', 'PetSmart', 'GLSEN', 'kj_charles', 'Houlasrule2', 'travisakers', 'GramPepe1', 'CableNewsWatch', 'BretBaier', 'SpecialReport', 'FoxNews', 'LeaderMcConnell', 'HerChocoLit', 'KekePalmer', 'NoLieWithBTC', 'TheDude42596275', 'miss_teabaggins', 'LilaGraceRose', 'davidb2789', 'kylegriffin1', 'RepMikeGarcia', 'HouseVetAffairs', 'laurenboebert', 'BreitbartNews', 'JaredStuart11', 'JDCocchiarella', 'EnoJane', 'blgtylr', 'JoeBiden', 'SeriouslyMimi7', 'SheriMAGAA', 'RealHousewifeMi', 'GOPLeader', 'RepMTG', 'bennyjohnson', 'LTadu126', 'thebobbakh', 'TommyK53062', 'TheLeoTerrell', 'Jim_Jordan', 'BlackBernieBabe', 'EliseStefanik', 'POTUS', 'GOP', 'JesseBWatters', 'AppaloosaKid', 'GOP', 'lawofgrace', 'Right_143', 'AnnBR549', 'kurteichenwald', 'RepGosar', 'HodgesBoots', 'newsmax', 'elonmusk', 'UROCKlive1', 'RpsAgainstTrump', 'JoeBiden', 'DNC', 'mccarty_ginger', 'Joanne60183156', 'RepSwalwell', 'Jim_Jordan', 'rosadelauro', 'KamVTV', 'BreitbartNews', 'Jim_Jordan', 'VICENews', 'Zimmlaw175', 'kirawontmiss', 'javroar', 'EliseStefanik', 'kylegriffin1', 'EliseStefanik', 'JudiciaryGOP', 'BetteMidler', 'JamesSACorey', 'OlDrunkBastard', 'newsmax', 'ehaspel', 'JeremyDBoreing', 'PlainfieldTwo', 'kylegriffin1', 'POTUS', 'RepMTG', 'SenWhitehouse', 'BetteMidler', 'BillCassidy', 'LivePDDave1', 'ClayTravis', 'StephenM', 'StephenM', 'BetteMidler', 'RinainDC', 'SenatorHassan', 'Jim_Jordan', 'JohnnyBricks8', 'BennettKealey', 'caringguy1957', 'HouseGOP', 'POTUS', 'SecretaryPete', 'bethcodes', 'US_FDA', 'FatherShaggy', 'lawprofblawg', 'StewartforUtah', 'TimOnPoint', 'RepMTG', 'Tone1322', 'Flipmoderuggish', 'LawmanLT50', 'PissedOffLawyer', 'GamebredFighter', 'TPostMillennial', 'POTUS', 'IBEW', 'US_FDA', 'kylegriffin1', 'massimin', 'forkmor', 'mchooyah', 'HuffPostPol', 'SeaeyesTri', 'KAntonacco', 'MulletMane', 'shane040', 'AP', 'wambsgussy', 'marcorubio', 'Bigpicturejoe2', 'KamVTV', 'laurenboebert', 'Kat_Cammack', 'POTUS', 'seanhannity', 'thehill', 'sosacub', 'FriendEden100', 'OregonGovBrown', 'ORDOJ', 'NickAdamsinUSA', 'tedcruz', 'dbongino', 'RepMTG', 'jrpsaki', 'NewsHour', 'Jim_Jordan', 'HouseGOP', 'RepStefanik', 'SenJeffMerkley', 'SecBlinken', 'UN', 'JosepBorrellF', 'WSJ', 'AlanaKStewart', 'RNCResearch', 'EricaRHill', 'GingerRunner262', 'FoxNews', 'EliseStefanik', 'Stonewall1776', 'CalltoActivism', 'dabonz413', 'VA_GOP', 'TheTalkSoup', 'chevygirl169', 'JJohnsonLaw', 'PSears15', 'USATRUMPMAN1', 'laurenboebert', 'RepMTG', 'Vin_Palmisano', 'harryjsisson', 'RickSte66541605', 'DanKEberhart', 'JoeBiden', 'JoeBiden', 'GrandpaSnarky', 'detroitgirl1966', 'B66Sean', 'myobnsob', 'LeticiaJNavarr2', 'goforschwa', 'Draiocht81', 'CKayNewton', 'AndyPopeInTheW1', 'cljmo', 'Woody4123', 'Jackhammer72', 'RENEEWEATHERS2', 'VoteBlueAnyWho', 'BlueAmerica10', 'mattmanaz', 'PAPG1968', 'GAVAPeach', 'mcdirk', 'rickchappy12', 'FoxNews', 'jesseprimetime', 'Garrett_Archer', 'tedcruz', 'John_Reston_II', 'GabbyOrr_', '1234_sisca', 'judytgolf', 'gatewaypundit', 'newsmax', 'AustinScottGA08', 'SpeakerPelosi', 'NPR', 'RickeySmiley', 'RepKatCammack', 'POTUS', 'ShayInLa', 'KYT_ThatsME', 'scottsantens', 'Chicago1Ray', 'dbongino', 'JoeBiden', 'RNCResearch', 'elonmusk', 'Not_the_Bee', 'LocalPoliticsis', 'POTUS', 'FacebookWatch', 'SpeakerPelosi', 'TeamPelosi', 'SenSchumer', 'AdamSchiff', 'KamalaHarris', 'VP', 'POTUS', 'JoeBiden', 'FLOTUS', 'BristolHotel515', 'NBCPhiladelphia', 'Garym447', 'BigErn_pa', 'BristolHotel515', 'JRon2112', 'JDS_WolfPack_Z', 'hnelson394', 'Ready2Win2020', 'elonmusk', 'TuckerCarlson', 'elpasotimes', 'FreshKnight1', 'mchooyah', 'LisaBaertlein', 'CNN', 'RepStefanik', 'thehill', 'karinagould', 'NickAdamsinUSA', 'Beard_Vet', 'laurenboebert', 'jasonjanes275', 'cin_price', 'brattastic99', 'davecolborn', 'EricGreitens', 'FreilichLior', 'noahwebstah', 'MilesTaylorUSA', 'JNzlstar', 'TheRealHoarse', 'bshaefit', 'KY_Press', 'nytimes', 'Bad_Gal_T', 'writersblock610', 'DanieTHBee', 'ericswalwell', 'FlyingJayDee', 'SpeakerPelosi', 'POTUS', 'GOPChairwoman', 'courtneymilan', 'GrammyC4Zone', 'GIRLONFIRENV', '0nlyABill', 'bshaefit', 'contrarian4data', 'liamrebel2', 'GOP', 'JDCocchiarella', 'morningmika', 'ThisWeekABC', 'GStephanopoulos', 'Briargirl4', 'granny_st', 'RepSwalwell', 'MichelleMousta1', 'DNCWarRoom', 'tvdfan_andmore', 'c_vandergriff', 'CBSDFW', 'GregAbbott_TX', 'EliseStefanik', 'TheRickWilson', 'Acyn', 'AbbottNews', 'becki_rox', 'edofeeder1', 'ADevotedYogi', 'J_GallagherAD3', 'CongPalazzo', 'newsmax', 'allahpundit', 'RadioGuyChris', 'LiraLoudmouth', 'POTUS', 'BlakeBohne', 'CNN', 'laurenboebert', 'FayneMatt1', 'Lorrain32534946', 'RSBNetwork', 'HouseDemocrats', 'Floyd1013', 'RepMTG', 'Hyperaionian', 'pegobry', 'justinamash', '1010WINS', 'leftleftnoright', 'KrisNordstrom', 'newsmax', 'POTUS', 'RepMTG', 'washingtonpost', 'TRVET1', 'CaitJGibson', 'SoCalEdgyGal', 'GinnyMcDonald8', 'AnnCoulter', 'newsmax', 'ACTBrigitte', 'Cevasco_Carla', 'mchooyah', 'FoxNews', 'seanspicer', 'politico', 'playbookdc', 'RyanLizza', 'BetteMidler', 'stormgalNYC', 'itsJeffTiedrich', 'Lovejusticeunit', 'RepubliCuban', 'joelpollak', 'JoeBiden', 'walterfootball', 'JordanSchachtel', 'BreitbartNews', 'SaraCarterDC', 'kevincorke', 'kevincorke', 'POTUS', 'RepValDemings', 'jimmyfailla', 'GOP', 'elonmusk', 'blazeaddict2', 'Wrigley70', 'MattWalshBlog', 'ASexyMuganda', '123jlsk', 'BabeTruth2', 'MonicaCrowley', 'zeitkitty', 'HikingMan2244', 'News12LI', 'JDVancePress', 'JDVance1', 'GOPChairwoman', 'GJStathakis', 'gutterbuttx', 'HouseGOP', 'RepStefanik', 'KeithTerceira', 'Waynequest_', 'XDKnoori', 'klumsyyyy', 'wizard101err', '_RobertSchultz', 'diaryofa9jagirl', 'tinasarina', 'SurelyMeg', 'JeanetteOttie', 'FoxNews', 'scottokun', 'TheDaleJackson', 'davidfrum', 'texanconstitut1', 'RonFilipkowski', 'ArmendarizDis16', 'GOPChairwoman', 'Abby4Iowa', 'ChuckGrassley', 'BillGates', 'thetonymichaels', 'edokeefe', 'POTUS', 'AEBayley', 'VultureCapital1', 'scr000', 'Sey2S', 'RepTroyNehls', 'Jim_Jordan', 'WestJournalism', 'Saoirse_Says', 'RepDonBacon', 'RepBrianFitz', 'RepAGonzalez', 'RepTrey', 'RepJohnKatko', 'RepKinzinger', 'RepMcKinley', 'RepTomRice', 'RepMikeTurner', 'RepFredUpton', 'RepAnnWagner', 'flints1963', 'mattyglesias', 'CBSNews', 'ABC', 'NBCNews', 'LaLecheLeagueUS', 'USbreastfeeding', 'MattGertz', 'miss_thats', 'tedcruz', '_aaron_', 'OneNationCon', 'Heist4Dmb41', 'TallyAnnaE', 'WhiteHouse', 'JJohnsonLaw', 'Chicago1Ray', 'WSSMomma', 'marcorubio', 'michigannews', 'MontanaStandard', 'CNNSitRoom', 'NBCMontana', 'KEYCNewsNow', 'IdahoStatesman', 'IdahoNews6', 'IdahoPTV', 'DanRather', 'SpokesmanReview', 'iowasnewsnow', 'tpt', 'BetteMidler', 'MaryFabulous3', 'AnnCoulter', 'RepMTG', 'JoeBiden', 'SenSchumer', 'RepLaMalfa', 'MaxSteinerCA', 'RonFilipkowski', 'EricMMatheny', 'kylegriffin1', 'JoeBiden', 'washingtonpost', '_evelynrae', 'Lolagirl2017', 'GraceAl38236563', 'WhiteHouse', 'KamVTV', 'ki676love', 'politico', 'J0shMiller', 'namaste57', 'MarketWatch', 'WPTV', 'iOTWclaudia', 'RobertDaPatriot', 'sourpatchlyds', 'JackPosobiec', 'RNCResearch', 'RepStefanik', 'BillFOXLA', 'TxDPS', 'FoxNews', 'JDCocchiarella', 'JoeBiden', 'RepStefanik', 'teacherDGeert', 'BidenRulez', 'CharissaDimitr4', 'mirandadevine', 'EmmanuelMacron', 'BorisJohnson', 'JustinTrudeau', 'newsmax', 'MostlyMature', 'POTUS', 'RepMTG', 'cspanwj', 'TeamPelosi', 'POTUS', 'VP', 'SpeakerPelosi', 'WhiteHouse', 'BetteMidler', 'TSA', 'FoxNews', 'marwilliamson', 'libsoftiktok', 'GOPLeader', 'IanCameron23', 'MailOnline', 'Michaelscottbk', 'IngrahamAngle', 'EpochTimes', 'PeterDiamandis', 'APompliano', 'sj_pete', 'RepMTG', 'GOP', 'SenTedCruz', 'WHO', 'DrTedros', 'siouxnr', 'hbottemiller', 'dhmontgomery', 'erindataviz', 'datasembly', 'zerohedge', 'PatriotSrc', 'MattWalshBlog', 'POTUS', 'CharlotteLange7', 'TeamPelosi', 'BobbyScott4VA3', 'JoeBiden', 'POTUS', 'TheDemocrats', 'L1964', 'MayoIsSpicyy', 'ElAmerican_', 'YouTube', 'rgay', 'GovKathyHochul', 'mkraju', 'closedopenmind', 'GabbyOrr_', 'RepTimmons', 'RepTimmons', 'DavidMa19108277', 'JoaquinCastrotx', 'FoxNews', 'GregAbbott_TX', 'MeidasTouch', 'mattgaetz', 'kurteichenwald', 'Sailing_fool', 'SAVoltolin', 'benigma2017', 'NYdbagRedux', 'Giddythefuckup', 'DJTTracker', 'BIRetail', 'RepMTG', 'washingtonpost', 'mkraju', 'GOPChairwoman', 'SenJeffMerkley', 'SecBlinken', 'UN', 'JosepBorrellF', 'POTUS', 'AltWhine', 'TheDiegoManuel', 'ExurbanCowgirl', 'PUNKRoxx1', 'RepMTG', 'TristanSnell', 'TheDesertDaddy', 'RepPatFallon', 'CAPAction', 'Jim_Jordan', 'Cheamane', 'CahnEmily', 'bdunkelman', 'SenJeffMerkley', 'SecBlinken', 'UN', 'JosepBorrellF', 'MaritimeMan', 'danielledsouzag', 'JoeBiden', 'US_FDA', 'DrCaliff_FDA', 'EliseStefanik', 'bruce_steiner', 'GSkooler', 'MSNBC', 'DeanObeidallah', 'RepTroyNehls', 'zerohedge', 'Jim_Jordan', 'WSJ', 'SOCIALISM_NOPE', 'EliseStefanik', 'GOPChairwoman', 'mkraju', 'POTUS', 'SanteenaR', 'BetteMidler', 'CalltoActivism', 'LadyOfTheOcean1', 'Synyster63', '_LibraWoman', 'BuckeyeBitch', 'alshadowdancer', 'DaniTrump2020', 'ukwildcatfan191', 'Vickie627', 'giddy_bunny', 'Saggit95', '_DeltaTauChi_', 'mmEyeNewMe', 'GrahamC37637916', 'PridgeWessea', 'ShellyRKirchoff', 'Frdmlvr3691', 'bacchaus351', 'Carla87414309', 'NathanBronson7', 'chriscr66024638', 'dirk_fasshauer', 'skeeduu', 'annaeck73', 'PalusoSonny', 'jamesclossick', 'BrianBruce7', 'VinceGottalotta', 'jerbear714', 'PhilipEMSkinne1', 'Bigteethyouhave', 'LMegaw', 'Silver_Strike', 'PeterBartholo14', 'ggfreeman', 'emmanue00857463', 'Kjell52059994', 'Rocket654340691', 'catblackcanada', 'KsLiberal', 'StirredCrazy', 'charliedaniel06', 'TommyJD5150', 'jaginator', 'SweetBeanzUSA', 'NatForTrump2024', 'Kittie_Svengali', 'henriziolkowski', 'StayAtHomeTrans', 'GMA', 'voxdotcom', 'YouTube', 'aliblack', 'HouseGOP', 'FoxNews', 'EliseStefanik', 'thedailybeast', 'SenWarren', 'stlblues42fan', 'ThinkRealist', 'sunnymok', 'MoDemParty', 'CNN', 'HawleyMO', 'MoDemParty', '933KWTO', 'NewstalkSTL', 'JDCocchiarella', 'ReginaWilhelmi1', 'kayleighmcenany', 'MollyJongFast', 'Bosibore_Ke', 'KwizeS', 'anatoliisharii', 'LucieCatnip', 'BritFeather', 'bharris1968', 'donwinslow', 'OttoMatticBaby', 'RicoBella2', 'LauraDuncan2022', 'HouseGOP', 'TonaKendrick', 'BilOWrites', 'TonyT54482301', 'Arianna66260401', 'DonaldJTrumpJr', 'TheSpaceGal', 'TSA', 'flyLAXairport', 'YouTube', 'SoCalBohoGal', 'SPepper1964', 'Lowcountry1Girl', 'POTUS', 'RicardoCabeza69', 'LiveFree1776USA', 'JustisLadi', 'wnder_lst', 'VP', 'GOPChairwoman', 'kjxoxo', 'jmtalley', 'voxdotcom', 'POTUS', 'JoeBiden', 'WhiteHouse', 'QasimRashid', 'RinainDC', 'itsSpencerBrown', 'HawleyMO', 'LadyShark57', 'PissedOffVet6', 'Real_Zaphod', 'SimianJimmy', '47angb', 'Z4DJT', 'kitscott', 'FaleroJr', 'rdrhwke', 'goldisez', 'aingelgrl', 'mil_vet17', 'Bree1914', 'dl4trump', 'johnnm53', 'GabiNga1', 'MySuDaia', 'wenmama', 'JMC44USA', 'castterry73', 'FreeStateFl', 'emma6USA', 'HonorCode7', 'daverich503', 'tohellwithlibs', 'jssacramento', 'treesforTrump', 'Battle4better24', 'Our_SacredHONOR', 'plasticcloud13', 'IngrahamAngle', 'NBCConnecticut', 'RepKinzinger', 'RonnyJacksonTX', 'ChiActivist312', 'RealCandaceO', 'natalimorris', 'elonmusk', 'AmyJacobson', 'DonaldJTrumpJr', 'DarrenBaileyIL', 'GaryRabine', 'JesseSullivanIL', 'KMurphyIL', 'Trussell4IL', 'newsmax', 'FoxNews', 'jesseprimetime', 'MarshaBlackburn', 'MELANIATRUMP', 'thehill', 'JoeBiden', 'Morning_Joe', 'MSNBC', 'RepMTG', 'mr_games2021', 'TitusNation', 'autumnblooms3', 'Jim_Jordan', 'nypost', 'SandySmithNC', 'janeemarnele', 'RepThomasMassie', 'CorySoupene', 'CharlieCrist', 'FoxNews', 'RepMTG', 'JoeBiden', 'TheCenterStripe', 'RpsAgainstTrump', 'StefanMychajliw', 'paul_sailer', 'HarrisonKrank', 'POTUS', 'cathypro2', 'davidmweissman', 'srh_medco', 'amyklobuchar', 'sj_pete', 'RepMTG', 'Meidas_Linda', 'RepMTG', 'RhonnMarney', 'ChadPergram', 'RepAndyBiggsAZ', 'RepBrianHiggins', 'RepChipRoy', 'TrumpWins24', 'StevenBeschloss', 'shansen008', 'jamesdavidmagee', 'kayleighmcenany', 'CNN', 'DrinkBODYARMOR', 'ArguesWInbreds', 'cam82972045', 'iggy1991', 'lavern_spicer', 'POTUS', 'ibsroyalty', 'TimRunsHisMouth', 'JamieJaeTweets', 'GOPLeader', 'Sol_Danmeri', 'abofnc', 'Carma_2012', 'Julia20526177', 'MROsLADY', 'ReginaWilhelmi1', 'marcorubio', 'WhiteHouse', 'eturleye', 'CTrevorNelson', 'washingtonpost', 'nytimes', 'nypost', 'latimes', 'PhillyInquirer', 'PhillyDailyNews', 'Forbes', 'LBOTDealsOfDay', 'FortuneMagazine', 'Inc', 'Entrepreneur', 'mvankerkhove', 'JesseBWatters', 'POTUS', 'POTUS', 'abc3340', 'myfriendblondie', 'Lormif1', 'YDCHPH', 'JohnArnoldFndtn', 'SallyMayweather', 'SpeakerPelosi', 'EricGreitens', 'mattgaetz', 'teresab313', 'BroncoGuy87', 'JudiciaryGOP', 'PamAnthony0321', 'FIGJAM_TX', 'Kat_Cammack', 'Lily195066', 'RinainDC', 'KaivanShroff', 'newsmax', 'KamVTV', 'RepBenCline', 'Jim_Jordan', 'anthonyzenkus', 'lhfang', 'Kat_Cammack', 'RandPaul', 'ms_taylor711', 'colbertlateshow', 'Air_Rhodesia', 'POTUS', 'MikeMarkz', 'nic_otoole', 'DeckerRenfarms', 'BethClayofNoVA', 'DrJamesOlsson', 'POTUS', 'newsminer', 'EliseStefanik', 'the_coral_lea', 'POTUS', 'EricGreitens', 'POTUS', 'LionelMedia', 'RepStefanik', 'RepTroyNehls', 'LeftistCEO', 'RNCResearch', 'OrigWorkhorse', 'RepMichaelGuest', 'Ron13Q', 'Sam95371684', 'AngelicoDeb', 'jaydeeplorable', 'RepMTG', 'JackPosobiec', 'Alourdes14', 'RepMTG', 'GOP', 'RepSwalwell', 'SheriMAGAA', 'rmgarayua', 'GOPLeader', 'RonWyden', 'bdittm', 'POTUS', 'Red_Pharmacy2', 'GOPChairwoman', 'nypost', 'RepMTG', 'soniasaraiya', 'AlexNowrasteh', 'AlbertSTartagl1', 'Beckrmr', 'Fitzpatrick_law', 'esaagar', 'Arwenstar', 'amyklobuchar', 'ducksinmypool', 'DonaldJTrumpJr', 'Jim_Jordan', 'SenateGOP', 'POTUS', 'mchooyah', 'cornicelliny', 'lsferguson', '_manifestingmel', 'JabariJYoung', 'tedcruz', 'POTUS', 'IngrahamAngle', '1fedupvet', 'RubenGallego', 'kurtbardella', 'EliseStefanik', 'POTUS', 'RepJasonSmith', 'HouseGOP', 'JimOfficious', 'CBSNews', 'johndefeo', 'selindrilis', 'HolyroodDaily', 'Jim_Jordan', 'metalwally', 'RepMTG', 'washingtonpost', 'Angry_Staffer', 'RepStefanik', 'thehill', 'SecBlinken', 'TrumpsPrettyWom', 'JVER2ME', 'HouseGOP', 'RepMTG', 'RepMTG', 'JoJoFromJerz', 'Jim_Jordan', 'GeneforTexas', 'PatrickMcHenry', 'TuckerCarlson', 'TaconicST', 'A_D_Morgan', 'Briggs', 'abc13houston', 'geyasfk', 'elonmusk', 'geyasfk', 'TheSupList', 'sophie6861', 'DiamondandSilk', 'GregAbbott_TX', 'JudiciaryGOP', 'TimRunsHisMouth', 'scott_norquest', 'BethMooreLPM', 'FoxNews', 'bonchieredstate', 'WhiteHouse', 'Evacuzshesjazzy', 'StacyLoveLife', 'TomiLahren', 'JackPosobiec', 'MickScrimpton', 'nota_socialist', 'JOEO62', 'FoxNews', 'hahnalytics', 'SamRamani2', 'RepDerekKilmer', 'AppropsDems', 'HouseDPCC', 'HouseDemocrats', 'HillaryClinton', 'TimRunsHisMouth', 'Jennanrun', 'BreeNewsome', 'pamelasm', 'LindGoodTrouble', 'Bentleysgma1', 'SenRickScott', 'SenateDems', 'SenSchumer', 'SpeakerPelosi', 'Cryptofactor2', 'MadeInTheUSANJ', 'RepMTG', 'briantylercohen', 'JoeBiden', 'POTUS', 'lavern_spicer', 'NickAdamsinUSA', '10TV', 'SteveDe00589901', 'realDailyWire', 'FoxNews', 'EliseStefanik', 'KekePalmer', 'OttoMatticBaby', 'afif_elKhuffash', 'Natalie25459180', 'TheSpaceGal', 'TSA', 'flyLAXairport', 'thehill', 'Surgeon_General', 'thejanasanchez', 'Local4News', 'RepMTG', 'nypost', 'GlennKesslerWP', 'HeartSmileFarms', 'SRuhle', 'AmerAcadPeds', 'NotANewsNet', 'christisrisen9', 'TwitchyTeam', 'SenJeffMerkley', 'SecBlinken', 'UN', 'JosepBorrellF', 'Brooks0967', 'FoxNews', 'SundaeDivine', 'GOPChairwoman', 'MarshaBlackburn', 'marcorubio', 'RealJohnForge2', 'MarshaBlackburn', 'TheRickWilson', 'RepAdrianSmith', 'SenatorFischer', 'SenSasse', 'RepDonBacon', 'RepMTG', 'RealAnnieBlack', 'RepMTG', 'YouTube', 'Amy_Siskind', 'elonmusk', 'LauraDrycrklabs', 'RepMTG', 'dmrichardson11', 'RepYoungKim', 'NVTaraStrange', 'RepThomasMassie', 'brianschatz', 'brianschatz', 'GOP', 'GOP', 'MarshaBlackburn', 'googlenews', 'SnarkySidhe', 'RndmStreetMedic', 'BreeNewsome', 'mezzlevel', 'Amy_Siskind', 'BetteMidler', 'RepMTG', 'GracieNunyabiz', 'davidplazas', 'mattmurphyshow', 'DanMandisShow', 'NC5_BenHall', 'VoteMarsha', 'BillHagertyTN', 'timburchett', 'JohnRoseforTN', 'Scott_Couch', 'SenJohnKennedy', 'upon_tawheed', 'DanieTHBee', 'elonmusk', 'RealCandaceO', 'rising_serpent', 'LennX6', 'DonaldJTrumpJr', 'SenSchumer', 'SenateDems', 'News12CT', 'RandPaul', 'B52Malmet', 'KatrinaNation', 'lhfang', 'POTUS', 'MarshaBlackburn', 'DiamondandSilk', 'realDailyWire', 'JuanRos12073594', 'suzyq14', 'DannyMack100', 'DanCrenshawTX', 'KSLSharaPark', 'JustTheNews', 'kurteichenwald', 'TFerTrog', 'Alias_Rosie', 'Aja02537920', 'dhershiser', 'claireluvsbearz', 'RepStefanik', 'RinainDC', 'YouTube', 'PaulbatesMN', 'Anissa_Gordon', 'Phil_Lewis_', 'GnarlieStCloud', 'LammiJarmo', 'VaushV', 'NateHogg216', 'VickiTidwell4', 'AlanCaryLiddell', 'seanhannity', 'leslibless', 'jennifervandevy', 'DonaldJTrumpJr', 'ABC', 'rolyatistaylor', 'Dar_shelle', 'casteelsfeels', 'Meggiicosplay', 'Darshelle', 'greggutfeld', 'BrandyQuick10', 'fake_biden', 'donwinslow', 'SenSchumer', 'dagenmcdowell', 'pugilistchris', 'thegeekypeaky', 'elonmusk', 'EricaJedynak', 'RanmaOtherHalf', 'geraldinegirljp', 'ENBrown', 'drinisthebest', 'tedcruz', 'JudgeJoeBrownTV', 'Mortahn', 'KatiePavlich', 'DrShushan', 'RepAndreCarson', 'RepLouCorrea', 'BillPascrell', 'RepMTG', 'JeremyPollard62', 'washingtonpost', 'HRFK_ORG', 'DCIsecretariat', 'USAID', 'denverpost', 'EricMMatheny', 'JacqueCarlson', 'BetoORourke', 'JoeBiden', 'ob2srubbergoose', 'IvanKcordonnier', 'SwimBikeRowMom', 'Garret00074', 'sarahnferris', 'HC_Richardson', 'RepMTG', 'RepMTG', 'FoxNews', 'JRMajewski', 'TaterSa43719483', 'scommercedotcom', 'HouseGOP', 'HouseDemocrats', 'GOP', 'MSNBC', 'KimsMom3', 'solsunnysky', 'schwanderer', 'RadioFreeTom', 'EliseStefanik', 'EliseStefanik', 'NoLieWithBTC', 'nee_haynes', 'Sis4peace', 'BetteMidler', 'DorothyNovick', 'katisnotakat', 'RobertGiesen24', 'Draccus5', 'MuellersGame', 'briantylercohen', 'RealCarlVernon', 'CelticNotorious', 'Quigs8816', 'ggreenwald', 'GOP', 'JoeBiden', 'RealMacReport', 'BreitbartNews', 'NYCMayor', 'NYCSchools', 'POTUS', 'kasie', 'GOPChairwoman', 'OccupyDemocrats', 'waitwha19661081', 'Marybec08642017', 'UnionizeTesla', 'RepMTG', 'ashleyrgold', 'kylegriffin1', 'fruitcaike', 'SenToddYoung', 'Cevasco_Carla', 'SPepper1964', 'WhoopiGoldberg', 'POTUS', 'SenateDems', 'GOPLeader', 'POTUS', 'Jenfeds73', 'nesternow', 'CamiAnnS', '1BipolarCancer', 'BrettRSmith76', 'SenTedCruz', 'italinquen', 'Maggie_Hassan', 'catturd2', 'TomiLahren', 'MarshaBlackburn', 'JoeBiden', 'PSUPERCY', 'libsoftiktok', 'POTUS', 'NBSaphierMD', 'TheRealHoarse', 'SeeJaxon', 'PressSec', 'MarshaBlackburn', 'EliseStefanik', 'lindyli', 'SenHydeSmith', 'POTUS', 'omo_igboo', 'RepSteel', 'RadioGuyChris', 'DavidLarter', 'RonFilipkowski', 'bshaefit', 'BetteMidler', 'RNCResearch', 'senatorshoshana', 'benshapiro', 'flossie_mae81', 'EliseStefanik', 'ArmedBearCaucus', 'geedub636', 'YouTube', 'salaam', 'POTUS', 'Tracker_RY', 'DonaldTeel', 'PatrickHauf', 'FreeBeacon', 'SpeakerPelosi', 'GabbyOrr_', 'POTUS', 'WhiteHouse', 'SecretaryPete', 'SpeakerPelosi', 'ewarren', 'kemu808', 'RepPatFallon', 'HouseGOP', 'dm03rieg', 'McBeastie666', 'newscentermaine', 'WhiteHouse', 'POTUS', 'AmishSecreto', 'AOC', 'Saadia___M', 'ImSpeaking13', 'kymg2022', 'sunmountain253', 'NathanDahm', 'RandPaul', 'pressrepublican', 'EliseStefanik', 'GOPChairwoman', 'RebelNews_USA', 'GOP', 'JanananasT', 'pilotjackcooper', 'gliderhopkin', 'Esqueer_', 'DoniTheDon_', 'PeteButtigieg', 'TG22110', 'GOP', 'jeffmason1', 'POTUS', 'the_damn_muteKi', 'MAMelby', 'CassandraCmplex', '_FelineMenace', 'genderrepenter', 'doodle_bobby', 'SkipperHowls', 'forevershallon', 'QueenofNihilism', 'GregoryHo13', 'MillieButtery93', 'Michael_AW77', 'DanniBrener', 'ariana_erbon', 'LuisfButHornt', 'Ana___fox', 'the_nerd_skull', 'leakylike', 'Kimberfan76', 'LouiseWluddite', 'Arithrianos', 'Seinneann', 'StitchingSin', 'sisneruza', 'ToutesGarnies', 'ForgivenDope', 'shutmyeyestosee', 'Hellmark', 'MeToobirdy', 'GlobeDweller', 'Flashmaggie', 'twitone', 'AveryOfBirds', 'latsot', 'witchyunsworth', 'Joxytales', 'VickyMiller74', 'Tw1tter1sB4d', 'MelodyFenton4', 'ruprekt79', 'JustifiedWooWoo', 'gol_mia', 'merlin10341', 'nuffyknuckles', 'VernMachil', 'GC_Fuckups', 'Seamusismycat', 'AwokeRoseArisen', 'shitty_witch', 'luluchoochooX', 'GregAbbott_TX', 'bobforgovernor', 'RepStefanik', 'jimsciutto', 'jimgeraghty', 'RepMTG', 'AllenGreyhhs', 'NBCNews', 'TimeToVoteRed', 'Yahoo', 'GOP', 'RumHam220', 'JohnnyFDK', 'MarshaBlackburn', 'mixtorious1', 'JackPosobiec', 'AbbyDylan', 'YouTube', 'SteveDDees', 'JohnKomas', 'FoxNews', 'Kyasuriin413', 'FoxNews', 'MarshaBlackburn', 'catturd2', 'FirehawkJw', 'KakosLee', 'Jim_Jordan', 'BreitbartNews', 'FawzyJennifer', 'curiousTricia', 'KellyScaletta', 'Acyn', 'bcswhite1', 'RadsInTheDesert', 'Double_Anarchy3', 'TomiLahren', 'TheNikEsq', 'peterbentley34', 'NickAdamsinUSA', 'SethMacFarlane', 'ericswalwell', 'KnoxieLuv', 'TruePat61372659', 'RepMTG', 'RepJayapal', 'NoLieWithBTC', 'VIP3R187', 'RepThomasMassie', 'NotHoodlum', 'dydda2011', 'PatrickButler1s', 'ericswalwell', 'IamNurseTrish', 'Matt_Stepp817', 'Lam49433320Jose', 'Jim_Jordan', 'rakeen_mabud', 'commondreams', 'realgreggd', 'RepMTG', 'scarebaby', 'Acyn', 'toddstarnes', 'RepMaryMiller', 'SovMichael', 'SovMichael', 'EliseStefanik', 'donwinslow', 'catturd2', 'benigma2017', 'stanleychao6', 'laurenboebert', 'rj1975', 'elonmusk', 'JackPosobiec', 'RepMikeGarcia', 'Steigerworld', 'girlsreallyrule', 'RepMTG', 'GOP', 'ChrisWarcraft', 'RepMTG', 'GOP', 'ABCPolitics', 'GStephanopoulos', 'DanCrenshawTX', 'jgrecoj', 'TheRealHoarse', 'JoeBiden', 'MoTy30361539', 'Vanessa_ABee', 'HouseGOP', 'briantylercohen', 'RepTenney', 'RepSusieLee', 'TeamPelosi', 'DJWilderness', 'Ms_Be_Free_83', 'HouseGOP', 'GOPLeader', 'RepElaineLuria', 'timkaine', 'MarkWarner', 'TDotMonkey', 'hrkbenowen', 'MysterySolvent', 'Jim_Jordan', 'antifaoperative', 'Saadia___M', 'TheeDocHolliday', 'LPJRTruth', 'Jim_Jordan', 'RepTiffany', 'GOP', 'Jim_Jordan', 'genxer52', 'libsoftiktok', 'RepMTG', 'replouiegohmert', 'MayorBowser', 'JudgeJeanine', 'FoxNews', 'bruce_arthur', 'robreiner', 'AnitaLaLouise', 'notesfromohio', 'catturd2', 'FoxNews', 'POTUS', 'Kissmybunniee', 'dbongino', 'IngrahamAngle', 'FoxNews', 'JessicaTarlov', 'HZardoz', 'LCTRfan', 'BlondieAtlanta', 'cindrianna', 'pvtjokerus', 'aaronflint', 'JGrahamMac1', 'politico', 'ElectionWiz', 'POTUS', 'PressSec', 'CNN', 'MSNBC', 'Harvard', 'Princeton', 'SenSchumer', 'LeaderMcConnell', 'SenJohnThune', 'SenJoniErnst', 'SenJohnBarrasso', 'RoyBlunt', 'BarbarianDamian', 'JDCocchiarella', 'DanCrenshawTX', 'BungusChigg', 'RepMTG', 'daniela127', 'NickAdamsinUSA', 'joncoopertweets', 'newsmax', 'corimomma75', 'furryvalley', 'TJClegg4', 'MorganOrtagus', 'MeghanMcCain', 'RBReich', 'anbesi', 'georgehahn', 'UNLOVABLE_NIXON', '912Jewel', 'GodWinsAlways4', 'helenckh', 'Manatee_Of_Fate', '_RobertSchultz', 'TheDemocrats', 'JoeBiden', 'JeanDled1215', 'mom_macs', 'ReallyAmerican1', 'marcorubio', 'HilWeb13', 'DJDeevice', 'OutnumberedFNC', 'HARRISFAULKNER', 'EmilyCompagno', 'cherylcasone', 'JackieDeAngelis', 'robsmithonline', 'Jim_Jordan', 'IngrahamAngle', 'PSYOP_warrior', 'thehill', 'RonFilipkowski', 'Tahajar1', 'snarkytwinkie', 'Totemspirit52', 'ajlamesa', 'POTUS', 'TheDemocrats', 'GOP', 'Scotus', 'doj', 'marcorubio', 'WHO', 'heckyessica', 'elonmusk', 'washingtonpost', 'JD1043', 'ilyseh', 'BetteMidler', 'JoeBiden', 'RepMTG', 'POTUS', 'IBEW', 'eagles1111111', 'GamebredFighter', 'Krootz24', 'antzisnorml', 'MiinVT', 'igabejames', 'albertmohler', 'Kadee_Russ', 'GOP', 'US_FDA', 'NCGOP', 'RepTedBudd', 'RepCawthorn', 'RepDavidRouzer', 'RepRichHudson', 'RepDanBishop', 'PatrickMcHenry', 'RepGregMurphy', 'RBReich', 'usatodayopinion', 'RexHuppke', 'ngryheffer', 'marcorubio', 'divine_hours', 'RepMTG', 'Jim_Jordan', 'tedlieu', 'RepValDemings', 'lawofgrace', 'WestJournalism', 'NPR', 'nprpolitics', 'POTUS', 'RedPill3333', 'thevivafrei', 'pboicaredoyou', 'MeidasTouch', 'Jim_Jordan', 'flan09', 'voxdotcom', 'SMacGyver2', 'Timcast', 'RepKinzinger', 'TODAYshow', 'FoxNews', 'GingerRunner262', 'PSYOP_warrior', 'bshaefit', 'EliseStefanik', 'SaveMart', 'vons', 'MarshaBlackburn', 'SenTedCruz', 'itsJeffTiedrich', 'nytimes', 'OHMichael', 'OperationFollow', 'BlaiseInKC', 'luellajschmidt', 'GusMcRae5', 'NYSenatorRamos', 'jessicaramos', 'LIUNA', 'robreiner', 'Jim_Jordan', 'Tosirwithlove5', 'HillaryClinton', 'PrinzessinCina', 'SarahDaniels', 'elonmusk', 'TheLeoTerrell', 'claudiatenney', 'SenJohnKennedy', 'BetteMidler', 'sistertoldjah', 'alex_everhart', 'njdotcom', 'Yahoo', 'truckin253', 'TracyTTraffic', 'RonFilipkowski', 'RobertWConnell', 'ArtValley818_', 'NBCNews', 'LeslieMarshall', 'JudgeJeanine', 'TimeToVoteRed', 'EliseStefanik', 'reda_getachew', 'HARRISFAULKNER', 'joeygilbertinc', 'Jim_Jordan', 'DanielCameronAG', 'DanniG_', 'LAist', 'morethanmySLE', 'jwjwtw1997', 'FoxNews', 'SenSherrodBrown', 'griffinjones25', 'SteveScalise', 'gatewaypundit', 'brian_goldstone', 'TexasTribune', 'BabeTruth2', 'EliseStefanik', 'Michell07799160', 'TheView', 'Alyssafarah', 'LemmeTriggerU', 'Antman0528', 'kwagular', 'katewand', 'newsmax', 'KellyannePolls', 'greg_price11', 'SpeakerPelosi', 'McFaul', 'jepersing', 'GOP', 'PARISDENNARD', 'foxnewsnight', 'AP', 'or_kend', 'Esqueer_', 'Jewtastic', 'm98135isN55HP', 'Acyn', 'yinzerchemist', 'Sweetchairdidy', 'KSLcom', 'RepAdamSchiff', 'JeffBezos', 'jtskaggs08', 'JBabin99', 'KySportsRadio', '_GuitarCat_', 'guitar550', 'TeamPelosi', 'stephenfgordon', 'newbornbaby', 'POTUS', 'IBEW', 'NolanR1', 'SuzanneMonyak', 'HargroveAlex', 'perrymetzger', 'Kat_Cammack', 'thedailybeast', 'Jim_Jordan', 'JamesDeMerit3', 'ohhnoitsco', 'ConSelfOwns', 'SenJohnKennedy', 'tedlieu', 'SenateGOP', 'LeaderMcConnell', 'DoctorNatasha', 'Mckenzi79691567', 'Constance_1844', 'miss_teabaggins', 'LilaGraceRose', 'RepMeijer', 'FoxNews', 'BeverlySmiley7', 'jeffrocks60', 'Freedom_Alley3', 'alexbruesewitz', 'DanCrenshawTX', 'SenTedCruz', 'Jaybefaunt', 'genej101', 'siushi', 'JoeBiden', 'CoryBooker', 'POTUS', 'SteveSebelius', 'jess_hillyeah', 'WSJ', 'IrishTimes', 'BenAltitude', 'DanCrenshawTX', 'ClayTravis', 'WRAL', 'Gods__Country', 'NatForTrump2024', 'theTennPatriot', 'RealZacStanley1', 'BarnhartDooie', 'RonFancy', 'tallnblonde1', 'angry_mema', 'dorthy_fromoz', 'AngryFleas', 'LifeNyc2', 'JAlan21813286', 'alshadowdancer', '2_drac', 'jbizzy6969', 'ijohnsullivan', 'teamphil', 'ijaydenx', 'tRick_the_only', 'fanoonman', 'DailyOptics', 'TomDoubting', 'PETERSARLENE', 'TallybanJoe', 'CarlosFeesh', 'JamesLauder12', 'abrahamdylan4', 'JorgeSoros7', 'HuntersArtWork', 'ShellyRKirchoff', 'HamRadioJoe', 'johnnyreindeer1', 'nitros1954', 'MJB24681', 'lostandlovinit', 'MusubiBrand', 'najjar_richard', 'ghost321', 'IZMKS44', 'Txsgntlmn737', 'Huckleberry1023', 'jimaw63', 'VinceGottalotta', 'Andy51115454', 'howienudet', 'vinniediego', 'hrt6017', 'VickiBevins', 'JamesCa70626795', 'DjSchwing', 'drewbeliever5', 'tisbury', 'wbz', 'ericswalwell', 'MeidasTouch', 'cnnbrk', 'RepThomasMassie', 'Naderadmirer', 'HerbDurgin', 'FoxNews', 'POTUS', 'elonmusk', 'GOP', 'TheDemocrats', 'CNN', 'DonaldJTrumpJr', 'CNN', 'SugarMAGA', 'viperx3', 'JackPosobiec', 'stclairashley', 'FoxNews', 'Yahoo', 'jsolomonReports', 'HouseJudiciary', 'briantylercohen', 'FoxNews', 'RepMarkGreen', 'Breaking911', 'Anastacya_99', 'RonFilipkowski', 'Abini90', 'RepMTG', 'srkovacs13', 'RNCResearch', 'Patriot28213036', 'mamabear222222', 'POTUS', 'FLOTUS', 'US_FDA', 'chiproytx', 'TuckerCarlson', 'NBCNews', 'JoeZvanut', 'KateBolduan', 'CNNPolitics', 'washingtonpost', 'kikiramirez996', 'seanhannity', 'TomCottonAR', 'FionaBski', 'SalHernandez', 'SteveLemongello', 'GovAbbott', 'BPUnion', 'RonFilipkowski', 'jeffanderson4', 'MeekooMiku', 'StephenKing', 'StephenM', 'newsmax', 'CatoInstitute', 'walker1314', 'maggie_kind', 'StephenKing', 'HarrenGWarding', 'Kat_Cammack', 'SenWarren', 'AllyChromatic', 'blgtylr', 'Robhandfield', 'NCState', 'SupplyChainNCSU', 'AHMalcolm', 'itsonlyme319', 'nypost', 'TheBabylonBee', 'VICENews', 'voxdotcom', 'POTUS', 'USATODAY', 'JoeBiden', 'BreitbartNews', 'oldguy_steve', 'RandPaul', 'TJLakers01', 'emma_lascurain', 'PMalfurious', 'Kat_Cammack', 'bbchealth', 'RedCrossAU', 'ifrc', 'marozzi_m', 'Albatross101422', 'Woody4123', 'NanetteDonnelly', 'TommyJD5150', 'CleeseRaymond', 'gama_ultra', 'SandraNotSandy1', 'RonFancy', 'TastyMorsel6', 'EnrelChi', 'CivilLost', 'spanna65', 'Flattielover', 'EducatingTrump2', 'SumatraSue', 'WHurensohn', 'ArikHagenEric', 'Emma34770971', 'jone45576835', 'Jennie_SC1', 'RepublicanRehab', 'steking823', 'giddy_bunny', 'marmiteisback', 'cl1ntonserver', 'LoneOwlImages', 'Q_Estrada', 'TimothyTobias2', 'LadyOfTheOcean1', 'GrieveNSpin', 'Sketchyjgaming', 'ShdwCo47', 'JeffMil76620840', 'JosephMarsilio1', 'gmarshall1965', 'CimoreneJeune', 'evasong049', 'JimlikesBB', 'RealDoctorT', 'greatgatsby8790', 'TractorLaw', 'Tired85121515', 'ShellyRKirchoff', 'FamousSheymus1', 'Spartan7831', 'BrianDeeseNEC', 'GeoffRBennett', 'thehill', 'voxdotcom', 'voxdotcom', 'Jacksontrenton3', 'thehill', 'VviewSsonicMair', 'ReadeAlexandra', 'CBSNews', 'CHueyBurns', 'RepTroyNehls', 'newsmax', 'libsoftiktok', 'POTUS', 'ShawnBullrun67', 'Truth_Hz_Donut', 'charliekirk11', 'RepAdamSchiff', 'JohnMoolenaar', 'MarshaBlackburn', 'AnagalisArvensi', 'RobertM82468294', 'bondrene1', 'Desmond22595685', 'washingtonpost', 'charliekirk11', 'KwakuOyo', 'marcorubio', 'catturd2', 'laurenboebert', 'NickTagliaferro', 'RepLoudermilk', 'SunsetDre', 'Walf36268424', 'LuisPerez621', 'Eric02881799', 'notrealpain', 'elonmusk', 'bessbell', 'allisonroyaltv', 'BetteMidler', 'bennyjohnson', 'klc4_trump', 'MailOnline', 'realMattMon', 'mattdizwhitlock', 'DonaldJTrumpJr', 'RogerMarshallMD', 'nypost', 'TuckerCarlson', 'POTUS', 'SenatorShaheen', 'thehill', 'elonmusk', 'Twitter', 'HillaryClinton', 'RepTedLieu', 'RepJohnLarson', 'JoaquinCastrotx', 'POTUS', 'lyn_durst', 'seanhannity', 'FoxNews', 'nap___queen', 'JoeBiden', 'SenRickScott', 'JoeBiden', 'Jim_Jordan', 'AaronParnas', 'davidmweissman', 'GOPChairwoman', 'dreamsofskies', 'agenderfox', 'RepStefanik', 'TomiLahren', 'POTUS', 'kylegriffin1', 'GOP', 'catturd2', 'RavenHawk4', 'TeamPelosi', 'GStephanopoulos', 'ThisWeekABC', 'JoeBiden', 'WHCOS', 'PeteButtigieg', 'KamalaHarris', 'BetteMidler', 'SpeakerPelosi', 'CNN', 'Acosta', 'DanaBashCNN', 'SenTedCruz', 'CWeeks68182124', 'LozzaFox', 'georgegalloway', 'GOPChairwoman', 'ScottAdamsSays', 'Brenda73998793', 'SueLincoln5', 'DonaldJTrumpJr', 'POTUS', 'kevinwitvliet00', 'newsmax', 'YouTube', 'BreitbartNews', 'Change', 'TimeToVoteRed', 'KeithOlbermann', 'Jules31415', 'yogiomm', 'MaryLTrump', 'POTUS', 'catturd2', 'GabbyOrr_', 'GOP', 'YouTube', 'HawleyMO', 'USATODAY', 'greggutfeld', 'FRANCE24', 'InadvertentEvil', 'ConceptualJames', 'TheLaurenChen', 'GregAbbott_TX', 'BPUnion', 'MuscleGothRose', 'MarshaBlackburn', 'RepBobbyRush', 'SenDuckworth', 'progressivebrat', 'bjornson_peter', 'Right4Liberty', 'MSNBC', 'MaddowBlog', 'GOP', 'SpeakerPelosi', 'agoodman0626', 'MattVerderame', 'coletti_frankie', 'LeachAtTheBeach', 'FoxNews', 'bourne_cia', 'lsferguson', 'POTUS', 'djbulnes', 'HawleyMO', 'TristanSnell', 'AbbottNews', 'Dena', 'Manningupsmart', 'TheSpaceGal', 'TSA', 'only1milky', 'KariLake', 'JesseKellyDC', 'BMeiselas', 'Chicago1Ray', 'dbongino', 'LouDobbs', 'CBSMoneyWatch', 'GodwinMeter', 'liberal_ca', 'Soiklug1', 'crimsonluna', 'kylegriffin1', 'johnpavlovitz', 'RepSwalwell', 'ActressPicsHQ', 'MarshaBlackburn', 'American', 'briantylercohen', 'CNN', 'thecountmaxwell', 'IsThisSatyre', 'Tiffany4444444', 'Kat_Cammack', 'Jim_Jordan', 'einman_susan', 'johnmit', 'clhubes', 'edmeyer_able', 'StephenM', 'RepChipRoy', 'greg_price11', 'chiproytx', 'csuttonauthor', 'CaseyPhillips1', 'badkid3061', 'oldebattleaxe', 'DonaldJTrumpJr', 'CanisVeritum', 'Jim_Jordan', 'RepMTG', 'briantylercohen', 'pennsylmade', 'Pineapple_Clout', 'BigSky_HODL', 'realPattyRusso', 'KJV614', 'Cernovich', 'CBSNews', 'laurenboebert', 'bennyjohnson', 'HouseGOP', 'marcorubio', 'Aggiev2yahooco1', 'marry05735613', 'Ratcrap3', 'Cernovich', 'ayposno', 'jpee622', 'GiGiF143', 'kylegriffin1', 'clhubes', 'heatherssomers', 'WMassNews', 'SkyNewsAust', 'SenJeffMerkley', 'SecBlinken', 'UN', 'JosepBorrellF', 'TheDemocrats', 'kurtbardella', 'EwanMacKenna', 'JesseKellyDC', 'linyanzi', 'RepAndyBiggsAZ', 'fredwalton216', 'RepSwalwell', 'ViolaAppleton6', 'pokerbitch1974', 'SummrWrites', 'GOP', 'Mary_MJR_2020', 'US_FDA', 'elonmusk', 'slashdot', 'FoxNews', 'BigBoobs_Milf', 'MarshaBlackburn', 'MilesTaylorUSA', 'NewsNancy9', 'SandraSentinel', 'MarshaBlackburn', 'GOPChairwoman', 'JohnFBachman', 'BiancaDLGarza', 'POTUS', 'ninaturner', 'mchooyah', 'CommodusJTrump', 'AlexMar30155240', 'MarshaBlackburn', 'ReynoldsTammy', 'dbeggs13', 'BeauTFC', 'GOP', 'ViralCarmichael', 'laurenboebert', 'elonmusk', 'BetteMidler', 'XyaHitaTomac', 'Kat_Cammack', 'RepMTG', 'POTUS', 'jrpsaki', 'cmishmom', 'GOPChairwoman', 'cutefont', 'AttemptXX4', 'backtolife_2022', 'CNNPolitics', 'POTUS', 'VP', 'SpeakerPelosi', 'chuckschumer', 'SenWarren', 'averieway', 'WNYOpenSchools', 'erichhartmann', 'JennyErikson', 'POTUS', 'WorldWisdom4', 'CyrusMMcQueen', 'GracieNunyabiz', 'JVER2ME', 'davidplazas', 'mattmurphyshow', 'DanMandisShow', 'NC5_BenHall', 'VoteMarsha', 'BillHagertyTN', 'timburchett', 'JohnRoseforTN', 'Scott_Couch', 'BlackCatUnloads', 'jacksma21685782', 'The_FJC', 'MAGA__Patriot', 'johniadarola', 'US_FDA', 'EliseStefanik', 'ChuckCallesto', 'RepDanCrenshaw', 'DanCrenshawTX', 'TuMadreTXMX', 'realDailyWire', 'PhfeWic', 'cspanwj', 'MariannaReports', 'mchalfant16', 'Kathy4Truth', 'cousin_pj', 'WhiteHouse', 'MSNBC', 'nickwestes', 'catturd2', 'hilts_priv', '_anamX', 'marcorubio', 'MSNBC', 'NoahCRothman', 'Jim_Jordan', 'FoxNews', 'JesseBWatters', 'AbbottNews', 'WestJournalism', 'marcorubio', 'EclecticHams', 'ViewFromFence', 'ColinAllredTX', 'GORT88', 'muchabs', 'TheRickWilson', 'nytimes', 'branco_domingos', 'JudiciaryGOP', 'GeraldoRivera', 'RNCResearch', 'ChoosyMother83', 'flakingbaking', 'Acosta', 'StephenM', 'EliseStefanik', 'RandyResist', 'Jim_Jordan', 'Cathyinvegas2', 'IngrahamAngle', 'JeffBezos', 'jUsTcLiNt69', 'rainmaker04', 'marcorubio', 'elonmusk', 'demunderground', 'BopBopBing', 'annarmitchell', 'NMalliotakis', 'Myworldagain1', 'HawleyMO', 'BlueSteelDC', 'RockyMountViews', 'RepPatFallon', 'HouseGOP', 'EROTHCJ5', 'RepStefanik', 'repdarrellissa', 'Celeste64882539', 'RobbersonJon', 'DarrenJBeattie', 'aaronflint', 'TheGingerarchy', 'Logically_JC', 'ReallyAmerican1', 'LoveToHikeUT', 'KimMangone', 'Jack__Daniel___', 'ValiantNewsLive', 'ACTBrigitte', 'RepJayapal', 'RepAOC', 'FeedingAlliance', 'newsmax', 'jasonselvig', 'ericswalwell', 'FoxNews', 'MeschkatConnie', 'glenn_resists', 'yesisworld', 'Lewd_Liz_', 'Esqueer_', 'TheTodayShow', 'mkolken', 'arnettwill', 'amazon', 'JustinTrudeau', 'Jim_Jordan', 'BetteMidler', 'JackPosobiec', 'MarshaBlackburn', 'JohnCornyn', 'SenTomCotton', 'SenTedCruz', 'SenatorWicker', 'Sen_JoeManchin', 'SenatorTimScott', 'SenJohnKennedy', 'HouseGOP', 'POTUS', 'kylegriffin1', 'EliseStefanik', 'LynneDubois', 'CupofJOE_', 'designmom', 'MSNBC', 'NoahCRothman', 'toddstarnes', 'RepPatFallon', 'moma_dance', 'ScubaStaten15', 'MurphyMike33076', 'ACTBrigitte', 'IngrahamAngle', 'danielkrouse4', '1ezilyamuzed', 'RadioGuyChris', '0xBlox', 'EricRSammons', 'WashTimes', 'tedcruz', 'KyleReiss3', 'WhiteHouse', 'JoeBiden', 'EliseStefanik', 'cryptob96218430', 'Meowmix23846679', 'john_at_the_bar', 'HillaryClinton', 'wisconsin1836', 'RepThompson', 'mikecinnh', 'CNNPolitics', 'bloglovin', 'DanCrenshawTX', 'surajpatelnyc', 'nytopinion', 'RogueCitizenOne', 'Sbh08Mae', 'IndivisibleOR5C', 'TuckerCarlson', 'SecretaryPete', 'democrats', 'democrats', 'SenJohnKennedy', 'Letstalkturkey1', 'WSJ', 'KimMangone', 'wesing4blue', 'GOPLeader', 'kylenabecker', 'Yolo304741', 'POTUS', 'ShellyDerks17', 'NormaJTorres', 'DNC', 'Nguyen_anime3', 'carlos_d_davis', 'thealanpowell', 'Kathcog', 'steverasch', 'politvidchannel', 'GOP', 'thehill', 'BreitbartNews', 'sayitnspinit', 'Papichi505', 'AmandaLarreni', 'Jennie_SC1', 'EducatingTrump2', 'LadyOfTheOcean1', 'RealDoctorT', 'Q_Estrada', 'TastyMorsel6', 'marmiteisback', 'EnrelChi', 'spanna65', 'Woody4123', 'GrieveNSpin', 'RepublicanRehab', 'WHurensohn', 'SnoJustis', 'Sketchyjgaming', 'TommyJD5150', 'AggressiveDem', 'dogsdontliket', 'ShdwCo47', 'Annie20554592', 'browneaglewings', 'JeffMil76620840', 'fred_rulz', 'JosephMarsilio1', 'gmarshall1965', 'Flattielover', 'cl1ntonserver', 'CimoreneJeune', 'evasong049', 'jeffschlueter1', 'JimlikesBB', 'greatgatsby8790', 'steking823', 'TractorLaw', 'CleeseRaymond', 'Emma34770971', 'Tired85121515', 'ShellyRKirchoff', 'RonFancy', 'SandraNotSandy1', 'SumatraSue', 'FamousSheymus1', 'donnnie', 'ReganLieutenant', 'eric_heffernan', 'Lurabyss', 'yammerapple', 'DanTypo', 'auntieamy90', 'LangmanVince', 'HollyforFlorida', 'US_FDA', 'BetteMidler', 'JoeSilverman7', 'JesseKellyDC', 'ElectionWiz', 'wirecutter', 'nytimes', 'RepJimBanks', 'Mary_MJR_2020', 'KamVTV', 'Maggie_Klaus', 'GOP', 'NRA', 'joncoopertweets', 'FoxNews', 'SenatorWarnock', 'WestJournalism', 'DH10516734', 'Mystical441', 'AnnCoulter', 'FoxNews', 'foxandfriends', 'MikeWSchwarz', 'libsoftiktok', 'RepStefanik', 'seanmdav', 'Silverdollar61', 'AndyBenham6', 'JDawsonTweets', 'MilesTaylorUSA', 'SenRickScott', 'dagenmcdowell', 'conniedocekal2', 'catturd2', 'Google', 'POTUS', 'JesseKellyDC', 'scottbraddock', 'GregAbbott_TX', 'MarshaBlackburn', 'BreitbartNews', 'stacyhrae', 'Ga21Renee', 'Lolabean41', 'igorbobic', 'SpeakerPelosi', 'EdLaborCmte', 'BobbyScott', 'POTUS', 'EliseStefanik', 'MarshaBlackburn', 'POTUS', 'rickcar72176160', 'EricGreitens', 'MalmsteadRonald', 'ABC', 'BaddCompani', 'Bonfire96', 'DonaldJTrumpJr', 'seanhannity', 'FaithVegans', 'MeidasTouch', 'JoeBiden', 'TwitchyTeam', 'MailOnline', 'GOP', 'GOP', 'TheAtlantic', 'ebruenig', 'laurenboebert', 'EliseStefanik', 'POTUS', 'ananavarro', 'briantylercohen', 'DaveMcCormickPA', 'tedcruz', 'laurenboebert', 'Chicago1Ray', 'dbongino', 'POTUS', 'JoeBiden', 'GOPChairwoman', 'MailOnline', 'SNTyrrell1', 'newsmax', 'RepMarkGreen', 'schomj', 'Jim_Jordan', 'Carried_Droner', 'AceOn_Ice', 'USResurrection', 'RealBunnyColvin', 'cwebbonline', 'CatoInstitute', 'GabAboutTrade', 'FoxBusiness', 'KennedyNation', 'CatoTrade', 'RepCarlos', 'gemmom24', 'JoyTaylorTalks', 'NancyRib', 'alex_ruiz44', 'GOP', 'Suv2015', 'SenJeffMerkley', 'SecBlinken', 'UN', 'JosepBorrellF', 'SDFLnews', 'MuellerSheWrote', 'BaddCompani', 'Phxwarpedview', 'CupofJOE_', 'designmom', 'Garyk72902103', 'LFTGLF4', 'HARRISFAULKNER', 'JaniceDean', 'MeghanMcCain', 'dagenmcdowell', 'kayleighmcenany', 'angelamcglowan', 'TomiLahren', 'KatiePavlich', 'mirandadevine', 'LydiaHuNews', 'tammybruce', 'kellysled50', 'RepMTG', 'MattMurchison', 'Gimpuslegend', 'miss_teabaggins', 'judytgolf', 'sandipantsmma', 'BearDownDan', 'POTUS', 'GOPLeader', 'Jim_Jordan', 'GOPLeader', 'DonaldJTrumpJr', 'GOP', 'KristaSparks95', 'RepStefanik', 'BernieSanders', 'JCisnerosTX', 'Nestle', 'TMZ', 'Gutfeldfox', 'MailOnline', 'FPWellman', 'itsnotnabiha', 'WhiteHouse', 'HawleyMO', 'GovWhitmer', 'POTUS', 'JoeBiden', 'GOP', 'LeaderMcConnell', 'GOPLeader', 'LindseyGrahamSC', 'marcorubio', 'Enfamil', 'ABC7SWFL', 'TomiLahren', 'MarshaBlackburn', 'SenRonJohnson', 'GOPChairwoman', 'DailyCaller', 'GeorgeTakei', 'ABC', 'TheKevinBoyd', 'MMFerre', 'RepWilson', 'GOP', 'GOP', 'hankgreen', 'POTUS', 'reason', 'x_Silli_x', 'DCFresh23', 'WiltingBrent', 'KamVTV', 'GOP', 'MarciaD9999', 'WIPatriots', 'Loki00715', 'CahnEmily', 'JoshButler', 'PeterDutton_MP', 'MatureFuckable', 'Jim_Jordan', 'foxandfriends', 'richardhetu', 'MSNBC', '45LVNancy', 'America1Scotty', 'DonaldJTrumpJr', 'rtrolly179', 'business', 'notcodyware', 'Sharky_Cartel', 'daltongood18', 'Kristenbrown426', 'MarshaBlackburn', 'KATVNews', 'ConceptualJames', 'clhubes', 'BetteMidler', 'BillFOXLA', 'DougMcClendon1', 'FoxNews', 'aamandaconrad', 'katydooscoob', 'gusfuckingus', 'PopCrave', 'Gatorwink21', 'laraseligman', 'PentagonPresSec', 'chooseintellect', 'Brasilmagic', 'aubreyhirsch', 'SpeakerPelosi', 'TomiLahren', 'laurenboebert', 'LivePDDave1', 'rachaiello', 'kylegriffin1', 'UrbanRebelDsign', 'janeclarejones', 'TeachEsp', 'RNCResearch', 'chefjoseandres', 'elonmusk', 'William80323524', 'InsiderNews', 'thehill', 'JohnLeFevre', 'DallissonSanto1', 'briantylercohen', 'dejensn', 'CNN']\n"
     ]
    }
   ],
   "source": [
    "user_mentions = []\n",
    "for i in range(len(all_tweets_sample)):\n",
    "    if isinstance(all_tweets_sample.entities.iloc[i], str):\n",
    "        #print(all_tweets_sample.entities.iloc[i])\n",
    "        entities = eval(all_tweets_sample.entities.iloc[i])\n",
    "        \n",
    "        if 'mentions' in entities.keys():\n",
    "            mentions = entities['mentions']\n",
    "            for mention in mentions:\n",
    "                #print(mention['username'])\n",
    "                user_mentions.append(mention['username'])\n",
    "                \n",
    "print(user_mentions)"
   ]
  },
  {
   "cell_type": "code",
   "execution_count": 68,
   "metadata": {},
   "outputs": [
    {
     "data": {
      "text/plain": [
       "['andybiggs4az',\n",
       " 'laurenboebert',\n",
       " 'lavern_spicer',\n",
       " 'seanfeucht',\n",
       " 'delina4az',\n",
       " 'harrisonjaime',\n",
       " 'timburchett',\n",
       " 'stephaniebice',\n",
       " 'claudiatenney',\n",
       " 'mattgaetz',\n",
       " 'cenkuygur',\n",
       " 'mowers',\n",
       " 'davidcicilline',\n",
       " 'michaelcburgess',\n",
       " 'tedlieu',\n",
       " 'replouiegohmert',\n",
       " 'ericswalwell',\n",
       " 'surajpatelnyc',\n",
       " 'hinsonashley',\n",
       " 'cathymcmorris',\n",
       " 'billhuizenga',\n",
       " 'chiproytx',\n",
       " 'michaelgwaltz',\n",
       " 'marcorubio',\n",
       " 'amyklobuchar',\n",
       " 'kelliwardaz',\n",
       " 'rosadelauro',\n",
       " 'bobforgovernor',\n",
       " 'lisamurkowski',\n",
       " 'ewarren',\n",
       " 'kyrstensinema',\n",
       " 'clairecmc',\n",
       " 'tatereeves',\n",
       " 'drscottjensen',\n",
       " 'chuckschumer',\n",
       " 'senrobportman',\n",
       " 'nanwhaley',\n",
       " 'tndp',\n",
       " 'tedcruz',\n",
       " 'texasdemocrats',\n",
       " 'marwilliamson',\n",
       " 'newtgingrich',\n",
       " 'timkaine',\n",
       " 'justinamash',\n",
       " 'brianschatz',\n",
       " 'mikepompeo',\n",
       " 'clairecmc',\n",
       " 'marcorubio']"
      ]
     },
     "execution_count": 68,
     "metadata": {},
     "output_type": "execute_result"
    }
   ],
   "source": [
    "def common_elements(list1, list2):\n",
    "    return [element for element in list1 if element in list2]\n",
    "\n",
    "pol_mentions = common_elements(politicians_usernames, user_mentions)\n",
    "pol_mentions"
   ]
  },
  {
   "cell_type": "code",
   "execution_count": 70,
   "metadata": {},
   "outputs": [
    {
     "name": "stdout",
     "output_type": "stream",
     "text": [
      "48\n",
      "46\n"
     ]
    }
   ],
   "source": [
    "print(len(pol_mentions))\n",
    "print(len(set(pol_mentions)))"
   ]
  },
  {
   "cell_type": "code",
   "execution_count": 71,
   "metadata": {},
   "outputs": [
    {
     "data": {
      "text/plain": [
       "{'andybiggs4az': 1,\n",
       " 'laurenboebert': 1,\n",
       " 'lavern_spicer': 1,\n",
       " 'seanfeucht': 1,\n",
       " 'delina4az': 1,\n",
       " 'harrisonjaime': 1,\n",
       " 'timburchett': 1,\n",
       " 'stephaniebice': 1,\n",
       " 'claudiatenney': 1,\n",
       " 'mattgaetz': 1,\n",
       " 'cenkuygur': 1,\n",
       " 'mowers': 1,\n",
       " 'davidcicilline': 1,\n",
       " 'michaelcburgess': 1,\n",
       " 'tedlieu': 1,\n",
       " 'replouiegohmert': 1,\n",
       " 'ericswalwell': 1,\n",
       " 'surajpatelnyc': 1,\n",
       " 'hinsonashley': 1,\n",
       " 'cathymcmorris': 1,\n",
       " 'billhuizenga': 1,\n",
       " 'chiproytx': 1,\n",
       " 'michaelgwaltz': 1,\n",
       " 'marcorubio': 2,\n",
       " 'amyklobuchar': 1,\n",
       " 'kelliwardaz': 1,\n",
       " 'rosadelauro': 1,\n",
       " 'bobforgovernor': 1,\n",
       " 'lisamurkowski': 1,\n",
       " 'ewarren': 1,\n",
       " 'kyrstensinema': 1,\n",
       " 'clairecmc': 2,\n",
       " 'tatereeves': 1,\n",
       " 'drscottjensen': 1,\n",
       " 'chuckschumer': 1,\n",
       " 'senrobportman': 1,\n",
       " 'nanwhaley': 1,\n",
       " 'tndp': 1,\n",
       " 'tedcruz': 1,\n",
       " 'texasdemocrats': 1,\n",
       " 'marwilliamson': 1,\n",
       " 'newtgingrich': 1,\n",
       " 'timkaine': 1,\n",
       " 'justinamash': 1,\n",
       " 'brianschatz': 1,\n",
       " 'mikepompeo': 1}"
      ]
     },
     "execution_count": 71,
     "metadata": {},
     "output_type": "execute_result"
    }
   ],
   "source": [
    "def CountFrequency(my_list):\n",
    " \n",
    "    # Creating an empty dictionary\n",
    "    freq = {}\n",
    "    for item in my_list:\n",
    "        if (item in freq):\n",
    "            freq[item] += 1\n",
    "        else:\n",
    "            freq[item] = 1\n",
    " \n",
    "    return freq\n",
    "\n",
    "CountFrequency(pol_mentions)"
   ]
  },
  {
   "cell_type": "code",
   "execution_count": 9,
   "metadata": {},
   "outputs": [
    {
     "data": {
      "text/html": [
       "<div>\n",
       "<style scoped>\n",
       "    .dataframe tbody tr th:only-of-type {\n",
       "        vertical-align: middle;\n",
       "    }\n",
       "\n",
       "    .dataframe tbody tr th {\n",
       "        vertical-align: top;\n",
       "    }\n",
       "\n",
       "    .dataframe thead th {\n",
       "        text-align: right;\n",
       "    }\n",
       "</style>\n",
       "<table border=\"1\" class=\"dataframe\">\n",
       "  <thead>\n",
       "    <tr style=\"text-align: right;\">\n",
       "      <th></th>\n",
       "      <th>id</th>\n",
       "      <th>text</th>\n",
       "      <th>author_id</th>\n",
       "      <th>entities</th>\n",
       "      <th>created_at</th>\n",
       "      <th>geo</th>\n",
       "      <th>public_metrics</th>\n",
       "      <th>author</th>\n",
       "    </tr>\n",
       "  </thead>\n",
       "  <tbody>\n",
       "    <tr>\n",
       "      <th>5985</th>\n",
       "      <td>1525066088832241664</td>\n",
       "      <td>@HawleyMO A better question is why are there s...</td>\n",
       "      <td>1469863678090612736</td>\n",
       "      <td>{'mentions': [{'start': 0, 'end': 9, 'username...</td>\n",
       "      <td>2022-05-13 10:51:04+00:00</td>\n",
       "      <td>{'name': 'Tipp City', 'country': 'United State...</td>\n",
       "      <td>{'retweet_count': 0, 'reply_count': 0, 'like_c...</td>\n",
       "      <td>{'created_at': '2021-12-12T02:56:43.000Z', 'na...</td>\n",
       "    </tr>\n",
       "    <tr>\n",
       "      <th>6208</th>\n",
       "      <td>1524925063094468608</td>\n",
       "      <td>@MartyMakary Not all moms can breastfeed. Some...</td>\n",
       "      <td>49140104</td>\n",
       "      <td>{'mentions': [{'start': 0, 'end': 12, 'usernam...</td>\n",
       "      <td>2022-05-13 01:30:41+00:00</td>\n",
       "      <td>{'name': 'East Brunswick', 'country': 'United ...</td>\n",
       "      <td>{'retweet_count': 0, 'reply_count': 0, 'like_c...</td>\n",
       "      <td>{'created_at': '2009-06-20T22:22:23.000Z', 'na...</td>\n",
       "    </tr>\n",
       "    <tr>\n",
       "      <th>2007</th>\n",
       "      <td>1527461315828240384</td>\n",
       "      <td>@gop is awesome… first they vote against fundi...</td>\n",
       "      <td>91940997</td>\n",
       "      <td>{'mentions': [{'start': 0, 'end': 4, 'username...</td>\n",
       "      <td>2022-05-20 01:28:51+00:00</td>\n",
       "      <td>{'place_type': 'city', 'country_code': 'US', '...</td>\n",
       "      <td>{'retweet_count': 0, 'reply_count': 0, 'like_c...</td>\n",
       "      <td>{'verified': False, 'id': '91940997', 'usernam...</td>\n",
       "    </tr>\n",
       "    <tr>\n",
       "      <th>5990</th>\n",
       "      <td>1525064382136434688</td>\n",
       "      <td>I don’t have a problem flipping anything but b...</td>\n",
       "      <td>479173913</td>\n",
       "      <td>{'urls': [{'start': 118, 'end': 141, 'url': 'h...</td>\n",
       "      <td>2022-05-13 10:44:17+00:00</td>\n",
       "      <td>{'name': 'Chicago', 'country': 'United States'...</td>\n",
       "      <td>{'retweet_count': 0, 'reply_count': 2, 'like_c...</td>\n",
       "      <td>{'created_at': '2012-01-31T02:56:58.000Z', 'na...</td>\n",
       "    </tr>\n",
       "    <tr>\n",
       "      <th>4249</th>\n",
       "      <td>1525865766574227456</td>\n",
       "      <td>@ybba2026 Agreed, my wife couldn't breastfeed....</td>\n",
       "      <td>156766828</td>\n",
       "      <td>{'mentions': [{'start': 0, 'end': 9, 'username...</td>\n",
       "      <td>2022-05-15 15:48:42+00:00</td>\n",
       "      <td>{'full_name': 'Linton Hall, VA', 'country': 'U...</td>\n",
       "      <td>{'retweet_count': 0, 'reply_count': 0, 'like_c...</td>\n",
       "      <td>{'name': 'Chris the Elder', 'verified': False,...</td>\n",
       "    </tr>\n",
       "    <tr>\n",
       "      <th>...</th>\n",
       "      <td>...</td>\n",
       "      <td>...</td>\n",
       "      <td>...</td>\n",
       "      <td>...</td>\n",
       "      <td>...</td>\n",
       "      <td>...</td>\n",
       "      <td>...</td>\n",
       "      <td>...</td>\n",
       "    </tr>\n",
       "    <tr>\n",
       "      <th>265</th>\n",
       "      <td>1528877407125417984</td>\n",
       "      <td>Today, as chair of our City’s Federal Legislat...</td>\n",
       "      <td>1262501793814085632</td>\n",
       "      <td>{'annotations': [{'start': 30, 'end': 58, 'pro...</td>\n",
       "      <td>2022-05-23 23:15:53+00:00</td>\n",
       "      <td>{'id': '01fbe706f872cb32', 'place_type': 'city...</td>\n",
       "      <td>{'retweet_count': 2, 'reply_count': 3, 'like_c...</td>\n",
       "      <td>{'created_at': '2020-05-18T21:54:45.000Z', 'us...</td>\n",
       "    </tr>\n",
       "    <tr>\n",
       "      <th>5494</th>\n",
       "      <td>1525197593889972224</td>\n",
       "      <td>The baby formula supply in our local Kroger to...</td>\n",
       "      <td>16306528</td>\n",
       "      <td>{'urls': [{'start': 149, 'end': 172, 'url': 'h...</td>\n",
       "      <td>2022-05-13 19:33:37+00:00</td>\n",
       "      <td>{'full_name': 'Kentucky, USA', 'place_type': '...</td>\n",
       "      <td>{'retweet_count': 0, 'reply_count': 2, 'like_c...</td>\n",
       "      <td>{'username': 'katieneal', 'id': '16306528', 'c...</td>\n",
       "    </tr>\n",
       "    <tr>\n",
       "      <th>2051</th>\n",
       "      <td>1527449866963521536</td>\n",
       "      <td>@BernieSanders @JCisnerosTX Senator,Dr. Biden,...</td>\n",
       "      <td>704092077185847296</td>\n",
       "      <td>{'urls': [{'start': 316, 'end': 339, 'url': 'h...</td>\n",
       "      <td>2022-05-20 00:43:21+00:00</td>\n",
       "      <td>{'place_type': 'city', 'country_code': 'US', '...</td>\n",
       "      <td>{'retweet_count': 0, 'reply_count': 0, 'like_c...</td>\n",
       "      <td>{'verified': False, 'id': '704092077185847296'...</td>\n",
       "    </tr>\n",
       "    <tr>\n",
       "      <th>7572</th>\n",
       "      <td>1524211729219133440</td>\n",
       "      <td>@FoxNews @EliseStefanik @RepStefanik @RepAshle...</td>\n",
       "      <td>23954676</td>\n",
       "      <td>{'mentions': [{'start': 0, 'end': 8, 'username...</td>\n",
       "      <td>2022-05-11 02:16:09+00:00</td>\n",
       "      <td>{'full_name': 'Bentleyville, OH', 'country_cod...</td>\n",
       "      <td>{'retweet_count': 0, 'reply_count': 3, 'like_c...</td>\n",
       "      <td>{'name': 'Hark! There's a knock on the phone!'...</td>\n",
       "    </tr>\n",
       "    <tr>\n",
       "      <th>2124</th>\n",
       "      <td>1527422650066386944</td>\n",
       "      <td>@nytimes No offence @BretBaier &amp;amp; i call as...</td>\n",
       "      <td>1521274311868309504</td>\n",
       "      <td>{'hashtags': [{'start': 246, 'end': 251, 'tag'...</td>\n",
       "      <td>2022-05-19 22:55:12+00:00</td>\n",
       "      <td>{'place_type': 'city', 'country_code': 'US', '...</td>\n",
       "      <td>{'retweet_count': 0, 'reply_count': 0, 'like_c...</td>\n",
       "      <td>{'verified': False, 'id': '1521274311868309504...</td>\n",
       "    </tr>\n",
       "  </tbody>\n",
       "</table>\n",
       "<p>100 rows × 8 columns</p>\n",
       "</div>"
      ],
      "text/plain": [
       "                       id                                               text  \\\n",
       "5985  1525066088832241664  @HawleyMO A better question is why are there s...   \n",
       "6208  1524925063094468608  @MartyMakary Not all moms can breastfeed. Some...   \n",
       "2007  1527461315828240384  @gop is awesome… first they vote against fundi...   \n",
       "5990  1525064382136434688  I don’t have a problem flipping anything but b...   \n",
       "4249  1525865766574227456  @ybba2026 Agreed, my wife couldn't breastfeed....   \n",
       "...                   ...                                                ...   \n",
       "265   1528877407125417984  Today, as chair of our City’s Federal Legislat...   \n",
       "5494  1525197593889972224  The baby formula supply in our local Kroger to...   \n",
       "2051  1527449866963521536  @BernieSanders @JCisnerosTX Senator,Dr. Biden,...   \n",
       "7572  1524211729219133440  @FoxNews @EliseStefanik @RepStefanik @RepAshle...   \n",
       "2124  1527422650066386944  @nytimes No offence @BretBaier &amp; i call as...   \n",
       "\n",
       "                author_id                                           entities  \\\n",
       "5985  1469863678090612736  {'mentions': [{'start': 0, 'end': 9, 'username...   \n",
       "6208             49140104  {'mentions': [{'start': 0, 'end': 12, 'usernam...   \n",
       "2007             91940997  {'mentions': [{'start': 0, 'end': 4, 'username...   \n",
       "5990            479173913  {'urls': [{'start': 118, 'end': 141, 'url': 'h...   \n",
       "4249            156766828  {'mentions': [{'start': 0, 'end': 9, 'username...   \n",
       "...                   ...                                                ...   \n",
       "265   1262501793814085632  {'annotations': [{'start': 30, 'end': 58, 'pro...   \n",
       "5494             16306528  {'urls': [{'start': 149, 'end': 172, 'url': 'h...   \n",
       "2051   704092077185847296  {'urls': [{'start': 316, 'end': 339, 'url': 'h...   \n",
       "7572             23954676  {'mentions': [{'start': 0, 'end': 8, 'username...   \n",
       "2124  1521274311868309504  {'hashtags': [{'start': 246, 'end': 251, 'tag'...   \n",
       "\n",
       "                    created_at  \\\n",
       "5985 2022-05-13 10:51:04+00:00   \n",
       "6208 2022-05-13 01:30:41+00:00   \n",
       "2007 2022-05-20 01:28:51+00:00   \n",
       "5990 2022-05-13 10:44:17+00:00   \n",
       "4249 2022-05-15 15:48:42+00:00   \n",
       "...                        ...   \n",
       "265  2022-05-23 23:15:53+00:00   \n",
       "5494 2022-05-13 19:33:37+00:00   \n",
       "2051 2022-05-20 00:43:21+00:00   \n",
       "7572 2022-05-11 02:16:09+00:00   \n",
       "2124 2022-05-19 22:55:12+00:00   \n",
       "\n",
       "                                                    geo  \\\n",
       "5985  {'name': 'Tipp City', 'country': 'United State...   \n",
       "6208  {'name': 'East Brunswick', 'country': 'United ...   \n",
       "2007  {'place_type': 'city', 'country_code': 'US', '...   \n",
       "5990  {'name': 'Chicago', 'country': 'United States'...   \n",
       "4249  {'full_name': 'Linton Hall, VA', 'country': 'U...   \n",
       "...                                                 ...   \n",
       "265   {'id': '01fbe706f872cb32', 'place_type': 'city...   \n",
       "5494  {'full_name': 'Kentucky, USA', 'place_type': '...   \n",
       "2051  {'place_type': 'city', 'country_code': 'US', '...   \n",
       "7572  {'full_name': 'Bentleyville, OH', 'country_cod...   \n",
       "2124  {'place_type': 'city', 'country_code': 'US', '...   \n",
       "\n",
       "                                         public_metrics  \\\n",
       "5985  {'retweet_count': 0, 'reply_count': 0, 'like_c...   \n",
       "6208  {'retweet_count': 0, 'reply_count': 0, 'like_c...   \n",
       "2007  {'retweet_count': 0, 'reply_count': 0, 'like_c...   \n",
       "5990  {'retweet_count': 0, 'reply_count': 2, 'like_c...   \n",
       "4249  {'retweet_count': 0, 'reply_count': 0, 'like_c...   \n",
       "...                                                 ...   \n",
       "265   {'retweet_count': 2, 'reply_count': 3, 'like_c...   \n",
       "5494  {'retweet_count': 0, 'reply_count': 2, 'like_c...   \n",
       "2051  {'retweet_count': 0, 'reply_count': 0, 'like_c...   \n",
       "7572  {'retweet_count': 0, 'reply_count': 3, 'like_c...   \n",
       "2124  {'retweet_count': 0, 'reply_count': 0, 'like_c...   \n",
       "\n",
       "                                                 author  \n",
       "5985  {'created_at': '2021-12-12T02:56:43.000Z', 'na...  \n",
       "6208  {'created_at': '2009-06-20T22:22:23.000Z', 'na...  \n",
       "2007  {'verified': False, 'id': '91940997', 'usernam...  \n",
       "5990  {'created_at': '2012-01-31T02:56:58.000Z', 'na...  \n",
       "4249  {'name': 'Chris the Elder', 'verified': False,...  \n",
       "...                                                 ...  \n",
       "265   {'created_at': '2020-05-18T21:54:45.000Z', 'us...  \n",
       "5494  {'username': 'katieneal', 'id': '16306528', 'c...  \n",
       "2051  {'verified': False, 'id': '704092077185847296'...  \n",
       "7572  {'name': 'Hark! There's a knock on the phone!'...  \n",
       "2124  {'verified': False, 'id': '1521274311868309504...  \n",
       "\n",
       "[100 rows x 8 columns]"
      ]
     },
     "execution_count": 9,
     "metadata": {},
     "output_type": "execute_result"
    }
   ],
   "source": [
    "geo_tweets = pd.read_json(\"data/baby_formula_geo.json\")\n",
    "geo_tweets_sample = geo_tweets.sample(100)\n",
    "geo_tweets_sample"
   ]
  },
  {
   "cell_type": "code",
   "execution_count": 27,
   "metadata": {},
   "outputs": [
    {
     "name": "stdout",
     "output_type": "stream",
     "text": [
      "['TX', 'TX', 'CO', 'TX', 'MA', 'MA', 'FL', 'USA', 'NY', 'PA', 'USA', 'AL', 'AL', 'PA', 'PA', 'NC', 'FL', 'IL', 'Columbia', 'TX', 'FL', 'USA', 'OK', 'CA', 'NC', 'FL', 'MA', 'MN', 'CA', 'CA', 'CA', 'CO', 'NY', 'Columbia', 'FL', 'MD', 'KY', 'NJ', 'OH', 'WA', 'USA', 'USA', 'USA', 'TX', 'TX', 'CO', 'MD', 'DC', 'MD', 'NV', 'NV', 'TX', 'TX', 'NY', 'CA', 'FL', 'AZ', 'AR', 'IL', 'CA', 'TX', 'WA', 'UT', 'WA', 'USA', 'NC', 'WA', 'WA', 'DC', 'Columbia', 'LA', 'DC', 'MO', 'Indonesia', 'FL', 'TX', 'DC', 'AL', 'AL', 'MA', 'MA', 'WA', 'TX', 'USA', 'USA', 'Manitoba', 'NV', 'NJ', 'NV', 'MI', 'AL', 'WI', 'NY', 'FL', 'TX', 'GA', 'USA', 'USA', 'IA', 'USA', 'CA', 'TN', 'TX', 'TX', 'CA', 'AZ', 'USA', 'NC', 'NJ', 'FL', 'OH', 'WI', 'USA', 'FL', 'NJ', 'NJ', 'USA', 'MA', 'USA', 'MN', 'TX', 'NM', 'AR', 'GA', 'USA', 'NJ', 'TX', 'NV', 'NJ', 'TX', 'NJ', 'DC', 'NE', 'SC', 'NV', 'USA', 'LA', 'NY', 'USA', 'USA', 'DC', 'IL', 'KS', 'USA', 'CA', 'GA', 'USA', 'NY', 'OH', 'AZ', 'AZ', 'Indonesia', 'NY', 'NY', 'USA', 'NV', 'FL', 'FL', 'WI', 'FL', 'FL', 'PA', 'WI', 'CO', 'TX', 'NY', 'ND', 'USA', 'NC', 'Brasil', 'USA', 'USA', 'FL', 'NH', 'Ontario', 'USA', 'Ontario', 'Ontario', 'MA', 'NJ', 'TX', 'Nigeria', 'CA', 'AL', 'Nigeria', 'AZ', 'NJ', 'Danmark', 'AZ', 'USA', 'USA', 'MS', 'USA', 'USA', '新加坡', 'MO', 'USA', 'USA', 'NY', 'Wales', 'NY', 'NY', 'AZ', 'MD', 'IL', 'NJ', 'AZ', 'GA', 'OH', 'GA', 'CA', 'CA', 'MT', 'OR', 'USA', 'TX', 'USA', 'WA', 'NY', 'WA', 'DC', 'CA', 'NY', 'USA', 'USA', 'Österreich', 'CA', 'भारत', 'MD', 'IN', 'NV', 'USA', 'NY', 'USA', 'CA', 'CA', 'NE', 'PA', 'NY', 'OH', 'USA', 'USA', 'NV', 'România', 'NE', 'CA', 'FL', 'PA', 'CA', 'FL', 'NY', 'TN', 'MI', 'USA', 'TX', 'WI', 'NY', 'School', 'SC', 'WA', 'NY', 'DE', 'MI', 'MI', 'USA', 'DC', 'DC', 'Victoria', 'TN', 'MD', 'MD', 'USA', 'GA', 'MI', 'OH', 'Yucatán', 'PA', 'OK', 'USA', 'OR', 'CA', 'OK', 'IL', 'MA', 'USA', 'USA', 'CA', 'USA', 'IL', 'NY', 'TX', 'UT', 'USA', 'IL', 'TX', 'CA', 'Queens', 'USA', 'CO', 'CA', 'AL', 'IN', 'NV', 'CA', 'USA', 'NJ', 'ID', 'USA', 'ID', 'ID', 'LA', 'CA', 'ID', 'CA', 'USA', 'NY', 'CO', 'NC', 'CA', 'USA', 'MI', 'Dundee', 'DC', 'USA', 'CO', 'PA', 'USA', 'USA', 'FL', 'OH', 'CA', 'USA', 'DC', 'OH', 'USA', 'MA', 'MN', 'OH', 'TX', 'MS', 'AZ', 'MI', 'OH', 'NY', 'KY', 'OH', 'NY', 'CA', 'CA', 'NC', 'NY', 'البحرين', 'USA', 'CA', 'MI', 'NC', 'CA', 'NM', 'TX', 'Ontario', 'AZ', 'TN', 'CO', 'CO', 'USA', 'TX', 'CA', 'FL', 'CA', 'WI', 'OH', 'CA', 'CO', 'USA', 'TX', 'NY', 'IL', 'GA', 'IL', 'MA', 'CA', 'CA', 'TX', 'NV', 'NC', 'NC', 'USA', 'USA', 'WA', 'NJ', 'Alberta', 'FL', 'MN', 'WA', 'England', 'USA', 'NY', 'England', 'TN', 'CA', 'KY', 'FL', 'USA', 'CA', 'IN', 'Iraq', 'GA', 'MT', 'DC', 'CA', 'TX', 'FL', 'USA', 'MA', 'NY', 'CA', 'MS', 'NY', 'CA', 'MI', 'España', 'AZ', 'England', 'WY', 'TX', 'USA', 'Lumpur', 'USA', 'WI', 'TX', 'TX', 'SC', 'AZ', 'USA', 'CA', 'CA', 'England', 'MD', 'DC', 'UT', 'GA', 'USA', 'UT', 'NY', 'TN', 'CA', 'DE', 'CA', 'CA', 'CA', 'VA', 'CA', 'IN', 'TN', 'GA', 'USA', 'WA', 'CA', 'MT', 'USA', 'MA', 'USA', 'USA', 'USA', 'OH', 'KY', 'NJ', 'CA', 'USA', 'Ελλάς', 'NJ', 'NH', 'MD', 'NY', 'USA', 'USA', 'NY', 'Canada', 'TX', 'CA', 'UT', 'NJ', 'MA', 'USA', 'PA', 'FL', 'WI', 'OH', 'IL', 'México', 'OK', 'NJ', 'NY', 'AZ', 'GA', 'KY', 'USA', 'Shqipëria', 'FL', 'KY', 'MA', 'FL', 'USA', 'USA', 'VA', 'NJ', 'USA', 'AZ', 'CT', 'SC', 'MN', 'USA', 'CA', 'CA', 'WI', 'NJ', 'TX', 'NJ', 'NJ', 'MA', 'NJ', 'MA', 'NJ', 'WI', 'USA', 'VA', 'CA', 'NV', 'WV', 'AZ', 'CA', 'NY', 'CA', 'MO', 'USA', 'MO', 'USA', 'TX', 'FL', 'CT', 'GA', 'CA', 'Portugal', 'USA', 'GA', 'Salvador', 'Oskars', 'Davao', 'MA', 'Brooklyn', 'Queensland', '中华人民共和国', 'NV', 'Queensland', 'CA', 'VA', 'TX', 'NC', 'CO', 'CA', 'Davao', 'OR', 'East', 'England', 'CA', 'FL', 'DC', 'OH', 'PA', 'USA', 'USA', 'MD', 'MD', 'DC', 'USA', 'UT', 'Wales', 'भारत', 'MA', 'CA', 'CA', 'USA', 'IL', 'USA', 'VA', 'TN', 'USA', 'USA', 'CA', 'USA', 'UT', 'CA', 'จ.เพชรบุรี', 'VA', 'CA', 'CA', 'CA', 'KY', 'CA', 'CA', 'NC', 'OR', 'FL', 'CA', 'TX', 'NV', 'Manitoba', 'NV', 'จ.ตาก', 'OH', 'USA', 'MA', 'NY', 'FL', 'USA', 'USA', 'NY', 'USA', 'LA', 'FL', 'DC', 'VA', 'FL', 'TN', 'USA', 'USA', 'NC', 'NC', 'AZ', 'USA', 'USA', 'OR', 'NY', 'CA', 'CA', 'Manitoba', 'USA', 'USA', 'USA', 'NM', 'IL', 'WA', 'USA', 'FL', 'AL', 'USA', 'IN', 'GA', 'TX', 'NY', 'FL', 'GA', 'USA', 'GA', 'OH', 'DC', 'WA', 'NV', 'USA', 'GA', 'TX', 'FL', 'UT', 'USA', 'FL', 'FL', 'USA', 'CA', 'PA', 'Nigeria', 'TX', 'USA', 'NJ', 'VA', 'Arteaga', 'CA', 'CO', 'FL', 'OH', 'CO', 'TX', 'USA', 'CA', 'FL', 'AZ', 'FL', 'VA', 'MA', 'USA', 'CA', 'USA', 'FL', 'FL', 'USA', 'USA', 'USA', 'AZ', 'FL', 'FL', 'FL', 'FL', 'USA', 'AL', 'SC', 'TX', 'TX', 'CA', 'NY', 'NJ', 'FL', 'FL', 'NY', 'IL', 'IL', 'OR', 'USA', 'MO', 'NY', 'FL', 'IL', 'USA', 'NJ', 'Kenya', 'NY', 'IL', 'TX', 'WI', 'NY', 'FL', 'TX', 'USA', 'FL', 'USA', 'TN', 'NC', 'FL', 'FL', 'WI', 'USA', 'Ontario', 'TN', 'FL', 'CA', 'PA', 'FL', 'OH', 'USA', 'CA', 'PA', 'Nederland', 'IA', 'CA', 'IL', 'NY', 'USA', 'MO', 'CA', 'NV', 'PA', 'TX', 'TX', 'MN', 'NV', 'MD', 'NY', 'IL', 'USA', 'VA', 'LA', 'DE', 'NV', 'OR', 'CA', 'AZ', 'TX', 'NY', 'DC', 'USA', 'CA', 'CA', 'CA', 'USA', 'Ireland', 'NJ', 'USA', 'NY', 'NY', 'NY', 'CA', 'CA', 'USA', 'FL', 'USA', 'Ontario', 'USA', 'CA', 'USA', 'CA', 'CA', 'CA', 'IN', 'USA', 'England', 'VA', 'MD', 'MD', 'TX', 'CA', 'WA', 'NY', 'FL', 'PA', 'España', 'TX', 'FL', 'Deutschland', 'FL', 'OH', 'Nigeria', 'PA', 'CA', 'IA', 'Jalisco', 'Rico', 'NM', 'FL', 'PA', 'FL', 'FL', 'OH', 'CA', 'USA', 'AZ', 'Africa', 'FL', 'FL', 'FL', 'NY', 'USA', 'MN', 'USA', 'USA', 'AK', 'MA', 'MA', 'FL', 'België', 'TX', 'TX', 'FL', 'MN', 'NY', 'TX', 'FL', 'FL', 'USA', 'WA', 'Australia', 'USA', 'WA', 'WA', 'WI', 'USA', 'NE', 'AR', 'MA', 'IL', 'MS', 'USA', 'OR', 'Kenya', 'TX', 'PA', 'NJ', 'AZ', 'USA', 'CA', 'FL', 'CA', 'France', 'USA', 'FL', 'USA', 'TX', 'CO', 'NY', 'TX', 'WI', 'USA', 'FL', 'CA', 'TX', 'OR', 'CA', 'OR', 'ID', 'Target', 'NY', 'MA', 'NY', 'NV', 'IL', 'TX', 'USA', 'NV', 'NJ', 'TN', 'NV', 'NY', 'CA', 'NJ', 'CA', 'USA', 'GA', 'DC', 'TX', 'CA', 'FL', 'States', 'TX', 'CA', 'TX', 'CO', 'FL', 'France', 'CA', 'VA', 'CA', 'OR', 'OR', 'Ontario', 'IA', 'NC', 'CA', 'OR', 'NV', 'WI', 'NY', 'FL', 'SC', 'CA', 'USA', 'NV', 'USA', 'FL', 'USA', 'USA', 'TX', 'AR', 'CA', 'CA', 'CO', 'NY', 'SC', 'CA', 'IN', 'Columbia', 'NJ', 'MI', 'USA', 'SC', 'IN', 'USA', 'NV', 'IL', 'IN', 'USA', 'UT', 'TX', 'NJ', 'TX', 'USA', 'NY', 'NC', 'GA', 'WA', 'CA', 'USA', 'FL', 'CA', 'USA', 'TN', 'WA', 'IN', 'USA', 'PA', 'Scotland', 'SC', 'CA', 'IN', 'AZ', 'SC', 'TX', 'KY', 'USA', 'Giulia', 'LA', 'NV', 'FL', 'USA', 'TX', 'FL', 'WY', 'CO', 'MA', 'USA', 'IL', 'AL', 'FL', 'FL', 'Ireland', 'NC', 'NE', 'Queensland', 'Airport', 'FL', 'FL', 'FL', 'FL', 'FL', 'FL', 'MO', 'FL', 'VA', 'USA', 'NY', 'GA', 'USA', 'AR', 'IN', 'USA', 'IA', 'USA', 'NY', 'Ontario', 'USA', 'USA', 'USA', 'NY', 'USA', 'MA', 'NY', 'USA', 'USA', 'USA', 'OH', 'MO', 'MO', 'Queensland', 'USA', 'England', 'PA', 'USA', 'IN', 'المتحدة', 'RI', 'CA', 'MI', 'Portugal', 'USA', 'CT', 'CT', 'Uganda', 'Ireland', 'CA', 'USA', 'USA', 'CO', 'Deutschland', 'CA', 'TX', 'NH', 'CA', 'WA', 'OH', 'CA', 'WA', 'England', 'UT', 'IN', 'FL', 'AZ', 'FL', 'FL', 'FL', 'FL', 'FL', 'FL', 'FL', 'CA', 'FL', 'FL', 'FL', 'FL', 'FL', 'MI', 'MD', 'NJ', 'TX', 'WA', 'NY', 'USA', 'FL', 'USA', 'PA', 'NY', 'WA', 'OR', 'CA', 'NE', 'CA', 'USA', 'WA', 'TX', 'PA', 'USA', 'NY', 'CA', 'FL', 'IL', 'CO', 'CA', 'USA', 'Brunswick', 'USA', 'FL', 'IL', 'OR', 'FL', 'FL', 'VA', 'USA', 'CA', 'NY', 'USA', 'MD', 'USA', 'USA', 'MI', '浪速区', 'USA', 'MI', 'USA', 'OR', 'TX', 'USA', 'NY', 'TX', 'USA', 'NY', 'USA', 'USA', 'Victoria', 'FL', 'USA', 'NE', 'TX', 'FL', 'PA', 'IL', 'USA', 'FL', 'Zealand', 'FL', 'DC', 'USA', 'TX', 'DC', 'FL', 'MA', 'TX', 'OR', 'OR', 'USA', 'TX', 'CA', 'Target', 'NY', 'TX', 'CA', 'DC', 'DC', 'KY', 'FL', 'WA', 'MO', 'FL', 'TN', 'CA', 'TN', 'FL', 'FL', 'Peru', 'USA', 'FL', 'USA', 'Victoria', 'OK', 'CO', 'NY', 'WI', 'NC', 'CA', 'LA', 'FL', 'PA', 'DC', 'UT', 'GA', 'CA', 'GA', 'FL', 'OR', 'OH', 'OH', 'CT', 'USA', 'FL', 'NC', 'England', 'USA', 'OR', 'TX', 'WA', 'FL', 'OH', 'TX', 'VA', 'NC', 'USA', 'FL', 'USA', 'TX', 'England', 'IL', 'IL', 'IA', 'NC', 'WA', 'NY', 'IL', 'WA', 'FL', 'Québec', 'CA', 'AZ', 'USA', 'NY', 'KY', 'GA', 'AR', 'CA', 'NY', 'MO', 'VA', 'Ontario', 'USA', 'MN', 'USA', 'IL', 'PA', 'IL', 'USA', 'IN', 'Lazio', 'WI', 'TX', 'USA', 'USA', 'CO', 'NJ', 'PA', 'NJ', 'OH', 'Saint-Martin', 'MS', 'USA', 'NJ', 'Indonesia', 'Ontario', 'CT', 'SC', 'CO', 'GA', 'CA', 'PA', 'IL', 'CA', 'MO', 'CA', 'Portugal', 'WA', 'SC', 'FL', 'USA', 'LA', 'MA', 'USA', 'MA', 'MD', 'USA', 'USA', 'Deutschland', 'AZ', 'England', 'USA', 'CA', 'FL', 'FL', 'CO', 'TN', 'Alberta', 'USA', 'USA', 'FL', 'IA', 'USA', 'WI', 'TX', 'TX', 'DC', 'IA', 'USA', 'TX', 'USA', 'MI', 'IN', 'MI', 'MI', 'TX', 'USA', 'GA', 'ID', 'USA', 'Victoria', 'USA', 'MD', 'NY', 'OH', 'USA', 'FL', 'USA', 'TX', 'LA', 'MI', 'NY', 'MA', 'USA', 'AR', 'OH', 'PA', 'TX', 'MN', 'NY', 'NY', 'FL', 'TX', 'USA', 'CA', 'Mountains', 'Rico', 'Alberta', 'CA', 'Sabah', 'TX', 'Danmark', 'USA', 'KY', 'GA', 'Nam', 'GA', 'Nederland', 'NH', 'TX', 'OH', 'OH', 'OH', 'TX', 'CA', 'ישראל', 'NV', 'PA', 'TX', 'TX', 'VA', 'CA', 'CA', 'AZ', 'AZ', 'USA', 'TX', 'CA', 'USA', 'USA', 'CO', 'NV', 'USA', 'OK', 'TX', 'FL', 'FL', 'FL', 'FL', 'FL', 'FL', 'FL', 'OH', 'FL', 'CA', 'CA', 'CA', 'ID', 'GA', 'Ontario', 'AZ', 'MN', 'TX', 'Bear', 'NV', 'NV', 'NV', 'USA', 'USA', 'TX', 'TX', 'Columbia', 'NY', 'المتحدة', 'USA', 'NE', 'USA', 'PA', 'USA', 'USA', 'USA', 'USA', 'NV', 'MD', 'IA', 'CA', 'MD', 'FL', 'USA', 'NM', 'Québec', 'USA', 'WI', 'USA', 'FL', 'England', 'NY', 'TX', 'Manitoba', 'USA', 'MO', 'CO', 'WA', 'KY', 'WA', 'NV', 'MO', 'USA', 'MI', 'USA', 'KS', 'AZ', 'MO', 'RI', 'CA', 'USA', 'MI', 'MN', 'PA', 'NJ', 'USA', 'FL', 'WA', 'KY', 'IL', 'IL', 'NY', 'Ontario', 'TN', 'AL', 'NV', 'WA', 'Columbia', 'LA', 'Luzon', 'CA', 'FL', 'CA', 'TX', 'USA', 'OK', 'USA', 'Victoria', 'MO', 'NY', 'VA', 'CO', 'NJ', 'USA', 'OK', 'SC', 'MI', 'ישראל', 'CA', 'CA', 'TN', 'USA', 'MD', 'SC', 'WA', 'USA', 'FL', 'IA', 'CA', 'CA', 'USA', 'USA', 'FL', 'NC', 'GA', 'OR', 'England', 'USA', 'USA', 'TX', 'UT', 'TX', 'CA', 'NJ', 'CA', 'Ontario', 'WA', 'USA', 'UT', 'FL', 'CA', 'CA', 'SC', 'Alberta', 'CA', 'CA', 'Ireland', 'FL', 'USA', 'CA', 'MD', 'MI', 'Saskatchewan', 'MD', 'FL', 'IN', 'IN', 'KS', 'MD', 'Saskatchewan', 'NV', 'USA', 'TX', 'OH', 'OH', 'FL', 'USA', 'USA', 'USA', 'USA', 'AZ', 'USA', 'USA', 'USA', 'USA', 'MA', 'USA', 'IN', 'USA', 'IL', 'USA', 'USA', 'England', 'IL', 'USA', 'Manitoba', 'NV', 'OH', 'WA', 'OH', 'AZ', 'England', 'CA', 'TX', 'ID', 'USA', 'DC', 'NC', 'UT', 'Manitoba', 'TN', 'USA', 'USA', 'Ireland', 'Ireland', 'SC', 'CA', 'FL', 'Ireland', 'USA', 'NY', 'NY', 'NV', 'FL', 'USA', 'NY', 'PA', 'TN', 'NY', 'MD', 'USA', 'CA', 'VA', 'CA', 'KY', 'KY', 'OH', 'IA', 'FL', 'GA', 'WI', 'MA', 'CA', 'USA', 'USA', 'IL', 'CA', 'NH', 'CO', 'NY', 'USA', 'AZ', 'NV', 'NY', 'NY', 'FL', 'OH', 'USA', 'OH', 'SC', 'USA', 'USA', 'Barbuda', 'DC', 'IN', 'OH', 'AZ', 'Ontario', 'CA', 'England', 'Algeria', 'WI', 'IL', 'School', 'CA', 'DC', 'FL', 'MS', 'AL', 'FL', 'FL', 'TX', 'USA', 'IL', 'TX', 'FL', 'FL', 'FL', 'FL', 'LA', 'MO', 'NM', 'WA', 'VA', 'PA', 'USA', 'NC', 'AZ', 'NY', 'TX', 'MT', 'OR', 'MI', 'USA', 'SD', 'GA', 'MO', 'USA', 'MA', 'NY', 'CA', 'UT', 'USA', 'England', 'TX', 'ID', 'England', 'MI', 'USA', 'MD', 'CA', 'NY', 'NJ', 'NY', 'CA', 'CA', 'CA', 'NY', 'USA', 'CA', 'GA', 'Deutschland', 'NJ', 'FL', 'MN', 'USA', 'USA', 'GA', 'FL', 'OH', 'CA', 'TX', 'Alberta', 'OH', 'MA', 'MA', 'TN', 'USA', 'WY', 'TN', 'SC', 'USA', 'USA', 'CA', 'NY', 'CA', 'TX', 'TX', 'USA', 'KY', 'DC', 'TN', 'USA', 'OH', 'TN', 'CA', 'México', 'NY', 'Ontario', 'NY', 'NH', 'TX', 'Peru', 'NY', 'MI', 'USA', 'CA', 'TX', 'MI', 'GA', 'NC', 'GA', 'MI', 'MI', 'SC', 'IL', 'NE', 'USA', 'USA', 'CA', 'CA', 'Queensland', 'USA', 'OH', 'GA', 'OH', 'OH', 'MA', 'MD', 'PA', 'MA', 'IN', 'FL', 'CA', 'TX', 'USA', 'Kazakhstan', 'Kazakhstan', 'Kazakhstan', 'Kazakhstan', 'Kazakhstan', 'Kazakhstan', 'Kazakhstan', 'Kazakhstan', 'FL', 'FL', 'USA', 'NY', 'USA', 'Kazakhstan', 'Kazakhstan', 'Kazakhstan', 'Kazakhstan', 'NY', 'Kazakhstan', 'Kazakhstan', 'Kazakhstan', 'Kazakhstan', 'NM', 'NY', 'SC', 'IL', 'USA', 'ID', 'Wales', 'DC', 'FL', 'NY', 'MI', 'AL', 'AL', 'USA', 'NY', 'NY', 'FL', 'TX', 'MA', 'MO', 'NJ', 'FL', 'England', 'CA', 'England', 'England', 'Bahamas', 'TN', 'England', 'NY', 'IL', 'USA', 'NY', 'AZ', 'Brasil', 'WV', 'TX', 'USA', 'CO', 'USA', 'FL', 'FL', 'USA', 'GA', 'Scotia', 'FL', 'USA', 'Scotia', 'NJ', 'USA', 'TX', 'USA', 'FL', 'ประเทศไทย', 'KY', 'GA', 'NY', 'England', 'RI', 'ישראל', 'SOCCSKSARGEN', 'FL', 'MA', 'AZ', 'AZ', 'AZ', 'AL', 'MN', 'MN', 'VA', 'FL', 'CA', 'WY', 'USA', 'OR', 'TX', 'WA', 'CA', 'FL', 'WA', 'SC', 'CA', 'Alberta', 'CA', 'CA', 'Scotland', 'USA', 'GA', 'SC', 'USA', 'OK', 'OR', 'NV', 'VA', 'IL', 'IL', 'Africa', 'OH', 'Sur', 'MA', 'NH', 'USA', 'CA', 'MA', 'MA', 'USA', 'MO', 'Marche', 'IL', 'TX', 'CA', 'CO', 'NY', 'VA', 'CA', 'VA', 'TX', 'USA', 'TX', 'TX', 'CA', 'TX', 'TX', 'VA', 'CA', 'FL', 'TX', 'MD', 'CA', 'IL', 'USA', 'USA', 'NV', 'Mauritius', 'NV', 'TX', 'USA', 'CT', 'NY', 'CA', 'USA', 'WA', 'AZ', 'Ontario', 'USA', 'AR', 'CO', 'USA', 'PA', 'CA', 'USA', 'MO', 'FL', 'PA', 'KY', 'PA', 'AL', 'AL', 'NY', 'TX', 'VA', 'CA', 'CA', 'USA', 'MI', 'FL', 'USA', 'LA', 'WA', 'NY', 'NE', 'MD', 'PA', 'NC', 'USA', 'SC', 'MO', 'TX', 'USA', 'NM', 'CA', 'USA', 'NV', 'TN', 'MN', 'NJ', 'DC', 'OK', 'NJ', 'TX', 'MN', 'CA', 'TX', 'USA', 'OK', 'NM', 'NM', 'MN', 'Ireland', 'Saskatchewan', 'UT', 'OK', 'LA', 'PA', 'USA', 'NY', 'LA', 'AZ', 'MD', 'USA', 'USA', 'CA', 'SC', 'MI', 'USA', 'CO', 'FL', 'CA', 'VA', 'CA', 'USA', 'Québec', 'MD', 'CA', 'VA', 'Ontario', 'AZ', 'IL', 'IA', 'FL', 'FL', 'TX', 'NE', 'TX', 'NY', 'NY', 'TX', 'CA', 'CA', 'OR', 'OH', 'Islands', 'NH', 'GA', 'Room', 'USA', 'WA', 'TX', 'FL', 'USA', 'USA', 'USA', 'NJ', 'ID', 'PA', 'AR', 'FL', 'FL', 'MA', 'NJ', 'NJ', 'TN', 'TX', 'IA', 'AL', 'USA', 'Australia', 'PA', 'PA', 'IA', 'OR', 'NY', 'USA', 'NM', 'OH', 'USA', 'CA', 'USA', 'CA', 'WA', 'ID', 'Temple', 'USA', 'USA', 'MD', 'NJ', 'NY', 'USA', 'USA', 'USA', 'VA', 'USA', 'CA', 'USA', 'VA', 'TX', 'USA', 'TX', 'USA', 'CA', 'TX', 'TX', 'USA', 'CA', 'AZ', 'IN', 'OH', 'OH', 'OH', 'TN', 'KY', 'CA', 'MI', 'MD', 'CA', 'WA', 'TN', 'USA', 'NY', 'DC', 'CA', 'NY', 'MO', 'NY', 'USA', 'NC', 'CA', 'WV', 'CA', 'OH', 'SC', 'OR', 'NC', 'NJ', 'WA', 'USA', 'MA', 'WA', 'IL', 'USA', 'NV', 'NH', 'IL', 'OH', 'SC', 'NJ', 'NM', 'MA', 'OH', 'USA', 'IA', 'NC', 'GA', 'WA', 'TX', 'AL', 'USA', 'OH', 'NC', 'USA', 'VA', 'CA', 'GA', 'MS', 'TX', 'NY', 'DE', 'USA', 'London', 'TN', 'Center', 'CA', 'TX', 'USA', 'NJ', 'CA', 'NY', 'NC', 'CA', 'DC', 'VA', 'USA', 'OH', 'CA', 'OH', 'England', 'OR', 'FL', 'TX', 'USA', 'USA', 'NM', 'FL', 'NY', 'IN', 'USA', 'CA', 'CA', 'USA', 'MI', 'IN', 'ID', 'NJ', 'OH', 'NM', 'IN', 'NY', 'MA', 'TX', 'CO', 'USA', 'IN', 'USA', 'States', 'USA', 'Senate', 'USA', 'IN', 'SC', 'TN', 'CT', 'CA', 'KY', 'OR', 'FL', 'USA', 'NM', 'FL', 'FL', 'NM', 'USA', 'NC', 'Hospital', 'FL', 'WA', 'IN', 'OK', 'IL', 'MN', 'USA', 'USA', 'Hrvatska', 'USA', 'DC', 'NY', 'FL', 'NC', 'CA', 'FL', 'DC', 'CA', 'MO', 'NY', 'MO', 'FL', 'NY', 'VA', 'MI', 'NY', 'NY', 'CA', 'MI', 'CA', 'CA', 'Manitoba', 'WA', 'CA', 'OK', 'CA', 'WA', 'SD', 'لبنان', 'IA', 'TN', 'TX', 'OK', 'London', 'MD', 'DC', 'FL', 'CA', 'TX', 'CA', 'MA', 'SC', 'ID', 'WA', 'DC', 'OR', 'PA', 'California', 'TX', 'NY', 'TX', 'USA', 'DC', 'USA', 'DC', 'CO', 'IN', 'NJ', 'CA', 'IL', 'VA', 'GA', 'Portugal', 'USA', 'CA', 'PA', 'TX', 'NY', 'DC', 'TX', 'AZ', 'AR', 'FL', 'FL', 'CA', 'FL', 'TN', 'VA', 'CA', 'USA', 'NY', 'DC', 'CO', 'TX', 'VA', 'IL', 'CA', 'OH', 'CO', 'England', 'USA', 'NE', 'ID', 'GA', 'CA', 'Rehiyon', 'OR', 'MA', 'USA', 'OH', 'MD', 'WA', 'VA', 'FL', 'OR', 'OR', 'LA', 'CO', 'USA', 'CA', 'USA', 'CA', 'TX', 'MD', 'USA', 'CA', 'WA', 'WA', 'USA', 'NV', 'USA', 'MN', 'USA', 'SD', 'TX', 'USA', 'USA', 'FL', 'IA', 'USA', 'UT', 'CA', 'FL', 'CO', 'USA', 'VA', 'OR', 'CA', 'WA', 'AZ', 'MN', 'VA', 'GA', 'CA', 'CA', 'USA', 'IL', 'NY', 'TX', 'NY', 'TX', 'CA', 'MN', 'MA', 'CA', 'WA', 'NY', 'TN', 'NY', 'GA', 'USA', 'NY', 'NY', 'KY', 'NW', 'TX', 'TX', 'DC', 'CA', 'California', 'USA', 'WI', 'SC', 'GA', 'KY', 'USA', 'IN', 'IN', 'USA', 'USA', 'AZ', 'USA', 'AL', 'IN', 'NM', 'SD', 'CO', 'USA', 'Alberta', 'IN', 'USA', 'CT', 'CA', 'TX', 'CA', 'TX', \"O'Hare\", 'USA', 'IN', 'USA', 'CT', 'NC', 'NJ', 'CO', 'IN', 'AZ', 'GA', 'NJ', 'FL', 'IN', 'IN', 'TX', 'USA', 'RI', 'NY', 'TX', 'IN', 'PA', 'MN', 'TX', 'TX', 'VA', 'MT', 'FL', 'USA', 'NV', 'Pool', 'FL', 'Brasil', 'IL', 'NY', 'VA', 'FL', 'IL', 'VA', 'Nederland', 'CA', 'MD', 'AZ', 'VA', 'NY', 'USA', 'AZ', 'OH', 'USA', 'CA', 'Capitol', 'WI', 'NC', 'TN', 'TX', 'USA', 'CA', 'FL', 'TX', 'USA', 'CA', 'USA', 'OK', 'GA', 'MD', 'USA', 'TX', 'TX', 'WA', 'OH', 'CA', 'OH', 'AZ', 'NY', 'NE', 'OR', 'MA', 'AZ', 'CA', 'TX', 'USA', 'USA', 'MO', 'OH', 'USA', 'FL', 'OR', 'USA', 'OH', 'NJ', 'USA', 'USA', 'NJ', 'ID', 'USA', 'GA', 'USA', 'USA', 'NH', 'NE', 'CA', 'TX', 'IN', 'DC', 'Rico', 'NY', 'TN', 'NY', 'IL', 'NV', 'CA', 'NC', 'NY', 'OH', 'WI', 'Québec', 'OH', 'TX', 'USA', 'WA', 'USA', 'IL', 'OH', 'USA', 'NY', 'NC', 'VA', 'CA', 'England', 'DE', 'USA', 'DC', 'NJ', 'USA', 'TX', 'TX', 'FL', 'CA', 'TN', 'FL', 'FL', 'FL', 'USA', 'WI', 'USA', 'TX', 'VA', 'USA', 'TX', 'USA', 'USA', 'MO', 'AR', 'USA', 'USA', 'USA', 'USA', 'MO', 'FL', 'OH', 'England', 'TN', 'England', 'IL', 'USA', 'USA', 'OR', 'Québec', 'IA', 'USA', 'CO', 'NY', 'Québec', 'MN', 'IL', 'OK', 'IL', 'FL', 'NJ', 'FL', 'FL', 'Machine', 'MO', 'USA', 'CA', 'USA', 'USA', 'Mountain', 'FL', 'FL', 'NY', 'VA', 'IN', 'FL', 'PA', 'NY', 'NH', 'CA', 'USA', 'FL', 'USA', 'Bahamas', 'FL', 'USA', 'KY', 'CT', 'UT', 'MS', 'CO', 'AZ', 'Ontario', 'USA', 'UT', 'NY', 'PA', 'USA', 'GA', 'USA', 'USA', 'TX', 'Québec', 'TX', 'NJ', 'OH', 'TX', 'USA', 'MA', 'PA', 'TN', 'PA', 'FL', 'FL', 'TX', 'GA', 'WA', 'FL', 'TX', 'NY', 'NY', 'TN', 'London', 'FL', 'FL', 'IN', 'NJ', 'IL', 'DC', 'MI', 'USA', 'USA', 'NJ', 'Ethiopia', 'MD', 'भारत', 'FL', 'FL', 'CT', 'USA', 'IL', 'MA', 'PA', 'VA', 'NY', 'NY', 'NY', 'MI', 'PA', 'USA', 'NC', 'FL', 'Scotia', 'NC', 'CT', 'TX', 'MI', 'England', 'GA', 'USA', 'MD', 'England', 'MD', 'MD', 'Queensland', 'OH', 'WA', 'WY', 'OH', 'Rico', 'FL', 'België', 'Zambia', 'OH', 'OH', 'OH', 'OR', 'OH', 'CA', 'CA', 'UT', 'Columbia', 'England', 'Zambia', 'England', 'OH', 'France', 'NV', 'TX', 'AR', 'FL', 'भारत', 'CA', 'AR', 'USA', 'IA', 'AR', 'FL', 'OR', 'USA', 'IA', 'PA', 'CA', 'MN', 'CA', 'FL', 'IA', 'Wales', 'GA', 'KY', 'MN', 'BevMo!', 'USA', 'GA', 'CA', 'FL', 'OR', 'OH', 'Ontario', 'Sverige', 'NY', 'ישראל', 'AZ', 'NY', 'TX', 'NC', 'FL', 'AZ', 'NC', 'TX', 'NC', 'IL', 'NC', 'HI', 'CA', 'NM', 'CA', 'USA', 'NC', 'USA', 'FL', 'USA', 'Australia', 'WA', 'CA', 'NV', 'USA', 'TX', 'NV', 'USA', 'PA', 'CA', 'CO', 'TX', 'TX', 'TX', 'USA', 'CA', 'USA', 'CA', 'NY', 'UT', 'AZ', 'Columbia', 'Rico', 'NY', 'NY', 'USA', 'IL', 'CO', 'USA', 'FL', 'USA', 'ישראל', 'WA', 'NM', 'TX', 'NM', 'NM', 'NM', 'MO', 'USA', 'ME', 'NJ', 'USA', 'USA', 'DC', 'USA', 'SC', 'FL', 'USA', 'CA', 'CA', 'CA', 'PA', 'OH', 'CA', 'DC', 'CA', 'PA', 'CA', 'OH', 'IL', 'ID', 'TX', 'AZ', 'MO', 'TN', 'USA', 'USA', 'MA', 'USA', 'CA', 'OH', 'IL', 'VA', 'DC', 'MA', 'USA', 'TX', 'NV', 'PA', 'USA', 'USA', 'PA', 'CA', 'USA', 'TN', 'Nigeria', 'MI', 'CA', 'TX', 'CO', 'PA', 'SC', 'AR', 'USA', 'USA', 'CA', 'USA', 'CA', 'TX', 'IL', 'VA', 'TN', 'CA', 'MN', 'PA', 'IN', 'Vancouver', 'TX', 'Ontario', 'IL', 'PA', 'MI', 'NY', 'NY', 'TX', 'FL', 'Victoria', 'CA', 'Ontario', 'MI', 'Manitoba', 'TX', 'OH', 'IL', 'KY', 'USA', 'ประเทศไทย', 'Saskatchewan', 'PA', 'LA', 'CA', 'Saskatchewan', 'IN', 'USA', 'IN', 'CA', 'TN', 'DC', 'USA', 'MI', 'OR', 'WA', 'CO', '新加坡', 'USA', 'DC', 'DC', 'CA', 'PA', 'PA', 'CA', 'NM', 'KY', 'CA', 'VA', 'SC', 'CT', 'WA', 'Wales', 'IA', 'NY', 'CA', 'DC', 'CA', 'IL', 'FL', 'CA', 'USA', 'TX', 'KS', 'CA', 'TX', 'MI', 'MI', 'CA', 'TN', 'CA', 'AK', 'TX', 'MA', 'Québec', 'Ontario', 'DC', 'FL', 'MT', 'USA', 'USA', 'IN', 'NY', 'WA', 'USA', 'MD', 'UT', 'DC', 'NV', 'NJ', 'DC', 'CA', 'Ontario', 'IL', 'NY', 'FL', 'OH', 'TX', 'MA', 'NV', 'AL', 'USA', 'NC', 'USA', 'USA', 'CA', 'DC', 'NY', 'MI', 'CT', 'USA', 'CA', 'England', 'DC', 'FL', 'FL', 'FL', 'USA', 'CA', 'OR', 'CA', 'FL', 'NJ', 'OR', 'NC', 'FL', 'NC', 'FL', 'OR', 'Wales', 'OH', 'IN', 'USA', 'USA', 'NC', 'CT', 'GA', 'TX', 'AZ', 'FL', 'IL', 'NC', 'GA', 'USA', 'Park', 'TX', 'CA', 'OH', 'Ontario', 'OH', 'AZ', 'CO', 'MD', 'IL', 'WA', 'NV', 'OH', 'NJ', 'OH', 'Ontario', 'OH', 'NJ', 'KS', 'CA', 'GA', 'IL', 'IL', 'MO', 'Ontario', 'NC', 'USA', 'MN', 'FL', 'England', 'England', 'USA', 'USA', 'PA', 'TX', 'Scotia', 'Norge', 'USA', 'USA', 'FL', 'Zealand', 'OH', 'NV', 'NM', 'England', 'FL', 'USA', 'USA', 'USA', 'MI', 'USA', 'USA', 'IL', 'CA', 'KY', 'USA', 'WA', 'NY', 'NY', 'India', 'USA', 'USA', 'TX', 'CA', 'TX', 'CA', 'MO', 'NY', 'FL', 'CA', 'USA', 'TX', 'USA', 'TX', 'Deutschland', 'NY', 'VA', 'TX', 'CA', 'OK', 'USA', 'USA', 'TX', 'GA', 'MA', 'CA', 'CA', 'NE', 'FL', 'CA', 'USA', 'ID', 'England', 'USA', 'CA', 'CA', 'Québec', 'OH', 'PA', 'CO', 'TX', 'Sverige', 'TX', 'VT', 'MA', 'USA', 'MS', 'MN', 'TX', 'OK', 'MD', 'MA', 'USA', 'CA', 'FL', 'FL', 'CA', 'England', 'PA', 'PA', 'MO', 'NJ', 'FL', 'CA', 'FL', 'TX', 'NM', 'NM', 'USA', 'USA', 'NJ', 'London', 'FL', 'CA', 'MD', 'IL', 'TX', 'भारत', 'NY', 'IL', 'CA', 'USA', 'WA', 'SD', 'Bureau', 'MN', 'FL', 'FL', 'FL', 'CO', 'TX', 'NY', 'IA', 'GA', 'USA', 'TX', 'FL', 'IA', 'DC', 'CO', 'MA', 'IL', 'LA', 'Alberta', 'MO', 'USA', 'TX', 'Namibia', 'IL', 'تونس', 'USA', \"O'Hare\", 'IA', 'USA', 'Nigeria', 'WA', 'PA', 'TX', 'PA', 'Indonesia', 'NJ', 'CA', 'Indonesia', 'England', 'IN', 'Nigeria', 'OH', 'USA', 'Roo', 'USA', 'CA', 'CA', 'PA', 'NY', 'AK', 'USA', 'CA', 'NJ', 'England', 'Scotia', 'HI', 'USA', 'USA', 'NY', 'USA', 'IL', 'CA', 'CA', 'LA', 'IA', 'AR', 'IL', 'CA', 'USA', 'LA', 'USA', 'CA', 'USA', 'TX', 'CA', 'Ghana', 'OK', 'CA', 'USA', 'USA', 'NY', 'USA', 'MI', 'VA', 'PA', 'NY', 'TX', 'TX', 'CA', 'AZ', 'TX', 'Ontario', 'OR', 'AL', 'OK', 'GA', 'USA', 'USA', 'OK', 'NY', 'OR', 'FL', 'USA', 'TX', 'USA', 'VA', 'USA', 'USA', 'TX', 'USA', 'MA', 'MN', 'FL', 'CA', 'WA', 'Ontario', 'ND', 'Ontario', 'CA', 'USA', 'MA', 'NC', 'TX', 'FL', 'KY', 'AL', 'CA', 'CA', 'NY', 'Ontario', 'USA', 'CA', 'TX', 'AL', 'AL', 'FL', 'TX', 'USA', 'TX', 'FL', 'AL', 'OK', 'FL', 'NJ', 'WA', 'SC', 'CA', 'MD', 'USA', 'OH', 'GA', 'TN', 'USA', 'NV', 'MI', 'DC', 'CA', 'WA', 'CA', 'CA', 'VA', 'CO', 'TX', 'TX', 'USA', 'NY', 'FL', 'MA', 'NC', 'TX', 'PA', 'TX', 'VA', 'CA', 'NJ', 'MD', 'WA', 'GA', 'USA', 'Center', 'CA', 'PA', 'WI', 'OK', 'CT', 'VA', 'USA', 'USA', 'FL', 'FL', 'USA', 'MS', 'MS', 'USA', 'WA', 'States', 'CA', 'Alberta', 'NE', 'USA', 'USA', 'MA', 'FL', 'TX', 'USA', 'NH', 'NY', 'FL', 'NC', 'USA', 'TX', 'OH', 'OK', 'المتحدة', 'PA', 'NJ', 'MT', 'AZ', 'AL', 'TX', 'USA', 'DC', 'TX', 'MD', 'Columbia', 'CA', 'CT', 'Yukon', 'MO', 'TN', 'AZ', 'WA', 'SC', 'NY', 'VA', 'USA', 'KY', 'CA', 'USA', 'TX', 'MA', 'FL', 'FL', 'FL', 'LA', 'AL', 'TX', 'CA', 'MI', 'PA', 'FL', 'TX', 'AR', 'FL', 'IN', 'TX', 'SD', 'IN', 'NJ', 'GA', 'NJ', 'NV', 'USA', 'IL', 'Deutschland', 'CA', 'CO', 'FL', 'MO', 'MO', 'USA', 'VA', 'USA', 'USA', 'NV', 'USA', 'MO', 'Deutschland', 'NM', 'FL', 'FL', 'MO', 'USA', 'USA', 'CA', 'IL', 'Ontario', 'NJ', 'TN', 'CA', 'NC', 'Deutschland', 'GA', 'TX', 'USA', 'IL', 'AZ', 'NJ', 'NY', 'IN', 'NC', 'NC', 'NY', 'AZ', 'CA', 'NY', 'GA', 'AL', 'भारत', 'USA', 'CALABARZON', 'MN', 'CA', 'CA', 'TX', 'USA', 'NJ', 'USA', 'VA', 'CA', 'MA', 'USA', 'USA', 'FL', 'CA', 'USA', 'USA', 'USA', 'News', 'USA', 'FL', 'CO', 'TN', 'NY', 'OH', 'MA', 'WA', 'KCTV5', 'TX', 'TX', 'OR', 'VA', 'USA', 'NC', 'NC', 'CA', 'MD', 'PA', 'FL', 'FL', 'TX', 'MA', 'MA', 'FL', 'WI', 'England', 'KS', 'FL', 'FL', 'PA', 'FL', 'FL', 'England', 'CT', 'CT', 'CT', 'GA', 'NJ', 'IN', 'CA', 'USA', 'USA', 'TX', 'VA', 'MA', 'USA', 'CT', 'TX', 'HI', 'NY', 'USA', 'Ontario', 'London', 'USA', 'HI', 'MD', 'MS', 'CA', 'Ireland', 'WY', 'AR', 'USA', 'AZ', 'IL', 'CA', 'AZ', 'TX', 'AZ', 'MA', 'MA', 'TX', 'USA', 'OK', 'NV', 'AL', 'Zealand', 'MN', 'NJ', 'FL', 'USA', 'TX', 'भारत', 'OR', 'TX', 'Brooklyn', 'TX', 'TX', 'VA', 'IN', 'TX', 'NM', 'USA', 'USA', 'PA', 'AZ', 'USA', 'USA', 'CA', 'TX', 'NY', 'NJ', 'NY', 'GA', 'CA', 'DC', 'NY', 'PA', 'USA', 'USA', 'MO', 'CA', 'NY', 'PA', 'ایران', 'FL', 'MA', 'NE', 'Columbia', 'USA', 'KY', 'PA', 'TX', 'OR', 'NY', 'TX', 'NE', 'LA', 'OH', 'CO', 'FL', 'NY', 'CA', 'FL', 'OH', 'IL', 'FL', 'USA', 'USA', 'USA', 'CA', 'KS', 'TX', 'FL', 'MI', 'TX', 'GA', 'USA', 'MA', '新加坡', 'USA', 'NV', 'USA', 'USA', 'MA', 'USA', 'CA', 'USA', 'USA', 'USA', 'MS', 'SC', 'Avenue', 'CA', 'USA', 'IL', 'California', 'FL', 'Ontario', 'FL', 'USA', 'USA', 'USA', 'USA', 'NC', 'NJ', 'TX', 'MO', 'FL', 'PA', 'AZ', 'España', 'TN', 'MD', 'AZ', 'PA', 'NY', 'IL', 'AZ', 'USA', 'WA', 'NM', 'MN', 'DC', 'MO', 'TX', 'MO', 'NV', 'MO', 'MO', 'NY', 'MO', 'RI', 'FL', 'TX', 'Norge', 'WA', 'USA', 'OK', 'TN', 'MD', 'Ontario', 'Ontario', 'Portland', 'NY', 'USA', 'PA', 'USA', 'FL', 'AL', 'WI', 'MD', 'PA', 'FL', 'AZ', 'NJ', 'FL', 'TX', 'CA', 'TX', 'TN', 'GA', 'VA', 'USA', 'NC', 'TX', 'CA', 'TX', 'USA', 'NC', 'USA', 'TX', 'NJ', 'MI', 'CA', 'MI', 'USA', 'TX', 'FL', 'CA', 'TX', 'TX', 'USA', 'IL', 'NY', 'VA', 'USA', 'FL', 'Ontario', 'TX', 'IN', 'NY', 'Ontario', 'FL', 'FL', 'USA', 'TX', 'USA', 'WI', 'England', 'Rico', 'USA', 'USA', 'CA', 'FL', 'WA', 'FL', 'NM', 'FL', 'USA', 'USA', 'MA', 'NY', 'USA', 'PA', 'MD', 'IN', 'OR', 'USA', 'PA', 'CA', 'AZ', 'TX', 'USA', 'WI', 'TX', 'IL', 'MD', 'USA', 'PA', 'USA', 'TN', 'NH', 'USA', 'FL', 'AZ', 'USA', 'Scotia', 'PA', 'MD', 'CA', 'NY', 'KS', 'MD', 'AL', 'AL', 'AL', 'Scotia', 'IL', 'Bahamas', 'USA', 'FL', 'FL', 'NY', 'TX', 'TX', 'TX', 'TX', 'USA', 'OR', 'Portugal', 'USA', 'USA', 'Ontario', 'KS', 'USA', 'USA', 'Ghana', 'USA', 'States', 'NC', 'USA', 'CA', 'GA', 'CA', 'NJ', 'USA', 'OH', 'FL', 'SC', 'NY', 'FL', 'TX', 'IL', 'TN', 'ישראל', 'NV', 'México', 'NV', 'MD', 'NM', 'NM', 'TX', 'AZ', 'TX', 'TX', 'England', 'CA', 'IL', 'USA', 'MD', 'MI', 'NY', 'USA', 'OR', 'NY', 'AR', 'CA', 'USA', 'USA', 'TX', 'Ontario', 'NM', 'CA', 'CA', 'Manitoba', 'USA', 'CA', 'CA', 'NC', 'CA', 'CA', 'TX', 'USA', 'OR', 'NC', 'USA', 'LA', 'CA', 'CA', 'USA', 'USA', 'USA', 'TX', 'TX', 'USA', 'TX', 'MA', 'MD', 'TN', 'AZ', 'FL', 'USA', 'Victoria', 'SC', 'USA', 'FL', 'USA', 'OH', 'MI', 'USA', 'CA', 'WA', 'NY', 'USA', 'FL', 'CA', 'CA', 'USA', 'VA', '周南市', 'MS', 'OH', '周南市', 'USA', 'Ireland', 'AR', 'Africa', 'WA', 'VA', 'AZ', 'NV', 'CA', 'CA', 'USA', 'HI', 'Alberta', 'NY', 'FL', 'FL', 'FL', 'England', 'VA', 'FL', 'Rehiyon', 'Rehiyon', 'USA', 'NC', 'USA', 'HI', 'FL', 'FL', 'USA', 'FL', 'FL', 'FL', 'FL', 'FL', 'FL', 'MA', 'MD', 'CA', 'PA', 'HI', 'NV', 'PA', 'TX', 'NJ', 'Ontario', 'HI', 'AR', 'FL', 'TX', 'Manitoba', 'Alberta', 'VA', 'FL', 'OK', 'USA', 'IL', 'USA', 'MA', 'TX', 'TX', 'TX', 'PA', 'Ontario', 'USA', 'WA', 'IL', 'DC', 'TX', 'MI', 'Tasmania', 'Apartments', 'MI', 'LA', 'MI', 'TX', 'FL', 'MD', 'MD', 'USA', 'WI', 'Ontario', 'NC', 'USA', 'Victoria', 'USA', 'NJ', 'USA', 'FL', 'California', 'TX', 'USA', 'FL', 'VA', 'USA', 'NC', 'VA', 'VA', 'FL', 'AL', 'DC', 'SC', 'CA', 'WA', 'NY', 'USA', 'PA', 'SD', 'NJ', 'CA', 'MA', 'FL', 'CA', 'NY', 'USA', 'CA', 'USA', 'CA', 'NY', 'OR', 'GA', 'CA', 'USA', 'USA', 'USA', 'Manitoba', 'IL', 'OR', 'NC', 'CA', 'Bahamas', 'USA', 'CA', 'FL', 'CA', 'USA', 'CA', 'USA', 'Victoria', 'MI', 'GA', 'MA', 'FL', 'ID', 'NC', 'NC', 'USA', 'MA', 'TX', 'NC', 'IN', 'VA', 'OH', 'France', 'USA', 'PA', 'Manitoba', 'WA', 'USA', 'OK', 'CA', 'CO', 'SC', 'UT', 'MO', 'FL', 'TX', 'MI', 'MI', 'HI', 'LA', 'OH', 'TX', 'CA', 'OH', 'Québec', 'USA', 'CA', 'FL', 'NY', 'USA', 'USA', 'IL', 'IL', 'IL', 'IL', 'CA', 'IL', 'IL', 'USA', 'CA', 'VT', 'IL', 'CA', 'NY', 'MA', 'AZ', 'USA', 'Ontario', 'USA', 'IL', 'USA', 'KS', 'USA', 'FL', 'Columbia', 'TX', 'OH', 'MI', 'AZ', 'TEKnologies', 'MI', 'NY', 'NV', 'FL', 'TN', 'TX', 'CO', 'USA', 'CO', 'PA', 'MI', 'USA', 'MA', 'OK', 'CA', 'NY', 'NY', 'CA', 'USA', 'MN', 'MD', 'CA', 'NC', 'Roo', 'MA', 'CA', 'CA', 'MI', 'TX', 'FL', 'AZ', 'FL', 'USA', 'NV', 'TN', 'CO', 'FL', 'MN', 'FL', 'Columbia', 'PA', 'NY', 'CA', 'Columbia', 'TX', 'USA', 'FL', 'SC', 'SD', 'USA', 'FL', 'USA', 'USA', 'USA', 'USA', 'USA', 'PA', 'OH', 'CA', 'NY', 'CO', 'USA', 'OH', 'MN', 'VA', 'IL', 'VA', 'MN', 'NY', 'Alberta', 'VA', 'IL', 'USA', 'MN', 'TX', 'FL', 'CA', 'NJ', 'Queensland', 'CA', 'FL', 'CA', 'Ontario', 'CA', 'NE', 'CA', 'USA', 'USA', 'Uganda', 'Africa', 'FL', 'FL', 'AZ', 'WI', 'TN', 'NY', 'FL', 'USA', 'Columbia', 'SC', 'MA', 'NC', 'USA', 'FL', 'FL', 'USA', 'GA', 'WA', 'NJ', 'CO', 'DC', 'TN', 'SC', 'MI', 'MI', 'CA', 'NJ', 'NJ', 'FL', 'Tasmania', 'FL', 'FL', 'NY', 'DC', 'FL', 'AZ', 'TX', 'MN', 'NC', 'PA', 'IL', 'CO', 'TN', 'FL', 'USA', 'FL', 'Ontario', 'MN', 'TX', 'NV', 'Ontario', 'USA', '沼津市', 'MN', 'CT', 'NY', 'PA', 'Ontario', 'OK', 'USA', 'USA', 'MA', 'NC', 'OH', 'TX', 'NY', 'PA', 'OH', 'USA', 'PA', 'VA', 'GA', 'MA', 'MA', 'DC', 'TX', 'DC', 'IL', 'MO', 'PA', 'KY', 'TX', 'TX', 'London', 'TX', 'Scotia', 'TX', 'NJ', 'USA', 'NY', 'Peru', 'VA', 'GA', 'Wales', 'USA', 'USA', 'HI', 'Zealand', 'OR', 'WA', 'England', 'DC', 'CT', 'USA', 'WA', 'MA', 'VA', 'CA', 'CO', 'TX', 'Columbia', 'CA', 'NV', 'CA', 'GA', 'CA', 'MI', 'TX', 'MI', 'MI', 'TX', 'NV', 'TX', 'GA', 'CA', 'USA', 'CA', 'FL', 'MA', 'IL', 'NY', 'IL', 'OR', 'FL', 'OR', 'TX', 'OR', 'USA', 'FL', 'MA', 'Wales', 'WA', 'CA', 'CA', 'NJ', 'MO', 'IL', 'USA', 'CA', 'TX', 'Ocampo', 'NY', 'CA', 'TN', 'USA', 'AR', 'CA', 'FL', 'USA', 'SC', 'FL', 'USA', 'TX', 'CA', 'USA', 'VA', 'NV', 'NJ', 'SC', 'USA', 'NJ', 'SC', 'CA', 'FL', 'AZ', 'USA', 'USA', 'NY', 'USA', 'CA', 'USA', 'USA', 'TX', 'Schweiz', 'USA', 'NH', 'TX', 'NJ', 'FL', 'WA', 'IL', 'DE', 'AZ', 'AL', 'NJ', 'OR', 'USA', 'VA', 'NY', 'Peru', 'NY', 'DC', 'IN', 'IL', 'IN', 'FL', 'FL', 'NJ', 'TX', 'Scotia', 'AR', 'USA', 'USA', 'Columbia', 'MN', 'MO', 'CA', 'CO', 'CA', 'TX', 'USA', 'AL', 'WA', 'CA', 'NJ', 'USA', 'PA', 'TX', 'MI', 'MD', 'NJ', 'CO', 'NY', 'CA', 'GA', 'CA', 'FL', 'MN', 'FL', 'NY', 'FL', 'TX', 'RI', 'USA', 'CA', 'السعودية', 'TX', 'TX', 'LA', 'TX', 'WI', 'PA', 'TX', 'USA', 'USA', 'CA', 'AL', 'USA', 'WI', 'TX', 'USA', 'GA', 'UT', 'Ontario', 'MD', 'CA', 'USA', 'USA', 'CA', 'CA', 'Nigeria', 'CA', 'OK', 'OH', 'PA', 'TX', 'Zealand', 'NJ', 'MI', 'NC', 'USA', 'USA', 'OH', 'FL', 'CO', 'CO', 'USA', 'TX', 'CA', 'NV', 'NY', 'USA', 'USA', 'DC', 'Manitoba', 'USA', 'USA', 'PA', 'WI', 'VA', 'USA', 'USA', 'TX', 'FL', 'TX', 'CA', 'OH', 'USA', 'MD', 'FL', 'USA', 'FL', 'MN', 'IL', 'NY', 'CA', 'CA', 'Alberta', 'WA', 'IL', 'NH', 'NJ', 'USA', 'FL', 'OR', 'CA', 'CA', 'USA', 'MD', 'TX', 'USA', 'CA', 'CA', 'CA', 'CA', 'OR', 'AZ', 'USA', 'FL', 'NJ', 'ישראל', 'CT', 'NY', 'USA', 'OR', 'TN', 'CA', 'USA', 'CA', 'CA', 'USA', 'USA', 'TX', 'Yucatán', 'SC', 'OH', 'NJ', 'LA', 'FL', 'TX', 'MI', 'GA', 'USA', 'CO', 'CA', 'Victoria', 'NY', 'IL', 'USA', 'IA', 'TX', 'CA', 'AL', 'Portugal', 'TX', 'CA', 'Ontario', 'USA', 'VT', 'MN', 'OH', 'TX', 'NJ', 'AR', 'WA', 'NC', 'NJ', 'FL', 'OR', 'NV', 'TX', 'WA', 'CA', 'OR', 'MA', 'GA', 'TX', 'CA', 'USA', 'CA', 'CO', 'OH', 'Ontario', 'AZ', 'CO', 'Uganda', 'TX', 'CO', 'USA', 'AR', 'OH', 'MD', 'NC', 'OR', 'Columbia', 'OR', 'SC', 'Ontario', 'IN', 'OH', 'UT', 'OK', 'Ontario', 'LA', 'CA', 'IL', 'CA', 'KY', 'CO', 'TX', 'CA', 'TX', 'CA', 'CA', 'TX', 'FL', 'TX', 'NY', 'NV', 'USA', 'NV', 'IL', 'WA', 'CA', 'CO', 'TN', 'FL', 'MD', 'Ontario', 'PA', 'FL', 'FL', 'CO', 'USA', 'FL', 'GA', 'TX', 'FL', 'NY', 'FL', 'NV', 'CA', 'PA', 'TN', 'TX', 'Columbia', 'FL', 'CA', 'TX', 'AZ', 'TN', 'CA', 'USA', 'USA', 'WA', 'IN', 'CA', 'GA', 'NC', 'OR', 'RI', 'Club', 'NY', 'TN', 'CA', 'USA', 'VT', 'WA', 'NJ', 'USA', 'USA', 'OH', 'NJ', 'CA', 'FL', 'FL', 'IL', 'NY', 'USA', 'TX', 'USA', 'MD', 'TX', 'FL', 'SC', 'CA', 'DC', 'FL', 'USA', 'FL', 'USA', 'CA', 'FL', 'MI', 'Columbia', 'OH', 'PA', 'MD', 'CA', 'NY', 'CO', 'OH', 'VA', 'CA', 'MO', 'MI', 'FL', 'TX', 'OH', 'FL', 'FL', 'USA', 'MO', 'LA', 'CA', 'FL', 'MN', 'TX', 'VA', 'USA', 'CO', 'TX', 'FL', 'CA', 'MI', 'TX', 'USA', 'USA', 'TX', 'AZ', 'NY', 'Alberta', 'MO', 'TX', 'NY', 'CA', 'USA', 'FL', 'NJ', 'MN', 'USA', 'CA', 'TN', 'PA', 'USA', 'PA', 'USA', 'NJ', 'MO', 'USA', 'NC', 'MA', 'USA', 'Manitoba', 'NJ', 'España', 'NC', 'USA', 'CA', 'GA', 'TX', 'Nevis', 'USA', 'SC', 'USA', 'MN', 'TN', 'KY', 'England', 'PA', 'PA', 'USA', 'NY', 'PA', 'USA', 'USA', 'MA', 'USA', 'AZ', 'FL', 'FL', 'NY', 'NY', 'USA', 'AZ', 'PA', 'MI', 'FL', 'FL', 'NY', 'VA', 'USA', 'CA', 'Ontario', 'NY', 'Victoria', 'KS', 'USA', 'USA', 'OR', 'PA', 'TX', 'Ontario', 'USA', 'IL', 'DC', 'MA', 'TX', 'TX', 'USA', 'NC', 'KY', 'USA', 'DC', 'USA', 'MN', 'AL', 'CT', 'PA', 'PA', 'USA', 'MN', 'USA', 'London', 'OH', 'USA', 'NC', 'USA', 'OH', 'CA', 'USA', 'Ontario', 'MO', 'USA', 'KS', 'NY', 'NY', 'Québec', 'France', 'OH', 'TX', 'NY', 'MA', 'USA', 'USA', 'GA', 'NY', 'MD', 'PA', 'NY', 'NJ', 'NY', 'NJ', 'NJ', 'NC', 'NJ', 'Boston', 'NY', 'VA', 'USA', 'FL', 'USA', 'NY', 'NJ', 'FL', 'Africa', 'Scotia', 'ID', 'USA', 'USA', 'Zealand', 'OH', 'France', 'FL', 'CA', 'USA', 'NY', 'NJ', 'IL', 'Ontario', 'France', 'CO', 'Africa', 'CA', 'FL', 'Brunswick', 'CA', 'AK', 'AK', 'Portugal', 'FL', 'MO', '台灣', 'USA', 'MO', 'pharmacy', 'Ontario', 'MN', 'USA', 'Deutschland', 'Deutschland', 'CA', 'CA', 'England', 'CA', 'IL', 'AZ', 'WA', 'CA', 'USA', 'Ireland', 'IA', 'NE', 'MN', 'CA', 'MI', 'IL', 'FL', 'USA', 'Indonesia', 'NY', 'CA', 'Cowboy', 'TX', 'GA', 'MI', 'MO', 'IL', 'PA', 'CA', 'TX', 'MN', 'OH', 'CA', 'Alberta', 'USA', 'CA', 'MI', 'KS', 'OH', 'MD', 'VA', 'VA', 'WA', 'Alberta', 'USA', 'OR', 'OK', 'WA', 'CA', 'CA', 'WA', 'OH', 'CA', 'USA', 'IA', 'USA', 'USA', 'NY', 'FL', 'DC', 'OK', 'USA', 'RI', 'AK', 'CA', 'Queensland', 'LA', 'Queensland', 'USA', 'FL', 'Ontario', 'GA', 'TX', 'WA', 'Columbia', 'FL', 'VA', 'ID', 'TX', 'IN', 'KY', 'USA', 'CA', 'CA', 'NY', 'USA', 'USA', 'USA', 'CO', 'USA', 'CA', 'USA', 'CA', 'ME', 'USA', 'GA', 'GA', 'CA', 'CA', 'OK', 'WA', 'USA', 'MO', 'TX', 'IL', 'CO', 'USA', 'TX', 'CA', 'MN', 'DC', 'NE', 'NJ', 'USA', 'TX', 'FL', 'PA', 'USA', 'NC', 'WA', 'VA', 'PA', 'WI', 'WA', 'USA', 'WA', 'USA', 'IL', 'PA', 'PA', 'CA', 'PA', 'NY', 'TX', 'NJ', 'PA', 'USA', 'PA', 'MO', 'CA', 'CA', 'NE', 'USA', 'USA', 'TX', 'VA', 'OK', 'NY', 'KY', 'USA', 'FL', 'CO', 'AZ', 'USA', 'OH', 'CA', 'OH', 'AR', 'KY', 'OH', 'AZ', 'USA', 'TX', 'CA', 'AZ', 'NY', 'KS', 'IN', 'NH', 'TX', 'WA', 'NY', 'IL', 'WA', 'PA', 'NY', 'USA', 'FL', 'NJ', 'USA', 'WSB', 'NY', 'TX', 'USA', 'VA', 'USA', 'CT', 'FL', 'RI', 'CA', 'SC', 'NYC', 'USA', 'AZ', 'USA', 'CA', 'USA', 'USA', 'Columbia', 'USA', 'RI', 'NM', 'WA', 'WA', 'NY', 'CA', 'Columbia', 'Ontario', 'MO', 'NM', 'CA', 'CA', 'Alberta', 'TX', 'NY', 'AZ', 'USA', 'Colombia', 'USA', 'KY', 'TX', 'USA', 'CA', 'FL', 'NV', 'DC', 'TX', 'TX', 'USA', 'CA', 'AL', 'OH', 'KY', 'OH', 'VA', 'FL', 'Ireland', 'TX', 'CA', 'VA', 'FL', 'USA', 'TX', 'FL', 'HI', 'DC', 'NY', 'NY', 'NY', 'TX', 'NJ', 'FL', 'WA', 'CA', 'VA', 'CA', 'USA', 'VA', 'OR', 'CO', 'CO', 'Davao', 'USA', 'PA', 'USA', 'PA', 'TN', 'Ontario', 'LA', 'USA', 'MD', 'NY', 'OH', 'Zealand', 'Ontario', 'TX', 'USA', 'Australia', 'USA', 'USA', 'USA', 'IN', 'Columbia', 'KS', 'CA', 'IA', 'NY', 'NC', 'KS', 'USA', 'NV', 'OH', 'CA', 'KY', 'USA', 'PA', 'OH', 'USA', 'FL', 'USA', 'NY', 'OH', 'MI', 'FL', 'CA', 'USA', 'SC', 'CO', 'MD', 'PA', 'OH', 'FL', 'OH', 'MI', 'USA', 'PA', 'USA', 'TX', 'NJ', 'SC', 'MI', 'TX', 'OR', 'CO', 'RI', 'CT', 'USA', 'WV', 'DC', 'MI', 'VA', 'USA', 'USA', 'USA', 'LA', 'USA', 'TX', 'NV', 'USA', 'USA', 'CA', 'USA', 'IL', 'Federal', 'PA', 'AL', 'CA', 'WI', 'USA', 'CA', 'AZ', 'WA', 'KY', 'USA', 'USA', 'CA', 'IL', 'USA', 'CA', 'CO', 'CA', 'PA', 'SC', 'CA', 'CT', 'NY', 'FL', 'MI', 'CT', 'CA', 'WA', 'USA', 'KY', 'NE', 'NY', 'USA', 'CO', 'MT', 'TX', 'TN', 'KY', 'USA', 'CA', 'FL', 'FL', 'NV', 'OH', 'USA', 'MO', 'USA', 'MI', 'Columbia', 'NY', 'CO', 'USA', 'USA', 'MO', 'NY', 'USA', 'CA', 'MT', 'USA', 'USA', 'WA', 'USA', 'TX', 'USA', 'FL', 'OK', 'FL', 'KS', 'VA', 'USA', 'IL', 'TX', 'USA', 'TX', 'IL', 'USA', 'SC', 'KY', 'TX', 'CA', 'OR', 'CA', 'NV', 'Zimbabwe', 'USA', 'UT', 'USA', 'OK', 'GA', 'USA', 'FL', 'USA', 'CA', 'CA', 'CA', 'USA', 'Tobago', 'NY', 'MO', 'IA', 'FL', 'Neighbourhood', 'USA', 'Target', 'MO', 'NY', 'UT', 'FL', 'MI', 'USA', 'USA', 'NJ', 'UT', 'LA', 'NY', 'IA', 'TX', 'OR', 'WA', 'SC', 'FL', 'CA', 'FL', 'Wales', 'VA', 'CA', 'CA', 'OR', 'NY', 'TX', 'SC', 'CA', 'USA', 'CA', 'Zealand', 'Québec', 'NC', 'FL', 'TX', 'NY', 'USA', 'CA', 'CA', 'MN', 'USA', 'KY', 'OH', 'CA', 'ID', 'CA', 'USA', 'CA', 'VA', 'Portugal', 'VA', 'USA', 'FL', 'FL', 'MA', 'TX', 'KY', 'USA', 'USA', 'NY', 'IL', 'USA', 'AZ', 'NV', 'CO', 'NH', 'NY', 'France', 'USA', 'AZ', 'FL', 'USA', 'USA', 'TX', 'MA', 'LA', 'CA', 'TX', 'MS', 'Portugal', 'Supercenter', 'USA', 'AZ', 'Portugal', 'TX', 'USA', 'FL', 'Portugal', 'USA', 'USA', 'IA', 'USA', 'FL', 'PA', 'FL', 'USA', 'CA', 'MI', 'USA', 'CA', 'NY', 'CA', 'NC', 'OR', 'CA', 'NJ', 'MN', 'MN', 'NY', 'CA', 'TX', 'IL', 'NY', 'TX', 'USA', 'IL', 'NY', 'Victoria', 'NE', 'KY', 'OR', 'London', 'NY', 'NY', 'CA', 'MA', 'AK', 'OH', 'NY', 'NY', 'IL', 'AZ', 'AZ', 'USA', 'LA', 'AZ', 'NY', 'MI', 'FL', 'NC', 'CA', 'WI', 'PA', 'CA', 'MN', 'WA', 'Ontario', 'VA', 'FL', 'NC', 'WA', 'USA', 'USA', 'USA', 'DC', 'IL', 'IL', 'TX', 'VA', 'PA', 'USA', 'CA', 'IL', 'NY', 'KY', 'TX', 'OK', 'USA', 'CA', 'GA', 'CA', 'FL', 'DC', 'OH', 'IL', 'TX', 'CA', 'TN', 'MI', 'USA', 'Zealand', 'NJ', 'CA', 'NY', 'CA', 'TN', 'USA', 'USA', 'USA', 'USA', 'USA', 'IL', 'USA', 'USA', 'NJ', 'NY', 'OH', 'NY', 'GA', 'IL', 'NE', 'CA', 'NC', 'CA', 'NY', 'OH', 'TX', 'VT', 'USA', 'FL', 'CO', 'NY', 'FL', 'FL', 'CO', 'OK', 'TX', 'AZ', 'FL', 'USA', 'WA', 'TX', 'KY', 'MD', 'CA', 'WV', 'NC', 'USA', 'NC', 'CA', 'USA', 'USA', 'RI', 'England', 'NC', 'AL', 'NC', 'FL', 'USA', 'NJ', 'MD', 'TX', 'TX', 'MI', 'NY', 'AZ', 'PA', 'USA', 'FL', 'SC', 'USA', 'FL', 'England', 'USA', 'USA', 'FL', 'NY', 'FL', 'USA', 'USA', 'NV', 'NY', 'Québec', 'TX', 'FL', 'USA', 'MS', 'UT', 'USA', 'OK', 'MA', 'USA', 'FL', 'PA', 'USA', 'NV', 'MO', 'USA', 'CA', 'NY', 'London', 'IL', 'CA', 'USA', 'USA', 'DC', 'USA', 'USA', 'TX', 'CA', 'NY', 'NC', 'LA', 'USA', 'UT', 'NY', 'OR', 'CA', 'NJ', 'NY', 'NY', 'TX', 'FL', 'TX', 'Bahamas', 'FL', 'WA', 'NY', 'SC', 'NY', 'CO', 'FL', 'FL', 'USA', 'NV', 'TX', 'FL', 'NJ', 'CA', 'TX', 'CO', 'Alberta', 'CA', 'IL', 'CA', 'FL', 'MI', 'FL', 'USA', 'FL', 'USA', 'OH', 'NJ', 'IA', 'NY', 'NJ', 'NY', 'VA', 'TX', 'TX', 'KY', 'USA', 'NJ', 'FL', 'USA', 'FL', 'FL', 'TX', 'NE', 'CA', 'GA', 'IL', 'VA', 'DC', 'AL', 'CA', 'GA', 'FL', 'DC', 'NJ', 'NJ', 'USA', 'DC', 'AZ', 'USA', 'België', 'IL', 'NH', 'USA', 'NV', 'TX', 'USA', 'CA', 'AK', 'USA', 'MI', 'IL', 'MI', 'CA', 'TX', 'IL', 'LA', 'CA', 'TX', 'USA', 'MI', 'CA', 'FL', 'NY', 'NH', 'MD', 'MD', 'FL', 'USA', 'CA', 'FL', 'UT', 'OR', 'USA', 'VT', 'MD', 'USA', 'FL', 'DC', 'States', 'KS', 'FL', 'TX', 'USA', 'USA', 'CA', 'NC', 'GA', 'Ankeny', 'USA', 'भारत', 'TX', 'USA', 'Field', 'USA', 'CO', 'USA', 'USA', 'CO', 'MA', 'NY', 'USA', 'VA', 'NY', 'MN', 'USA', 'WV', 'AL', 'Portugal', 'NJ', 'PA', 'IL', 'IN', 'KS', 'MO', 'Ontario', 'DE', 'PA', 'PA', 'DC', 'USA', 'DC', 'USA', 'CA', 'USA', 'MD', 'IL', 'Nederland', 'TX', 'FL', 'PA', 'PA', 'PA', 'NJ', 'USA', 'SC', 'CA', 'GA', 'USA', 'USA', 'USA', 'USA', 'NY', 'SC', 'USA', 'SC', 'FL', 'WA', 'SC', 'DC', 'TN', 'NJ', 'FL', 'FL', 'DC', 'USA', 'USA', 'SC', 'OK', 'NH', 'Botswana', 'USA', 'WI', 'IL', 'NC', 'PA', 'TX', 'CA', 'USA', 'USA', 'NC', 'FL', 'USA', 'FL', 'CA', 'NY', 'GA', 'PA', 'USA', 'OH', 'NC', 'MI', 'TX', 'FL', 'FL', 'FL', 'CT', 'NC', 'FL', 'OH', 'FL', 'PA', 'SC', 'USA', 'MA', 'WA', 'NY', 'FL', 'CA', 'NC', 'WY', 'مصر', 'USA', 'USA', 'IA', 'PA', 'MO', 'FL', 'MI', 'USA', 'USA', 'FL', 'FL', 'NM', 'MI', 'FL', 'VA', 'OH', 'TX', 'NM', 'MA', 'USA', 'IL', 'AL', 'OK', 'MD', 'TX', 'OH', 'FL', 'WA', 'USA', 'USA', 'FL', 'USA', 'USA', 'Deutschland', 'GA', 'CO', 'MD', 'USA', 'Queensland', 'المتحدة', 'CT', 'UT', 'OH', 'TX', 'NY', 'Österreich', 'AL', 'USA', 'NY', 'London', 'USA', 'VA', 'FL', 'AZ', 'London', 'VA', 'CA', 'CA', 'CA', 'Danmark', 'center', 'MA', 'USA', 'WI', 'Portugal', 'NY', 'WA', 'Uganda', 'IL', 'AK', 'NV', 'TX', 'TX', 'NV', 'NJ', 'CA', 'AK', 'CA', 'AZ', 'USA', 'MO', 'Deutschland', 'CA', 'Ontario', 'CA', 'CA', 'भारत', 'CA', 'England', 'CA', 'CA', 'NV', 'NJ', 'Salvador', 'CA', 'CA', 'TX', 'OH', 'USA', 'NJ', 'NM', 'TX', 'CA', 'England', 'IN', 'IN', 'CA', 'Wales', 'GA', 'HI', 'India', 'GA', 'England', 'Wales', 'MO', 'England', 'TX', 'FL', 'PA', 'CA', 'UT', 'USA', 'England', 'USA', 'CA', 'CA', 'MA', 'HI', 'CA', 'FL', 'Columbia', 'USA', 'FL', 'USA', 'WSB', 'MA', 'IL', 'FL', 'Africa', 'FL', 'TN', 'USA', 'TX', 'FL', 'USA', 'NJ', 'AR', 'USA', 'Québec', 'NY', 'FL', 'OH', 'NY', 'USA', 'TX', 'KY', 'NC', 'PA', 'IA', 'LA', 'USA', 'Australia', 'NE', 'MN', 'Jalisco', 'FL', 'Africa', 'CO', 'WA', 'CA', 'FL', 'CA', 'GA', 'NY', 'USA', 'SC', 'NY', 'Saskatchewan', 'MD', 'FL', 'TX', 'AL', 'IL', 'MN', 'CA', 'DC', 'IL', 'NJ', 'Ontario', 'GA', 'AL', 'CA', 'IN', 'USA', 'USA', 'KY', 'MD', 'SC', 'SC', 'SC', 'USA', 'USA', 'CA', 'AL', 'WA', 'USA', 'CA', 'MD', 'GA', 'CA', 'NY', 'USA', 'USA', 'AL', 'SC', 'CA', 'FL', 'USA', 'USA', 'USA', 'NE', 'FL', 'FL', 'OH', 'NV', 'AL', 'TX', 'MI', 'USA', 'FL', 'USA', 'NC', 'CA', 'USA', 'NY', 'CA', 'NY', 'AZ', 'NJ', 'CA', 'USA', 'TX', 'AR', 'CA', 'WA', 'USA', 'MI', 'MI', 'OH', 'NJ', 'AL', 'CA', 'WI', 'PA', 'OH', 'USA', 'GA', 'CA', 'GA', 'MO', 'TX', 'NJ', 'USA', 'USA', 'CA', 'USA', 'IL', 'VA', 'TX', 'OK', 'NY', 'GA', 'USA', 'TX', 'USA', 'USA', 'TX', 'Manitoba', 'USA', 'USA', 'USA', 'FL', 'USA', 'TN', 'TX', 'FL', 'USA', 'USA', 'IL', 'IL', 'FL', 'NJ', 'USA', 'NY', 'Salvador', 'NC', 'NC', 'NJ', 'TX', 'CA', 'TX', 'Jamaica', 'NV', 'OH', 'Ontario', 'IL', 'CA', 'CT', 'USA', 'NV', 'WA', 'CT', 'FL', 'USA', 'States', 'FL', 'USA', '新加坡', 'OH', 'IA', 'USA', 'CA', 'USA', 'IL', 'FL', 'TX', 'FL', 'USA', 'PA', 'AZ', 'MO', 'LA', 'MO', 'USA', 'OH', 'FL', 'USA', 'USA', 'MI', 'FL', 'MA', 'MA', 'TX', 'MI', 'USA', 'NY', 'OR', 'CA', 'NJ', 'OH', 'NE', 'USA', 'IN', 'USA', 'CO', 'CA', 'FL', 'TX', 'GA', 'GA', 'FL', 'USA', 'MN', 'OH', 'CA', 'NY', 'TX', 'USA', 'FL', 'USA', 'AZ', 'USA', 'USA', 'MD', 'CA', 'TX', 'VA', 'FL', 'MI', 'MD', 'NY', 'KY', 'NJ', 'OR', 'NJ', 'WI', 'CO', 'NY', 'FL', 'Target', 'OH', 'AZ', 'FL', 'TX', 'NY', 'WA', 'NC', 'CA', 'KS', 'TX', 'AL', 'USA', 'Türkiye', 'Fiji', 'FL', 'AZ', 'AL', 'NY', 'USA', 'TX', 'FL', 'USA', 'NC', 'OK', 'WA', 'CA', 'USA', 'CA', 'IL', 'OK', 'CA', 'MO', 'MO', 'USA', 'AR', 'WA', 'IL', 'PA', 'Ontario', 'USA', 'NY', 'MI', 'KY', 'TX', 'DC', 'MI', 'MO', 'FL', 'NY', 'MN', 'OR', 'CO', 'CO', 'PA', 'TN', 'Africa', 'IL', 'USA', 'FL', 'TX', 'NC', 'TX', 'England', 'WA', 'MA', 'Africa', 'FL', 'NJ', 'NY', 'FL', 'PA', 'AL', 'FL', 'TX', 'WA', 'WA', 'IN', 'NY', 'WA', 'USA', 'Ontario', 'TX', 'NC', 'OK', 'FL', 'SC', 'MI', 'USA', 'WA', 'FL', 'CT', 'WI', 'HI', 'CA', 'USA', 'USA', 'USA', 'USA', 'FL', 'Ontario', 'Alberta', 'MA', 'NJ', 'NY', 'NY', 'CA', 'SC', 'USA', 'Army', 'USA', 'CA', 'MA', 'IL', 'IN', 'CA', 'TX', 'CA', 'NC', 'TX', 'MA', 'USA', 'IL', 'USA', 'NC', 'USA', 'USA', 'Africa', 'CA', 'AZ', 'NJ', 'AR', 'OH', 'USA', 'CA', 'IL', 'SD', 'TX', 'CA', 'UT', 'MI', 'OH', 'TX', 'CA', 'FL', 'USA', 'HI', 'MD', 'MD', 'IL', 'USA', 'AZ', 'CA', 'USA', 'OH', 'DC', 'FL', 'USA', 'USA', 'IN', 'USA', 'HI', 'OK', 'NY', 'USA', 'FL', 'USA', 'USA', 'USA', 'CT', 'USA', 'DC', 'TX', 'WA', 'USA', 'USA', 'FL', 'USA', 'MA', 'CO', 'NJ', 'NY', 'CA', 'NM', 'IL', 'SC', 'TX', 'CA', 'DC', 'IL', 'CA', 'NY', 'USA', 'NY', 'OK', 'GA', 'USA', 'FL', 'MO', 'IL', 'USA', 'OK', 'USA', 'CA', 'Zimbabwe', 'SC', 'CA', 'USA', 'Washington', 'MT', 'MT', 'USA', 'USA', 'Ontario', 'Africa', 'CA', 'DC', 'OR', 'ID', 'TX', 'NV', 'CO', 'OK', 'AR', 'NE', 'OK', 'OH', 'AZ', 'IL', 'NJ', 'NY', 'LA', 'USA', 'TN', 'England', 'USA', 'CO', 'PA', 'MA', 'CA', 'USA', 'LA', 'NY', 'MA', 'GA', 'USA', 'CA', 'USA', 'TX', 'FL', 'USA', 'USA', 'AZ', 'OK', 'FL', 'USA', 'CA', 'USA', 'TN', 'PA', 'CO', 'MI', 'CA', 'GA', 'NY', 'España', 'MA', 'CA', 'USA', 'TX', 'USA', 'IL', 'NC', 'USA', 'USA', 'NC', 'USA', 'USA', 'CA', 'IN', 'CA', 'CA', 'AR', 'MI', 'NY', 'TX', 'USA', 'USA', 'USA', 'WA', 'USA', 'USA', 'NJ', 'MO', 'LA', 'USA', 'CA', 'NJ', 'DC', 'NY', 'NY', 'TX', 'TX', 'TX', 'GA', 'IL', 'TX', 'TN', 'OH', 'NC', 'CA', 'AL', 'SD', 'FL', 'TX', 'MO', 'USA', 'TX', 'TX', 'TX', 'USA', 'MS', 'CA', 'PA', 'MI', 'USA', 'USA', 'MS', 'USA', 'FL', 'WA', 'CA', 'USA', 'NJ', 'NY', 'USA', 'NJ', 'CA', 'CA', 'FL', 'ID', 'AR', 'FL', 'CA', 'USA', 'TX', 'USA', 'CA', 'MD', 'OK', 'TX', 'TX', 'TX', 'TX', 'TX', 'TX', 'GA', 'TN', 'TX', 'TX', 'USA', 'TX', 'VA', 'NY', 'FL', 'TX', 'MD', 'USA', 'CO', 'Alberta', 'TX', 'CA', 'TX', 'USA', 'TX', 'FL', 'TX', 'FL', 'USA', 'CA', 'NC', 'FL', 'TX', 'CO', 'TX', 'FL', 'CA', 'CA', 'USA', 'FL', 'SD', 'England', 'TX', 'TX', 'FL', 'PA', 'NM', 'USA', 'WI', 'USA', 'Ontario', 'CA', 'OK', 'OH', 'भारत', 'NY', 'TX', 'USA', 'TX', 'MI', 'CA', 'FL', 'CA', 'OK', 'FL', 'TX', 'USA', 'USA', 'CA', 'PA', 'NM', 'USA', 'MA', 'FL', 'IN', 'USA', 'IN', 'DC', 'IN', 'CT', 'OH', 'AL', 'MO', 'AL', 'AL', 'NJ', 'PA', 'GA', 'MS', 'DC', 'MA', 'TX', 'TX', 'NM', 'Luzon', 'DC', 'USA', 'TX', 'FL', 'PA', 'Maldives', 'TX', 'FL', 'NJ', 'KY', 'FL', 'England', 'OR', 'NJ', 'OK', 'CA', 'FL', 'TX', 'IN', 'CO', 'TX', 'England', 'MO', 'WA', 'Deutschland', 'USA', 'NY', 'NJ', 'USA', 'Deutschland', 'USA', 'USA', 'AZ', 'TX', 'CA', 'TX', 'AZ', 'CA', 'CA', 'MN', 'USA', 'USA', 'LA', 'NY', 'CT', 'USA', 'IN', 'NH', 'FL', 'IN', 'MN', 'AZ', '동두천시', 'NY', 'TX', 'CA', 'NY', 'IN', 'USA', 'IA', 'IN', 'IN', 'USA', 'NC', 'AZ', 'NC', 'USA', 'TX', 'USA', 'TX', 'USA', 'TN', 'NM', 'LA', 'USA', 'TX', 'TX', 'TX', 'TX', 'FL', 'TX', 'NY', 'USA', 'England', 'NJ', 'RI', 'FL', 'USA', 'TN', 'OK', 'USA', 'OH', 'DC', 'FL', 'TX', 'FL', 'USA', 'FL', 'TX', 'VA', 'FL', 'OK', 'USA', 'OH', 'FL', 'USA', 'USA', 'USA', 'USA', 'USA', 'USA', 'USA', 'USA', 'Schweiz', 'USA', 'VA', 'NJ', 'NJ', 'GA', 'İzmir', 'Lietuva', 'PA', 'USA', 'پاکستان', 'NY', 'NY', 'England', 'USA', 'London', 'FL', 'London', 'TX', 'States', 'States', 'USA', 'CA', 'TX', 'TX', 'MD', 'CO', 'CO', 'Suisse', 'England', 'USA', 'England', 'USA', 'Türkiye', 'London', 'USA', 'USA', 'Norge', 'TN', 'England', 'USA', 'England', 'CA', 'FL', 'NE', 'CA', 'CA', 'England', 'Shack', 'OK', 'WA', 'AZ', 'USA', 'NY', 'Deutschland', 'Wales', 'AK', 'England', 'OK', 'Ontario', 'OH', 'NY', 'OH', 'CA', 'ME', 'NY', 'NV', 'USA', 'USA', 'England', 'CA', 'CO', 'USA', 'MD', 'USA', 'CA', 'Ontario', 'USA', 'USA', 'USA', 'USA', 'FL', 'FL', 'CA', 'CA', 'CA', 'NY', 'IL', 'AZ', 'DC', 'MD', 'UT', 'GA', 'NY', 'Salvador', 'FL', 'MI', 'IL', 'NC', 'USA', 'SD', 'GA', 'CA', 'NY', 'CA', 'USA', 'SC', 'OH', 'Queensland', 'NY', 'AR', 'GA', 'USA', 'USA', 'USA', 'TX', 'USA', 'TX', 'IL', 'NY', 'TX', 'TX', 'TX', 'TX', 'TX', 'NJ', 'SC', 'OK', 'LA', 'VA', 'NM', 'USA', 'NY', 'CO', 'SC', 'USA', 'Scotia', 'UT', 'AR', 'NJ', 'FL', 'MI', 'CO', 'NY', 'USA', 'TX', 'AZ', 'FL', 'FL', 'NJ', 'OH', 'OH', 'TX', 'USA', 'NY', 'KY', 'IN', 'TX', 'NV', 'USA', 'TX', 'USA', 'NV', 'NY', 'IL', 'CA', 'OH', 'CA', 'GA', 'PA', 'FL', 'CA', 'CA', 'GA', 'WI', 'USA', 'FL', 'MI', 'USA', 'CA', 'ID', 'NY', 'USA', 'NY', 'PA', 'LA', 'IN', 'ID', 'USA', 'Kickboxing', 'TX', 'IL', 'USA', 'AZ', 'USA', 'GA', 'NY', 'USA', 'MO', 'TX', 'USA', 'TX', 'USA', 'OH', 'FL', 'FL', 'Kenya', 'NY', 'Ontario', 'IN', 'CA', 'FL', 'USA', 'NY', 'OK', 'FL', 'IL', 'IL', 'IL', 'FL', 'USA', 'IL', 'AL', 'USA', 'USA', 'USA', 'USA', 'FL', 'NC', 'TX', 'KS', 'USA', 'USA', 'USA', 'IL', 'WI', 'FL', 'GA', 'CA', 'VA', 'USA', 'NY', 'GA', 'IL', 'NY', 'NY', 'AZ', 'USA', 'Zealand', 'FL', 'OK', 'NY', 'IL', 'RI', 'USA', 'Ontario', 'AZ', 'OH', 'USA', 'NC', 'IL', 'NY', 'CA', 'CA', 'TX', 'MD', 'MA', 'USA', 'CA', 'NY', 'Africa', 'USA', 'NM', 'MI', 'WI', 'USA', 'NY', 'USA', 'FL', 'MO', 'USA', 'PA', 'NV', 'USA', 'NE', 'MD', 'NY', 'Park', 'USA', 'MN', 'TX', 'ID', 'London', 'LA', 'CO', 'CA', 'WA', 'NY', 'CA', 'USA', 'NY', 'NY', 'USA', 'WA', 'USA', 'USA', 'CO', 'Ontario', 'FL', 'MD', 'USA', 'Colombia', 'AZ', 'USA', 'USA', 'USA', 'USA', 'FL', 'WI', 'NY', 'USA', 'USA', 'USA', 'DC', 'AZ', 'TX', 'NY', 'MN', 'Ontario', 'USA', 'CA', 'MI', 'OH', 'CA', 'IL', 'AZ', 'TX', 'CA', 'AR', 'CA', 'TX', 'NY', 'AL', 'België', 'TX', 'USA', 'IN', 'USA', 'IL', 'TN', 'USA', 'Zealand', 'CA', 'MD', 'CA', 'USA', 'DC', 'CA', 'USA', 'CA', 'Türkiye', 'UT', 'MI', 'Market', 'TX', 'Lazio', 'USA', 'KY', 'USA', 'USA', 'MI', 'IN', 'FL', 'WA', 'CA', 'AZ', 'IN', 'TX', 'USA', 'PA', 'AL', 'AL', 'USA', 'USA', 'AR', 'CA', 'OH', 'USA', 'LA', 'CO', 'NC', 'NV', 'FL', 'CT', 'USA', 'MT', 'TX', 'USA', 'OH', 'VA', 'TX', 'USA', 'USA', 'CO', 'IL', 'TX', 'FL', 'Україна', 'CA', 'England', 'NY', 'FL', 'CA', 'CA', 'TN', 'FL', 'Victoria', 'NY', 'NJ', 'TX', 'Victoria', 'TX', 'CA', 'NY', 'TN', 'Victoria', 'NV', 'WA', 'USA', 'CA', 'USA', 'Victoria', 'NY', 'AZ', 'MD', 'GA', 'FL', 'Bend', 'CA', 'MI', 'FL', 'USA', 'AZ', 'TX', 'USA', 'CA', 'USA', 'WV', 'CA', 'FL', 'USA', 'AZ', 'GA', 'CO', 'USA', 'USA', 'AZ', 'UT', 'NY', 'AZ', 'WA', 'USA', 'SC', 'USA', 'CA', 'MD', 'CA', 'AL', 'OR', 'MA', 'CA', 'GA', 'MI', 'NC', 'NC', 'USA', 'España', 'USA', 'NY', 'USA', 'USA', 'NY', 'NV', 'NC', 'Deutschland', 'Ireland', 'Alberta', 'WA', 'PA', 'CA', 'TN', 'MA', 'CA', 'WA', 'USA', 'OH', 'USA', 'TN', 'TX', 'MA', 'NY', 'AL', 'FL', 'FL', 'FL', 'NJ', 'Deutschland', 'PA', 'NC', 'GA', 'FL', 'GA', 'AR', 'MD', 'GA', 'USA', 'CA', 'USA', 'FL', 'USA', 'OH', 'DC', 'NJ', 'OH', 'USA', 'MO', 'USA', 'RI', 'TN', 'CA', 'TX', 'CA', 'NJ', 'FL', 'IL', 'Ontario', 'TX', 'Ontario', 'DC', 'FL', 'NY', 'FL', 'IL', 'TX', 'CO', 'WI', 'NY', 'USA', 'FL', 'NJ', 'CA', 'Wales', 'NJ', 'NJ', 'Ontario', 'PA', 'USA', 'CA', 'NJ', 'NJ', 'ישראל', 'East', 'Africa', 'USA', 'NY', 'Zealand', 'MA', 'CA', 'OR', 'CA', 'LA', '横須賀市', 'AZ', 'USA', 'CA', 'NV', 'NV', 'USA', 'MO', 'OR', 'IL', 'USA', 'Africa', 'NH', 'USA', 'MO', 'USA', 'CA', 'USA', 'CA', 'USA', 'OR', 'CA', 'USA', 'USA', 'CO', 'USA', 'CO', 'USA', 'MA', 'AR', 'TX', 'USA', 'USA', 'OK', 'TX', 'CO', 'AZ', 'NY', 'TX', 'IN', 'CO', 'USA', 'CA', 'CO', 'Portland', 'OR', 'CA', 'CO', 'WA', 'CO', 'TX', 'GA', 'USA', 'TX', 'USA', 'GA', 'AL', 'USA', 'USA', 'CA', 'GA', 'CA', 'GA', 'KS', 'GA', 'TX', 'GA', 'FL', 'CA', 'FL', 'AZ', 'CA', 'GA', 'FL', 'AR', 'NJ', 'TX', 'Nam', 'VA', 'TX', 'GA', 'CA', 'IL', 'NV', 'OH', 'MA', 'GA', 'USA', 'KY', 'KY', 'FL', 'AL', 'LA', 'USA', 'USA', 'FL', 'TX', 'USA', 'USA', 'Ontario', 'AZ', 'USA', 'GA', 'IL', 'IL', 'USA', 'GA', 'USA', 'GA', 'CA', 'AZ', 'USA', 'TX', 'AZ', 'USA', 'NY', 'USA', 'NC', 'IL', 'CA', 'Nigeria', 'USA', 'MA', 'USA', 'AZ', 'IA', 'NY', 'Québec', 'TX', 'FL', 'Luzon', 'USA', 'USA', 'MA', 'NC', 'OR', 'USA', 'USA', 'PA', 'FL', 'USA', 'FL', 'WA', 'MI', 'AZ', 'CA', 'Wales', 'PA', 'OH', 'FL', 'VA', 'NY', 'USA', 'TX', 'MI', 'USA', 'CT', 'Machine', 'OH', 'OH', 'DC', 'NY', 'WV', 'WA', 'FL', 'WA', 'MT', 'FL', 'USA', 'FL', 'SC', 'PA', 'USA', 'FL', 'USA', 'Nigeria', 'Africa', 'MI', 'NY', 'USA', 'GA', 'MN', 'NY', 'Kingdom', 'USA', 'GA', 'GA', 'GA', 'GA', 'CA', 'NY', 'NY', 'CA', 'USA', 'CA', 'TX', 'FL', 'FL', 'FL', 'FL', 'FL', 'IL', 'FL', 'IL', 'GA', 'MI', 'USA', 'TN', 'MD', 'TX', 'USA', 'NC', 'SC', 'England', 'CA', 'USA', 'NC', 'OR', 'USA', 'USA', 'IL', 'GA', 'OK', 'Scotland', 'USA', 'MA', 'TX', 'USA', 'OR', 'FL', 'USA', 'TX', 'NV', 'USA', 'GA', 'GA', 'RI', 'MD', 'MI', 'USA', 'GA', 'LA', 'USA', 'NJ', 'USA', 'FL', 'FL', 'MA', 'FL', 'TX', 'FL', 'OH', 'NE', 'USA', 'IL', 'CT', 'USA', 'USA', 'IA', 'USA', 'SD', 'CA', 'MD', 'MN', 'AR', 'KS', 'Territory', 'KS', 'CA', 'KY', 'OR', 'England', 'TX', 'TX', 'MN', 'NJ', 'CA', 'TX', 'FL', 'Campus', 'NJ', 'TX', 'MA', 'VA', 'USA', 'TX', 'MI', 'NY', 'USA', 'CA', 'WA', 'NY', 'TX', 'USA', 'DC', 'MA', 'LA', 'FL', 'USA', 'MI', 'USA', 'USA', 'IL', '台灣', 'MO', 'CA', 'USA', 'IL', 'USA', 'IL', 'NY', 'CA', 'CA', 'NJ', 'NY', 'France', 'WA', 'USA', 'NV', 'WA', 'PA', 'FL', 'OR', 'الكويت', 'DC', 'NY', 'NY', 'Sverige', 'NJ', 'CA', 'USA', 'FL', 'USA', 'Cemetery', 'NY', 'PA', 'CO', 'MD', 'USA', 'LA', 'MD', 'OH', 'USA', 'USA', 'TX', 'NY', 'NY', 'USA', 'NV', 'VA', 'Africa', 'TN', 'USA', 'CA', 'USA', 'USA', 'USA', 'USA', 'USA', 'USA', 'NJ', 'USA', 'USA', 'USA', 'Wales', 'USA', 'NY', 'USA', 'NY', 'CO', 'CA', 'GA', 'USA', 'NY', 'UT', 'NJ', 'NJ', 'Africa', 'GA', 'CT', 'Ireland', 'FL', 'England', 'England', 'England', 'WA', 'USA', 'FL', 'Україна', 'USA', 'CA', 'Україна', 'CO', 'KY', 'TN', 'USA', 'OR', 'AZ', 'California', 'TX', 'USA', 'USA', 'Institute', 'MD', 'OR', 'VA', 'Brasil', 'Queensland', 'USA', 'CA', 'CA', 'CO', 'OH', 'USA', 'CA', 'USA', 'CA', 'SD', 'CA', 'OK', 'TX', 'NJ', 'FL', 'NJ', 'USA', 'FL', 'USA', 'NH', 'USA', 'Tamaulipas', 'VA', 'TN', 'USA', 'KS', 'FL', 'FL', 'PA', 'FL', 'USA', 'USA', 'Zealand', 'USA', 'USA', 'WA', 'DC', 'CA', 'OH', 'TX', 'USA', 'USA', 'USA', 'TX', 'TX', 'KY', 'OR', 'TX', 'MA', 'TX', 'CO', 'MA', 'MA', 'USA', 'USA', 'IA', 'AZ', 'AZ', 'NY', 'NY', 'USA', 'NV', 'Australia', 'CA', 'WA', 'NY', 'USA', 'CA', 'MO', 'CA', 'NY', 'London', 'DC', 'AL', 'Columbia', 'Deutschland', 'MA', 'USA', 'NY', 'Alberta', 'ID', 'CA', 'AR', 'AL', 'TX', 'NY', 'OH', 'OH', 'OH', 'CA', 'Zambia', 'TX', 'IN', 'TX', 'TX', 'ME', 'TX', 'FL', 'Österreich', 'DC', 'USA', 'USA', 'TX', 'USA', 'MN', 'FL', 'USA', 'CA', 'USA', 'KY', 'States', 'PA', 'PA', 'WI', 'WI', 'DC', 'WI', 'WI', 'Johor', 'WI', 'England', 'WI', 'VA', 'NY', 'PA', 'WI', 'USA', 'FL', 'VA', 'TX', 'IL', 'USA', 'NY', 'CA', 'USA', 'USA', 'NY', 'MN', 'CA', 'PA', 'Uganda', 'LA', 'USA', 'NJ', 'England', 'CA', 'NY', 'USA', 'VA', 'USA', 'CALABARZON', 'MD', 'AL', 'AL', 'TN', 'Brasil', 'USA', 'TX', 'Bahamas', 'CO', 'FL', 'Zealand', 'USA', 'VA', 'CO', 'Konabari', 'DC', 'NV', 'USA', 'FL', 'Zimbabwe', 'Columbia', 'Nigeria', 'AZ', 'PA', 'Columbia', 'GA', 'Rico', 'WA', 'States', 'OH', 'USA', 'USA', 'OH', 'CA', 'OR', 'TX', 'FL', 'NE', 'FL', 'FL', 'USA', 'USA', 'USA', 'CT', 'USA', 'CA', 'USA', 'VA', 'PA', 'TX', 'MO', 'KS', 'NC', 'TX', 'NY', 'CA', 'CA', 'TN', 'CA', 'WA', 'MD', 'USA', 'CA', 'NY', 'USA', 'IN', 'USA', 'CA', 'SC', 'IL', 'USA', 'Nam', 'TX', 'SD', 'CA', 'SC', 'TX', 'California', 'California', 'California', 'GA', 'England', 'USA', 'CA', 'Alberta', 'SC', 'TX', 'USA', 'MS', 'MI', 'NV', 'भारत', 'USA', 'USA', 'OH', 'IN', 'MI', 'Nam', 'MA', 'NY', 'IN', 'Namibia', 'MO', 'NJ', 'MO', 'TN', 'USA', 'IL', 'TX', 'WI', 'TX', 'WA', 'FL', 'England', 'Nigeria', 'NC', 'RI', 'AZ', 'TX', 'MO', 'Ghana', 'Nigeria', 'Africa', '49', 'IL', 'TX', 'IN', 'England', 'IN', 'USA', 'IN', 'MD', 'Namibia', 'Namibia', 'Namibia', 'Nigeria', 'Namibia', 'USA', 'Columbia', 'GA', 'GA', 'TX', 'Scotland', 'TX', 'Ontario', 'USA', 'London', 'Africa', 'Kroger', 'Kingdom', 'England', 'MI', 'Nigeria', 'Ireland', 'USA', 'Nigeria', 'Nigeria', 'IL', 'England', 'East', 'CA', 'WA', 'PA', 'NY', 'USA', 'TX', 'USA', 'AZ', 'Nigeria', 'USA', 'Nigeria', 'Melaka', 'AL', 'Johor', 'FL', 'USA', 'Indonesia', 'OK', 'OK', 'MS', 'IN', 'Kenya', 'TX', 'FL', 'MD', 'TX', 'Deutschland', 'England', 'England', 'Africa', 'CA', 'TX', 'TX', 'TX', 'CO', 'TX', 'MA', 'MA', 'FL', 'USA', 'NY', 'PA', 'USA', 'AL', 'AL', 'PA', 'PA', 'NC', 'FL', 'IL', 'Columbia', 'TX', 'FL', 'USA', 'OK', 'CA', 'NC', 'FL', 'MA', 'MN', 'CA', 'CA', 'CA', 'CO', 'NY', 'Columbia', 'FL', 'MD', 'KY', 'NJ', 'OH', 'WA', 'USA', 'USA', 'USA', 'TX', 'TX', 'CO', 'MD', 'DC', 'MD', 'NV', 'NV', 'TX', 'TX', 'NY', 'CA', 'FL', 'AZ', 'AR', 'IL', 'CA', 'TX', 'WA', 'UT', 'WA', 'USA', 'NC', 'WA', 'WA', 'DC', 'Columbia', 'LA', 'DC', 'MO', 'Indonesia', 'FL', 'TX', 'DC', 'AL', 'AL', 'MA', 'MA', 'WA', 'TX', 'USA', 'USA', 'Manitoba', 'NV', 'NJ', 'NV', 'MI', 'AL', 'WI', 'NY', 'FL', 'TX', 'GA', 'USA', 'USA', 'IA', 'USA', 'CA', 'TN', 'TX', 'TX', 'CA', 'AZ', 'USA', 'NC', 'NJ', 'FL', 'OH', 'WI', 'USA', 'FL', 'NJ', 'NJ', 'USA', 'MA', 'USA', 'MN', 'TX', 'NM', 'AR', 'GA', 'USA', 'NJ', 'TX', 'NV', 'NJ', 'TX', 'NJ', 'DC', 'NE', 'SC', 'NV', 'USA', 'LA', 'NY', 'USA', 'USA', 'DC', 'IL', 'KS', 'USA', 'CA', 'GA', 'USA', 'NY', 'OH', 'AZ', 'AZ', 'Indonesia', 'NY', 'NY', 'USA', 'NV', 'FL', 'FL', 'WI', 'FL', 'FL', 'PA', 'WI', 'CO', 'TX', 'NY', 'ND', 'USA', 'NC', 'Brasil', 'USA', 'USA', 'FL', 'NH', 'Ontario', 'USA', 'Ontario', 'Ontario', 'MA', 'NJ', 'TX', 'Nigeria', 'CA', 'AL', 'Nigeria', 'AZ', 'NJ', 'Danmark', 'AZ', 'USA', 'USA', 'MS', 'USA', 'USA', '新加坡', 'MO', 'USA', 'USA', 'NY', 'Wales', 'NY', 'NY', 'AZ', 'MD', 'IL', 'NJ', 'AZ', 'GA', 'OH', 'GA', 'CA', 'CA', 'MT', 'OR', 'USA', 'TX', 'USA', 'WA', 'NY', 'WA', 'DC', 'CA', 'NY', 'USA', 'USA', 'Österreich', 'CA', 'भारत', 'MD', 'IN', 'NV', 'USA', 'NY', 'USA', 'CA', 'CA', 'NE', 'PA', 'NY', 'OH', 'USA', 'USA', 'NV', 'România', 'NE', 'CA', 'FL', 'PA', 'CA', 'FL', 'NY', 'TN', 'MI', 'USA', 'TX', 'WI', 'NY', 'School', 'SC', 'WA', 'NY', 'DE', 'MI', 'MI', 'USA', 'DC', 'DC', 'Victoria', 'TN', 'MD', 'MD', 'USA', 'GA', 'MI', 'OH', 'Yucatán', 'PA', 'OK', 'USA', 'OR', 'CA', 'OK', 'IL', 'MA', 'USA', 'USA', 'CA', 'USA', 'IL', 'NY', 'TX', 'UT', 'USA', 'IL', 'TX', 'CA', 'Queens', 'USA', 'CO', 'CA', 'AL', 'IN', 'NV', 'CA', 'USA', 'NJ', 'ID', 'USA', 'ID', 'ID', 'LA', 'CA', 'ID', 'CA', 'USA', 'NY', 'CO', 'NC', 'CA', 'USA', 'MI', 'Dundee', 'DC', 'USA', 'CO', 'PA', 'USA', 'USA', 'FL', 'OH', 'CA', 'USA', 'DC', 'OH', 'USA', 'MA', 'MN', 'OH', 'TX', 'MS', 'AZ', 'MI', 'OH', 'NY', 'KY', 'OH', 'NY', 'CA', 'CA', 'NC', 'NY', 'البحرين', 'USA', 'CA', 'MI', 'NC', 'CA', 'NM', 'TX', 'Ontario', 'AZ', 'TN', 'CO', 'CO', 'USA', 'TX', 'CA', 'FL', 'CA', 'WI', 'OH', 'CA', 'CO', 'USA', 'TX', 'NY', 'IL', 'GA', 'IL', 'MA', 'CA', 'CA', 'TX', 'NV', 'NC', 'NC', 'USA', 'USA', 'WA', 'NJ', 'Alberta', 'FL', 'MN', 'WA', 'England', 'USA', 'NY', 'England', 'TN', 'CA', 'KY', 'FL', 'USA', 'CA', 'IN', 'Iraq', 'GA', 'MT', 'DC', 'CA', 'TX', 'FL', 'USA', 'MA', 'NY', 'CA', 'MS', 'NY', 'CA', 'MI', 'España', 'AZ', 'England', 'WY', 'TX', 'USA', 'Lumpur', 'USA', 'WI', 'TX', 'TX', 'SC', 'AZ', 'USA', 'CA', 'CA', 'England', 'MD', 'DC', 'UT', 'GA', 'USA', 'UT', 'NY', 'TN', 'CA', 'DE', 'CA', 'CA', 'CA', 'VA', 'CA', 'IN', 'TN', 'GA', 'USA', 'WA', 'CA', 'MT', 'USA', 'MA', 'USA', 'USA', 'USA', 'OH', 'KY', 'NJ', 'CA', 'USA', 'Ελλάς', 'NJ', 'NH', 'MD', 'NY', 'USA', 'USA', 'NY', 'Canada', 'TX', 'CA', 'UT', 'NJ', 'MA', 'USA', 'PA', 'FL', 'WI', 'OH', 'IL', 'México', 'OK', 'NJ', 'NY', 'AZ', 'GA', 'KY', 'USA', 'Shqipëria', 'FL', 'KY']\n"
     ]
    }
   ],
   "source": [
    "state = []\n",
    "country = []\n",
    "\n",
    "for i in range(len(geo_tweets)):\n",
    "    #print(geo_tweets_sample.geo.iloc[i]['country_code'],geo_tweets_sample.geo.iloc[i]['full_name'])\n",
    "    #print(geo_tweets_sample.geo.iloc[i]['full_name'].split(' ')[-1])\n",
    "    state.append(geo_tweets.geo.iloc[i]['full_name'].split(' ')[-1])\n",
    "    country.append(geo_tweets.geo.iloc[i]['country_code'])\n",
    "\n",
    "print(state)"
   ]
  },
  {
   "cell_type": "code",
   "execution_count": 28,
   "metadata": {},
   "outputs": [],
   "source": [
    "geo_tweets['state'] = state\n",
    "geo_tweets['country'] = country"
   ]
  },
  {
   "cell_type": "code",
   "execution_count": 45,
   "metadata": {},
   "outputs": [
    {
     "name": "stdout",
     "output_type": "stream",
     "text": [
      "Index(['id', 'text', 'author_id', 'entities', 'created_at', 'geo',\n",
      "       'public_metrics', 'author', 'state', 'country'],\n",
      "      dtype='object')\n"
     ]
    }
   ],
   "source": [
    "geo_tweets.to_csv(\"data/baby_formula_geo_statewise.csv\")\n",
    "print(geo_tweets.columns)\n",
    "#geo_tweets = geo_tweets.drop(['created_at'])\n",
    "#print(geo_tweets.columns)\n",
    "#geo_tweets.to_excel(\"data/baby_formula_geo_statewise.xlsx\")"
   ]
  },
  {
   "cell_type": "code",
   "execution_count": 2,
   "metadata": {},
   "outputs": [
    {
     "data": {
      "text/html": [
       "<div>\n",
       "<style scoped>\n",
       "    .dataframe tbody tr th:only-of-type {\n",
       "        vertical-align: middle;\n",
       "    }\n",
       "\n",
       "    .dataframe tbody tr th {\n",
       "        vertical-align: top;\n",
       "    }\n",
       "\n",
       "    .dataframe thead th {\n",
       "        text-align: right;\n",
       "    }\n",
       "</style>\n",
       "<table border=\"1\" class=\"dataframe\">\n",
       "  <thead>\n",
       "    <tr style=\"text-align: right;\">\n",
       "      <th></th>\n",
       "      <th>Unnamed: 0</th>\n",
       "      <th>id</th>\n",
       "      <th>text</th>\n",
       "      <th>author_id</th>\n",
       "      <th>entities</th>\n",
       "      <th>created_at</th>\n",
       "      <th>geo</th>\n",
       "      <th>public_metrics</th>\n",
       "      <th>author</th>\n",
       "      <th>state</th>\n",
       "      <th>country</th>\n",
       "    </tr>\n",
       "  </thead>\n",
       "  <tbody>\n",
       "    <tr>\n",
       "      <th>0</th>\n",
       "      <td>0</td>\n",
       "      <td>1529249788058865664</td>\n",
       "      <td>My main questions regarding the baby formula c...</td>\n",
       "      <td>511006601</td>\n",
       "      <td>{'annotations': [{'start': 99, 'end': 101, 'pr...</td>\n",
       "      <td>2022-05-24 23:55:36+00:00</td>\n",
       "      <td>{'id': 'e206c812e7a2e03b', 'place_type': 'city...</td>\n",
       "      <td>{'retweet_count': 1, 'reply_count': 0, 'like_c...</td>\n",
       "      <td>{'created_at': '2012-03-01T23:07:21.000Z', 'us...</td>\n",
       "      <td>TX</td>\n",
       "      <td>US</td>\n",
       "    </tr>\n",
       "    <tr>\n",
       "      <th>1</th>\n",
       "      <td>1</td>\n",
       "      <td>1529249606550409216</td>\n",
       "      <td>Today, March 24, 2022, in the United States of...</td>\n",
       "      <td>17893213</td>\n",
       "      <td>{'annotations': [{'start': 30, 'end': 53, 'pro...</td>\n",
       "      <td>2022-05-24 23:54:52+00:00</td>\n",
       "      <td>{'id': 'dce44ec49eb788f5', 'place_type': 'city...</td>\n",
       "      <td>{'retweet_count': 1, 'reply_count': 0, 'like_c...</td>\n",
       "      <td>{'created_at': '2008-12-05T08:10:26.000Z', 'us...</td>\n",
       "      <td>TX</td>\n",
       "      <td>US</td>\n",
       "    </tr>\n",
       "    <tr>\n",
       "      <th>2</th>\n",
       "      <td>2</td>\n",
       "      <td>1529248309679755264</td>\n",
       "      <td>In a matter of days @TheDemocrats will bring g...</td>\n",
       "      <td>27739124</td>\n",
       "      <td>{'hashtags': [{'start': 221, 'end': 234, 'tag'...</td>\n",
       "      <td>2022-05-24 23:49:43+00:00</td>\n",
       "      <td>{'id': 'b49b3053b5c25bf5', 'place_type': 'city...</td>\n",
       "      <td>{'retweet_count': 0, 'reply_count': 0, 'like_c...</td>\n",
       "      <td>{'created_at': '2009-03-30T21:53:01.000Z', 'us...</td>\n",
       "      <td>CO</td>\n",
       "      <td>US</td>\n",
       "    </tr>\n",
       "    <tr>\n",
       "      <th>3</th>\n",
       "      <td>3</td>\n",
       "      <td>1529247772192432128</td>\n",
       "      <td>In Dec 2012 I had a brand newborn baby (born N...</td>\n",
       "      <td>984406551715868672</td>\n",
       "      <td>{'annotations': [{'start': 224, 'end': 233, 'p...</td>\n",
       "      <td>2022-05-24 23:47:35+00:00</td>\n",
       "      <td>{'id': '1c69a67ad480e1b1', 'place_type': 'city...</td>\n",
       "      <td>{'retweet_count': 2, 'reply_count': 2, 'like_c...</td>\n",
       "      <td>{'created_at': '2018-04-12T12:23:06.000Z', 'us...</td>\n",
       "      <td>TX</td>\n",
       "      <td>US</td>\n",
       "    </tr>\n",
       "    <tr>\n",
       "      <th>4</th>\n",
       "      <td>4</td>\n",
       "      <td>1529246355302014976</td>\n",
       "      <td>@laurenboebert You voted AGAINST the baby form...</td>\n",
       "      <td>190988939</td>\n",
       "      <td>{'mentions': [{'start': 0, 'end': 14, 'usernam...</td>\n",
       "      <td>2022-05-24 23:41:57+00:00</td>\n",
       "      <td>{'id': '69b7ed640da9394f', 'place_type': 'city...</td>\n",
       "      <td>{'retweet_count': 0, 'reply_count': 0, 'like_c...</td>\n",
       "      <td>{'created_at': '2010-09-15T10:19:13.000Z', 'us...</td>\n",
       "      <td>MA</td>\n",
       "      <td>US</td>\n",
       "    </tr>\n",
       "  </tbody>\n",
       "</table>\n",
       "</div>"
      ],
      "text/plain": [
       "   Unnamed: 0                   id  \\\n",
       "0           0  1529249788058865664   \n",
       "1           1  1529249606550409216   \n",
       "2           2  1529248309679755264   \n",
       "3           3  1529247772192432128   \n",
       "4           4  1529246355302014976   \n",
       "\n",
       "                                                text           author_id  \\\n",
       "0  My main questions regarding the baby formula c...           511006601   \n",
       "1  Today, March 24, 2022, in the United States of...            17893213   \n",
       "2  In a matter of days @TheDemocrats will bring g...            27739124   \n",
       "3  In Dec 2012 I had a brand newborn baby (born N...  984406551715868672   \n",
       "4  @laurenboebert You voted AGAINST the baby form...           190988939   \n",
       "\n",
       "                                            entities  \\\n",
       "0  {'annotations': [{'start': 99, 'end': 101, 'pr...   \n",
       "1  {'annotations': [{'start': 30, 'end': 53, 'pro...   \n",
       "2  {'hashtags': [{'start': 221, 'end': 234, 'tag'...   \n",
       "3  {'annotations': [{'start': 224, 'end': 233, 'p...   \n",
       "4  {'mentions': [{'start': 0, 'end': 14, 'usernam...   \n",
       "\n",
       "                  created_at  \\\n",
       "0  2022-05-24 23:55:36+00:00   \n",
       "1  2022-05-24 23:54:52+00:00   \n",
       "2  2022-05-24 23:49:43+00:00   \n",
       "3  2022-05-24 23:47:35+00:00   \n",
       "4  2022-05-24 23:41:57+00:00   \n",
       "\n",
       "                                                 geo  \\\n",
       "0  {'id': 'e206c812e7a2e03b', 'place_type': 'city...   \n",
       "1  {'id': 'dce44ec49eb788f5', 'place_type': 'city...   \n",
       "2  {'id': 'b49b3053b5c25bf5', 'place_type': 'city...   \n",
       "3  {'id': '1c69a67ad480e1b1', 'place_type': 'city...   \n",
       "4  {'id': '69b7ed640da9394f', 'place_type': 'city...   \n",
       "\n",
       "                                      public_metrics  \\\n",
       "0  {'retweet_count': 1, 'reply_count': 0, 'like_c...   \n",
       "1  {'retweet_count': 1, 'reply_count': 0, 'like_c...   \n",
       "2  {'retweet_count': 0, 'reply_count': 0, 'like_c...   \n",
       "3  {'retweet_count': 2, 'reply_count': 2, 'like_c...   \n",
       "4  {'retweet_count': 0, 'reply_count': 0, 'like_c...   \n",
       "\n",
       "                                              author state country  \n",
       "0  {'created_at': '2012-03-01T23:07:21.000Z', 'us...    TX      US  \n",
       "1  {'created_at': '2008-12-05T08:10:26.000Z', 'us...    TX      US  \n",
       "2  {'created_at': '2009-03-30T21:53:01.000Z', 'us...    CO      US  \n",
       "3  {'created_at': '2018-04-12T12:23:06.000Z', 'us...    TX      US  \n",
       "4  {'created_at': '2010-09-15T10:19:13.000Z', 'us...    MA      US  "
      ]
     },
     "execution_count": 2,
     "metadata": {},
     "output_type": "execute_result"
    }
   ],
   "source": [
    "df = pd.read_csv(\"data/baby_formula_geo_statewise.csv\")\n",
    "df.head()"
   ]
  },
  {
   "cell_type": "code",
   "execution_count": 9,
   "metadata": {},
   "outputs": [
    {
     "name": "stdout",
     "output_type": "stream",
     "text": [
      "8739\n",
      "8021\n",
      "1543\n"
     ]
    }
   ],
   "source": [
    "print(len(df))\n",
    "print(len(df[df['country']=='US']))\n",
    "df = df[df['country']=='US']\n",
    "print(len(df[df['state']=='USA']))"
   ]
  },
  {
   "cell_type": "code",
   "execution_count": 11,
   "metadata": {},
   "outputs": [],
   "source": [
    "def CountFrequency(my_list):\n",
    " \n",
    "    # Creating an empty dictionary\n",
    "    freq = {}\n",
    "    for item in my_list:\n",
    "        if (item in freq):\n",
    "            freq[item] += 1\n",
    "        else:\n",
    "            freq[item] = 1\n",
    " \n",
    "    return freq\n",
    "\n",
    "states = list(df['state'])\n",
    "freq_states = CountFrequency(states)\n",
    "#print(CountFrequency(states))"
   ]
  },
  {
   "cell_type": "code",
   "execution_count": 12,
   "metadata": {},
   "outputs": [
    {
     "data": {
      "text/plain": [
       "{'TX': 637,\n",
       " 'CO': 140,\n",
       " 'MA': 150,\n",
       " 'FL': 669,\n",
       " 'USA': 1543,\n",
       " 'NY': 465,\n",
       " 'PA': 194,\n",
       " 'AL': 80,\n",
       " 'NC': 143,\n",
       " 'IL': 218,\n",
       " 'OK': 74,\n",
       " 'CA': 840,\n",
       " 'MN': 77,\n",
       " 'MD': 123,\n",
       " 'KY': 69,\n",
       " 'NJ': 211,\n",
       " 'OH': 214,\n",
       " 'WA': 173,\n",
       " 'DC': 127,\n",
       " 'NV': 119,\n",
       " 'AZ': 161,\n",
       " 'AR': 44,\n",
       " 'UT': 44,\n",
       " 'LA': 56,\n",
       " 'MO': 95,\n",
       " 'MI': 139,\n",
       " 'WI': 65,\n",
       " 'GA': 169,\n",
       " 'IA': 42,\n",
       " 'TN': 103,\n",
       " 'NM': 47,\n",
       " 'NE': 37,\n",
       " 'SC': 85,\n",
       " 'KS': 27,\n",
       " 'ND': 3,\n",
       " 'NH': 25,\n",
       " 'MS': 24,\n",
       " 'MT': 16,\n",
       " 'OR': 100,\n",
       " 'IN': 99,\n",
       " 'School': 3,\n",
       " 'DE': 9,\n",
       " 'Queens': 2,\n",
       " 'ID': 32,\n",
       " 'WY': 8,\n",
       " 'VA': 128,\n",
       " 'CT': 43,\n",
       " 'WV': 8,\n",
       " 'Brooklyn': 2,\n",
       " 'Rico': 7,\n",
       " 'AK': 11,\n",
       " 'Target': 4,\n",
       " 'States': 10,\n",
       " 'Airport': 1,\n",
       " 'RI': 17,\n",
       " 'Mountains': 1,\n",
       " 'Bear': 1,\n",
       " 'SD': 15,\n",
       " 'Room': 1,\n",
       " 'Temple': 1,\n",
       " 'Center': 2,\n",
       " 'Senate': 1,\n",
       " 'Hospital': 1,\n",
       " 'NW': 1,\n",
       " \"O'Hare\": 2,\n",
       " 'Pool': 1,\n",
       " 'Capitol': 1,\n",
       " 'Machine': 2,\n",
       " 'Mountain': 1,\n",
       " 'BevMo!': 1,\n",
       " 'HI': 16,\n",
       " 'ME': 4,\n",
       " 'Park': 2,\n",
       " 'VT': 6,\n",
       " 'Bureau': 1,\n",
       " 'News': 1,\n",
       " 'KCTV5': 1,\n",
       " 'Avenue': 1,\n",
       " 'Portland': 2,\n",
       " 'Apartments': 1,\n",
       " 'TEKnologies': 1,\n",
       " 'Club': 1,\n",
       " 'Boston': 1,\n",
       " 'pharmacy': 1,\n",
       " 'Cowboy': 1,\n",
       " 'WSB': 2,\n",
       " 'NYC': 1,\n",
       " 'Supercenter': 1,\n",
       " 'Ankeny': 1,\n",
       " 'Field': 1,\n",
       " 'center': 1,\n",
       " 'Army': 1,\n",
       " 'Washington': 1,\n",
       " 'Shack': 1,\n",
       " 'Kickboxing': 1,\n",
       " 'Market': 1,\n",
       " 'Bend': 1,\n",
       " 'Campus': 1,\n",
       " 'Cemetery': 1,\n",
       " 'Institute': 1,\n",
       " 'Kroger': 1}"
      ]
     },
     "execution_count": 12,
     "metadata": {},
     "output_type": "execute_result"
    }
   ],
   "source": [
    "freq_states"
   ]
  },
  {
   "cell_type": "code",
   "execution_count": 63,
   "metadata": {},
   "outputs": [
    {
     "data": {
      "text/html": [
       "<div>\n",
       "<style scoped>\n",
       "    .dataframe tbody tr th:only-of-type {\n",
       "        vertical-align: middle;\n",
       "    }\n",
       "\n",
       "    .dataframe tbody tr th {\n",
       "        vertical-align: top;\n",
       "    }\n",
       "\n",
       "    .dataframe thead th {\n",
       "        text-align: right;\n",
       "    }\n",
       "</style>\n",
       "<table border=\"1\" class=\"dataframe\">\n",
       "  <thead>\n",
       "    <tr style=\"text-align: right;\">\n",
       "      <th></th>\n",
       "      <th>0</th>\n",
       "    </tr>\n",
       "  </thead>\n",
       "  <tbody>\n",
       "    <tr>\n",
       "      <th>TX</th>\n",
       "      <td>637</td>\n",
       "    </tr>\n",
       "    <tr>\n",
       "      <th>CO</th>\n",
       "      <td>140</td>\n",
       "    </tr>\n",
       "    <tr>\n",
       "      <th>MA</th>\n",
       "      <td>150</td>\n",
       "    </tr>\n",
       "    <tr>\n",
       "      <th>FL</th>\n",
       "      <td>669</td>\n",
       "    </tr>\n",
       "    <tr>\n",
       "      <th>USA</th>\n",
       "      <td>1543</td>\n",
       "    </tr>\n",
       "    <tr>\n",
       "      <th>NY</th>\n",
       "      <td>465</td>\n",
       "    </tr>\n",
       "    <tr>\n",
       "      <th>PA</th>\n",
       "      <td>194</td>\n",
       "    </tr>\n",
       "    <tr>\n",
       "      <th>AL</th>\n",
       "      <td>80</td>\n",
       "    </tr>\n",
       "    <tr>\n",
       "      <th>NC</th>\n",
       "      <td>143</td>\n",
       "    </tr>\n",
       "    <tr>\n",
       "      <th>IL</th>\n",
       "      <td>218</td>\n",
       "    </tr>\n",
       "    <tr>\n",
       "      <th>OK</th>\n",
       "      <td>74</td>\n",
       "    </tr>\n",
       "    <tr>\n",
       "      <th>CA</th>\n",
       "      <td>840</td>\n",
       "    </tr>\n",
       "    <tr>\n",
       "      <th>MN</th>\n",
       "      <td>77</td>\n",
       "    </tr>\n",
       "    <tr>\n",
       "      <th>MD</th>\n",
       "      <td>123</td>\n",
       "    </tr>\n",
       "    <tr>\n",
       "      <th>KY</th>\n",
       "      <td>69</td>\n",
       "    </tr>\n",
       "  </tbody>\n",
       "</table>\n",
       "</div>"
      ],
      "text/plain": [
       "        0\n",
       "TX    637\n",
       "CO    140\n",
       "MA    150\n",
       "FL    669\n",
       "USA  1543\n",
       "NY    465\n",
       "PA    194\n",
       "AL     80\n",
       "NC    143\n",
       "IL    218\n",
       "OK     74\n",
       "CA    840\n",
       "MN     77\n",
       "MD    123\n",
       "KY     69"
      ]
     },
     "execution_count": 63,
     "metadata": {},
     "output_type": "execute_result"
    }
   ],
   "source": [
    "df_freq = pd.DataFrame(data=freq_states, index=[0]).T\n",
    "df_freq.to_excel(\"data/baby_formula_statewise_freq.xlsx\")\n",
    "df_freq.head(15)"
   ]
  },
  {
   "cell_type": "code",
   "execution_count": 20,
   "metadata": {},
   "outputs": [],
   "source": [
    "states = {\n",
    "    'AK': 'Alaska',\n",
    "    'AL': 'Alabama',\n",
    "    'AR': 'Arkansas',\n",
    "    'AZ': 'Arizona',\n",
    "    'CA': 'California',\n",
    "    'CO': 'Colorado',\n",
    "    'CT': 'Connecticut',\n",
    "    'DC': 'District of Columbia',\n",
    "    'DE': 'Delaware',\n",
    "    'FL': 'Florida',\n",
    "    'GA': 'Georgia',\n",
    "    'HI': 'Hawaii',\n",
    "    'IA': 'Iowa',\n",
    "    'ID': 'Idaho',\n",
    "    'IL': 'Illinois',\n",
    "    'IN': 'Indiana',\n",
    "    'KS': 'Kansas',\n",
    "    'KY': 'Kentucky',\n",
    "    'LA': 'Louisiana',\n",
    "    'MA': 'Massachusetts',\n",
    "    'MD': 'Maryland',\n",
    "    'ME': 'Maine',\n",
    "    'MI': 'Michigan',\n",
    "    'MN': 'Minnesota',\n",
    "    'MO': 'Missouri',\n",
    "    'MS': 'Mississippi',\n",
    "    'MT': 'Montana',\n",
    "    'NC': 'North Carolina',\n",
    "    'ND': 'North Dakota',\n",
    "    'NE': 'Nebraska',\n",
    "    'NH': 'New Hampshire',\n",
    "    'NJ': 'New Jersey',\n",
    "    'NM': 'New Mexico',\n",
    "    'NV': 'Nevada',\n",
    "    'NY': 'New York',\n",
    "    'OH': 'Ohio',\n",
    "    'OK': 'Oklahoma',\n",
    "    'OR': 'Oregon',\n",
    "    'PA': 'Pennsylvania',\n",
    "    'RI': 'Rhode Island',\n",
    "    'SC': 'South Carolina',\n",
    "    'SD': 'South Dakota',\n",
    "    'TN': 'Tennessee',\n",
    "    'TX': 'Texas',\n",
    "    'UT': 'Utah',\n",
    "    'VA': 'Virginia',\n",
    "    'VT': 'Vermont',\n",
    "    'WA': 'Washington',\n",
    "    'WI': 'Wisconsin',\n",
    "    'WV': 'West Virginia',\n",
    "    'WY': 'Wyoming'\n",
    "}"
   ]
  },
  {
   "cell_type": "code",
   "execution_count": 65,
   "metadata": {},
   "outputs": [
    {
     "name": "stdout",
     "output_type": "stream",
     "text": [
      "yup\n",
      "yup\n",
      "yup\n",
      "yup\n",
      "nope\n",
      "yup\n",
      "yup\n",
      "yup\n",
      "yup\n",
      "yup\n",
      "yup\n",
      "yup\n",
      "yup\n",
      "yup\n",
      "yup\n",
      "yup\n",
      "yup\n",
      "yup\n",
      "yup\n",
      "yup\n",
      "yup\n",
      "yup\n",
      "yup\n",
      "yup\n",
      "yup\n",
      "yup\n",
      "yup\n",
      "yup\n",
      "yup\n",
      "yup\n",
      "yup\n",
      "yup\n",
      "yup\n",
      "yup\n",
      "yup\n",
      "yup\n",
      "yup\n",
      "yup\n",
      "yup\n",
      "yup\n",
      "nope\n",
      "yup\n",
      "nope\n",
      "yup\n",
      "yup\n",
      "yup\n",
      "yup\n",
      "yup\n",
      "nope\n",
      "nope\n",
      "yup\n",
      "nope\n",
      "nope\n",
      "nope\n",
      "yup\n",
      "nope\n",
      "nope\n",
      "yup\n",
      "nope\n",
      "nope\n",
      "nope\n",
      "nope\n",
      "nope\n",
      "nope\n",
      "nope\n",
      "nope\n",
      "nope\n",
      "nope\n",
      "nope\n",
      "nope\n",
      "yup\n",
      "yup\n",
      "nope\n",
      "yup\n",
      "nope\n",
      "nope\n",
      "nope\n",
      "nope\n",
      "nope\n",
      "nope\n",
      "nope\n",
      "nope\n",
      "nope\n",
      "nope\n",
      "nope\n",
      "nope\n",
      "nope\n",
      "nope\n",
      "nope\n",
      "nope\n",
      "nope\n",
      "nope\n",
      "nope\n",
      "nope\n",
      "nope\n",
      "nope\n",
      "nope\n",
      "nope\n",
      "nope\n",
      "nope\n",
      "nope\n"
     ]
    },
    {
     "data": {
      "text/html": [
       "<div>\n",
       "<style scoped>\n",
       "    .dataframe tbody tr th:only-of-type {\n",
       "        vertical-align: middle;\n",
       "    }\n",
       "\n",
       "    .dataframe tbody tr th {\n",
       "        vertical-align: top;\n",
       "    }\n",
       "\n",
       "    .dataframe thead th {\n",
       "        text-align: right;\n",
       "    }\n",
       "</style>\n",
       "<table border=\"1\" class=\"dataframe\">\n",
       "  <thead>\n",
       "    <tr style=\"text-align: right;\">\n",
       "      <th></th>\n",
       "      <th>state</th>\n",
       "      <th>code</th>\n",
       "      <th>counts</th>\n",
       "    </tr>\n",
       "  </thead>\n",
       "  <tbody>\n",
       "    <tr>\n",
       "      <th>0</th>\n",
       "      <td>Texas</td>\n",
       "      <td>TX</td>\n",
       "      <td>637</td>\n",
       "    </tr>\n",
       "    <tr>\n",
       "      <th>1</th>\n",
       "      <td>Colorado</td>\n",
       "      <td>CO</td>\n",
       "      <td>140</td>\n",
       "    </tr>\n",
       "    <tr>\n",
       "      <th>2</th>\n",
       "      <td>Massachusetts</td>\n",
       "      <td>MA</td>\n",
       "      <td>150</td>\n",
       "    </tr>\n",
       "    <tr>\n",
       "      <th>3</th>\n",
       "      <td>Florida</td>\n",
       "      <td>FL</td>\n",
       "      <td>669</td>\n",
       "    </tr>\n",
       "    <tr>\n",
       "      <th>4</th>\n",
       "      <td>New York</td>\n",
       "      <td>NY</td>\n",
       "      <td>465</td>\n",
       "    </tr>\n",
       "    <tr>\n",
       "      <th>5</th>\n",
       "      <td>Pennsylvania</td>\n",
       "      <td>PA</td>\n",
       "      <td>194</td>\n",
       "    </tr>\n",
       "    <tr>\n",
       "      <th>6</th>\n",
       "      <td>Alabama</td>\n",
       "      <td>AL</td>\n",
       "      <td>80</td>\n",
       "    </tr>\n",
       "    <tr>\n",
       "      <th>7</th>\n",
       "      <td>North Carolina</td>\n",
       "      <td>NC</td>\n",
       "      <td>143</td>\n",
       "    </tr>\n",
       "    <tr>\n",
       "      <th>8</th>\n",
       "      <td>Illinois</td>\n",
       "      <td>IL</td>\n",
       "      <td>218</td>\n",
       "    </tr>\n",
       "    <tr>\n",
       "      <th>9</th>\n",
       "      <td>Oklahoma</td>\n",
       "      <td>OK</td>\n",
       "      <td>74</td>\n",
       "    </tr>\n",
       "    <tr>\n",
       "      <th>10</th>\n",
       "      <td>California</td>\n",
       "      <td>CA</td>\n",
       "      <td>840</td>\n",
       "    </tr>\n",
       "    <tr>\n",
       "      <th>11</th>\n",
       "      <td>Minnesota</td>\n",
       "      <td>MN</td>\n",
       "      <td>77</td>\n",
       "    </tr>\n",
       "    <tr>\n",
       "      <th>12</th>\n",
       "      <td>Maryland</td>\n",
       "      <td>MD</td>\n",
       "      <td>123</td>\n",
       "    </tr>\n",
       "    <tr>\n",
       "      <th>13</th>\n",
       "      <td>Kentucky</td>\n",
       "      <td>KY</td>\n",
       "      <td>69</td>\n",
       "    </tr>\n",
       "    <tr>\n",
       "      <th>14</th>\n",
       "      <td>New Jersey</td>\n",
       "      <td>NJ</td>\n",
       "      <td>211</td>\n",
       "    </tr>\n",
       "    <tr>\n",
       "      <th>15</th>\n",
       "      <td>Ohio</td>\n",
       "      <td>OH</td>\n",
       "      <td>214</td>\n",
       "    </tr>\n",
       "    <tr>\n",
       "      <th>16</th>\n",
       "      <td>Washington</td>\n",
       "      <td>WA</td>\n",
       "      <td>173</td>\n",
       "    </tr>\n",
       "    <tr>\n",
       "      <th>17</th>\n",
       "      <td>District of Columbia</td>\n",
       "      <td>DC</td>\n",
       "      <td>127</td>\n",
       "    </tr>\n",
       "    <tr>\n",
       "      <th>18</th>\n",
       "      <td>Nevada</td>\n",
       "      <td>NV</td>\n",
       "      <td>119</td>\n",
       "    </tr>\n",
       "    <tr>\n",
       "      <th>19</th>\n",
       "      <td>Arizona</td>\n",
       "      <td>AZ</td>\n",
       "      <td>161</td>\n",
       "    </tr>\n",
       "    <tr>\n",
       "      <th>20</th>\n",
       "      <td>Arkansas</td>\n",
       "      <td>AR</td>\n",
       "      <td>44</td>\n",
       "    </tr>\n",
       "    <tr>\n",
       "      <th>21</th>\n",
       "      <td>Utah</td>\n",
       "      <td>UT</td>\n",
       "      <td>44</td>\n",
       "    </tr>\n",
       "    <tr>\n",
       "      <th>22</th>\n",
       "      <td>Louisiana</td>\n",
       "      <td>LA</td>\n",
       "      <td>56</td>\n",
       "    </tr>\n",
       "    <tr>\n",
       "      <th>23</th>\n",
       "      <td>Missouri</td>\n",
       "      <td>MO</td>\n",
       "      <td>95</td>\n",
       "    </tr>\n",
       "    <tr>\n",
       "      <th>24</th>\n",
       "      <td>Michigan</td>\n",
       "      <td>MI</td>\n",
       "      <td>139</td>\n",
       "    </tr>\n",
       "    <tr>\n",
       "      <th>25</th>\n",
       "      <td>Wisconsin</td>\n",
       "      <td>WI</td>\n",
       "      <td>65</td>\n",
       "    </tr>\n",
       "    <tr>\n",
       "      <th>26</th>\n",
       "      <td>Georgia</td>\n",
       "      <td>GA</td>\n",
       "      <td>169</td>\n",
       "    </tr>\n",
       "    <tr>\n",
       "      <th>27</th>\n",
       "      <td>Iowa</td>\n",
       "      <td>IA</td>\n",
       "      <td>42</td>\n",
       "    </tr>\n",
       "    <tr>\n",
       "      <th>28</th>\n",
       "      <td>Tennessee</td>\n",
       "      <td>TN</td>\n",
       "      <td>103</td>\n",
       "    </tr>\n",
       "    <tr>\n",
       "      <th>29</th>\n",
       "      <td>New Mexico</td>\n",
       "      <td>NM</td>\n",
       "      <td>47</td>\n",
       "    </tr>\n",
       "    <tr>\n",
       "      <th>30</th>\n",
       "      <td>Nebraska</td>\n",
       "      <td>NE</td>\n",
       "      <td>37</td>\n",
       "    </tr>\n",
       "    <tr>\n",
       "      <th>31</th>\n",
       "      <td>South Carolina</td>\n",
       "      <td>SC</td>\n",
       "      <td>85</td>\n",
       "    </tr>\n",
       "    <tr>\n",
       "      <th>32</th>\n",
       "      <td>Kansas</td>\n",
       "      <td>KS</td>\n",
       "      <td>27</td>\n",
       "    </tr>\n",
       "    <tr>\n",
       "      <th>33</th>\n",
       "      <td>North Dakota</td>\n",
       "      <td>ND</td>\n",
       "      <td>3</td>\n",
       "    </tr>\n",
       "    <tr>\n",
       "      <th>34</th>\n",
       "      <td>New Hampshire</td>\n",
       "      <td>NH</td>\n",
       "      <td>25</td>\n",
       "    </tr>\n",
       "    <tr>\n",
       "      <th>35</th>\n",
       "      <td>Mississippi</td>\n",
       "      <td>MS</td>\n",
       "      <td>24</td>\n",
       "    </tr>\n",
       "    <tr>\n",
       "      <th>36</th>\n",
       "      <td>Montana</td>\n",
       "      <td>MT</td>\n",
       "      <td>16</td>\n",
       "    </tr>\n",
       "    <tr>\n",
       "      <th>37</th>\n",
       "      <td>Oregon</td>\n",
       "      <td>OR</td>\n",
       "      <td>100</td>\n",
       "    </tr>\n",
       "    <tr>\n",
       "      <th>38</th>\n",
       "      <td>Indiana</td>\n",
       "      <td>IN</td>\n",
       "      <td>99</td>\n",
       "    </tr>\n",
       "    <tr>\n",
       "      <th>39</th>\n",
       "      <td>Delaware</td>\n",
       "      <td>DE</td>\n",
       "      <td>9</td>\n",
       "    </tr>\n",
       "    <tr>\n",
       "      <th>40</th>\n",
       "      <td>Idaho</td>\n",
       "      <td>ID</td>\n",
       "      <td>32</td>\n",
       "    </tr>\n",
       "    <tr>\n",
       "      <th>41</th>\n",
       "      <td>Wyoming</td>\n",
       "      <td>WY</td>\n",
       "      <td>8</td>\n",
       "    </tr>\n",
       "    <tr>\n",
       "      <th>42</th>\n",
       "      <td>Virginia</td>\n",
       "      <td>VA</td>\n",
       "      <td>128</td>\n",
       "    </tr>\n",
       "    <tr>\n",
       "      <th>43</th>\n",
       "      <td>Connecticut</td>\n",
       "      <td>CT</td>\n",
       "      <td>43</td>\n",
       "    </tr>\n",
       "    <tr>\n",
       "      <th>44</th>\n",
       "      <td>West Virginia</td>\n",
       "      <td>WV</td>\n",
       "      <td>8</td>\n",
       "    </tr>\n",
       "    <tr>\n",
       "      <th>45</th>\n",
       "      <td>Alaska</td>\n",
       "      <td>AK</td>\n",
       "      <td>11</td>\n",
       "    </tr>\n",
       "    <tr>\n",
       "      <th>46</th>\n",
       "      <td>Rhode Island</td>\n",
       "      <td>RI</td>\n",
       "      <td>17</td>\n",
       "    </tr>\n",
       "    <tr>\n",
       "      <th>47</th>\n",
       "      <td>South Dakota</td>\n",
       "      <td>SD</td>\n",
       "      <td>15</td>\n",
       "    </tr>\n",
       "    <tr>\n",
       "      <th>48</th>\n",
       "      <td>Hawaii</td>\n",
       "      <td>HI</td>\n",
       "      <td>16</td>\n",
       "    </tr>\n",
       "    <tr>\n",
       "      <th>49</th>\n",
       "      <td>Maine</td>\n",
       "      <td>ME</td>\n",
       "      <td>4</td>\n",
       "    </tr>\n",
       "    <tr>\n",
       "      <th>50</th>\n",
       "      <td>Vermont</td>\n",
       "      <td>VT</td>\n",
       "      <td>6</td>\n",
       "    </tr>\n",
       "  </tbody>\n",
       "</table>\n",
       "</div>"
      ],
      "text/plain": [
       "                   state code  counts\n",
       "0                  Texas   TX     637\n",
       "1               Colorado   CO     140\n",
       "2          Massachusetts   MA     150\n",
       "3                Florida   FL     669\n",
       "4               New York   NY     465\n",
       "5           Pennsylvania   PA     194\n",
       "6                Alabama   AL      80\n",
       "7         North Carolina   NC     143\n",
       "8               Illinois   IL     218\n",
       "9               Oklahoma   OK      74\n",
       "10            California   CA     840\n",
       "11             Minnesota   MN      77\n",
       "12              Maryland   MD     123\n",
       "13              Kentucky   KY      69\n",
       "14            New Jersey   NJ     211\n",
       "15                  Ohio   OH     214\n",
       "16            Washington   WA     173\n",
       "17  District of Columbia   DC     127\n",
       "18                Nevada   NV     119\n",
       "19               Arizona   AZ     161\n",
       "20              Arkansas   AR      44\n",
       "21                  Utah   UT      44\n",
       "22             Louisiana   LA      56\n",
       "23              Missouri   MO      95\n",
       "24              Michigan   MI     139\n",
       "25             Wisconsin   WI      65\n",
       "26               Georgia   GA     169\n",
       "27                  Iowa   IA      42\n",
       "28             Tennessee   TN     103\n",
       "29            New Mexico   NM      47\n",
       "30              Nebraska   NE      37\n",
       "31        South Carolina   SC      85\n",
       "32                Kansas   KS      27\n",
       "33          North Dakota   ND       3\n",
       "34         New Hampshire   NH      25\n",
       "35           Mississippi   MS      24\n",
       "36               Montana   MT      16\n",
       "37                Oregon   OR     100\n",
       "38               Indiana   IN      99\n",
       "39              Delaware   DE       9\n",
       "40                 Idaho   ID      32\n",
       "41               Wyoming   WY       8\n",
       "42              Virginia   VA     128\n",
       "43           Connecticut   CT      43\n",
       "44         West Virginia   WV       8\n",
       "45                Alaska   AK      11\n",
       "46          Rhode Island   RI      17\n",
       "47          South Dakota   SD      15\n",
       "48                Hawaii   HI      16\n",
       "49                 Maine   ME       4\n",
       "50               Vermont   VT       6"
      ]
     },
     "execution_count": 65,
     "metadata": {},
     "output_type": "execute_result"
    }
   ],
   "source": [
    "codes = list(df_freq.index)\n",
    "counts = list(df_freq.iloc[:,0])\n",
    "state = []\n",
    "state_code = []\n",
    "count = []\n",
    "for i in range(len(codes)):\n",
    "    if codes[i] in states.keys():\n",
    "        print(\"yup\")\n",
    "        state.append(states[codes[i]])\n",
    "        state_code.append(codes[i])\n",
    "        count.append(counts[i])\n",
    "    else:\n",
    "        print(\"nope\")\n",
    "\n",
    "#print(state)\n",
    "#print(state_code)\n",
    "#print(count)\n",
    "\n",
    "df_viz = pd.DataFrame(list(zip(state, state_code,count)),\n",
    "               columns =['state', 'code', 'counts'])\n",
    "df_viz"
   ]
  },
  {
   "cell_type": "code",
   "execution_count": 41,
   "metadata": {},
   "outputs": [],
   "source": [
    "df_freq['state'] = state\n",
    "df_freq.to_excel(\"data/baby_formula_statewise_freq.xlsx\")\n",
    "\n"
   ]
  },
  {
   "cell_type": "markdown",
   "metadata": {},
   "source": [
    "## Visualising"
   ]
  },
  {
   "cell_type": "code",
   "execution_count": 57,
   "metadata": {},
   "outputs": [
    {
     "name": "stdout",
     "output_type": "stream",
     "text": [
      "Collecting plotly-express\n",
      "  Downloading plotly_express-0.4.1-py2.py3-none-any.whl (2.9 kB)\n",
      "Collecting patsy>=0.5\n",
      "  Downloading patsy-0.5.2-py2.py3-none-any.whl (233 kB)\n",
      "\u001b[K     |████████████████████████████████| 233 kB 486 kB/s eta 0:00:01\n",
      "\u001b[?25hCollecting plotly>=4.1.0\n",
      "  Downloading plotly-5.8.0-py2.py3-none-any.whl (15.2 MB)\n",
      "\u001b[K     |████████████████████████████████| 15.2 MB 221 kB/s eta 0:00:01\n",
      "\u001b[?25hRequirement already satisfied: scipy>=0.18 in /usr/local/lib/python3.8/site-packages (from plotly-express) (1.5.2)\n",
      "Requirement already satisfied: pandas>=0.20.0 in /usr/local/lib/python3.8/site-packages (from plotly-express) (1.1.0)\n",
      "Requirement already satisfied: numpy>=1.11 in /usr/local/lib/python3.8/site-packages (from plotly-express) (1.19.5)\n",
      "Collecting statsmodels>=0.9.0\n",
      "  Downloading statsmodels-0.13.2-cp38-cp38-macosx_10_9_x86_64.whl (9.6 MB)\n",
      "\u001b[K     |████████████████████████████████| 9.6 MB 31.9 MB/s eta 0:00:01\n",
      "\u001b[?25hRequirement already satisfied: python-dateutil>=2.7.3 in /usr/local/lib/python3.8/site-packages (from pandas>=0.20.0->plotly-express) (2.8.1)\n",
      "Requirement already satisfied: pytz>=2017.2 in /usr/local/lib/python3.8/site-packages (from pandas>=0.20.0->plotly-express) (2020.1)\n",
      "Requirement already satisfied: six in /usr/local/lib/python3.8/site-packages (from patsy>=0.5->plotly-express) (1.15.0)\n",
      "Collecting tenacity>=6.2.0\n",
      "  Downloading tenacity-8.0.1-py3-none-any.whl (24 kB)\n",
      "Collecting packaging>=21.3\n",
      "  Using cached packaging-21.3-py3-none-any.whl (40 kB)\n",
      "Requirement already satisfied: pyparsing!=3.0.5,>=2.0.2 in /usr/local/lib/python3.8/site-packages (from packaging>=21.3->statsmodels>=0.9.0->plotly-express) (2.4.7)\n",
      "Installing collected packages: tenacity, patsy, packaging, statsmodels, plotly, plotly-express\n",
      "  Attempting uninstall: packaging\n",
      "    Found existing installation: packaging 20.4\n",
      "    Uninstalling packaging-20.4:\n",
      "      Successfully uninstalled packaging-20.4\n",
      "Successfully installed packaging-21.3 patsy-0.5.2 plotly-5.8.0 plotly-express-0.4.1 statsmodels-0.13.2 tenacity-8.0.1\n",
      "Note: you may need to restart the kernel to use updated packages.\n"
     ]
    }
   ],
   "source": [
    "pip install plotly-express"
   ]
  },
  {
   "cell_type": "code",
   "execution_count": 66,
   "metadata": {},
   "outputs": [
    {
     "data": {
      "application/vnd.plotly.v1+json": {
       "config": {
        "plotlyServerURL": "https://plot.ly"
       },
       "data": [
        {
         "coloraxis": "coloraxis",
         "geo": "geo",
         "hovertemplate": "code=%{location}<br>counts=%{z}<extra></extra>",
         "locationmode": "USA-states",
         "locations": [
          "TX",
          "CO",
          "MA",
          "FL",
          "NY",
          "PA",
          "AL",
          "NC",
          "IL",
          "OK",
          "CA",
          "MN",
          "MD",
          "KY",
          "NJ",
          "OH",
          "WA",
          "DC",
          "NV",
          "AZ",
          "AR",
          "UT",
          "LA",
          "MO",
          "MI",
          "WI",
          "GA",
          "IA",
          "TN",
          "NM",
          "NE",
          "SC",
          "KS",
          "ND",
          "NH",
          "MS",
          "MT",
          "OR",
          "IN",
          "DE",
          "ID",
          "WY",
          "VA",
          "CT",
          "WV",
          "AK",
          "RI",
          "SD",
          "HI",
          "ME",
          "VT"
         ],
         "name": "",
         "type": "choropleth",
         "z": [
          637,
          140,
          150,
          669,
          465,
          194,
          80,
          143,
          218,
          74,
          840,
          77,
          123,
          69,
          211,
          214,
          173,
          127,
          119,
          161,
          44,
          44,
          56,
          95,
          139,
          65,
          169,
          42,
          103,
          47,
          37,
          85,
          27,
          3,
          25,
          24,
          16,
          100,
          99,
          9,
          32,
          8,
          128,
          43,
          8,
          11,
          17,
          15,
          16,
          4,
          6
         ]
        }
       ],
       "layout": {
        "coloraxis": {
         "colorbar": {
          "title": {
           "text": "counts"
          }
         },
         "colorscale": [
          [
           0,
           "#fde725"
          ],
          [
           0.1111111111111111,
           "#b5de2b"
          ],
          [
           0.2222222222222222,
           "#6ece58"
          ],
          [
           0.3333333333333333,
           "#35b779"
          ],
          [
           0.4444444444444444,
           "#1f9e89"
          ],
          [
           0.5555555555555556,
           "#26828e"
          ],
          [
           0.6666666666666666,
           "#31688e"
          ],
          [
           0.7777777777777778,
           "#3e4989"
          ],
          [
           0.8888888888888888,
           "#482878"
          ],
          [
           1,
           "#440154"
          ]
         ]
        },
        "geo": {
         "center": {},
         "domain": {
          "x": [
           0,
           1
          ],
          "y": [
           0,
           1
          ]
         },
         "scope": "usa"
        },
        "legend": {
         "tracegroupgap": 0
        },
        "margin": {
         "t": 60
        },
        "template": {
         "data": {
          "bar": [
           {
            "error_x": {
             "color": "#2a3f5f"
            },
            "error_y": {
             "color": "#2a3f5f"
            },
            "marker": {
             "line": {
              "color": "#E5ECF6",
              "width": 0.5
             },
             "pattern": {
              "fillmode": "overlay",
              "size": 10,
              "solidity": 0.2
             }
            },
            "type": "bar"
           }
          ],
          "barpolar": [
           {
            "marker": {
             "line": {
              "color": "#E5ECF6",
              "width": 0.5
             },
             "pattern": {
              "fillmode": "overlay",
              "size": 10,
              "solidity": 0.2
             }
            },
            "type": "barpolar"
           }
          ],
          "carpet": [
           {
            "aaxis": {
             "endlinecolor": "#2a3f5f",
             "gridcolor": "white",
             "linecolor": "white",
             "minorgridcolor": "white",
             "startlinecolor": "#2a3f5f"
            },
            "baxis": {
             "endlinecolor": "#2a3f5f",
             "gridcolor": "white",
             "linecolor": "white",
             "minorgridcolor": "white",
             "startlinecolor": "#2a3f5f"
            },
            "type": "carpet"
           }
          ],
          "choropleth": [
           {
            "colorbar": {
             "outlinewidth": 0,
             "ticks": ""
            },
            "type": "choropleth"
           }
          ],
          "contour": [
           {
            "colorbar": {
             "outlinewidth": 0,
             "ticks": ""
            },
            "colorscale": [
             [
              0,
              "#0d0887"
             ],
             [
              0.1111111111111111,
              "#46039f"
             ],
             [
              0.2222222222222222,
              "#7201a8"
             ],
             [
              0.3333333333333333,
              "#9c179e"
             ],
             [
              0.4444444444444444,
              "#bd3786"
             ],
             [
              0.5555555555555556,
              "#d8576b"
             ],
             [
              0.6666666666666666,
              "#ed7953"
             ],
             [
              0.7777777777777778,
              "#fb9f3a"
             ],
             [
              0.8888888888888888,
              "#fdca26"
             ],
             [
              1,
              "#f0f921"
             ]
            ],
            "type": "contour"
           }
          ],
          "contourcarpet": [
           {
            "colorbar": {
             "outlinewidth": 0,
             "ticks": ""
            },
            "type": "contourcarpet"
           }
          ],
          "heatmap": [
           {
            "colorbar": {
             "outlinewidth": 0,
             "ticks": ""
            },
            "colorscale": [
             [
              0,
              "#0d0887"
             ],
             [
              0.1111111111111111,
              "#46039f"
             ],
             [
              0.2222222222222222,
              "#7201a8"
             ],
             [
              0.3333333333333333,
              "#9c179e"
             ],
             [
              0.4444444444444444,
              "#bd3786"
             ],
             [
              0.5555555555555556,
              "#d8576b"
             ],
             [
              0.6666666666666666,
              "#ed7953"
             ],
             [
              0.7777777777777778,
              "#fb9f3a"
             ],
             [
              0.8888888888888888,
              "#fdca26"
             ],
             [
              1,
              "#f0f921"
             ]
            ],
            "type": "heatmap"
           }
          ],
          "heatmapgl": [
           {
            "colorbar": {
             "outlinewidth": 0,
             "ticks": ""
            },
            "colorscale": [
             [
              0,
              "#0d0887"
             ],
             [
              0.1111111111111111,
              "#46039f"
             ],
             [
              0.2222222222222222,
              "#7201a8"
             ],
             [
              0.3333333333333333,
              "#9c179e"
             ],
             [
              0.4444444444444444,
              "#bd3786"
             ],
             [
              0.5555555555555556,
              "#d8576b"
             ],
             [
              0.6666666666666666,
              "#ed7953"
             ],
             [
              0.7777777777777778,
              "#fb9f3a"
             ],
             [
              0.8888888888888888,
              "#fdca26"
             ],
             [
              1,
              "#f0f921"
             ]
            ],
            "type": "heatmapgl"
           }
          ],
          "histogram": [
           {
            "marker": {
             "pattern": {
              "fillmode": "overlay",
              "size": 10,
              "solidity": 0.2
             }
            },
            "type": "histogram"
           }
          ],
          "histogram2d": [
           {
            "colorbar": {
             "outlinewidth": 0,
             "ticks": ""
            },
            "colorscale": [
             [
              0,
              "#0d0887"
             ],
             [
              0.1111111111111111,
              "#46039f"
             ],
             [
              0.2222222222222222,
              "#7201a8"
             ],
             [
              0.3333333333333333,
              "#9c179e"
             ],
             [
              0.4444444444444444,
              "#bd3786"
             ],
             [
              0.5555555555555556,
              "#d8576b"
             ],
             [
              0.6666666666666666,
              "#ed7953"
             ],
             [
              0.7777777777777778,
              "#fb9f3a"
             ],
             [
              0.8888888888888888,
              "#fdca26"
             ],
             [
              1,
              "#f0f921"
             ]
            ],
            "type": "histogram2d"
           }
          ],
          "histogram2dcontour": [
           {
            "colorbar": {
             "outlinewidth": 0,
             "ticks": ""
            },
            "colorscale": [
             [
              0,
              "#0d0887"
             ],
             [
              0.1111111111111111,
              "#46039f"
             ],
             [
              0.2222222222222222,
              "#7201a8"
             ],
             [
              0.3333333333333333,
              "#9c179e"
             ],
             [
              0.4444444444444444,
              "#bd3786"
             ],
             [
              0.5555555555555556,
              "#d8576b"
             ],
             [
              0.6666666666666666,
              "#ed7953"
             ],
             [
              0.7777777777777778,
              "#fb9f3a"
             ],
             [
              0.8888888888888888,
              "#fdca26"
             ],
             [
              1,
              "#f0f921"
             ]
            ],
            "type": "histogram2dcontour"
           }
          ],
          "mesh3d": [
           {
            "colorbar": {
             "outlinewidth": 0,
             "ticks": ""
            },
            "type": "mesh3d"
           }
          ],
          "parcoords": [
           {
            "line": {
             "colorbar": {
              "outlinewidth": 0,
              "ticks": ""
             }
            },
            "type": "parcoords"
           }
          ],
          "pie": [
           {
            "automargin": true,
            "type": "pie"
           }
          ],
          "scatter": [
           {
            "fillpattern": {
             "fillmode": "overlay",
             "size": 10,
             "solidity": 0.2
            },
            "type": "scatter"
           }
          ],
          "scatter3d": [
           {
            "line": {
             "colorbar": {
              "outlinewidth": 0,
              "ticks": ""
             }
            },
            "marker": {
             "colorbar": {
              "outlinewidth": 0,
              "ticks": ""
             }
            },
            "type": "scatter3d"
           }
          ],
          "scattercarpet": [
           {
            "marker": {
             "colorbar": {
              "outlinewidth": 0,
              "ticks": ""
             }
            },
            "type": "scattercarpet"
           }
          ],
          "scattergeo": [
           {
            "marker": {
             "colorbar": {
              "outlinewidth": 0,
              "ticks": ""
             }
            },
            "type": "scattergeo"
           }
          ],
          "scattergl": [
           {
            "marker": {
             "colorbar": {
              "outlinewidth": 0,
              "ticks": ""
             }
            },
            "type": "scattergl"
           }
          ],
          "scattermapbox": [
           {
            "marker": {
             "colorbar": {
              "outlinewidth": 0,
              "ticks": ""
             }
            },
            "type": "scattermapbox"
           }
          ],
          "scatterpolar": [
           {
            "marker": {
             "colorbar": {
              "outlinewidth": 0,
              "ticks": ""
             }
            },
            "type": "scatterpolar"
           }
          ],
          "scatterpolargl": [
           {
            "marker": {
             "colorbar": {
              "outlinewidth": 0,
              "ticks": ""
             }
            },
            "type": "scatterpolargl"
           }
          ],
          "scatterternary": [
           {
            "marker": {
             "colorbar": {
              "outlinewidth": 0,
              "ticks": ""
             }
            },
            "type": "scatterternary"
           }
          ],
          "surface": [
           {
            "colorbar": {
             "outlinewidth": 0,
             "ticks": ""
            },
            "colorscale": [
             [
              0,
              "#0d0887"
             ],
             [
              0.1111111111111111,
              "#46039f"
             ],
             [
              0.2222222222222222,
              "#7201a8"
             ],
             [
              0.3333333333333333,
              "#9c179e"
             ],
             [
              0.4444444444444444,
              "#bd3786"
             ],
             [
              0.5555555555555556,
              "#d8576b"
             ],
             [
              0.6666666666666666,
              "#ed7953"
             ],
             [
              0.7777777777777778,
              "#fb9f3a"
             ],
             [
              0.8888888888888888,
              "#fdca26"
             ],
             [
              1,
              "#f0f921"
             ]
            ],
            "type": "surface"
           }
          ],
          "table": [
           {
            "cells": {
             "fill": {
              "color": "#EBF0F8"
             },
             "line": {
              "color": "white"
             }
            },
            "header": {
             "fill": {
              "color": "#C8D4E3"
             },
             "line": {
              "color": "white"
             }
            },
            "type": "table"
           }
          ]
         },
         "layout": {
          "annotationdefaults": {
           "arrowcolor": "#2a3f5f",
           "arrowhead": 0,
           "arrowwidth": 1
          },
          "autotypenumbers": "strict",
          "coloraxis": {
           "colorbar": {
            "outlinewidth": 0,
            "ticks": ""
           }
          },
          "colorscale": {
           "diverging": [
            [
             0,
             "#8e0152"
            ],
            [
             0.1,
             "#c51b7d"
            ],
            [
             0.2,
             "#de77ae"
            ],
            [
             0.3,
             "#f1b6da"
            ],
            [
             0.4,
             "#fde0ef"
            ],
            [
             0.5,
             "#f7f7f7"
            ],
            [
             0.6,
             "#e6f5d0"
            ],
            [
             0.7,
             "#b8e186"
            ],
            [
             0.8,
             "#7fbc41"
            ],
            [
             0.9,
             "#4d9221"
            ],
            [
             1,
             "#276419"
            ]
           ],
           "sequential": [
            [
             0,
             "#0d0887"
            ],
            [
             0.1111111111111111,
             "#46039f"
            ],
            [
             0.2222222222222222,
             "#7201a8"
            ],
            [
             0.3333333333333333,
             "#9c179e"
            ],
            [
             0.4444444444444444,
             "#bd3786"
            ],
            [
             0.5555555555555556,
             "#d8576b"
            ],
            [
             0.6666666666666666,
             "#ed7953"
            ],
            [
             0.7777777777777778,
             "#fb9f3a"
            ],
            [
             0.8888888888888888,
             "#fdca26"
            ],
            [
             1,
             "#f0f921"
            ]
           ],
           "sequentialminus": [
            [
             0,
             "#0d0887"
            ],
            [
             0.1111111111111111,
             "#46039f"
            ],
            [
             0.2222222222222222,
             "#7201a8"
            ],
            [
             0.3333333333333333,
             "#9c179e"
            ],
            [
             0.4444444444444444,
             "#bd3786"
            ],
            [
             0.5555555555555556,
             "#d8576b"
            ],
            [
             0.6666666666666666,
             "#ed7953"
            ],
            [
             0.7777777777777778,
             "#fb9f3a"
            ],
            [
             0.8888888888888888,
             "#fdca26"
            ],
            [
             1,
             "#f0f921"
            ]
           ]
          },
          "colorway": [
           "#636efa",
           "#EF553B",
           "#00cc96",
           "#ab63fa",
           "#FFA15A",
           "#19d3f3",
           "#FF6692",
           "#B6E880",
           "#FF97FF",
           "#FECB52"
          ],
          "font": {
           "color": "#2a3f5f"
          },
          "geo": {
           "bgcolor": "white",
           "lakecolor": "white",
           "landcolor": "#E5ECF6",
           "showlakes": true,
           "showland": true,
           "subunitcolor": "white"
          },
          "hoverlabel": {
           "align": "left"
          },
          "hovermode": "closest",
          "mapbox": {
           "style": "light"
          },
          "paper_bgcolor": "white",
          "plot_bgcolor": "#E5ECF6",
          "polar": {
           "angularaxis": {
            "gridcolor": "white",
            "linecolor": "white",
            "ticks": ""
           },
           "bgcolor": "#E5ECF6",
           "radialaxis": {
            "gridcolor": "white",
            "linecolor": "white",
            "ticks": ""
           }
          },
          "scene": {
           "xaxis": {
            "backgroundcolor": "#E5ECF6",
            "gridcolor": "white",
            "gridwidth": 2,
            "linecolor": "white",
            "showbackground": true,
            "ticks": "",
            "zerolinecolor": "white"
           },
           "yaxis": {
            "backgroundcolor": "#E5ECF6",
            "gridcolor": "white",
            "gridwidth": 2,
            "linecolor": "white",
            "showbackground": true,
            "ticks": "",
            "zerolinecolor": "white"
           },
           "zaxis": {
            "backgroundcolor": "#E5ECF6",
            "gridcolor": "white",
            "gridwidth": 2,
            "linecolor": "white",
            "showbackground": true,
            "ticks": "",
            "zerolinecolor": "white"
           }
          },
          "shapedefaults": {
           "line": {
            "color": "#2a3f5f"
           }
          },
          "ternary": {
           "aaxis": {
            "gridcolor": "white",
            "linecolor": "white",
            "ticks": ""
           },
           "baxis": {
            "gridcolor": "white",
            "linecolor": "white",
            "ticks": ""
           },
           "bgcolor": "#E5ECF6",
           "caxis": {
            "gridcolor": "white",
            "linecolor": "white",
            "ticks": ""
           }
          },
          "title": {
           "x": 0.05
          },
          "xaxis": {
           "automargin": true,
           "gridcolor": "white",
           "linecolor": "white",
           "ticks": "",
           "title": {
            "standoff": 15
           },
           "zerolinecolor": "white",
           "zerolinewidth": 2
          },
          "yaxis": {
           "automargin": true,
           "gridcolor": "white",
           "linecolor": "white",
           "ticks": "",
           "title": {
            "standoff": 15
           },
           "zerolinecolor": "white",
           "zerolinewidth": 2
          }
         }
        }
       }
      },
      "text/html": [
       "<div>                            <div id=\"2405dc47-1ce3-4d53-9b88-8dcb0cdaa6c7\" class=\"plotly-graph-div\" style=\"height:525px; width:100%;\"></div>            <script type=\"text/javascript\">                require([\"plotly\"], function(Plotly) {                    window.PLOTLYENV=window.PLOTLYENV || {};                                    if (document.getElementById(\"2405dc47-1ce3-4d53-9b88-8dcb0cdaa6c7\")) {                    Plotly.newPlot(                        \"2405dc47-1ce3-4d53-9b88-8dcb0cdaa6c7\",                        [{\"coloraxis\":\"coloraxis\",\"geo\":\"geo\",\"hovertemplate\":\"code=%{location}<br>counts=%{z}<extra></extra>\",\"locationmode\":\"USA-states\",\"locations\":[\"TX\",\"CO\",\"MA\",\"FL\",\"NY\",\"PA\",\"AL\",\"NC\",\"IL\",\"OK\",\"CA\",\"MN\",\"MD\",\"KY\",\"NJ\",\"OH\",\"WA\",\"DC\",\"NV\",\"AZ\",\"AR\",\"UT\",\"LA\",\"MO\",\"MI\",\"WI\",\"GA\",\"IA\",\"TN\",\"NM\",\"NE\",\"SC\",\"KS\",\"ND\",\"NH\",\"MS\",\"MT\",\"OR\",\"IN\",\"DE\",\"ID\",\"WY\",\"VA\",\"CT\",\"WV\",\"AK\",\"RI\",\"SD\",\"HI\",\"ME\",\"VT\"],\"name\":\"\",\"z\":[637,140,150,669,465,194,80,143,218,74,840,77,123,69,211,214,173,127,119,161,44,44,56,95,139,65,169,42,103,47,37,85,27,3,25,24,16,100,99,9,32,8,128,43,8,11,17,15,16,4,6],\"type\":\"choropleth\"}],                        {\"template\":{\"data\":{\"histogram2dcontour\":[{\"type\":\"histogram2dcontour\",\"colorbar\":{\"outlinewidth\":0,\"ticks\":\"\"},\"colorscale\":[[0.0,\"#0d0887\"],[0.1111111111111111,\"#46039f\"],[0.2222222222222222,\"#7201a8\"],[0.3333333333333333,\"#9c179e\"],[0.4444444444444444,\"#bd3786\"],[0.5555555555555556,\"#d8576b\"],[0.6666666666666666,\"#ed7953\"],[0.7777777777777778,\"#fb9f3a\"],[0.8888888888888888,\"#fdca26\"],[1.0,\"#f0f921\"]]}],\"choropleth\":[{\"type\":\"choropleth\",\"colorbar\":{\"outlinewidth\":0,\"ticks\":\"\"}}],\"histogram2d\":[{\"type\":\"histogram2d\",\"colorbar\":{\"outlinewidth\":0,\"ticks\":\"\"},\"colorscale\":[[0.0,\"#0d0887\"],[0.1111111111111111,\"#46039f\"],[0.2222222222222222,\"#7201a8\"],[0.3333333333333333,\"#9c179e\"],[0.4444444444444444,\"#bd3786\"],[0.5555555555555556,\"#d8576b\"],[0.6666666666666666,\"#ed7953\"],[0.7777777777777778,\"#fb9f3a\"],[0.8888888888888888,\"#fdca26\"],[1.0,\"#f0f921\"]]}],\"heatmap\":[{\"type\":\"heatmap\",\"colorbar\":{\"outlinewidth\":0,\"ticks\":\"\"},\"colorscale\":[[0.0,\"#0d0887\"],[0.1111111111111111,\"#46039f\"],[0.2222222222222222,\"#7201a8\"],[0.3333333333333333,\"#9c179e\"],[0.4444444444444444,\"#bd3786\"],[0.5555555555555556,\"#d8576b\"],[0.6666666666666666,\"#ed7953\"],[0.7777777777777778,\"#fb9f3a\"],[0.8888888888888888,\"#fdca26\"],[1.0,\"#f0f921\"]]}],\"heatmapgl\":[{\"type\":\"heatmapgl\",\"colorbar\":{\"outlinewidth\":0,\"ticks\":\"\"},\"colorscale\":[[0.0,\"#0d0887\"],[0.1111111111111111,\"#46039f\"],[0.2222222222222222,\"#7201a8\"],[0.3333333333333333,\"#9c179e\"],[0.4444444444444444,\"#bd3786\"],[0.5555555555555556,\"#d8576b\"],[0.6666666666666666,\"#ed7953\"],[0.7777777777777778,\"#fb9f3a\"],[0.8888888888888888,\"#fdca26\"],[1.0,\"#f0f921\"]]}],\"contourcarpet\":[{\"type\":\"contourcarpet\",\"colorbar\":{\"outlinewidth\":0,\"ticks\":\"\"}}],\"contour\":[{\"type\":\"contour\",\"colorbar\":{\"outlinewidth\":0,\"ticks\":\"\"},\"colorscale\":[[0.0,\"#0d0887\"],[0.1111111111111111,\"#46039f\"],[0.2222222222222222,\"#7201a8\"],[0.3333333333333333,\"#9c179e\"],[0.4444444444444444,\"#bd3786\"],[0.5555555555555556,\"#d8576b\"],[0.6666666666666666,\"#ed7953\"],[0.7777777777777778,\"#fb9f3a\"],[0.8888888888888888,\"#fdca26\"],[1.0,\"#f0f921\"]]}],\"surface\":[{\"type\":\"surface\",\"colorbar\":{\"outlinewidth\":0,\"ticks\":\"\"},\"colorscale\":[[0.0,\"#0d0887\"],[0.1111111111111111,\"#46039f\"],[0.2222222222222222,\"#7201a8\"],[0.3333333333333333,\"#9c179e\"],[0.4444444444444444,\"#bd3786\"],[0.5555555555555556,\"#d8576b\"],[0.6666666666666666,\"#ed7953\"],[0.7777777777777778,\"#fb9f3a\"],[0.8888888888888888,\"#fdca26\"],[1.0,\"#f0f921\"]]}],\"mesh3d\":[{\"type\":\"mesh3d\",\"colorbar\":{\"outlinewidth\":0,\"ticks\":\"\"}}],\"scatter\":[{\"fillpattern\":{\"fillmode\":\"overlay\",\"size\":10,\"solidity\":0.2},\"type\":\"scatter\"}],\"parcoords\":[{\"type\":\"parcoords\",\"line\":{\"colorbar\":{\"outlinewidth\":0,\"ticks\":\"\"}}}],\"scatterpolargl\":[{\"type\":\"scatterpolargl\",\"marker\":{\"colorbar\":{\"outlinewidth\":0,\"ticks\":\"\"}}}],\"bar\":[{\"error_x\":{\"color\":\"#2a3f5f\"},\"error_y\":{\"color\":\"#2a3f5f\"},\"marker\":{\"line\":{\"color\":\"#E5ECF6\",\"width\":0.5},\"pattern\":{\"fillmode\":\"overlay\",\"size\":10,\"solidity\":0.2}},\"type\":\"bar\"}],\"scattergeo\":[{\"type\":\"scattergeo\",\"marker\":{\"colorbar\":{\"outlinewidth\":0,\"ticks\":\"\"}}}],\"scatterpolar\":[{\"type\":\"scatterpolar\",\"marker\":{\"colorbar\":{\"outlinewidth\":0,\"ticks\":\"\"}}}],\"histogram\":[{\"marker\":{\"pattern\":{\"fillmode\":\"overlay\",\"size\":10,\"solidity\":0.2}},\"type\":\"histogram\"}],\"scattergl\":[{\"type\":\"scattergl\",\"marker\":{\"colorbar\":{\"outlinewidth\":0,\"ticks\":\"\"}}}],\"scatter3d\":[{\"type\":\"scatter3d\",\"line\":{\"colorbar\":{\"outlinewidth\":0,\"ticks\":\"\"}},\"marker\":{\"colorbar\":{\"outlinewidth\":0,\"ticks\":\"\"}}}],\"scattermapbox\":[{\"type\":\"scattermapbox\",\"marker\":{\"colorbar\":{\"outlinewidth\":0,\"ticks\":\"\"}}}],\"scatterternary\":[{\"type\":\"scatterternary\",\"marker\":{\"colorbar\":{\"outlinewidth\":0,\"ticks\":\"\"}}}],\"scattercarpet\":[{\"type\":\"scattercarpet\",\"marker\":{\"colorbar\":{\"outlinewidth\":0,\"ticks\":\"\"}}}],\"carpet\":[{\"aaxis\":{\"endlinecolor\":\"#2a3f5f\",\"gridcolor\":\"white\",\"linecolor\":\"white\",\"minorgridcolor\":\"white\",\"startlinecolor\":\"#2a3f5f\"},\"baxis\":{\"endlinecolor\":\"#2a3f5f\",\"gridcolor\":\"white\",\"linecolor\":\"white\",\"minorgridcolor\":\"white\",\"startlinecolor\":\"#2a3f5f\"},\"type\":\"carpet\"}],\"table\":[{\"cells\":{\"fill\":{\"color\":\"#EBF0F8\"},\"line\":{\"color\":\"white\"}},\"header\":{\"fill\":{\"color\":\"#C8D4E3\"},\"line\":{\"color\":\"white\"}},\"type\":\"table\"}],\"barpolar\":[{\"marker\":{\"line\":{\"color\":\"#E5ECF6\",\"width\":0.5},\"pattern\":{\"fillmode\":\"overlay\",\"size\":10,\"solidity\":0.2}},\"type\":\"barpolar\"}],\"pie\":[{\"automargin\":true,\"type\":\"pie\"}]},\"layout\":{\"autotypenumbers\":\"strict\",\"colorway\":[\"#636efa\",\"#EF553B\",\"#00cc96\",\"#ab63fa\",\"#FFA15A\",\"#19d3f3\",\"#FF6692\",\"#B6E880\",\"#FF97FF\",\"#FECB52\"],\"font\":{\"color\":\"#2a3f5f\"},\"hovermode\":\"closest\",\"hoverlabel\":{\"align\":\"left\"},\"paper_bgcolor\":\"white\",\"plot_bgcolor\":\"#E5ECF6\",\"polar\":{\"bgcolor\":\"#E5ECF6\",\"angularaxis\":{\"gridcolor\":\"white\",\"linecolor\":\"white\",\"ticks\":\"\"},\"radialaxis\":{\"gridcolor\":\"white\",\"linecolor\":\"white\",\"ticks\":\"\"}},\"ternary\":{\"bgcolor\":\"#E5ECF6\",\"aaxis\":{\"gridcolor\":\"white\",\"linecolor\":\"white\",\"ticks\":\"\"},\"baxis\":{\"gridcolor\":\"white\",\"linecolor\":\"white\",\"ticks\":\"\"},\"caxis\":{\"gridcolor\":\"white\",\"linecolor\":\"white\",\"ticks\":\"\"}},\"coloraxis\":{\"colorbar\":{\"outlinewidth\":0,\"ticks\":\"\"}},\"colorscale\":{\"sequential\":[[0.0,\"#0d0887\"],[0.1111111111111111,\"#46039f\"],[0.2222222222222222,\"#7201a8\"],[0.3333333333333333,\"#9c179e\"],[0.4444444444444444,\"#bd3786\"],[0.5555555555555556,\"#d8576b\"],[0.6666666666666666,\"#ed7953\"],[0.7777777777777778,\"#fb9f3a\"],[0.8888888888888888,\"#fdca26\"],[1.0,\"#f0f921\"]],\"sequentialminus\":[[0.0,\"#0d0887\"],[0.1111111111111111,\"#46039f\"],[0.2222222222222222,\"#7201a8\"],[0.3333333333333333,\"#9c179e\"],[0.4444444444444444,\"#bd3786\"],[0.5555555555555556,\"#d8576b\"],[0.6666666666666666,\"#ed7953\"],[0.7777777777777778,\"#fb9f3a\"],[0.8888888888888888,\"#fdca26\"],[1.0,\"#f0f921\"]],\"diverging\":[[0,\"#8e0152\"],[0.1,\"#c51b7d\"],[0.2,\"#de77ae\"],[0.3,\"#f1b6da\"],[0.4,\"#fde0ef\"],[0.5,\"#f7f7f7\"],[0.6,\"#e6f5d0\"],[0.7,\"#b8e186\"],[0.8,\"#7fbc41\"],[0.9,\"#4d9221\"],[1,\"#276419\"]]},\"xaxis\":{\"gridcolor\":\"white\",\"linecolor\":\"white\",\"ticks\":\"\",\"title\":{\"standoff\":15},\"zerolinecolor\":\"white\",\"automargin\":true,\"zerolinewidth\":2},\"yaxis\":{\"gridcolor\":\"white\",\"linecolor\":\"white\",\"ticks\":\"\",\"title\":{\"standoff\":15},\"zerolinecolor\":\"white\",\"automargin\":true,\"zerolinewidth\":2},\"scene\":{\"xaxis\":{\"backgroundcolor\":\"#E5ECF6\",\"gridcolor\":\"white\",\"linecolor\":\"white\",\"showbackground\":true,\"ticks\":\"\",\"zerolinecolor\":\"white\",\"gridwidth\":2},\"yaxis\":{\"backgroundcolor\":\"#E5ECF6\",\"gridcolor\":\"white\",\"linecolor\":\"white\",\"showbackground\":true,\"ticks\":\"\",\"zerolinecolor\":\"white\",\"gridwidth\":2},\"zaxis\":{\"backgroundcolor\":\"#E5ECF6\",\"gridcolor\":\"white\",\"linecolor\":\"white\",\"showbackground\":true,\"ticks\":\"\",\"zerolinecolor\":\"white\",\"gridwidth\":2}},\"shapedefaults\":{\"line\":{\"color\":\"#2a3f5f\"}},\"annotationdefaults\":{\"arrowcolor\":\"#2a3f5f\",\"arrowhead\":0,\"arrowwidth\":1},\"geo\":{\"bgcolor\":\"white\",\"landcolor\":\"#E5ECF6\",\"subunitcolor\":\"white\",\"showland\":true,\"showlakes\":true,\"lakecolor\":\"white\"},\"title\":{\"x\":0.05},\"mapbox\":{\"style\":\"light\"}}},\"geo\":{\"domain\":{\"x\":[0.0,1.0],\"y\":[0.0,1.0]},\"center\":{},\"scope\":\"usa\"},\"coloraxis\":{\"colorbar\":{\"title\":{\"text\":\"counts\"}},\"colorscale\":[[0.0,\"#fde725\"],[0.1111111111111111,\"#b5de2b\"],[0.2222222222222222,\"#6ece58\"],[0.3333333333333333,\"#35b779\"],[0.4444444444444444,\"#1f9e89\"],[0.5555555555555556,\"#26828e\"],[0.6666666666666666,\"#31688e\"],[0.7777777777777778,\"#3e4989\"],[0.8888888888888888,\"#482878\"],[1.0,\"#440154\"]]},\"legend\":{\"tracegroupgap\":0},\"margin\":{\"t\":60}},                        {\"responsive\": true}                    ).then(function(){\n",
       "                            \n",
       "var gd = document.getElementById('2405dc47-1ce3-4d53-9b88-8dcb0cdaa6c7');\n",
       "var x = new MutationObserver(function (mutations, observer) {{\n",
       "        var display = window.getComputedStyle(gd).display;\n",
       "        if (!display || display === 'none') {{\n",
       "            console.log([gd, 'removed!']);\n",
       "            Plotly.purge(gd);\n",
       "            observer.disconnect();\n",
       "        }}\n",
       "}});\n",
       "\n",
       "// Listen for the removal of the full notebook cells\n",
       "var notebookContainer = gd.closest('#notebook-container');\n",
       "if (notebookContainer) {{\n",
       "    x.observe(notebookContainer, {childList: true});\n",
       "}}\n",
       "\n",
       "// Listen for the clearing of the current output cell\n",
       "var outputEl = gd.closest('.output');\n",
       "if (outputEl) {{\n",
       "    x.observe(outputEl, {childList: true});\n",
       "}}\n",
       "\n",
       "                        })                };                });            </script>        </div>"
      ]
     },
     "metadata": {},
     "output_type": "display_data"
    }
   ],
   "source": [
    "import plotly.express as px\n",
    "fig = px.choropleth(df_viz,\n",
    "                    locations='code', \n",
    "                    locationmode=\"USA-states\", \n",
    "                    scope=\"usa\",\n",
    "                    color='counts',\n",
    "                    color_continuous_scale=\"Viridis_r\", \n",
    "                    \n",
    "                    )\n",
    "fig.show()"
   ]
  },
  {
   "cell_type": "markdown",
   "metadata": {},
   "source": [
    "## Political Polarization"
   ]
  },
  {
   "cell_type": "code",
   "execution_count": 102,
   "metadata": {},
   "outputs": [
    {
     "data": {
      "text/html": [
       "<div>\n",
       "<style scoped>\n",
       "    .dataframe tbody tr th:only-of-type {\n",
       "        vertical-align: middle;\n",
       "    }\n",
       "\n",
       "    .dataframe tbody tr th {\n",
       "        vertical-align: top;\n",
       "    }\n",
       "\n",
       "    .dataframe thead th {\n",
       "        text-align: right;\n",
       "    }\n",
       "</style>\n",
       "<table border=\"1\" class=\"dataframe\">\n",
       "  <thead>\n",
       "    <tr style=\"text-align: right;\">\n",
       "      <th></th>\n",
       "      <th>idk</th>\n",
       "      <th>username</th>\n",
       "      <th>twitter_name</th>\n",
       "      <th>first_name</th>\n",
       "      <th>last_name</th>\n",
       "      <th>status</th>\n",
       "      <th>state</th>\n",
       "      <th>gun_deathts_per_100k</th>\n",
       "      <th>guns_per_household</th>\n",
       "      <th>error</th>\n",
       "      <th>party</th>\n",
       "    </tr>\n",
       "  </thead>\n",
       "  <tbody>\n",
       "    <tr>\n",
       "      <th>0</th>\n",
       "      <td>550.0</td>\n",
       "      <td>repbarrymoore</td>\n",
       "      <td>Barry Moore</td>\n",
       "      <td>Barry</td>\n",
       "      <td>Moore</td>\n",
       "      <td>member_HOR</td>\n",
       "      <td>Alabama</td>\n",
       "      <td>23.6</td>\n",
       "      <td>55.5</td>\n",
       "      <td>NaN</td>\n",
       "      <td>Republican</td>\n",
       "    </tr>\n",
       "    <tr>\n",
       "      <th>1</th>\n",
       "      <td>179.0</td>\n",
       "      <td>usrepgarypalmer</td>\n",
       "      <td>Gary Palmer</td>\n",
       "      <td>Gary</td>\n",
       "      <td>Palmer</td>\n",
       "      <td>member_HOR</td>\n",
       "      <td>Alabama</td>\n",
       "      <td>23.6</td>\n",
       "      <td>55.5</td>\n",
       "      <td>NaN</td>\n",
       "      <td>Republican</td>\n",
       "    </tr>\n",
       "    <tr>\n",
       "      <th>2</th>\n",
       "      <td>229.0</td>\n",
       "      <td>RepJerryCarl</td>\n",
       "      <td>Jerry Carl</td>\n",
       "      <td>Jerry</td>\n",
       "      <td>Carl</td>\n",
       "      <td>member_HOR</td>\n",
       "      <td>Alabama</td>\n",
       "      <td>23.6</td>\n",
       "      <td>55.5</td>\n",
       "      <td>error-ID</td>\n",
       "      <td>Republican</td>\n",
       "    </tr>\n",
       "    <tr>\n",
       "      <th>3</th>\n",
       "      <td>298.0</td>\n",
       "      <td>kayiveyforgov</td>\n",
       "      <td>Kay Ivey</td>\n",
       "      <td>Kay</td>\n",
       "      <td>Ivey</td>\n",
       "      <td>SG</td>\n",
       "      <td>Alabama</td>\n",
       "      <td>23.6</td>\n",
       "      <td>55.5</td>\n",
       "      <td>NaN</td>\n",
       "      <td>Republican</td>\n",
       "    </tr>\n",
       "    <tr>\n",
       "      <th>4</th>\n",
       "      <td>382.0</td>\n",
       "      <td>RepMikerogersAL</td>\n",
       "      <td>Mike Rogers Campaign</td>\n",
       "      <td>Mike</td>\n",
       "      <td>Rogers</td>\n",
       "      <td>member_HOR</td>\n",
       "      <td>Alabama</td>\n",
       "      <td>23.6</td>\n",
       "      <td>55.5</td>\n",
       "      <td>error-ID</td>\n",
       "      <td>Republican</td>\n",
       "    </tr>\n",
       "    <tr>\n",
       "      <th>...</th>\n",
       "      <td>...</td>\n",
       "      <td>...</td>\n",
       "      <td>...</td>\n",
       "      <td>...</td>\n",
       "      <td>...</td>\n",
       "      <td>...</td>\n",
       "      <td>...</td>\n",
       "      <td>...</td>\n",
       "      <td>...</td>\n",
       "      <td>...</td>\n",
       "      <td>...</td>\n",
       "    </tr>\n",
       "    <tr>\n",
       "      <th>643</th>\n",
       "      <td>523.0</td>\n",
       "      <td>GovEvers</td>\n",
       "      <td>Tony Evers</td>\n",
       "      <td>Tony</td>\n",
       "      <td>Evers</td>\n",
       "      <td>SG</td>\n",
       "      <td>Wisconsin</td>\n",
       "      <td>12.2</td>\n",
       "      <td>45.3</td>\n",
       "      <td>ERROR-changed ID</td>\n",
       "      <td>Democratic</td>\n",
       "    </tr>\n",
       "    <tr>\n",
       "      <th>644</th>\n",
       "      <td>110.0</td>\n",
       "      <td>cynthiamlummis</td>\n",
       "      <td>Cynthia Lummis</td>\n",
       "      <td>Cynthia</td>\n",
       "      <td>Lummis</td>\n",
       "      <td>senator</td>\n",
       "      <td>Wyoming</td>\n",
       "      <td>25.9</td>\n",
       "      <td>66.2</td>\n",
       "      <td>NaN</td>\n",
       "      <td>Republican</td>\n",
       "    </tr>\n",
       "    <tr>\n",
       "      <th>645</th>\n",
       "      <td>253.0</td>\n",
       "      <td>SenJohnBarrasso</td>\n",
       "      <td>John Barrasso</td>\n",
       "      <td>John</td>\n",
       "      <td>Barrasso</td>\n",
       "      <td>senator</td>\n",
       "      <td>Wyoming</td>\n",
       "      <td>25.9</td>\n",
       "      <td>66.2</td>\n",
       "      <td>ERROR - changed ID, updated state</td>\n",
       "      <td>Republican</td>\n",
       "    </tr>\n",
       "    <tr>\n",
       "      <th>646</th>\n",
       "      <td>321.0</td>\n",
       "      <td>liz_cheney</td>\n",
       "      <td>Liz Cheney</td>\n",
       "      <td>Liz</td>\n",
       "      <td>Cheney</td>\n",
       "      <td>member_HOR</td>\n",
       "      <td>Wyoming</td>\n",
       "      <td>25.9</td>\n",
       "      <td>66.2</td>\n",
       "      <td>NaN</td>\n",
       "      <td>Republican</td>\n",
       "    </tr>\n",
       "    <tr>\n",
       "      <th>647</th>\n",
       "      <td>600.0</td>\n",
       "      <td>governorgordon</td>\n",
       "      <td>Mark Gordon</td>\n",
       "      <td>Mark</td>\n",
       "      <td>Gordon</td>\n",
       "      <td>SG</td>\n",
       "      <td>Wyoming</td>\n",
       "      <td>25.9</td>\n",
       "      <td>66.2</td>\n",
       "      <td>NaN</td>\n",
       "      <td>Republican</td>\n",
       "    </tr>\n",
       "  </tbody>\n",
       "</table>\n",
       "<p>648 rows × 11 columns</p>\n",
       "</div>"
      ],
      "text/plain": [
       "       idk         username          twitter_name first_name last_name  \\\n",
       "0    550.0    repbarrymoore           Barry Moore      Barry     Moore   \n",
       "1    179.0  usrepgarypalmer           Gary Palmer       Gary    Palmer   \n",
       "2    229.0     RepJerryCarl            Jerry Carl      Jerry      Carl   \n",
       "3    298.0    kayiveyforgov              Kay Ivey        Kay      Ivey   \n",
       "4    382.0  RepMikerogersAL  Mike Rogers Campaign       Mike    Rogers   \n",
       "..     ...              ...                   ...        ...       ...   \n",
       "643  523.0         GovEvers            Tony Evers       Tony     Evers   \n",
       "644  110.0   cynthiamlummis        Cynthia Lummis    Cynthia    Lummis   \n",
       "645  253.0  SenJohnBarrasso         John Barrasso       John  Barrasso   \n",
       "646  321.0       liz_cheney            Liz Cheney        Liz    Cheney   \n",
       "647  600.0   governorgordon           Mark Gordon       Mark    Gordon   \n",
       "\n",
       "         status      state  gun_deathts_per_100k  guns_per_household  \\\n",
       "0    member_HOR    Alabama                  23.6                55.5   \n",
       "1    member_HOR    Alabama                  23.6                55.5   \n",
       "2    member_HOR    Alabama                  23.6                55.5   \n",
       "3            SG    Alabama                  23.6                55.5   \n",
       "4    member_HOR    Alabama                  23.6                55.5   \n",
       "..          ...        ...                   ...                 ...   \n",
       "643          SG  Wisconsin                  12.2                45.3   \n",
       "644     senator    Wyoming                  25.9                66.2   \n",
       "645     senator    Wyoming                  25.9                66.2   \n",
       "646  member_HOR    Wyoming                  25.9                66.2   \n",
       "647          SG    Wyoming                  25.9                66.2   \n",
       "\n",
       "                                 error       party  \n",
       "0                                  NaN  Republican  \n",
       "1                                  NaN  Republican  \n",
       "2                             error-ID  Republican  \n",
       "3                                  NaN  Republican  \n",
       "4                             error-ID  Republican  \n",
       "..                                 ...         ...  \n",
       "643                   ERROR-changed ID  Democratic  \n",
       "644                                NaN  Republican  \n",
       "645  ERROR - changed ID, updated state  Republican  \n",
       "646                                NaN  Republican  \n",
       "647                                NaN  Republican  \n",
       "\n",
       "[648 rows x 11 columns]"
      ]
     },
     "execution_count": 102,
     "metadata": {},
     "output_type": "execute_result"
    }
   ],
   "source": [
    "us_pols = pd.read_csv(\"data/us_politicians_with_party.csv\")\n",
    "us_pols_usernames = list(us_pols['username'])\n",
    "us_pols_party = list(us_pols['party'])\n",
    "us_pols"
   ]
  },
  {
   "cell_type": "code",
   "execution_count": 107,
   "metadata": {},
   "outputs": [
    {
     "data": {
      "text/html": [
       "<div>\n",
       "<style scoped>\n",
       "    .dataframe tbody tr th:only-of-type {\n",
       "        vertical-align: middle;\n",
       "    }\n",
       "\n",
       "    .dataframe tbody tr th {\n",
       "        vertical-align: top;\n",
       "    }\n",
       "\n",
       "    .dataframe thead th {\n",
       "        text-align: right;\n",
       "    }\n",
       "</style>\n",
       "<table border=\"1\" class=\"dataframe\">\n",
       "  <thead>\n",
       "    <tr style=\"text-align: right;\">\n",
       "      <th></th>\n",
       "      <th>Unnamed: 0</th>\n",
       "      <th>id</th>\n",
       "      <th>text</th>\n",
       "      <th>author_id</th>\n",
       "      <th>entities</th>\n",
       "      <th>created_at</th>\n",
       "      <th>geo</th>\n",
       "      <th>public_metrics</th>\n",
       "      <th>author</th>\n",
       "      <th>state</th>\n",
       "      <th>country</th>\n",
       "    </tr>\n",
       "  </thead>\n",
       "  <tbody>\n",
       "    <tr>\n",
       "      <th>6761</th>\n",
       "      <td>6761</td>\n",
       "      <td>1524785306821607424</td>\n",
       "      <td>So I'm hearing if you're struggling to find yo...</td>\n",
       "      <td>3138425305</td>\n",
       "      <td>{'annotations': [{'start': 68, 'end': 73, 'pro...</td>\n",
       "      <td>2022-05-12 16:15:20+00:00</td>\n",
       "      <td>{'place_type': 'city', 'country': 'United Stat...</td>\n",
       "      <td>{'retweet_count': 0, 'reply_count': 0, 'like_c...</td>\n",
       "      <td>{'public_metrics': {'followers_count': 6622, '...</td>\n",
       "      <td>OK</td>\n",
       "      <td>US</td>\n",
       "    </tr>\n",
       "    <tr>\n",
       "      <th>6635</th>\n",
       "      <td>6635</td>\n",
       "      <td>1524808646265389056</td>\n",
       "      <td>@DonaldJTrumpJr We balk at electric cars and g...</td>\n",
       "      <td>758800298559188992</td>\n",
       "      <td>{'mentions': [{'start': 0, 'end': 15, 'usernam...</td>\n",
       "      <td>2022-05-12 17:48:05+00:00</td>\n",
       "      <td>{'place_type': 'admin', 'country': 'United Sta...</td>\n",
       "      <td>{'retweet_count': 0, 'reply_count': 0, 'like_c...</td>\n",
       "      <td>{'public_metrics': {'followers_count': 3699, '...</td>\n",
       "      <td>USA</td>\n",
       "      <td>US</td>\n",
       "    </tr>\n",
       "    <tr>\n",
       "      <th>8101</th>\n",
       "      <td>8101</td>\n",
       "      <td>1522856181190037504</td>\n",
       "      <td>@rosscmary @brolivor As the world goes to crap...</td>\n",
       "      <td>819677526461128704</td>\n",
       "      <td>{'mentions': [{'start': 0, 'end': 10, 'usernam...</td>\n",
       "      <td>2022-05-07 08:29:41+00:00</td>\n",
       "      <td>{'place_type': 'city', 'country': 'United Stat...</td>\n",
       "      <td>{'retweet_count': 0, 'reply_count': 2, 'like_c...</td>\n",
       "      <td>{'public_metrics': {'followers_count': 1570, '...</td>\n",
       "      <td>NY</td>\n",
       "      <td>US</td>\n",
       "    </tr>\n",
       "    <tr>\n",
       "      <th>4384</th>\n",
       "      <td>4384</td>\n",
       "      <td>1525719619788541952</td>\n",
       "      <td>We are shipping pallets of baby formula to the...</td>\n",
       "      <td>1519948771496452096</td>\n",
       "      <td>NaN</td>\n",
       "      <td>2022-05-15 06:07:58+00:00</td>\n",
       "      <td>{'full_name': 'Houston, TX', 'country': 'Unite...</td>\n",
       "      <td>{'retweet_count': 0, 'reply_count': 0, 'like_c...</td>\n",
       "      <td>{'name': 'Jack', 'verified': False, 'username'...</td>\n",
       "      <td>TX</td>\n",
       "      <td>US</td>\n",
       "    </tr>\n",
       "    <tr>\n",
       "      <th>1523</th>\n",
       "      <td>1523</td>\n",
       "      <td>1527766813236404224</td>\n",
       "      <td>Matt Gaetz thinks families using Gov’t. Assist...</td>\n",
       "      <td>34553489</td>\n",
       "      <td>{'urls': [{'start': 123, 'end': 146, 'url': 'h...</td>\n",
       "      <td>2022-05-20 21:42:47+00:00</td>\n",
       "      <td>{'full_name': 'Atlanta, GA', 'country_code': '...</td>\n",
       "      <td>{'retweet_count': 0, 'reply_count': 0, 'like_c...</td>\n",
       "      <td>{'name': 'terry vee', 'created_at': '2009-04-2...</td>\n",
       "      <td>GA</td>\n",
       "      <td>US</td>\n",
       "    </tr>\n",
       "    <tr>\n",
       "      <th>...</th>\n",
       "      <td>...</td>\n",
       "      <td>...</td>\n",
       "      <td>...</td>\n",
       "      <td>...</td>\n",
       "      <td>...</td>\n",
       "      <td>...</td>\n",
       "      <td>...</td>\n",
       "      <td>...</td>\n",
       "      <td>...</td>\n",
       "      <td>...</td>\n",
       "      <td>...</td>\n",
       "    </tr>\n",
       "    <tr>\n",
       "      <th>1013</th>\n",
       "      <td>1013</td>\n",
       "      <td>1528356073937448960</td>\n",
       "      <td>@antiLibmob @JAlan21813286 @Godslightangel7 @T...</td>\n",
       "      <td>4516171573</td>\n",
       "      <td>{'mentions': [{'start': 0, 'end': 11, 'usernam...</td>\n",
       "      <td>2022-05-22 12:44:18+00:00</td>\n",
       "      <td>{'country_code': 'AU', 'place_type': 'city', '...</td>\n",
       "      <td>{'retweet_count': 0, 'reply_count': 0, 'like_c...</td>\n",
       "      <td>{'verified': False, 'name': 'C Botha', 'public...</td>\n",
       "      <td>Queensland</td>\n",
       "      <td>AU</td>\n",
       "    </tr>\n",
       "    <tr>\n",
       "      <th>3146</th>\n",
       "      <td>3146</td>\n",
       "      <td>1526977943536160768</td>\n",
       "      <td>@w_terrence Maybe you can make baby formula!!</td>\n",
       "      <td>296394656</td>\n",
       "      <td>{'mentions': [{'start': 0, 'end': 11, 'usernam...</td>\n",
       "      <td>2022-05-18 17:28:06+00:00</td>\n",
       "      <td>{'country_code': 'US', 'place_type': 'city', '...</td>\n",
       "      <td>{'retweet_count': 0, 'reply_count': 0, 'like_c...</td>\n",
       "      <td>{'created_at': '2011-05-10T17:49:15.000Z', 'id...</td>\n",
       "      <td>OK</td>\n",
       "      <td>US</td>\n",
       "    </tr>\n",
       "    <tr>\n",
       "      <th>4935</th>\n",
       "      <td>4935</td>\n",
       "      <td>1525439628844703744</td>\n",
       "      <td>@Freefree0Bobbie Media would rather talk about...</td>\n",
       "      <td>17135257</td>\n",
       "      <td>{'mentions': [{'start': 0, 'end': 16, 'usernam...</td>\n",
       "      <td>2022-05-14 11:35:23+00:00</td>\n",
       "      <td>{'place_type': 'city', 'country': 'United Stat...</td>\n",
       "      <td>{'retweet_count': 0, 'reply_count': 1, 'like_c...</td>\n",
       "      <td>{'id': '17135257', 'username': 'LesaPamplin', ...</td>\n",
       "      <td>TX</td>\n",
       "      <td>US</td>\n",
       "    </tr>\n",
       "    <tr>\n",
       "      <th>4098</th>\n",
       "      <td>4098</td>\n",
       "      <td>1525973124357009408</td>\n",
       "      <td>@KC_Fan1965 @POTUS Fucking facts! All of it! \\...</td>\n",
       "      <td>1096757914528874496</td>\n",
       "      <td>{'mentions': [{'start': 0, 'end': 11, 'usernam...</td>\n",
       "      <td>2022-05-15 22:55:18+00:00</td>\n",
       "      <td>{'full_name': 'Maine, USA', 'country': 'United...</td>\n",
       "      <td>{'retweet_count': 0, 'reply_count': 0, 'like_c...</td>\n",
       "      <td>{'name': 'Tina Heald ♒️⚔️🌬', 'verified': False...</td>\n",
       "      <td>USA</td>\n",
       "      <td>US</td>\n",
       "    </tr>\n",
       "    <tr>\n",
       "      <th>1325</th>\n",
       "      <td>1325</td>\n",
       "      <td>1528001399526760448</td>\n",
       "      <td>Abbott Industries isn’t blameless in this baby...</td>\n",
       "      <td>43195016</td>\n",
       "      <td>{'mentions': [{'start': 130, 'end': 141, 'user...</td>\n",
       "      <td>2022-05-21 13:14:57+00:00</td>\n",
       "      <td>{'country_code': 'US', 'place_type': 'city', '...</td>\n",
       "      <td>{'retweet_count': 1, 'reply_count': 0, 'like_c...</td>\n",
       "      <td>{'verified': False, 'name': 'TruNorth🗽🟡⚫️', 'p...</td>\n",
       "      <td>MI</td>\n",
       "      <td>US</td>\n",
       "    </tr>\n",
       "  </tbody>\n",
       "</table>\n",
       "<p>8739 rows × 11 columns</p>\n",
       "</div>"
      ],
      "text/plain": [
       "      Unnamed: 0                   id  \\\n",
       "6761        6761  1524785306821607424   \n",
       "6635        6635  1524808646265389056   \n",
       "8101        8101  1522856181190037504   \n",
       "4384        4384  1525719619788541952   \n",
       "1523        1523  1527766813236404224   \n",
       "...          ...                  ...   \n",
       "1013        1013  1528356073937448960   \n",
       "3146        3146  1526977943536160768   \n",
       "4935        4935  1525439628844703744   \n",
       "4098        4098  1525973124357009408   \n",
       "1325        1325  1528001399526760448   \n",
       "\n",
       "                                                   text            author_id  \\\n",
       "6761  So I'm hearing if you're struggling to find yo...           3138425305   \n",
       "6635  @DonaldJTrumpJr We balk at electric cars and g...   758800298559188992   \n",
       "8101  @rosscmary @brolivor As the world goes to crap...   819677526461128704   \n",
       "4384  We are shipping pallets of baby formula to the...  1519948771496452096   \n",
       "1523  Matt Gaetz thinks families using Gov’t. Assist...             34553489   \n",
       "...                                                 ...                  ...   \n",
       "1013  @antiLibmob @JAlan21813286 @Godslightangel7 @T...           4516171573   \n",
       "3146      @w_terrence Maybe you can make baby formula!!            296394656   \n",
       "4935  @Freefree0Bobbie Media would rather talk about...             17135257   \n",
       "4098  @KC_Fan1965 @POTUS Fucking facts! All of it! \\...  1096757914528874496   \n",
       "1325  Abbott Industries isn’t blameless in this baby...             43195016   \n",
       "\n",
       "                                               entities  \\\n",
       "6761  {'annotations': [{'start': 68, 'end': 73, 'pro...   \n",
       "6635  {'mentions': [{'start': 0, 'end': 15, 'usernam...   \n",
       "8101  {'mentions': [{'start': 0, 'end': 10, 'usernam...   \n",
       "4384                                                NaN   \n",
       "1523  {'urls': [{'start': 123, 'end': 146, 'url': 'h...   \n",
       "...                                                 ...   \n",
       "1013  {'mentions': [{'start': 0, 'end': 11, 'usernam...   \n",
       "3146  {'mentions': [{'start': 0, 'end': 11, 'usernam...   \n",
       "4935  {'mentions': [{'start': 0, 'end': 16, 'usernam...   \n",
       "4098  {'mentions': [{'start': 0, 'end': 11, 'usernam...   \n",
       "1325  {'mentions': [{'start': 130, 'end': 141, 'user...   \n",
       "\n",
       "                     created_at  \\\n",
       "6761  2022-05-12 16:15:20+00:00   \n",
       "6635  2022-05-12 17:48:05+00:00   \n",
       "8101  2022-05-07 08:29:41+00:00   \n",
       "4384  2022-05-15 06:07:58+00:00   \n",
       "1523  2022-05-20 21:42:47+00:00   \n",
       "...                         ...   \n",
       "1013  2022-05-22 12:44:18+00:00   \n",
       "3146  2022-05-18 17:28:06+00:00   \n",
       "4935  2022-05-14 11:35:23+00:00   \n",
       "4098  2022-05-15 22:55:18+00:00   \n",
       "1325  2022-05-21 13:14:57+00:00   \n",
       "\n",
       "                                                    geo  \\\n",
       "6761  {'place_type': 'city', 'country': 'United Stat...   \n",
       "6635  {'place_type': 'admin', 'country': 'United Sta...   \n",
       "8101  {'place_type': 'city', 'country': 'United Stat...   \n",
       "4384  {'full_name': 'Houston, TX', 'country': 'Unite...   \n",
       "1523  {'full_name': 'Atlanta, GA', 'country_code': '...   \n",
       "...                                                 ...   \n",
       "1013  {'country_code': 'AU', 'place_type': 'city', '...   \n",
       "3146  {'country_code': 'US', 'place_type': 'city', '...   \n",
       "4935  {'place_type': 'city', 'country': 'United Stat...   \n",
       "4098  {'full_name': 'Maine, USA', 'country': 'United...   \n",
       "1325  {'country_code': 'US', 'place_type': 'city', '...   \n",
       "\n",
       "                                         public_metrics  \\\n",
       "6761  {'retweet_count': 0, 'reply_count': 0, 'like_c...   \n",
       "6635  {'retweet_count': 0, 'reply_count': 0, 'like_c...   \n",
       "8101  {'retweet_count': 0, 'reply_count': 2, 'like_c...   \n",
       "4384  {'retweet_count': 0, 'reply_count': 0, 'like_c...   \n",
       "1523  {'retweet_count': 0, 'reply_count': 0, 'like_c...   \n",
       "...                                                 ...   \n",
       "1013  {'retweet_count': 0, 'reply_count': 0, 'like_c...   \n",
       "3146  {'retweet_count': 0, 'reply_count': 0, 'like_c...   \n",
       "4935  {'retweet_count': 0, 'reply_count': 1, 'like_c...   \n",
       "4098  {'retweet_count': 0, 'reply_count': 0, 'like_c...   \n",
       "1325  {'retweet_count': 1, 'reply_count': 0, 'like_c...   \n",
       "\n",
       "                                                 author       state country  \n",
       "6761  {'public_metrics': {'followers_count': 6622, '...          OK      US  \n",
       "6635  {'public_metrics': {'followers_count': 3699, '...         USA      US  \n",
       "8101  {'public_metrics': {'followers_count': 1570, '...          NY      US  \n",
       "4384  {'name': 'Jack', 'verified': False, 'username'...          TX      US  \n",
       "1523  {'name': 'terry vee', 'created_at': '2009-04-2...          GA      US  \n",
       "...                                                 ...         ...     ...  \n",
       "1013  {'verified': False, 'name': 'C Botha', 'public...  Queensland      AU  \n",
       "3146  {'created_at': '2011-05-10T17:49:15.000Z', 'id...          OK      US  \n",
       "4935  {'id': '17135257', 'username': 'LesaPamplin', ...          TX      US  \n",
       "4098  {'name': 'Tina Heald ♒️⚔️🌬', 'verified': False...         USA      US  \n",
       "1325  {'verified': False, 'name': 'TruNorth🗽🟡⚫️', 'p...          MI      US  \n",
       "\n",
       "[8739 rows x 11 columns]"
      ]
     },
     "execution_count": 107,
     "metadata": {},
     "output_type": "execute_result"
    }
   ],
   "source": [
    "geo_tweets = pd.read_csv(\"data/baby_formula_geo_statewise.csv\")\n",
    "geo_tweets_sample = geo_tweets.sample(len(geo_tweets))\n",
    "geo_tweets_sample"
   ]
  },
  {
   "cell_type": "code",
   "execution_count": 121,
   "metadata": {},
   "outputs": [
    {
     "name": "stdout",
     "output_type": "stream",
     "text": [
      "8739\n",
      "8739\n",
      "['na', 'neu', 'neu', 'na', 'na', 'na', 'neu', 'neu', 'neu', 'na', 'neu', 'na', 'neu', 'neu', 'na', 'na', 'neu', 'na', 'neu', 'neu', 'na', 'na', 'na', 'na', 'na', 'na', 'na', 'na', 'Democratic', 'na', 'na', 'neu', 'neu', 'na', 'na', 'neu', 'neu', 'na', 'neu', 'neu', 'na', 'Republican', 'neu', 'neu', 'neu', 'Democratic', 'na', 'na', 'neu', 'neu', 'neu', 'neu', 'na', 'neu', 'Democratic', 'neu', 'neu', 'na', 'na', 'neu', 'na', 'neu', 'neu', 'neu', 'neu', 'na', 'neu', 'neu', 'neu', 'neu', 'na', 'neu', 'neu', 'na', 'na', 'na', 'na', 'na', 'na', 'neu', 'neu', 'na', 'neu', 'na', 'neu', 'na', 'neu', 'Democratic', 'na', 'na', 'neu', 'neu', 'na', 'neu', 'neu', 'neu', 'neu', 'na', 'na', 'na', 'neu', 'na', 'na', 'neu', 'na', 'na', 'neu', 'neu', 'na', 'na', 'neu', 'neu', 'neu', 'neu', 'neu', 'na', 'na', 'na', 'neu', 'na', 'neu', 'na', 'na', 'neu', 'neu', 'neu', 'neu', 'na', 'neu', 'neu', 'na', 'na', 'na', 'na', 'neu', 'neu', 'Republican', 'na', 'na', 'na', 'neu', 'na', 'neu', 'neu', 'neu', 'neu', 'na', 'na', 'na', 'na', 'neu', 'na', 'neu', 'na', 'na', 'na', 'na', 'na', 'na', 'na', 'neu', 'neu', 'na', 'neu', 'neu', 'na', 'na', 'na', 'na', 'na', 'neu', 'neu', 'na', 'neu', 'neu', 'na', 'neu', 'neu', 'na', 'neu', 'na', 'Republican', 'na', 'neu', 'Republican', 'Republican', 'Republican', 'na', 'Republican', 'na', 'na', 'Republican', 'na', 'na', 'neu', 'neu', 'na', 'na', 'na', 'neu', 'neu', 'na', 'neu', 'na', 'neu', 'neu', 'neu', 'Democratic', 'na', 'na', 'na', 'na', 'na', 'na', 'neu', 'na', 'na', 'na', 'neu', 'na', 'neu', 'Democratic', 'neu', 'na', 'neu', 'neu', 'neu', 'neu', 'Democratic', 'neu', 'neu', 'neu', 'na', 'neu', 'na', 'na', 'neu', 'Democratic', 'na', 'na', 'na', 'na', 'na', 'neu', 'neu', 'na', 'neu', 'na', 'neu', 'na', 'Democratic', 'neu', 'neu', 'neu', 'Republican', 'neu', 'neu', 'neu', 'na', 'neu', 'na', 'neu', 'na', 'na', 'neu', 'na', 'na', 'na', 'neu', 'neu', 'Republican', 'neu', 'na', 'na', 'neu', 'neu', 'neu', 'neu', 'na', 'neu', 'neu', 'neu', 'na', 'neu', 'na', 'neu', 'neu', 'neu', 'na', 'neu', 'na', 'na', 'neu', 'neu', 'na', 'na', 'neu', 'neu', 'na', 'na', 'neu', 'neu', 'na', 'na', 'na', 'neu', 'neu', 'na', 'na', 'neu', 'na', 'na', 'neu', 'na', 'neu', 'neu', 'na', 'na', 'na', 'neu', 'na', 'na', 'neu', 'neu', 'na', 'na', 'neu', 'Democratic', 'na', 'Republican', 'na', 'neu', 'na', 'neu', 'neu', 'neu', 'Democratic', 'neu', 'na', 'neu', 'neu', 'neu', 'na', 'na', 'neu', 'na', 'neu', 'na', 'na', 'neu', 'na', 'na', 'neu', 'neu', 'na', 'na', 'neu', 'neu', 'neu', 'neu', 'neu', 'neu', 'na', 'na', 'neu', 'neu', 'na', 'neu', 'neu', 'na', 'na', 'na', 'Democratic', 'na', 'neu', 'na', 'na', 'na', 'neu', 'neu', 'neu', 'neu', 'neu', 'na', 'Democratic', 'Republican', 'na', 'na', 'neu', 'neu', 'neu', 'neu', 'neu', 'Democratic', 'neu', 'neu', 'Republican', 'neu', 'neu', 'neu', 'na', 'neu', 'na', 'na', 'na', 'na', 'neu', 'na', 'na', 'neu', 'neu', 'neu', 'na', 'Republican', 'neu', 'na', 'Republican', 'neu', 'neu', 'na', 'na', 'neu', 'neu', 'na', 'na', 'na', 'neu', 'na', 'neu', 'na', 'neu', 'na', 'na', 'neu', 'neu', 'Democratic', 'neu', 'neu', 'na', 'neu', 'na', 'neu', 'neu', 'na', 'neu', 'neu', 'na', 'na', 'na', 'neu', 'na', 'na', 'na', 'neu', 'neu', 'Democratic', 'na', 'neu', 'neu', 'na', 'neu', 'neu', 'neu', 'neu', 'neu', 'na', 'neu', 'neu', 'neu', 'na', 'na', 'neu', 'na', 'neu', 'na', 'neu', 'Republican', 'na', 'na', 'na', 'na', 'neu', 'neu', 'neu', 'na', 'neu', 'neu', 'na', 'neu', 'neu', 'neu', 'neu', 'neu', 'neu', 'neu', 'na', 'na', 'na', 'Democratic', 'neu', 'neu', 'na', 'neu', 'Republican', 'neu', 'na', 'na', 'na', 'neu', 'neu', 'na', 'neu', 'na', 'neu', 'neu', 'neu', 'neu', 'neu', 'neu', 'na', 'na', 'na', 'neu', 'na', 'na', 'neu', 'neu', 'na', 'na', 'Democratic', 'neu', 'na', 'neu', 'na', 'neu', 'na', 'neu', 'neu', 'na', 'na', 'Democratic', 'neu', 'na', 'neu', 'neu', 'Republican', 'na', 'neu', 'neu', 'neu', 'neu', 'neu', 'neu', 'Democratic', 'na', 'neu', 'neu', 'neu', 'neu', 'neu', 'na', 'neu', 'na', 'na', 'na', 'na', 'neu', 'Democratic', 'na', 'na', 'neu', 'neu', 'na', 'neu', 'neu', 'na', 'na', 'na', 'neu', 'na', 'na', 'neu', 'na', 'na', 'na', 'Republican', 'neu', 'neu', 'na', 'na', 'neu', 'neu', 'na', 'na', 'na', 'na', 'neu', 'neu', 'na', 'neu', 'na', 'na', 'na', 'na', 'neu', 'neu', 'neu', 'na', 'Republican', 'na', 'na', 'neu', 'na', 'neu', 'na', 'Democratic', 'na', 'na', 'neu', 'neu', 'na', 'neu', 'na', 'na', 'na', 'Democratic', 'na', 'na', 'neu', 'na', 'neu', 'neu', 'na', 'na', 'na', 'neu', 'na', 'neu', 'na', 'na', 'na', 'na', 'neu', 'neu', 'na', 'neu', 'na', 'neu', 'na', 'neu', 'neu', 'neu', 'na', 'neu', 'na', 'neu', 'neu', 'Democratic', 'neu', 'na', 'neu', 'neu', 'Republican', 'neu', 'na', 'neu', 'neu', 'neu', 'neu', 'na', 'na', 'neu', 'neu', 'Democratic', 'na', 'neu', 'neu', 'neu', 'Democratic', 'na', 'na', 'neu', 'neu', 'na', 'neu', 'neu', 'na', 'neu', 'na', 'neu', 'na', 'na', 'Democratic', 'neu', 'neu', 'na', 'neu', 'neu', 'na', 'neu', 'neu', 'neu', 'neu', 'na', 'neu', 'neu', 'Republican', 'na', 'neu', 'na', 'neu', 'neu', 'neu', 'na', 'na', 'na', 'neu', 'na', 'neu', 'na', 'na', 'na', 'neu', 'neu', 'neu', 'neu', 'na', 'na', 'neu', 'na', 'na', 'neu', 'na', 'na', 'neu', 'na', 'na', 'neu', 'neu', 'neu', 'na', 'na', 'neu', 'na', 'neu', 'neu', 'na', 'neu', 'na', 'na', 'neu', 'neu', 'na', 'neu', 'neu', 'neu', 'neu', 'neu', 'na', 'na', 'na', 'na', 'na', 'neu', 'neu', 'neu', 'neu', 'neu', 'na', 'na', 'neu', 'Democratic', 'na', 'neu', 'neu', 'na', 'neu', 'neu', 'na', 'Republican', 'na', 'na', 'neu', 'neu', 'neu', 'neu', 'na', 'neu', 'na', 'na', 'na', 'neu', 'neu', 'na', 'na', 'na', 'na', 'na', 'na', 'neu', 'na', 'neu', 'neu', 'na', 'neu', 'na', 'neu', 'neu', 'neu', 'na', 'neu', 'na', 'na', 'na', 'neu', 'neu', 'neu', 'neu', 'na', 'na', 'neu', 'na', 'neu', 'neu', 'neu', 'na', 'na', 'neu', 'na', 'Democratic', 'neu', 'neu', 'na', 'na', 'neu', 'neu', 'neu', 'na', 'neu', 'na', 'neu', 'na', 'na', 'na', 'neu', 'neu', 'neu', 'neu', 'na', 'neu', 'Democratic', 'na', 'na', 'neu', 'Democratic', 'neu', 'neu', 'neu', 'neu', 'na', 'neu', 'na', 'neu', 'neu', 'na', 'na', 'neu', 'na', 'neu', 'Republican', 'neu', 'Democratic', 'na', 'na', 'neu', 'neu', 'neu', 'neu', 'na', 'Republican', 'neu', 'na', 'na', 'neu', 'na', 'na', 'na', 'na', 'na', 'na', 'neu', 'na', 'neu', 'na', 'na', 'na', 'neu', 'na', 'na', 'neu', 'na', 'neu', 'na', 'na', 'neu', 'neu', 'neu', 'na', 'neu', 'neu', 'na', 'neu', 'neu', 'na', 'na', 'neu', 'na', 'Republican', 'neu', 'neu', 'Democratic', 'na', 'na', 'neu', 'neu', 'neu', 'na', 'na', 'na', 'na', 'na', 'na', 'Democratic', 'neu', 'neu', 'neu', 'neu', 'neu', 'na', 'na', 'na', 'neu', 'na', 'neu', 'neu', 'na', 'neu', 'neu', 'na', 'na', 'neu', 'na', 'na', 'na', 'neu', 'neu', 'na', 'neu', 'na', 'na', 'neu', 'neu', 'neu', 'neu', 'na', 'neu', 'na', 'Republican', 'neu', 'neu', 'na', 'na', 'neu', 'neu', 'na', 'na', 'na', 'na', 'neu', 'neu', 'na', 'na', 'na', 'na', 'na', 'neu', 'neu', 'na', 'na', 'neu', 'na', 'neu', 'neu', 'neu', 'na', 'na', 'na', 'na', 'neu', 'na', 'neu', 'neu', 'na', 'na', 'na', 'neu', 'na', 'neu', 'na', 'neu', 'neu', 'neu', 'na', 'na', 'neu', 'neu', 'na', 'Democratic', 'na', 'na', 'na', 'neu', 'na', 'na', 'neu', 'na', 'na', 'neu', 'na', 'neu', 'na', 'neu', 'Republican', 'neu', 'na', 'neu', 'Republican', 'na', 'na', 'neu', 'na', 'neu', 'na', 'na', 'na', 'na', 'neu', 'neu', 'neu', 'neu', 'neu', 'na', 'neu', 'neu', 'neu', 'na', 'na', 'na', 'neu', 'na', 'neu', 'na', 'neu', 'na', 'Democratic', 'na', 'na', 'neu', 'neu', 'neu', 'na', 'neu', 'na', 'neu', 'neu', 'na', 'neu', 'na', 'neu', 'neu', 'neu', 'neu', 'neu', 'na', 'na', 'neu', 'na', 'na', 'neu', 'neu', 'na', 'na', 'neu', 'neu', 'na', 'na', 'na', 'na', 'neu', 'na', 'na', 'neu', 'neu', 'neu', 'neu', 'neu', 'neu', 'na', 'na', 'neu', 'neu', 'na', 'neu', 'neu', 'neu', 'na', 'na', 'na', 'na', 'neu', 'Democratic', 'neu', 'na', 'na', 'neu', 'neu', 'Democratic', 'na', 'neu', 'neu', 'neu', 'na', 'na', 'neu', 'neu', 'neu', 'na', 'na', 'na', 'na', 'na', 'neu', 'neu', 'na', 'neu', 'na', 'na', 'na', 'neu', 'neu', 'neu', 'neu', 'neu', 'neu', 'neu', 'na', 'na', 'neu', 'na', 'neu', 'neu', 'neu', 'na', 'neu', 'neu', 'neu', 'neu', 'neu', 'Republican', 'na', 'neu', 'Democratic', 'neu', 'na', 'na', 'na', 'Republican', 'neu', 'Democratic', 'na', 'na', 'na', 'na', 'neu', 'neu', 'na', 'na', 'na', 'neu', 'na', 'neu', 'neu', 'neu', 'na', 'na', 'na', 'neu', 'na', 'na', 'neu', 'na', 'na', 'na', 'neu', 'neu', 'na', 'neu', 'neu', 'na', 'neu', 'neu', 'na', 'na', 'Republican', 'neu', 'na', 'na', 'Republican', 'neu', 'neu', 'na', 'na', 'na', 'neu', 'neu', 'neu', 'neu', 'na', 'na', 'neu', 'na', 'neu', 'neu', 'na', 'na', 'na', 'na', 'neu', 'na', 'na', 'na', 'neu', 'na', 'na', 'na', 'Democratic', 'na', 'neu', 'Republican', 'na', 'na', 'neu', 'neu', 'na', 'neu', 'na', 'neu', 'na', 'neu', 'neu', 'na', 'na', 'na', 'neu', 'na', 'na', 'na', 'na', 'na', 'na', 'neu', 'neu', 'neu', 'na', 'neu', 'neu', 'na', 'neu', 'neu', 'Democratic', 'na', 'neu', 'Republican', 'neu', 'neu', 'na', 'na', 'neu', 'na', 'na', 'neu', 'na', 'Republican', 'na', 'neu', 'na', 'na', 'neu', 'na', 'neu', 'neu', 'na', 'neu', 'na', 'neu', 'na', 'neu', 'na', 'neu', 'na', 'na', 'neu', 'na', 'neu', 'neu', 'na', 'neu', 'neu', 'na', 'Democratic', 'neu', 'neu', 'na', 'neu', 'neu', 'neu', 'na', 'na', 'na', 'neu', 'na', 'na', 'na', 'na', 'Democratic', 'Republican', 'neu', 'na', 'na', 'na', 'na', 'na', 'neu', 'na', 'neu', 'na', 'na', 'na', 'na', 'neu', 'na', 'na', 'na', 'neu', 'neu', 'neu', 'na', 'Democratic', 'na', 'neu', 'Republican', 'na', 'na', 'neu', 'neu', 'neu', 'neu', 'na', 'na', 'na', 'na', 'neu', 'neu', 'neu', 'neu', 'na', 'na', 'na', 'na', 'neu', 'neu', 'na', 'na', 'na', 'na', 'na', 'neu', 'Democratic', 'neu', 'na', 'neu', 'na', 'neu', 'na', 'neu', 'neu', 'na', 'neu', 'na', 'na', 'neu', 'neu', 'na', 'neu', 'neu', 'neu', 'neu', 'neu', 'neu', 'na', 'neu', 'na', 'Democratic', 'neu', 'Republican', 'neu', 'neu', 'neu', 'na', 'neu', 'Democratic', 'neu', 'neu', 'na', 'neu', 'neu', 'neu', 'Democratic', 'na', 'na', 'na', 'na', 'neu', 'Republican', 'neu', 'na', 'na', 'neu', 'Democratic', 'neu', 'na', 'na', 'neu', 'na', 'na', 'neu', 'na', 'neu', 'na', 'na', 'neu', 'neu', 'na', 'na', 'na', 'na', 'neu', 'na', 'neu', 'na', 'neu', 'na', 'neu', 'neu', 'neu', 'neu', 'na', 'neu', 'na', 'neu', 'na', 'na', 'na', 'na', 'neu', 'na', 'neu', 'na', 'neu', 'na', 'na', 'na', 'neu', 'neu', 'neu', 'na', 'na', 'na', 'na', 'neu', 'neu', 'neu', 'neu', 'na', 'na', 'na', 'na', 'neu', 'na', 'neu', 'na', 'na', 'Republican', 'na', 'neu', 'neu', 'neu', 'na', 'na', 'neu', 'Democratic', 'neu', 'na', 'neu', 'neu', 'Democratic', 'neu', 'na', 'na', 'neu', 'neu', 'neu', 'na', 'na', 'neu', 'neu', 'na', 'na', 'neu', 'neu', 'na', 'neu', 'na', 'neu', 'neu', 'na', 'neu', 'na', 'neu', 'Democratic', 'na', 'neu', 'na', 'na', 'na', 'na', 'neu', 'neu', 'na', 'na', 'neu', 'neu', 'neu', 'neu', 'na', 'na', 'neu', 'na', 'neu', 'na', 'na', 'na', 'neu', 'na', 'neu', 'neu', 'na', 'na', 'na', 'neu', 'neu', 'neu', 'neu', 'na', 'neu', 'na', 'na', 'neu', 'neu', 'na', 'neu', 'na', 'Democratic', 'na', 'Democratic', 'neu', 'neu', 'neu', 'na', 'neu', 'neu', 'na', 'neu', 'neu', 'na', 'na', 'na', 'na', 'na', 'neu', 'neu', 'na', 'neu', 'na', 'neu', 'neu', 'neu', 'neu', 'na', 'na', 'neu', 'neu', 'neu', 'Democratic', 'neu', 'neu', 'Democratic', 'Republican', 'na', 'na', 'Republican', 'neu', 'neu', 'na', 'neu', 'Republican', 'neu', 'na', 'na', 'na', 'neu', 'neu', 'na', 'neu', 'Democratic', 'na', 'Democratic', 'na', 'neu', 'na', 'Democratic', 'neu', 'na', 'neu', 'na', 'na', 'neu', 'neu', 'na', 'na', 'neu', 'neu', 'Republican', 'na', 'neu', 'neu', 'neu', 'neu', 'na', 'na', 'Republican', 'Democratic', 'na', 'neu', 'neu', 'neu', 'na', 'na', 'neu', 'neu', 'na', 'na', 'na', 'neu', 'neu', 'neu', 'na', 'Republican', 'neu', 'na', 'neu', 'Democratic', 'na', 'na', 'neu', 'na', 'na', 'neu', 'na', 'na', 'na', 'na', 'na', 'na', 'neu', 'neu', 'neu', 'neu', 'na', 'na', 'na', 'na', 'neu', 'na', 'neu', 'Democratic', 'na', 'neu', 'Democratic', 'neu', 'na', 'Democratic', 'neu', 'neu', 'na', 'neu', 'na', 'neu', 'na', 'na', 'na', 'na', 'neu', 'na', 'neu', 'neu', 'na', 'na', 'neu', 'na', 'na', 'na', 'na', 'na', 'Republican', 'na', 'na', 'neu', 'na', 'na', 'neu', 'na', 'na', 'neu', 'na', 'na', 'na', 'neu', 'neu', 'neu', 'neu', 'na', 'na', 'na', 'Democratic', 'neu', 'neu', 'na', 'na', 'na', 'na', 'na', 'neu', 'neu', 'neu', 'neu', 'neu', 'na', 'na', 'na', 'na', 'neu', 'na', 'na', 'na', 'neu', 'neu', 'neu', 'na', 'neu', 'neu', 'Republican', 'na', 'neu', 'na', 'na', 'na', 'na', 'na', 'na', 'na', 'na', 'na', 'Republican', 'na', 'Democratic', 'na', 'neu', 'neu', 'neu', 'na', 'neu', 'Democratic', 'na', 'Democratic', 'na', 'neu', 'na', 'neu', 'na', 'neu', 'neu', 'neu', 'na', 'na', 'na', 'na', 'neu', 'Democratic', 'neu', 'neu', 'na', 'Democratic', 'neu', 'na', 'na', 'neu', 'na', 'neu', 'neu', 'na', 'neu', 'na', 'neu', 'neu', 'neu', 'neu', 'neu', 'na', 'na', 'neu', 'na', 'na', 'na', 'na', 'na', 'na', 'na', 'na', 'neu', 'na', 'neu', 'neu', 'na', 'na', 'neu', 'neu', 'na', 'Democratic', 'neu', 'Republican', 'na', 'neu', 'neu', 'na', 'neu', 'neu', 'na', 'na', 'na', 'na', 'neu', 'neu', 'na', 'na', 'neu', 'neu', 'na', 'na', 'na', 'na', 'neu', 'na', 'neu', 'neu', 'neu', 'neu', 'na', 'neu', 'neu', 'na', 'na', 'Republican', 'na', 'neu', 'na', 'neu', 'na', 'na', 'neu', 'neu', 'na', 'Republican', 'Democratic', 'Republican', 'na', 'na', 'neu', 'na', 'na', 'na', 'neu', 'na', 'neu', 'neu', 'neu', 'na', 'neu', 'neu', 'neu', 'na', 'na', 'na', 'neu', 'neu', 'na', 'neu', 'neu', 'na', 'na', 'na', 'na', 'na', 'neu', 'neu', 'na', 'neu', 'neu', 'neu', 'na', 'na', 'na', 'neu', 'na', 'neu', 'Republican', 'na', 'na', 'neu', 'neu', 'neu', 'na', 'neu', 'neu', 'na', 'neu', 'na', 'neu', 'neu', 'neu', 'na', 'na', 'Democratic', 'na', 'na', 'neu', 'na', 'na', 'neu', 'na', 'neu', 'na', 'neu', 'na', 'neu', 'neu', 'neu', 'neu', 'neu', 'neu', 'na', 'neu', 'neu', 'na', 'neu', 'na', 'neu', 'na', 'neu', 'neu', 'neu', 'neu', 'na', 'neu', 'na', 'neu', 'na', 'na', 'Democratic', 'neu', 'na', 'neu', 'na', 'neu', 'na', 'na', 'na', 'na', 'Democratic', 'na', 'na', 'neu', 'na', 'Democratic', 'na', 'neu', 'Democratic', 'neu', 'Democratic', 'Democratic', 'neu', 'neu', 'na', 'neu', 'Democratic', 'na', 'neu', 'neu', 'na', 'neu', 'neu', 'Republican', 'neu', 'na', 'na', 'neu', 'neu', 'na', 'na', 'neu', 'na', 'na', 'na', 'neu', 'na', 'neu', 'na', 'Democratic', 'na', 'na', 'na', 'neu', 'na', 'neu', 'neu', 'na', 'neu', 'neu', 'na', 'na', 'neu', 'neu', 'na', 'na', 'neu', 'neu', 'na', 'na', 'na', 'neu', 'neu', 'Republican', 'neu', 'na', 'neu', 'neu', 'neu', 'na', 'Democratic', 'neu', 'na', 'na', 'neu', 'na', 'na', 'neu', 'neu', 'neu', 'na', 'neu', 'neu', 'na', 'na', 'neu', 'neu', 'na', 'na', 'neu', 'na', 'neu', 'na', 'na', 'na', 'neu', 'na', 'na', 'neu', 'neu', 'na', 'na', 'neu', 'na', 'Republican', 'na', 'neu', 'neu', 'neu', 'na', 'neu', 'na', 'neu', 'Democratic', 'na', 'Democratic', 'neu', 'Democratic', 'na', 'na', 'neu', 'neu', 'na', 'na', 'na', 'neu', 'neu', 'na', 'na', 'na', 'neu', 'na', 'na', 'na', 'na', 'na', 'Democratic', 'neu', 'neu', 'neu', 'na', 'neu', 'na', 'na', 'Democratic', 'neu', 'na', 'neu', 'neu', 'na', 'neu', 'na', 'neu', 'Democratic', 'na', 'neu', 'na', 'na', 'neu', 'na', 'na', 'neu', 'na', 'na', 'na', 'na', 'na', 'na', 'neu', 'neu', 'neu', 'na', 'Republican', 'na', 'na', 'neu', 'na', 'neu', 'neu', 'neu', 'na', 'neu', 'na', 'na', 'neu', 'neu', 'neu', 'neu', 'neu', 'Republican', 'Republican', 'neu', 'neu', 'neu', 'na', 'na', 'neu', 'na', 'na', 'na', 'neu', 'na', 'na', 'neu', 'Democratic', 'Democratic', 'neu', 'neu', 'neu', 'neu', 'na', 'na', 'na', 'na', 'neu', 'Republican', 'na', 'neu', 'neu', 'neu', 'na', 'na', 'na', 'neu', 'na', 'Democratic', 'neu', 'na', 'na', 'na', 'neu', 'na', 'na', 'neu', 'na', 'na', 'na', 'na', 'na', 'na', 'neu', 'neu', 'neu', 'na', 'na', 'na', 'na', 'na', 'neu', 'neu', 'neu', 'na', 'neu', 'na', 'neu', 'neu', 'na', 'na', 'na', 'na', 'na', 'na', 'na', 'neu', 'na', 'neu', 'neu', 'neu', 'neu', 'neu', 'neu', 'na', 'na', 'na', 'neu', 'neu', 'neu', 'na', 'na', 'na', 'na', 'na', 'na', 'Republican', 'na', 'na', 'neu', 'neu', 'neu', 'neu', 'na', 'na', 'na', 'neu', 'neu', 'neu', 'neu', 'na', 'neu', 'neu', 'neu', 'na', 'na', 'na', 'na', 'neu', 'neu', 'neu', 'neu', 'neu', 'na', 'na', 'na', 'na', 'neu', 'neu', 'na', 'Republican', 'neu', 'neu', 'neu', 'na', 'na', 'neu', 'na', 'neu', 'neu', 'na', 'na', 'na', 'na', 'neu', 'neu', 'na', 'neu', 'neu', 'na', 'neu', 'neu', 'na', 'neu', 'na', 'neu', 'na', 'neu', 'na', 'na', 'neu', 'neu', 'na', 'na', 'na', 'neu', 'na', 'neu', 'na', 'na', 'neu', 'Republican', 'na', 'na', 'Republican', 'na', 'neu', 'na', 'neu', 'Democratic', 'na', 'neu', 'na', 'neu', 'neu', 'neu', 'Democratic', 'neu', 'neu', 'na', 'na', 'neu', 'na', 'na', 'neu', 'neu', 'na', 'neu', 'na', 'na', 'neu', 'na', 'neu', 'na', 'neu', 'neu', 'na', 'neu', 'na', 'na', 'neu', 'na', 'na', 'na', 'neu', 'neu', 'na', 'na', 'neu', 'na', 'neu', 'neu', 'Democratic', 'neu', 'neu', 'na', 'na', 'na', 'na', 'Democratic', 'na', 'neu', 'na', 'neu', 'neu', 'na', 'neu', 'na', 'Democratic', 'neu', 'neu', 'neu', 'na', 'neu', 'Democratic', 'neu', 'na', 'na', 'na', 'na', 'na', 'neu', 'na', 'neu', 'na', 'na', 'neu', 'na', 'na', 'neu', 'na', 'na', 'neu', 'Republican', 'na', 'na', 'na', 'neu', 'na', 'na', 'neu', 'neu', 'na', 'neu', 'neu', 'neu', 'neu', 'neu', 'na', 'Republican', 'na', 'na', 'neu', 'na', 'na', 'na', 'neu', 'Republican', 'na', 'na', 'na', 'neu', 'neu', 'neu', 'neu', 'na', 'neu', 'na', 'neu', 'Democratic', 'na', 'neu', 'neu', 'neu', 'na', 'na', 'neu', 'Republican', 'neu', 'na', 'neu', 'na', 'neu', 'neu', 'neu', 'na', 'na', 'na', 'na', 'neu', 'neu', 'neu', 'neu', 'na', 'na', 'neu', 'na', 'Republican', 'na', 'na', 'Democratic', 'neu', 'neu', 'na', 'neu', 'neu', 'na', 'na', 'na', 'na', 'na', 'na', 'neu', 'na', 'na', 'neu', 'neu', 'na', 'neu', 'na', 'Democratic', 'neu', 'na', 'neu', 'na', 'na', 'na', 'neu', 'na', 'na', 'na', 'Republican', 'neu', 'na', 'Democratic', 'na', 'Democratic', 'na', 'na', 'neu', 'na', 'neu', 'na', 'na', 'na', 'na', 'neu', 'neu', 'Democratic', 'Democratic', 'neu', 'na', 'neu', 'na', 'na', 'na', 'Republican', 'Democratic', 'na', 'neu', 'na', 'neu', 'na', 'Republican', 'neu', 'Democratic', 'neu', 'na', 'Republican', 'na', 'neu', 'neu', 'na', 'neu', 'neu', 'na', 'neu', 'neu', 'neu', 'na', 'neu', 'neu', 'neu', 'neu', 'neu', 'na', 'na', 'neu', 'Democratic', 'neu', 'na', 'neu', 'na', 'neu', 'Republican', 'Republican', 'na', 'na', 'na', 'na', 'na', 'na', 'neu', 'neu', 'neu', 'na', 'na', 'na', 'Republican', 'na', 'na', 'Republican', 'neu', 'na', 'na', 'neu', 'neu', 'na', 'na', 'na', 'na', 'na', 'Republican', 'na', 'na', 'na', 'neu', 'neu', 'na', 'neu', 'neu', 'neu', 'na', 'na', 'Republican', 'na', 'na', 'na', 'na', 'neu', 'neu', 'na', 'neu', 'na', 'neu', 'neu', 'neu', 'neu', 'na', 'neu', 'na', 'neu', 'na', 'na', 'neu', 'na', 'Democratic', 'na', 'neu', 'na', 'neu', 'neu', 'neu', 'neu', 'neu', 'na', 'neu', 'na', 'na', 'neu', 'na', 'neu', 'na', 'na', 'na', 'na', 'neu', 'na', 'na', 'na', 'na', 'neu', 'na', 'neu', 'na', 'neu', 'na', 'neu', 'na', 'neu', 'neu', 'neu', 'neu', 'neu', 'neu', 'na', 'neu', 'neu', 'na', 'na', 'na', 'neu', 'na', 'neu', 'na', 'na', 'neu', 'Democratic', 'na', 'neu', 'Republican', 'na', 'neu', 'neu', 'neu', 'neu', 'neu', 'na', 'neu', 'na', 'neu', 'na', 'na', 'neu', 'neu', 'neu', 'neu', 'Democratic', 'na', 'na', 'na', 'na', 'neu', 'neu', 'neu', 'na', 'na', 'neu', 'na', 'na', 'neu', 'na', 'neu', 'neu', 'neu', 'na', 'na', 'na', 'Democratic', 'neu', 'na', 'na', 'neu', 'Democratic', 'na', 'na', 'na', 'na', 'neu', 'na', 'na', 'neu', 'Republican', 'na', 'Democratic', 'na', 'na', 'neu', 'na', 'na', 'neu', 'neu', 'na', 'na', 'na', 'na', 'na', 'Republican', 'na', 'na', 'na', 'na', 'Republican', 'neu', 'neu', 'neu', 'na', 'neu', 'na', 'neu', 'na', 'neu', 'na', 'neu', 'na', 'neu', 'neu', 'neu', 'Democratic', 'na', 'na', 'na', 'na', 'na', 'na', 'neu', 'neu', 'neu', 'na', 'neu', 'neu', 'na', 'neu', 'na', 'na', 'neu', 'na', 'na', 'neu', 'na', 'neu', 'na', 'neu', 'na', 'na', 'na', 'neu', 'na', 'neu', 'neu', 'neu', 'na', 'neu', 'neu', 'neu', 'na', 'na', 'na', 'na', 'Democratic', 'na', 'na', 'neu', 'na', 'neu', 'neu', 'neu', 'neu', 'na', 'na', 'na', 'Democratic', 'Democratic', 'neu', 'neu', 'neu', 'na', 'na', 'neu', 'neu', 'na', 'na', 'na', 'neu', 'na', 'na', 'na', 'na', 'neu', 'na', 'na', 'neu', 'Democratic', 'Democratic', 'na', 'neu', 'na', 'neu', 'na', 'neu', 'na', 'neu', 'neu', 'na', 'neu', 'neu', 'neu', 'na', 'na', 'na', 'na', 'na', 'Democratic', 'na', 'neu', 'na', 'na', 'neu', 'na', 'na', 'na', 'na', 'neu', 'neu', 'neu', 'neu', 'Democratic', 'neu', 'na', 'na', 'na', 'neu', 'na', 'na', 'na', 'na', 'neu', 'neu', 'neu', 'na', 'neu', 'neu', 'na', 'neu', 'na', 'neu', 'neu', 'na', 'na', 'na', 'na', 'Democratic', 'na', 'neu', 'neu', 'neu', 'neu', 'neu', 'Republican', 'na', 'na', 'neu', 'neu', 'na', 'neu', 'Democratic', 'neu', 'neu', 'Democratic', 'na', 'na', 'na', 'na', 'neu', 'na', 'na', 'neu', 'neu', 'na', 'na', 'na', 'neu', 'na', 'na', 'na', 'neu', 'neu', 'neu', 'neu', 'neu', 'neu', 'neu', 'neu', 'neu', 'na', 'neu', 'na', 'na', 'na', 'na', 'na', 'neu', 'neu', 'na', 'na', 'na', 'neu', 'na', 'neu', 'neu', 'na', 'neu', 'neu', 'neu', 'neu', 'neu', 'na', 'na', 'na', 'neu', 'neu', 'neu', 'na', 'neu', 'na', 'na', 'na', 'na', 'neu', 'neu', 'neu', 'neu', 'neu', 'na', 'na', 'na', 'na', 'na', 'na', 'neu', 'Democratic', 'neu', 'neu', 'na', 'neu', 'neu', 'na', 'Democratic', 'neu', 'na', 'na', 'na', 'neu', 'na', 'na', 'na', 'Democratic', 'na', 'na', 'na', 'neu', 'Democratic', 'neu', 'na', 'neu', 'neu', 'na', 'neu', 'neu', 'neu', 'neu', 'na', 'neu', 'na', 'neu', 'na', 'na', 'neu', 'na', 'neu', 'na', 'na', 'na', 'na', 'neu', 'na', 'neu', 'neu', 'na', 'na', 'neu', 'neu', 'neu', 'na', 'Democratic', 'na', 'na', 'na', 'na', 'na', 'neu', 'na', 'neu', 'na', 'na', 'na', 'neu', 'neu', 'neu', 'na', 'na', 'neu', 'Republican', 'na', 'neu', 'na', 'Republican', 'neu', 'na', 'na', 'na', 'Democratic', 'neu', 'neu', 'neu', 'Democratic', 'neu', 'neu', 'na', 'neu', 'neu', 'na', 'na', 'na', 'neu', 'na', 'na', 'neu', 'neu', 'neu', 'na', 'neu', 'na', 'na', 'na', 'na', 'na', 'neu', 'neu', 'neu', 'na', 'Democratic', 'na', 'neu', 'na', 'na', 'na', 'na', 'na', 'neu', 'na', 'na', 'na', 'neu', 'neu', 'neu', 'neu', 'neu', 'na', 'na', 'na', 'Republican', 'Democratic', 'na', 'neu', 'neu', 'na', 'na', 'neu', 'Republican', 'na', 'neu', 'na', 'neu', 'Republican', 'na', 'neu', 'na', 'na', 'na', 'na', 'na', 'na', 'na', 'na', 'neu', 'na', 'na', 'na', 'neu', 'neu', 'neu', 'na', 'neu', 'neu', 'neu', 'na', 'na', 'na', 'na', 'neu', 'neu', 'na', 'na', 'na', 'na', 'neu', 'neu', 'neu', 'na', 'neu', 'na', 'na', 'na', 'neu', 'na', 'na', 'na', 'na', 'neu', 'neu', 'neu', 'na', 'neu', 'na', 'neu', 'na', 'na', 'neu', 'na', 'na', 'neu', 'neu', 'na', 'neu', 'na', 'neu', 'na', 'neu', 'na', 'neu', 'neu', 'na', 'na', 'neu', 'na', 'Democratic', 'Republican', 'neu', 'na', 'na', 'neu', 'neu', 'neu', 'na', 'na', 'na', 'neu', 'neu', 'na', 'na', 'na', 'na', 'na', 'neu', 'neu', 'neu', 'na', 'na', 'na', 'na', 'neu', 'neu', 'neu', 'Democratic', 'neu', 'neu', 'na', 'na', 'na', 'neu', 'neu', 'na', 'neu', 'neu', 'neu', 'Republican', 'neu', 'neu', 'na', 'neu', 'na', 'na', 'na', 'na', 'na', 'neu', 'na', 'Democratic', 'Democratic', 'na', 'na', 'neu', 'neu', 'neu', 'neu', 'na', 'neu', 'neu', 'neu', 'neu', 'na', 'na', 'na', 'na', 'na', 'na', 'neu', 'neu', 'na', 'na', 'neu', 'na', 'na', 'na', 'neu', 'na', 'neu', 'na', 'na', 'na', 'neu', 'na', 'neu', 'na', 'neu', 'neu', 'na', 'na', 'na', 'na', 'neu', 'na', 'neu', 'neu', 'neu', 'neu', 'neu', 'na', 'neu', 'na', 'neu', 'na', 'na', 'neu', 'na', 'neu', 'na', 'na', 'na', 'na', 'neu', 'na', 'na', 'neu', 'neu', 'neu', 'na', 'neu', 'na', 'neu', 'neu', 'na', 'neu', 'na', 'na', 'neu', 'neu', 'na', 'neu', 'na', 'neu', 'neu', 'na', 'na', 'na', 'na', 'na', 'na', 'neu', 'neu', 'na', 'na', 'na', 'na', 'neu', 'na', 'neu', 'neu', 'neu', 'na', 'na', 'na', 'neu', 'neu', 'neu', 'neu', 'neu', 'neu', 'neu', 'na', 'na', 'neu', 'neu', 'na', 'neu', 'neu', 'neu', 'neu', 'na', 'na', 'na', 'neu', 'neu', 'neu', 'neu', 'neu', 'neu', 'na', 'neu', 'na', 'na', 'neu', 'na', 'neu', 'neu', 'neu', 'neu', 'neu', 'na', 'na', 'neu', 'na', 'neu', 'na', 'na', 'na', 'na', 'na', 'neu', 'neu', 'neu', 'neu', 'Democratic', 'na', 'Republican', 'na', 'neu', 'na', 'na', 'na', 'Democratic', 'na', 'na', 'neu', 'na', 'neu', 'na', 'na', 'na', 'neu', 'na', 'neu', 'neu', 'neu', 'na', 'na', 'neu', 'na', 'neu', 'na', 'na', 'na', 'neu', 'Republican', 'neu', 'neu', 'neu', 'neu', 'na', 'neu', 'na', 'na', 'na', 'na', 'na', 'na', 'neu', 'neu', 'na', 'neu', 'neu', 'na', 'na', 'neu', 'na', 'neu', 'neu', 'na', 'Democratic', 'neu', 'na', 'neu', 'neu', 'na', 'na', 'neu', 'na', 'na', 'na', 'na', 'neu', 'na', 'neu', 'na', 'neu', 'neu', 'neu', 'neu', 'neu', 'neu', 'na', 'neu', 'na', 'na', 'na', 'na', 'na', 'neu', 'neu', 'neu', 'neu', 'neu', 'na', 'neu', 'na', 'na', 'na', 'na', 'na', 'neu', 'neu', 'na', 'neu', 'neu', 'na', 'neu', 'na', 'neu', 'neu', 'neu', 'na', 'neu', 'na', 'neu', 'neu', 'neu', 'na', 'na', 'neu', 'na', 'na', 'neu', 'neu', 'neu', 'neu', 'neu', 'na', 'neu', 'na', 'na', 'na', 'na', 'na', 'na', 'na', 'neu', 'neu', 'na', 'neu', 'Democratic', 'na', 'na', 'neu', 'na', 'neu', 'Democratic', 'na', 'neu', 'neu', 'na', 'Democratic', 'neu', 'Democratic', 'neu', 'neu', 'na', 'neu', 'neu', 'Democratic', 'neu', 'neu', 'neu', 'na', 'neu', 'neu', 'na', 'Democratic', 'na', 'neu', 'neu', 'neu', 'neu', 'na', 'neu', 'neu', 'na', 'neu', 'na', 'na', 'neu', 'na', 'na', 'Democratic', 'na', 'neu', 'Republican', 'na', 'na', 'neu', 'na', 'na', 'na', 'na', 'neu', 'neu', 'neu', 'neu', 'neu', 'na', 'na', 'neu', 'na', 'na', 'na', 'na', 'na', 'na', 'neu', 'na', 'na', 'neu', 'neu', 'na', 'neu', 'na', 'na', 'neu', 'na', 'na', 'neu', 'na', 'neu', 'Republican', 'neu', 'Republican', 'neu', 'neu', 'na', 'na', 'neu', 'na', 'neu', 'na', 'na', 'neu', 'na', 'neu', 'na', 'na', 'na', 'na', 'neu', 'neu', 'na', 'na', 'neu', 'neu', 'na', 'na', 'na', 'na', 'neu', 'neu', 'Republican', 'na', 'na', 'neu', 'neu', 'na', 'na', 'na', 'neu', 'na', 'na', 'neu', 'neu', 'na', 'neu', 'neu', 'Democratic', 'neu', 'na', 'Democratic', 'neu', 'neu', 'na', 'Republican', 'neu', 'neu', 'na', 'na', 'na', 'na', 'na', 'na', 'neu', 'na', 'neu', 'na', 'neu', 'na', 'na', 'na', 'na', 'na', 'na', 'Democratic', 'na', 'neu', 'neu', 'neu', 'na', 'na', 'neu', 'neu', 'na', 'na', 'neu', 'na', 'neu', 'na', 'neu', 'na', 'na', 'neu', 'neu', 'neu', 'neu', 'neu', 'na', 'neu', 'na', 'na', 'neu', 'na', 'neu', 'na', 'neu', 'neu', 'na', 'neu', 'na', 'na', 'na', 'Democratic', 'na', 'neu', 'neu', 'neu', 'na', 'neu', 'neu', 'neu', 'neu', 'neu', 'na', 'neu', 'na', 'neu', 'na', 'na', 'na', 'neu', 'neu', 'na', 'na', 'neu', 'na', 'Republican', 'neu', 'na', 'Republican', 'neu', 'na', 'neu', 'na', 'na', 'na', 'neu', 'neu', 'neu', 'na', 'na', 'na', 'na', 'na', 'neu', 'na', 'neu', 'na', 'neu', 'na', 'na', 'na', 'na', 'neu', 'na', 'na', 'neu', 'na', 'na', 'na', 'na', 'neu', 'na', 'neu', 'na', 'na', 'na', 'neu', 'neu', 'na', 'na', 'neu', 'neu', 'na', 'neu', 'neu', 'na', 'neu', 'neu', 'neu', 'na', 'na', 'na', 'Republican', 'na', 'na', 'na', 'Democratic', 'na', 'Democratic', 'na', 'neu', 'neu', 'neu', 'neu', 'neu', 'neu', 'na', 'Republican', 'neu', 'neu', 'na', 'na', 'neu', 'neu', 'na', 'neu', 'neu', 'neu', 'neu', 'na', 'na', 'neu', 'neu', 'Democratic', 'neu', 'na', 'neu', 'neu', 'neu', 'na', 'neu', 'neu', 'neu', 'neu', 'na', 'na', 'neu', 'Republican', 'Democratic', 'neu', 'na', 'neu', 'na', 'na', 'na', 'na', 'na', 'neu', 'na', 'na', 'na', 'Republican', 'neu', 'na', 'na', 'na', 'na', 'na', 'na', 'neu', 'neu', 'neu', 'na', 'na', 'neu', 'na', 'na', 'neu', 'neu', 'neu', 'na', 'neu', 'na', 'na', 'neu', 'neu', 'neu', 'na', 'na', 'na', 'neu', 'na', 'na', 'na', 'neu', 'neu', 'neu', 'na', 'na', 'na', 'neu', 'na', 'neu', 'neu', 'neu', 'na', 'neu', 'neu', 'na', 'neu', 'na', 'na', 'na', 'neu', 'na', 'na', 'na', 'na', 'neu', 'na', 'na', 'na', 'neu', 'neu', 'neu', 'na', 'neu', 'na', 'neu', 'neu', 'na', 'na', 'neu', 'neu', 'neu', 'Democratic', 'na', 'neu', 'na', 'neu', 'neu', 'na', 'Democratic', 'Democratic', 'na', 'neu', 'neu', 'neu', 'na', 'neu', 'na', 'neu', 'na', 'Republican', 'neu', 'neu', 'neu', 'na', 'neu', 'na', 'neu', 'neu', 'neu', 'na', 'Republican', 'na', 'neu', 'neu', 'na', 'na', 'na', 'neu', 'neu', 'na', 'neu', 'Republican', 'neu', 'na', 'Democratic', 'na', 'neu', 'na', 'na', 'na', 'na', 'na', 'neu', 'neu', 'na', 'na', 'na', 'na', 'neu', 'na', 'neu', 'neu', 'na', 'na', 'neu', 'na', 'neu', 'neu', 'neu', 'na', 'na', 'neu', 'Democratic', 'na', 'na', 'neu', 'na', 'Democratic', 'neu', 'na', 'na', 'neu', 'neu', 'neu', 'neu', 'neu', 'neu', 'na', 'neu', 'neu', 'na', 'na', 'na', 'neu', 'neu', 'Republican', 'neu', 'na', 'na', 'Republican', 'na', 'na', 'na', 'neu', 'neu', 'na', 'neu', 'neu', 'na', 'neu', 'na', 'neu', 'neu', 'na', 'na', 'na', 'neu', 'na', 'na', 'neu', 'neu', 'na', 'neu', 'na', 'neu', 'neu', 'na', 'neu', 'neu', 'neu', 'neu', 'na', 'neu', 'na', 'neu', 'na', 'na', 'neu', 'na', 'na', 'neu', 'na', 'neu', 'na', 'na', 'neu', 'neu', 'neu', 'na', 'neu', 'neu', 'na', 'na', 'na', 'na', 'na', 'na', 'neu', 'neu', 'neu', 'neu', 'neu', 'na', 'na', 'na', 'neu', 'Republican', 'neu', 'neu', 'na', 'na', 'neu', 'na', 'Republican', 'neu', 'na', 'Democratic', 'neu', 'neu', 'na', 'neu', 'neu', 'na', 'na', 'na', 'neu', 'neu', 'neu', 'neu', 'na', 'na', 'neu', 'neu', 'na', 'Republican', 'na', 'na', 'na', 'neu', 'neu', 'neu', 'na', 'na', 'na', 'neu', 'na', 'neu', 'neu', 'neu', 'na', 'na', 'neu', 'na', 'na', 'na', 'na', 'neu', 'na', 'na', 'na', 'na', 'neu', 'na', 'na', 'neu', 'neu', 'na', 'Republican', 'neu', 'na', 'na', 'neu', 'neu', 'Democratic', 'neu', 'na', 'na', 'na', 'neu', 'neu', 'neu', 'na', 'na', 'na', 'neu', 'na', 'na', 'na', 'Democratic', 'Republican', 'neu', 'na', 'na', 'neu', 'Democratic', 'na', 'na', 'neu', 'neu', 'na', 'neu', 'na', 'neu', 'na', 'na', 'na', 'neu', 'neu', 'neu', 'na', 'na', 'na', 'neu', 'neu', 'neu', 'na', 'Democratic', 'Democratic', 'na', 'neu', 'na', 'neu', 'neu', 'na', 'neu', 'na', 'neu', 'na', 'neu', 'neu', 'neu', 'na', 'na', 'na', 'na', 'neu', 'neu', 'Republican', 'na', 'neu', 'neu', 'neu', 'neu', 'neu', 'na', 'neu', 'na', 'na', 'na', 'neu', 'na', 'na', 'neu', 'na', 'neu', 'neu', 'na', 'neu', 'na', 'na', 'neu', 'neu', 'na', 'neu', 'neu', 'neu', 'neu', 'na', 'na', 'neu', 'neu', 'na', 'neu', 'na', 'neu', 'na', 'na', 'neu', 'na', 'neu', 'neu', 'neu', 'na', 'na', 'na', 'neu', 'neu', 'neu', 'neu', 'na', 'na', 'neu', 'na', 'neu', 'na', 'neu', 'neu', 'neu', 'na', 'na', 'neu', 'na', 'neu', 'na', 'na', 'neu', 'neu', 'na', 'na', 'na', 'na', 'na', 'na', 'na', 'neu', 'neu', 'neu', 'neu', 'neu', 'na', 'na', 'na', 'na', 'neu', 'na', 'na', 'na', 'na', 'neu', 'neu', 'na', 'na', 'na', 'na', 'na', 'na', 'Democratic', 'na', 'neu', 'neu', 'Republican', 'neu', 'na', 'Republican', 'neu', 'neu', 'neu', 'na', 'neu', 'na', 'na', 'neu', 'na', 'na', 'na', 'na', 'neu', 'neu', 'neu', 'na', 'neu', 'Republican', 'neu', 'na', 'na', 'na', 'neu', 'na', 'na', 'Democratic', 'neu', 'neu', 'neu', 'na', 'neu', 'na', 'neu', 'na', 'Democratic', 'neu', 'na', 'na', 'na', 'neu', 'Republican', 'Republican', 'neu', 'neu', 'na', 'na', 'na', 'na', 'na', 'neu', 'neu', 'neu', 'neu', 'neu', 'neu', 'Democratic', 'na', 'neu', 'neu', 'na', 'neu', 'neu', 'neu', 'neu', 'neu', 'neu', 'na', 'neu', 'neu', 'na', 'neu', 'neu', 'Democratic', 'neu', 'na', 'neu', 'neu', 'na', 'Republican', 'Democratic', 'na', 'neu', 'na', 'na', 'na', 'neu', 'neu', 'na', 'neu', 'neu', 'na', 'na', 'na', 'neu', 'na', 'Republican', 'na', 'na', 'na', 'na', 'neu', 'na', 'neu', 'na', 'na', 'na', 'Democratic', 'na', 'neu', 'na', 'neu', 'neu', 'neu', 'neu', 'na', 'neu', 'na', 'na', 'na', 'neu', 'na', 'neu', 'neu', 'Democratic', 'neu', 'na', 'neu', 'neu', 'neu', 'Republican', 'neu', 'neu', 'neu', 'Republican', 'neu', 'na', 'neu', 'na', 'neu', 'neu', 'na', 'neu', 'na', 'na', 'neu', 'na', 'neu', 'na', 'na', 'na', 'neu', 'na', 'na', 'neu', 'na', 'neu', 'neu', 'neu', 'na', 'neu', 'neu', 'na', 'neu', 'na', 'na', 'neu', 'na', 'neu', 'na', 'neu', 'na', 'neu', 'na', 'neu', 'na', 'na', 'neu', 'na', 'neu', 'neu', 'na', 'na', 'na', 'Republican', 'na', 'na', 'neu', 'neu', 'na', 'na', 'neu', 'neu', 'neu', 'neu', 'na', 'neu', 'na', 'neu', 'neu', 'na', 'neu', 'neu', 'na', 'neu', 'neu', 'na', 'neu', 'na', 'neu', 'na', 'na', 'neu', 'neu', 'neu', 'neu', 'neu', 'na', 'neu', 'na', 'na', 'neu', 'na', 'neu', 'neu', 'Republican', 'na', 'neu', 'na', 'na', 'na', 'na', 'neu', 'neu', 'na', 'na', 'neu', 'na', 'na', 'na', 'na', 'neu', 'neu', 'Republican', 'neu', 'neu', 'neu', 'neu', 'na', 'na', 'neu', 'neu', 'neu', 'na', 'na', 'Democratic', 'na', 'na', 'neu', 'na', 'na', 'neu', 'na', 'na', 'na', 'na', 'neu', 'neu', 'na', 'na', 'neu', 'neu', 'na', 'na', 'na', 'na', 'na', 'na', 'Republican', 'neu', 'neu', 'neu', 'na', 'neu', 'Democratic', 'neu', 'neu', 'na', 'neu', 'na', 'na', 'neu', 'na', 'na', 'neu', 'neu', 'neu', 'na', 'neu', 'neu', 'neu', 'neu', 'Democratic', 'neu', 'neu', 'neu', 'na', 'na', 'na', 'Republican', 'na', 'neu', 'Democratic', 'neu', 'neu', 'na', 'na', 'neu', 'na', 'na', 'neu', 'neu', 'neu', 'Democratic', 'na', 'na', 'na', 'neu', 'neu', 'na', 'neu', 'neu', 'neu', 'na', 'na', 'na', 'na', 'Republican', 'neu', 'na', 'neu', 'na', 'neu', 'na', 'neu', 'neu', 'neu', 'neu', 'neu', 'neu', 'neu', 'neu', 'neu', 'na', 'na', 'na', 'neu', 'neu', 'na', 'neu', 'na', 'na', 'Republican', 'na', 'neu', 'na', 'na', 'neu', 'neu', 'neu', 'na', 'neu', 'neu', 'neu', 'neu', 'na', 'Democratic', 'na', 'na', 'neu', 'na', 'na', 'neu', 'neu', 'neu', 'na', 'na', 'na', 'Republican', 'Democratic', 'na', 'neu', 'na', 'na', 'neu', 'na', 'na', 'na', 'na', 'na', 'neu', 'neu', 'neu', 'na', 'neu', 'neu', 'na', 'neu', 'neu', 'neu', 'na', 'neu', 'neu', 'na', 'na', 'neu', 'na', 'Democratic', 'na', 'neu', 'Democratic', 'neu', 'neu', 'neu', 'na', 'na', 'neu', 'neu', 'na', 'na', 'neu', 'Republican', 'neu', 'na', 'neu', 'neu', 'neu', 'neu', 'na', 'na', 'na', 'neu', 'na', 'na', 'na', 'neu', 'na', 'neu', 'na', 'neu', 'neu', 'na', 'na', 'na', 'neu', 'na', 'neu', 'neu', 'na', 'na', 'na', 'Democratic', 'na', 'neu', 'neu', 'Republican', 'na', 'na', 'na', 'neu', 'na', 'na', 'neu', 'na', 'na', 'na', 'na', 'na', 'na', 'na', 'na', 'na', 'na', 'neu', 'na', 'Democratic', 'na', 'neu', 'na', 'neu', 'na', 'neu', 'na', 'neu', 'neu', 'na', 'na', 'na', 'neu', 'neu', 'neu', 'na', 'na', 'na', 'na', 'na', 'na', 'neu', 'neu', 'neu', 'neu', 'na', 'neu', 'na', 'neu', 'na', 'neu', 'na', 'neu', 'neu', 'na', 'na', 'na', 'na', 'neu', 'na', 'na', 'na', 'neu', 'neu', 'Democratic', 'na', 'na', 'na', 'neu', 'neu', 'neu', 'na', 'na', 'Democratic', 'na', 'neu', 'na', 'neu', 'na', 'neu', 'neu', 'Democratic', 'neu', 'neu', 'na', 'neu', 'neu', 'na', 'neu', 'neu', 'Republican', 'neu', 'na', 'neu', 'Democratic', 'na', 'neu', 'na', 'neu', 'neu', 'na', 'na', 'na', 'na', 'na', 'Republican', 'neu', 'na', 'na', 'na', 'neu', 'na', 'neu', 'Democratic', 'na', 'Republican', 'neu', 'na', 'na', 'na', 'na', 'neu', 'na', 'na', 'na', 'neu', 'na', 'neu', 'neu', 'Republican', 'na', 'na', 'neu', 'neu', 'na', 'neu', 'na', 'na', 'na', 'na', 'na', 'na', 'na', 'na', 'na', 'neu', 'neu', 'na', 'neu', 'na', 'neu', 'neu', 'na', 'neu', 'neu', 'na', 'na', 'na', 'na', 'na', 'Democratic', 'na', 'neu', 'neu', 'neu', 'na', 'na', 'neu', 'na', 'neu', 'neu', 'na', 'na', 'neu', 'na', 'neu', 'na', 'Democratic', 'na', 'na', 'neu', 'neu', 'neu', 'na', 'na', 'neu', 'neu', 'neu', 'neu', 'neu', 'na', 'na', 'na', 'na', 'na', 'neu', 'Republican', 'neu', 'neu', 'neu', 'na', 'na', 'neu', 'na', 'na', 'neu', 'Democratic', 'neu', 'na', 'na', 'neu', 'neu', 'na', 'neu', 'na', 'neu', 'na', 'Republican', 'na', 'na', 'na', 'neu', 'na', 'neu', 'neu', 'na', 'na', 'na', 'neu', 'na', 'neu', 'neu', 'na', 'neu', 'neu', 'na', 'na', 'neu', 'Democratic', 'na', 'neu', 'neu', 'neu', 'neu', 'na', 'na', 'na', 'neu', 'na', 'na', 'Democratic', 'neu', 'na', 'neu', 'na', 'na', 'na', 'na', 'na', 'neu', 'neu', 'na', 'neu', 'na', 'na', 'neu', 'neu', 'na', 'neu', 'na', 'Republican', 'neu', 'na', 'na', 'na', 'neu', 'neu', 'na', 'na', 'neu', 'na', 'na', 'na', 'neu', 'neu', 'neu', 'neu', 'neu', 'neu', 'na', 'na', 'neu', 'neu', 'na', 'neu', 'neu', 'neu', 'neu', 'neu', 'na', 'neu', 'neu', 'neu', 'na', 'neu', 'neu', 'neu', 'Democratic', 'neu', 'neu', 'na', 'na', 'na', 'neu', 'na', 'na', 'neu', 'na', 'na', 'neu', 'na', 'na', 'neu', 'na', 'na', 'na', 'neu', 'neu', 'na', 'neu', 'na', 'na', 'neu', 'na', 'na', 'neu', 'na', 'na', 'neu', 'na', 'Democratic', 'na', 'na', 'na', 'na', 'neu', 'neu', 'neu', 'na', 'na', 'na', 'neu', 'neu', 'na', 'neu', 'neu', 'na', 'neu', 'Democratic', 'Democratic', 'neu', 'na', 'neu', 'Democratic', 'neu', 'Republican', 'na', 'neu', 'neu', 'na', 'na', 'neu', 'na', 'neu', 'na', 'neu', 'neu', 'na', 'na', 'neu', 'na', 'na', 'neu', 'neu', 'na', 'neu', 'na', 'na', 'neu', 'na', 'na', 'na', 'neu', 'neu', 'na', 'neu', 'na', 'neu', 'na', 'neu', 'na', 'neu', 'na', 'na', 'neu', 'Republican', 'na', 'neu', 'na', 'neu', 'na', 'na', 'na', 'neu', 'neu', 'neu', 'neu', 'na', 'na', 'na', 'neu', 'na', 'neu', 'Republican', 'na', 'neu', 'na', 'Republican', 'neu', 'neu', 'na', 'na', 'neu', 'neu', 'na', 'na', 'na', 'na', 'Republican', 'Republican', 'na', 'neu', 'neu', 'neu', 'neu', 'neu', 'na', 'neu', 'neu', 'neu', 'neu', 'Republican', 'neu', 'Republican', 'na', 'na', 'neu', 'neu', 'neu', 'na', 'na', 'neu', 'Republican', 'na', 'na', 'neu', 'Republican', 'neu', 'na', 'na', 'na', 'na', 'neu', 'na', 'na', 'na', 'na', 'na', 'neu', 'neu', 'na', 'na', 'neu', 'neu', 'neu', 'na', 'neu', 'na', 'neu', 'na', 'na', 'na', 'na', 'na', 'Democratic', 'neu', 'na', 'na', 'neu', 'neu', 'na', 'neu', 'na', 'neu', 'neu', 'neu', 'na', 'Democratic', 'neu', 'neu', 'na', 'neu', 'na', 'na', 'na', 'neu', 'na', 'na', 'neu', 'na', 'neu', 'neu', 'na', 'neu', 'na', 'neu', 'neu', 'neu', 'neu', 'na', 'neu', 'neu', 'na', 'neu', 'na', 'neu', 'na', 'na', 'na', 'neu', 'neu', 'neu', 'na', 'neu', 'neu', 'neu', 'neu', 'Democratic', 'na', 'neu', 'neu', 'neu', 'neu', 'neu', 'na', 'neu', 'neu', 'neu', 'neu', 'neu', 'na', 'neu', 'neu', 'na', 'Democratic', 'neu', 'neu', 'na', 'na', 'na', 'neu', 'na', 'neu', 'neu', 'neu', 'na', 'na', 'neu', 'na', 'na', 'neu', 'neu', 'neu', 'neu', 'neu', 'na', 'na', 'na', 'Republican', 'neu', 'na', 'neu', 'na', 'na', 'neu', 'na', 'na', 'neu', 'neu', 'neu', 'Republican', 'neu', 'neu', 'na', 'Republican', 'na', 'neu', 'neu', 'na', 'na', 'na', 'Democratic', 'Democratic', 'neu', 'na', 'na', 'neu', 'neu', 'na', 'neu', 'neu', 'na', 'na', 'neu', 'neu', 'neu', 'neu', 'na', 'na', 'neu', 'neu', 'neu', 'neu', 'neu', 'na', 'neu', 'neu', 'neu', 'neu', 'neu', 'neu', 'neu', 'neu', 'neu', 'Democratic', 'neu', 'neu', 'neu', 'na', 'na', 'neu', 'neu', 'neu', 'neu', 'na', 'na', 'na', 'neu', 'na', 'na', 'na', 'neu', 'na', 'neu', 'na', 'neu', 'neu', 'Democratic', 'neu', 'Democratic', 'na', 'na', 'na', 'neu', 'neu', 'neu', 'na', 'na', 'na', 'Republican', 'neu', 'na', 'Democratic', 'neu', 'Democratic', 'neu', 'na', 'neu', 'neu', 'neu', 'neu', 'neu', 'na', 'neu', 'neu', 'neu', 'neu', 'neu', 'neu', 'na', 'na', 'na', 'neu', 'na', 'neu', 'na', 'na', 'neu', 'neu', 'neu', 'na', 'na', 'na', 'na', 'neu', 'neu', 'neu', 'neu', 'na', 'neu', 'neu', 'neu', 'neu', 'neu', 'neu', 'na', 'na', 'neu', 'neu', 'neu', 'na', 'na', 'na', 'na', 'na', 'na', 'neu', 'neu', 'neu', 'na', 'neu', 'neu', 'na', 'neu', 'na', 'na', 'na', 'neu', 'Democratic', 'na', 'na', 'neu', 'neu', 'na', 'na', 'neu', 'neu', 'Democratic', 'na', 'na', 'na', 'na', 'neu', 'na', 'neu', 'na', 'neu', 'neu', 'na', 'na', 'na', 'neu', 'neu', 'na', 'neu', 'neu', 'neu', 'neu', 'Republican', 'neu', 'na', 'neu', 'na', 'na', 'neu', 'neu', 'neu', 'neu', 'neu', 'neu', 'na', 'na', 'na', 'na', 'na', 'Republican', 'neu', 'na', 'na', 'neu', 'neu', 'na', 'na', 'na', 'neu', 'na', 'na', 'neu', 'neu', 'neu', 'Republican', 'na', 'na', 'Democratic', 'na', 'na', 'neu', 'neu', 'na', 'na', 'na', 'na', 'Democratic', 'na', 'na', 'na', 'neu', 'neu', 'neu', 'na', 'neu', 'neu', 'na', 'neu', 'neu', 'neu', 'neu', 'na', 'na', 'na', 'na', 'neu', 'neu', 'na', 'neu', 'neu', 'na', 'na', 'neu', 'na', 'neu', 'na', 'na', 'na', 'neu', 'neu', 'na', 'neu', 'Democratic', 'na', 'na', 'na', 'na', 'na', 'na', 'na', 'na', 'neu', 'Republican', 'na', 'neu', 'neu', 'neu', 'na', 'na', 'neu', 'neu', 'na', 'neu', 'na', 'na', 'neu', 'na', 'na', 'neu', 'na', 'na', 'neu', 'na', 'na', 'neu', 'na', 'neu', 'na', 'na', 'na', 'na', 'na', 'neu', 'na', 'na', 'neu', 'neu', 'neu', 'na', 'neu', 'neu', 'na', 'na', 'neu', 'na', 'na', 'na', 'neu', 'na', 'Democratic', 'neu', 'neu', 'na', 'neu', 'na', 'na', 'Republican', 'na', 'na', 'neu', 'na', 'neu', 'na', 'na', 'na', 'Republican', 'na', 'neu', 'neu', 'neu', 'na', 'neu', 'na', 'neu', 'na', 'neu', 'na', 'neu', 'neu', 'na', 'Democratic', 'neu', 'na', 'neu', 'neu', 'na', 'na', 'neu', 'neu', 'neu', 'neu', 'neu', 'neu', 'na', 'na', 'na', 'na', 'neu', 'na', 'neu', 'neu', 'neu', 'neu', 'neu', 'na', 'na', 'neu', 'neu', 'neu', 'neu', 'neu', 'na', 'neu', 'na', 'neu', 'neu', 'na', 'Democratic', 'neu', 'neu', 'neu', 'neu', 'neu', 'neu', 'neu', 'na', 'neu', 'na', 'Republican', 'na', 'na', 'Republican', 'neu', 'neu', 'na', 'na', 'na', 'na', 'neu', 'na', 'na', 'na', 'neu', 'neu', 'na', 'neu', 'na', 'na', 'neu', 'Democratic', 'neu', 'na', 'neu', 'neu', 'neu', 'na', 'neu', 'neu', 'na', 'neu', 'na', 'neu', 'na', 'na', 'na', 'Republican', 'neu', 'neu', 'na', 'na', 'na', 'neu', 'na', 'na', 'na', 'na', 'na', 'neu', 'neu', 'na', 'neu', 'na', 'na', 'neu', 'neu', 'neu', 'neu', 'na', 'neu', 'na', 'neu', 'na', 'na', 'neu', 'neu', 'na', 'na', 'neu', 'na', 'na', 'neu', 'neu', 'neu', 'neu', 'neu', 'na', 'neu', 'neu', 'neu', 'neu', 'Republican', 'na', 'neu', 'na', 'neu', 'na', 'na', 'na', 'neu', 'na', 'na', 'na', 'neu', 'neu', 'neu', 'Democratic', 'Republican', 'na', 'na', 'na', 'neu', 'na', 'neu', 'na', 'na', 'na', 'neu', 'na', 'neu', 'neu', 'neu', 'neu', 'Republican', 'neu', 'neu', 'na', 'na', 'na', 'na', 'neu', 'na', 'na', 'neu', 'na', 'na', 'na', 'na', 'na', 'na', 'neu', 'na', 'neu', 'Democratic', 'na', 'na', 'na', 'neu', 'Republican', 'neu', 'na', 'na', 'na', 'na', 'na', 'neu', 'neu', 'neu', 'neu', 'neu', 'na', 'neu', 'Republican', 'na', 'na', 'neu', 'na', 'na', 'neu', 'na', 'neu', 'neu', 'neu', 'na', 'neu', 'na', 'neu', 'neu', 'na', 'na', 'neu', 'na', 'neu', 'neu', 'neu', 'neu', 'na', 'na', 'Republican', 'neu', 'na', 'na', 'na', 'neu', 'na', 'na', 'na', 'neu', 'neu', 'neu', 'na', 'neu', 'na', 'na', 'na', 'na', 'neu', 'na', 'na', 'neu', 'na', 'neu', 'na', 'na', 'na', 'na', 'na', 'na', 'neu', 'na', 'na', 'neu', 'neu', 'na', 'na', 'na', 'neu', 'na', 'na', 'neu', 'na', 'neu', 'na', 'neu', 'neu', 'neu', 'neu', 'neu', 'neu', 'na', 'neu', 'na', 'na', 'neu', 'neu', 'neu', 'na', 'Democratic', 'neu', 'neu', 'neu', 'neu', 'na', 'Democratic', 'na', 'na', 'neu', 'neu', 'na', 'neu', 'neu', 'na', 'neu', 'neu', 'Democratic', 'na', 'na', 'neu', 'na', 'neu', 'neu', 'na', 'neu', 'neu', 'neu', 'na', 'neu', 'Republican', 'neu', 'Democratic', 'neu', 'na', 'neu', 'neu', 'neu', 'neu', 'neu', 'na', 'na', 'na', 'neu', 'neu', 'neu', 'na', 'neu', 'neu', 'na', 'na', 'na', 'na', 'na', 'neu', 'neu', 'na', 'neu', 'na', 'neu', 'na', 'na', 'na', 'neu', 'neu', 'na', 'neu', 'na', 'na', 'neu', 'neu', 'na', 'neu', 'neu', 'neu', 'Democratic', 'neu', 'neu', 'neu', 'na', 'na', 'na', 'neu', 'na', 'neu', 'neu', 'na', 'na', 'na', 'neu', 'na', 'na', 'neu', 'na', 'na', 'neu', 'neu', 'na', 'na', 'na', 'neu', 'na', 'neu', 'neu', 'na', 'neu', 'Democratic', 'na', 'neu', 'neu', 'Democratic', 'neu', 'na', 'neu', 'neu', 'neu', 'na', 'neu', 'na', 'neu', 'Republican', 'na', 'neu', 'neu', 'Democratic', 'na', 'neu', 'na', 'na', 'na', 'na', 'Republican', 'na', 'neu', 'na', 'neu', 'neu', 'neu', 'na', 'na', 'Democratic', 'neu', 'neu', 'neu', 'neu', 'neu', 'na', 'neu', 'neu', 'na', 'na', 'neu', 'neu', 'na', 'na', 'neu', 'na', 'neu', 'neu', 'na', 'na', 'na', 'na', 'neu', 'na', 'Democratic', 'Republican', 'Democratic', 'neu', 'neu', 'neu', 'neu', 'na', 'neu', 'na', 'na', 'neu', 'na', 'neu', 'na', 'neu', 'na', 'na', 'na', 'na', 'neu', 'Republican', 'Democratic', 'Republican', 'na', 'neu', 'neu', 'neu', 'na', 'neu', 'na', 'na', 'neu', 'Democratic', 'neu', 'Democratic', 'neu', 'na', 'neu', 'Republican', 'neu', 'Democratic', 'na', 'neu', 'na', 'na', 'neu', 'neu', 'neu', 'na', 'na', 'neu', 'na', 'neu', 'na', 'na', 'neu', 'Democratic', 'na', 'na', 'na', 'na', 'na', 'na', 'Democratic', 'na', 'Republican', 'na', 'na', 'na', 'na', 'na', 'Democratic', 'Republican', 'na', 'neu', 'na', 'neu', 'na', 'na', 'neu', 'na', 'neu', 'na', 'neu', 'na', 'na', 'na', 'neu', 'neu', 'neu', 'na', 'na', 'na', 'Democratic', 'na', 'Republican', 'na', 'neu', 'neu', 'neu', 'na', 'neu', 'na', 'na', 'na', 'neu', 'na', 'na', 'na', 'na', 'Democratic', 'na', 'neu', 'neu', 'na', 'na', 'na', 'na', 'neu', 'na', 'na', 'neu', 'na', 'na', 'neu', 'neu', 'na', 'na', 'na', 'neu', 'neu', 'na', 'na', 'na', 'na', 'na', 'neu', 'neu', 'na', 'neu', 'na', 'na', 'neu', 'na', 'neu', 'na', 'neu', 'neu', 'na', 'na', 'na', 'neu', 'na', 'neu', 'na', 'na', 'na', 'na', 'neu', 'neu', 'neu', 'neu', 'na', 'neu', 'na', 'na', 'neu', 'neu', 'na', 'neu', 'na', 'na', 'na', 'na', 'neu', 'na', 'neu', 'neu', 'neu', 'na', 'na', 'na', 'neu', 'neu', 'neu', 'na', 'na', 'neu', 'na', 'neu', 'na', 'Democratic', 'na', 'neu', 'na', 'neu', 'na', 'neu', 'neu', 'neu', 'neu', 'na', 'Democratic', 'na', 'na', 'Republican', 'na', 'na', 'na', 'neu', 'neu', 'na', 'neu', 'neu', 'neu', 'neu', 'na', 'neu', 'na', 'na', 'na', 'na', 'neu', 'neu', 'na', 'na', 'neu', 'neu', 'neu', 'na', 'na', 'neu', 'na', 'na', 'na', 'na', 'na', 'na', 'neu', 'Republican', 'neu', 'Republican', 'na', 'neu', 'neu', 'na', 'neu', 'Republican', 'na', 'na', 'na', 'na', 'na', 'neu', 'neu', 'neu', 'na', 'neu', 'neu', 'neu', 'na', 'neu', 'na', 'neu', 'na', 'na', 'neu', 'na', 'na', 'neu', 'neu', 'na', 'neu', 'neu', 'neu', 'na', 'na', 'neu', 'na', 'neu', 'na', 'neu', 'Democratic', 'na', 'Democratic', 'neu', 'neu', 'na', 'neu', 'na', 'na', 'neu', 'neu', 'na', 'neu', 'neu', 'neu', 'neu', 'na', 'na', 'neu', 'na', 'na', 'na', 'neu', 'neu', 'neu', 'Democratic', 'neu', 'na', 'na', 'na', 'na', 'na', 'neu', 'neu', 'neu', 'neu', 'na', 'neu', 'neu', 'na', 'neu', 'na', 'neu', 'na', 'na', 'neu', 'na', 'neu', 'Democratic', 'na', 'neu', 'neu', 'na', 'na', 'neu', 'neu', 'na', 'na', 'neu', 'na', 'na', 'na', 'neu', 'neu', 'na', 'na', 'neu', 'na', 'neu', 'na', 'na', 'na', 'neu', 'na', 'neu', 'na', 'na', 'neu', 'neu', 'Democratic', 'neu', 'na', 'neu', 'na', 'na', 'neu', 'neu', 'na', 'neu', 'neu', 'na', 'na', 'na', 'na', 'neu', 'na', 'na', 'na', 'na', 'neu', 'na', 'neu', 'Democratic', 'na', 'neu', 'neu', 'neu', 'neu', 'neu', 'na', 'neu', 'neu', 'Democratic', 'neu', 'na', 'na', 'na', 'neu', 'na', 'neu', 'na', 'na', 'na', 'Democratic', 'neu', 'na', 'na', 'na', 'neu', 'neu', 'neu', 'na', 'na', 'na', 'neu', 'neu', 'neu', 'na', 'neu', 'neu', 'na', 'neu', 'neu', 'na', 'na', 'neu', 'na', 'na', 'na', 'Democratic', 'neu', 'neu', 'neu', 'na', 'na', 'neu', 'neu', 'neu', 'na', 'na', 'neu', 'neu', 'neu', 'na', 'Republican', 'neu', 'neu', 'na', 'Republican', 'na', 'na', 'na', 'na', 'na', 'neu', 'neu', 'na', 'neu', 'na', 'neu', 'na', 'na', 'na', 'neu', 'na', 'neu', 'neu', 'neu', 'na', 'na', 'na', 'neu', 'na', 'neu', 'na', 'neu', 'na', 'neu', 'Republican', 'neu', 'na', 'neu', 'na', 'na', 'na', 'Democratic', 'Democratic', 'neu', 'neu', 'na', 'neu', 'neu', 'na', 'neu', 'na', 'neu', 'Democratic', 'Republican', 'na', 'neu', 'neu', 'na', 'na', 'neu', 'na', 'na', 'na', 'neu', 'na', 'na', 'neu', 'na', 'na', 'neu', 'na', 'na', 'neu', 'neu', 'neu', 'neu', 'na', 'na', 'na', 'neu', 'na', 'neu', 'na', 'na', 'neu', 'Democratic', 'na', 'neu', 'neu', 'na', 'Republican', 'na', 'na', 'neu', 'neu', 'na', 'Republican', 'na', 'neu', 'neu', 'na', 'neu', 'na', 'neu', 'na', 'na', 'na', 'na', 'neu', 'na', 'na', 'na', 'neu', 'na', 'na', 'na', 'na', 'na', 'na', 'neu', 'neu', 'neu', 'neu', 'na', 'na', 'na', 'neu', 'na', 'neu', 'na', 'neu', 'na', 'neu', 'na', 'na', 'neu', 'neu', 'Democratic', 'na', 'na', 'neu', 'na', 'neu', 'neu', 'na', 'na', 'na', 'neu', 'na', 'neu', 'neu', 'neu', 'neu', 'neu', 'na', 'na', 'na', 'na', 'na', 'neu', 'na', 'neu', 'Democratic', 'neu', 'neu', 'na', 'neu', 'neu', 'na', 'na', 'na', 'Republican', 'neu', 'na', 'neu', 'neu', 'neu', 'neu', 'Republican', 'na', 'neu', 'neu', 'na', 'na', 'na', 'na', 'na', 'neu', 'neu', 'neu', 'na', 'neu', 'na', 'na', 'neu', 'na', 'neu', 'neu', 'neu', 'neu', 'neu', 'na', 'neu', 'neu', 'na', 'neu', 'na', 'neu', 'Republican', 'na', 'neu', 'na', 'na', 'na', 'na', 'neu', 'na', 'neu', 'neu', 'neu', 'na', 'na', 'neu', 'neu', 'Democratic', 'neu', 'na', 'neu', 'na', 'neu', 'na', 'neu', 'neu', 'na', 'na', 'na', 'na', 'na', 'neu', 'Republican', 'neu', 'neu', 'neu', 'na', 'neu', 'na', 'neu', 'Republican', 'na', 'na', 'neu', 'na', 'na', 'Democratic', 'na', 'neu', 'na', 'na', 'na', 'na', 'na', 'neu', 'na', 'neu', 'na', 'na', 'neu', 'na', 'na', 'na', 'na', 'neu', 'na', 'na', 'na', 'Democratic', 'neu', 'na', 'neu', 'na', 'neu', 'Republican', 'na', 'na', 'neu', 'neu', 'na', 'na', 'na', 'na', 'na', 'na', 'Democratic', 'na', 'neu', 'neu', 'neu', 'na', 'neu', 'na', 'neu', 'neu', 'Republican', 'neu', 'na', 'na', 'neu', 'na', 'neu', 'na', 'neu', 'na', 'Democratic', 'neu', 'na', 'na', 'na', 'neu', 'na', 'neu', 'neu', 'neu', 'neu', 'neu', 'neu', 'neu', 'na', 'na', 'Democratic', 'na', 'neu', 'na', 'neu', 'na', 'neu', 'neu', 'Democratic', 'neu', 'na', 'na', 'neu', 'na', 'na', 'neu', 'neu', 'neu', 'na', 'neu', 'Democratic', 'neu', 'neu', 'na', 'Democratic', 'neu', 'neu', 'na', 'na', 'neu', 'neu', 'neu', 'neu', 'Democratic', 'na', 'na', 'neu', 'neu', 'neu', 'na', 'neu', 'neu', 'neu', 'na', 'Democratic', 'neu', 'na', 'na', 'na', 'na', 'na', 'neu', 'neu', 'na', 'na', 'na', 'na', 'neu', 'na', 'na', 'neu', 'neu', 'neu', 'neu', 'na', 'neu', 'neu', 'na', 'neu', 'neu', 'na', 'na', 'neu', 'neu', 'neu', 'neu', 'na', 'neu', 'na', 'neu', 'neu', 'neu', 'na', 'na', 'neu', 'na', 'neu', 'neu', 'na', 'neu', 'na', 'na', 'neu', 'na', 'neu', 'na', 'na', 'neu', 'na', 'neu', 'neu', 'Democratic', 'na', 'neu', 'neu', 'na', 'neu', 'neu', 'neu', 'neu', 'na', 'neu', 'neu', 'neu', 'neu', 'na', 'neu', 'neu', 'na', 'na', 'na', 'neu', 'na', 'neu', 'neu', 'na', 'na', 'Democratic', 'na', 'neu', 'na', 'neu', 'neu', 'na', 'neu', 'Republican', 'neu', 'neu', 'neu', 'neu', 'neu', 'neu', 'neu', 'neu', 'na', 'na', 'na', 'neu', 'neu', 'neu', 'neu', 'neu', 'neu', 'na', 'neu', 'neu', 'na', 'na', 'na', 'neu', 'neu', 'neu', 'na', 'Republican', 'neu', 'neu', 'na', 'neu', 'na', 'neu', 'na', 'neu', 'na', 'na', 'na', 'na', 'neu', 'neu', 'na', 'na', 'neu', 'na', 'na', 'na', 'na', 'neu', 'na', 'neu', 'neu', 'na', 'neu', 'na', 'neu', 'Republican', 'na', 'na', 'neu', 'na', 'neu', 'na', 'neu', 'neu', 'neu', 'Democratic', 'na', 'na', 'neu', 'na', 'neu', 'neu', 'na', 'na', 'neu', 'na', 'na', 'neu', 'na', 'na', 'Democratic', 'neu', 'na', 'neu', 'na', 'na', 'na', 'na', 'neu', 'na', 'Republican', 'na', 'na', 'na', 'na', 'neu', 'na', 'na', 'na', 'na', 'neu', 'neu', 'neu', 'na', 'na', 'na', 'na', 'na', 'na', 'na', 'neu', 'na', 'na', 'neu', 'neu', 'neu', 'na', 'neu', 'na', 'neu', 'na', 'na', 'na', 'Republican', 'na', 'na', 'neu', 'na', 'na', 'neu', 'neu', 'na', 'na', 'neu', 'na', 'neu', 'na', 'na', 'neu', 'na', 'neu', 'neu', 'neu', 'na', 'neu', 'na', 'na', 'na', 'Republican', 'neu', 'na', 'neu', 'na', 'na', 'na', 'na', 'neu', 'na', 'neu', 'na', 'Republican', 'na', 'na', 'neu', 'neu', 'na', 'neu', 'neu', 'neu', 'na', 'na', 'neu', 'na', 'na', 'na', 'na', 'neu', 'na', 'neu', 'na', 'na', 'neu', 'neu', 'na', 'neu', 'neu', 'neu', 'neu', 'na', 'neu', 'neu', 'neu', 'na', 'neu', 'na', 'neu', 'na', 'neu', 'na', 'neu', 'neu', 'na', 'neu', 'Republican', 'na', 'neu', 'neu', 'neu', 'neu', 'Democratic', 'na', 'neu', 'na', 'neu', 'neu', 'na', 'neu', 'neu', 'na', 'neu', 'na', 'na', 'na', 'neu', 'Democratic', 'neu', 'na', 'neu', 'Republican', 'na', 'neu', 'na', 'neu', 'neu', 'na', 'na', 'neu', 'na', 'neu', 'neu', 'neu', 'na', 'neu', 'na', 'na', 'na', 'neu', 'na', 'neu', 'na', 'neu', 'na', 'na', 'na', 'neu', 'na', 'neu', 'na', 'neu', 'neu', 'Democratic', 'neu', 'na', 'neu', 'neu', 'neu', 'neu', 'na', 'na', 'Republican', 'neu', 'na', 'neu', 'na', 'neu', 'na', 'na', 'neu', 'neu', 'Republican', 'na', 'na', 'na', 'na', 'na', 'neu', 'na', 'na', 'neu', 'neu', 'neu', 'Democratic', 'neu', 'neu', 'neu', 'na', 'neu', 'neu', 'neu', 'neu', 'na', 'neu', 'na', 'neu', 'na', 'neu', 'na', 'na', 'Democratic', 'na', 'neu', 'neu', 'na', 'na', 'na', 'neu', 'neu', 'neu', 'neu', 'neu', 'na', 'neu', 'na', 'na', 'na', 'na', 'na', 'neu', 'Democratic', 'na', 'neu', 'neu', 'na', 'na', 'neu', 'na', 'neu', 'na', 'Democratic', 'na', 'na', 'neu', 'na', 'neu', 'na', 'na', 'na', 'na', 'na', 'na', 'na', 'neu', 'na', 'neu', 'na', 'na', 'neu', 'neu', 'na', 'neu', 'Republican', 'na', 'na', 'na', 'na', 'na', 'neu', 'Democratic', 'neu', 'na', 'Democratic', 'na', 'na', 'Democratic', 'neu', 'neu', 'na', 'na', 'neu', 'neu', 'na', 'na', 'neu', 'neu', 'na', 'na', 'na', 'neu', 'neu', 'neu', 'neu', 'na', 'na', 'neu', 'na', 'neu', 'neu', 'na', 'neu', 'neu', 'na', 'na', 'Democratic', 'na', 'na', 'na', 'na', 'neu', 'neu', 'na', 'na', 'neu', 'na', 'Democratic', 'na', 'neu', 'na', 'neu', 'na', 'na', 'na', 'neu', 'na', 'na', 'na', 'na', 'na', 'neu', 'neu', 'Republican', 'na', 'na', 'na', 'na', 'neu', 'neu', 'na', 'na', 'neu', 'Democratic', 'neu', 'na', 'na', 'na', 'neu', 'na', 'Republican', 'neu', 'neu', 'neu', 'Democratic', 'na', 'neu', 'na', 'na', 'na', 'Republican', 'neu', 'neu', 'neu', 'na', 'neu', 'neu', 'na', 'neu', 'neu', 'na', 'na', 'neu', 'na', 'neu', 'Democratic', 'na', 'na', 'neu', 'neu', 'neu', 'na', 'neu', 'neu', 'na', 'na', 'na', 'na', 'na', 'Republican', 'neu', 'neu', 'Republican', 'Democratic', 'na', 'na', 'neu', 'neu', 'na', 'Republican', 'neu', 'neu', 'na', 'neu', 'neu', 'neu', 'neu', 'Democratic', 'neu', 'neu', 'neu', 'na', 'neu', 'neu', 'na', 'neu', 'neu', 'na', 'na', 'neu', 'na', 'neu', 'neu', 'na', 'na', 'na', 'neu', 'neu', 'neu', 'na', 'neu', 'neu', 'neu', 'na', 'neu', 'neu', 'neu', 'na', 'na', 'na', 'na', 'neu', 'neu', 'neu', 'na', 'na', 'na', 'na', 'na', 'na', 'neu', 'na', 'na', 'Democratic', 'na', 'neu', 'neu', 'neu', 'na', 'na', 'Republican', 'na', 'na', 'na', 'na', 'neu', 'na', 'na', 'neu', 'na', 'neu', 'neu', 'neu', 'neu', 'na', 'Republican', 'Republican', 'neu', 'neu', 'na', 'neu', 'Republican', 'na', 'na', 'na', 'neu', 'na', 'neu', 'neu', 'neu', 'neu', 'na', 'na', 'na', 'neu', 'Republican', 'na', 'na', 'neu', 'Democratic', 'na', 'neu', 'neu', 'Republican', 'neu', 'na', 'na', 'neu', 'neu', 'neu', 'na', 'na', 'neu', 'na', 'neu', 'na', 'na', 'Republican', 'neu', 'neu', 'neu', 'neu', 'neu', 'neu', 'neu', 'na', 'neu', 'Democratic', 'neu', 'Republican', 'neu', 'neu', 'na', 'neu', 'neu', 'Republican', 'na', 'na', 'neu', 'na', 'na', 'na', 'neu', 'neu', 'neu', 'na', 'na', 'na', 'na', 'na', 'neu', 'neu', 'neu', 'neu', 'Democratic', 'neu', 'na', 'na', 'na', 'na', 'na', 'neu', 'na', 'neu', 'na', 'neu', 'neu', 'Democratic', 'na', 'neu', 'neu', 'neu', 'na', 'neu', 'na', 'neu', 'neu', 'na', 'na', 'neu', 'na', 'neu', 'neu', 'Democratic', 'neu', 'na', 'neu', 'neu', 'neu', 'neu', 'neu', 'neu', 'neu', 'na', 'na', 'na', 'neu', 'Republican', 'na', 'neu', 'na', 'Democratic', 'neu', 'neu', 'neu', 'neu', 'neu', 'neu', 'neu', 'na', 'neu', 'neu', 'na', 'neu', 'na', 'neu', 'na', 'na', 'neu', 'na', 'Democratic', 'neu', 'neu', 'Democratic', 'na', 'na', 'na', 'Democratic', 'na', 'neu', 'neu', 'na', 'na', 'neu', 'na', 'neu', 'neu', 'na', 'na', 'neu', 'neu', 'na', 'na', 'neu', 'na', 'neu', 'na', 'na', 'na', 'na', 'na', 'neu', 'neu', 'neu', 'na', 'Republican', 'na', 'Democratic', 'neu', 'na', 'na', 'neu', 'na', 'neu', 'na', 'neu', 'neu', 'na', 'neu', 'na', 'neu', 'na', 'neu', 'na', 'na', 'na', 'na', 'na', 'na', 'na', 'neu', 'na', 'neu', 'neu', 'na', 'na', 'na', 'na', 'neu', 'neu', 'na', 'na', 'neu', 'neu', 'neu', 'neu', 'na', 'na', 'na', 'neu', 'neu', 'neu', 'neu', 'neu', 'na', 'na', 'Republican', 'neu', 'na', 'neu', 'neu', 'neu', 'neu', 'neu', 'na', 'neu', 'neu', 'na', 'neu', 'na', 'na', 'na', 'na', 'Republican', 'na', 'neu', 'na', 'na', 'neu', 'neu', 'neu', 'na', 'na', 'na', 'Republican', 'na', 'neu', 'neu', 'neu', 'neu', 'neu', 'na', 'na', 'neu', 'na', 'na', 'neu', 'neu', 'na', 'neu', 'na', 'na', 'na', 'na', 'na', 'na', 'neu', 'neu', 'Republican', 'na', 'na', 'na', 'na', 'neu', 'na', 'neu', 'neu', 'neu', 'neu', 'na', 'neu', 'na', 'na', 'neu', 'na', 'na', 'neu', 'neu', 'na', 'neu', 'neu', 'neu', 'na', 'neu', 'na', 'neu', 'na', 'Republican', 'na', 'na', 'neu', 'neu', 'na', 'neu', 'Democratic', 'na', 'na', 'neu', 'neu', 'Republican', 'na', 'neu', 'na', 'neu', 'neu', 'na', 'neu', 'na', 'neu', 'neu', 'neu', 'neu', 'na', 'neu', 'na', 'na', 'na', 'neu', 'neu', 'na', 'neu', 'neu', 'neu', 'neu', 'na', 'Republican', 'neu', 'neu', 'na', 'neu', 'neu', 'neu', 'neu', 'Republican', 'neu', 'neu', 'neu', 'na', 'neu', 'na', 'neu', 'na', 'Democratic', 'na', 'na', 'na', 'neu', 'neu', 'na', 'na', 'Republican', 'neu', 'neu', 'neu', 'neu', 'Republican', 'na', 'neu', 'neu', 'neu', 'na', 'na', 'neu', 'neu', 'neu', 'neu', 'Republican', 'neu', 'na', 'Democratic', 'na', 'Democratic', 'na', 'na', 'neu', 'na', 'na', 'neu', 'na', 'neu', 'neu', 'na', 'neu', 'na', 'neu', 'Democratic', 'na', 'na', 'neu', 'neu', 'neu', 'neu', 'na', 'neu', 'neu', 'Republican', 'na', 'neu', 'na', 'Democratic', 'na', 'neu', 'na', 'Democratic', 'neu', 'na', 'neu', 'na', 'neu', 'na', 'na', 'neu', 'neu', 'na', 'neu', 'neu', 'na', 'neu', 'Democratic', 'neu', 'Democratic', 'neu', 'na', 'na', 'neu', 'neu', 'neu', 'na', 'neu', 'neu', 'na', 'neu', 'neu', 'neu', 'na', 'na', 'neu', 'neu', 'neu', 'neu', 'na', 'na', 'neu', 'neu', 'na', 'na', 'neu', 'neu', 'neu', 'na', 'neu', 'na', 'na', 'neu', 'neu', 'na', 'neu', 'na', 'neu', 'na', 'neu', 'Democratic', 'na', 'neu', 'neu', 'na', 'na', 'na', 'neu', 'na', 'na', 'Democratic', 'Democratic', 'na', 'neu', 'neu', 'Democratic', 'Democratic', 'neu', 'neu', 'neu', 'na', 'neu', 'na', 'neu', 'neu', 'na', 'neu', 'neu', 'Democratic', 'na', 'neu', 'na', 'neu', 'na', 'na', 'na', 'neu', 'na', 'neu', 'na', 'neu', 'na', 'na', 'na', 'neu', 'neu', 'na', 'na', 'na', 'na', 'na', 'na', 'neu', 'na', 'Democratic', 'na', 'na', 'na', 'neu', 'na', 'neu', 'na', 'neu', 'neu', 'na', 'neu', 'na', 'na', 'na', 'neu', 'neu', 'na', 'neu', 'na', 'na', 'na', 'na', 'na', 'neu', 'na', 'na', 'neu', 'na', 'neu', 'na', 'neu', 'neu', 'na', 'na', 'na', 'neu', 'na', 'neu', 'neu', 'neu', 'na', 'na', 'neu', 'neu', 'na', 'na', 'neu', 'neu', 'neu', 'na', 'neu', 'na', 'neu', 'na', 'na', 'na', 'na', 'neu', 'na', 'na', 'neu', 'neu', 'na', 'na', 'neu', 'na', 'na', 'neu', 'neu', 'na', 'na', 'na', 'na', 'neu', 'na', 'na', 'neu', 'na', 'na', 'na', 'na', 'neu', 'na', 'neu', 'neu', 'na', 'na', 'na', 'na', 'neu', 'na', 'neu', 'neu', 'neu', 'neu', 'na', 'Democratic', 'na', 'na', 'neu', 'na', 'na', 'na', 'na', 'na', 'neu', 'na', 'neu', 'na', 'Democratic', 'na', 'na', 'na', 'neu', 'na', 'na', 'na', 'na', 'na', 'Democratic', 'na', 'na', 'na', 'na', 'neu', 'na', 'neu', 'neu', 'na', 'Democratic', 'neu', 'neu', 'neu', 'Democratic', 'neu', 'na', 'na', 'na', 'na', 'na', 'neu', 'na', 'neu', 'na', 'na', 'neu', 'neu', 'na', 'na', 'na', 'neu', 'na', 'neu', 'neu', 'neu', 'na', 'neu', 'neu', 'na', 'na', 'neu', 'neu', 'na', 'na', 'na', 'na', 'neu', 'na', 'na', 'na', 'na', 'neu', 'na', 'na', 'na', 'na', 'neu', 'na', 'na', 'neu', 'neu', 'na', 'na', 'Republican', 'na', 'neu', 'na', 'neu', 'na', 'na', 'na', 'na', 'neu', 'na', 'na', 'neu', 'neu', 'na', 'neu', 'na', 'na', 'na', 'Democratic', 'na', 'na', 'na', 'neu', 'na', 'neu', 'na', 'na', 'neu', 'neu', 'na', 'na', 'na', 'neu', 'na', 'neu', 'na', 'na', 'neu', 'na', 'na', 'na', 'na', 'na', 'na', 'neu', 'neu', 'neu', 'na', 'neu', 'na', 'na', 'na', 'Republican', 'neu', 'neu', 'neu', 'neu', 'neu', 'na', 'na', 'na', 'Republican', 'Republican', 'na', 'na', 'na', 'na', 'neu', 'na', 'neu', 'na', 'neu', 'neu', 'na', 'na', 'Republican', 'neu', 'neu', 'neu', 'na', 'na', 'na', 'na', 'neu', 'na', 'na', 'neu', 'neu', 'neu', 'neu', 'neu', 'na', 'neu', 'na', 'na', 'na', 'neu', 'neu', 'neu', 'Democratic', 'na', 'na', 'na', 'na', 'neu', 'na', 'neu', 'na', 'neu', 'na', 'neu', 'neu', 'neu', 'neu', 'na', 'Democratic', 'na', 'na', 'neu', 'Democratic', 'neu', 'na', 'na', 'na', 'na', 'na', 'na', 'na', 'na', 'neu', 'neu', 'na', 'na', 'neu', 'Republican', 'neu', 'na', 'neu', 'neu', 'na', 'na', 'neu', 'neu', 'Republican', 'neu', 'na', 'na', 'na', 'neu', 'na', 'na', 'na', 'na', 'neu', 'neu', 'na', 'na', 'neu', 'neu', 'neu', 'neu', 'na', 'na', 'neu', 'neu', 'na', 'na', 'na', 'na', 'neu', 'na', 'na', 'neu', 'na', 'Democratic', 'neu', 'na', 'na', 'na', 'na', 'na', 'neu', 'neu', 'na', 'neu', 'na', 'neu', 'na', 'neu', 'neu', 'na', 'Democratic', 'na', 'neu', 'neu', 'neu', 'neu', 'neu', 'neu', 'Republican', 'na', 'na', 'na', 'neu', 'na', 'neu', 'neu', 'neu', 'neu', 'na', 'neu', 'neu', 'na', 'na', 'neu', 'na', 'neu', 'na', 'neu', 'na', 'neu', 'na', 'neu', 'neu', 'neu', 'na', 'na', 'neu', 'Democratic', 'na', 'na', 'na', 'na', 'neu', 'neu', 'na', 'neu', 'neu', 'neu', 'na', 'na', 'na', 'na', 'na', 'neu', 'neu', 'neu', 'neu', 'neu', 'Democratic', 'neu']\n"
     ]
    }
   ],
   "source": [
    "user_mentions = []\n",
    "polarisation = []\n",
    "\n",
    "def most_frequent(List):\n",
    "    return max(set(List), key = List.count)\n",
    "\n",
    "for i in range(len(geo_tweets_sample)):\n",
    "    if isinstance(geo_tweets_sample.entities.iloc[i], float) == False:\n",
    "        entities = eval(geo_tweets_sample.entities.iloc[i])\n",
    "        if 'mentions' in entities.keys():\n",
    "            #print('aye')\n",
    "            mentions = entities['mentions']\n",
    "            current_tweet_mentions = []\n",
    "            for mention in mentions:\n",
    "                #print(mention['username'])\n",
    "                username = mention['username']\n",
    "                user_mentions.append(username)\n",
    "                if username in us_pols_usernames:\n",
    "                    current_tweet_mentions.append(us_pols_party[us_pols_usernames.index(username)])\n",
    "                else:\n",
    "                    current_tweet_mentions.append('na')\n",
    "            if current_tweet_mentions.count('Republican')>current_tweet_mentions.count('Democratic'):\n",
    "                polarisation.append('Republican')\n",
    "            elif current_tweet_mentions.count('Republican')<current_tweet_mentions.count('Democratic'):\n",
    "                polarisation.append('Democratic')\n",
    "            else:\n",
    "                polarisation.append('neu')\n",
    "        else:\n",
    "            polarisation.append('na')\n",
    "    else:\n",
    "        polarisation.append('na')\n",
    "\n",
    "                \n",
    "print(len(geo_tweets_sample))\n",
    "print(len(polarisation))\n",
    "print(polarisation)"
   ]
  },
  {
   "cell_type": "code",
   "execution_count": 110,
   "metadata": {},
   "outputs": [
    {
     "data": {
      "text/html": [
       "<div>\n",
       "<style scoped>\n",
       "    .dataframe tbody tr th:only-of-type {\n",
       "        vertical-align: middle;\n",
       "    }\n",
       "\n",
       "    .dataframe tbody tr th {\n",
       "        vertical-align: top;\n",
       "    }\n",
       "\n",
       "    .dataframe thead th {\n",
       "        text-align: right;\n",
       "    }\n",
       "</style>\n",
       "<table border=\"1\" class=\"dataframe\">\n",
       "  <thead>\n",
       "    <tr style=\"text-align: right;\">\n",
       "      <th></th>\n",
       "      <th>Unnamed: 0</th>\n",
       "      <th>id</th>\n",
       "      <th>text</th>\n",
       "      <th>author_id</th>\n",
       "      <th>entities</th>\n",
       "      <th>created_at</th>\n",
       "      <th>geo</th>\n",
       "      <th>public_metrics</th>\n",
       "      <th>author</th>\n",
       "      <th>state</th>\n",
       "      <th>country</th>\n",
       "      <th>party</th>\n",
       "    </tr>\n",
       "  </thead>\n",
       "  <tbody>\n",
       "    <tr>\n",
       "      <th>6761</th>\n",
       "      <td>6761</td>\n",
       "      <td>1524785306821607424</td>\n",
       "      <td>So I'm hearing if you're struggling to find yo...</td>\n",
       "      <td>3138425305</td>\n",
       "      <td>{'annotations': [{'start': 68, 'end': 73, 'pro...</td>\n",
       "      <td>2022-05-12 16:15:20+00:00</td>\n",
       "      <td>{'place_type': 'city', 'country': 'United Stat...</td>\n",
       "      <td>{'retweet_count': 0, 'reply_count': 0, 'like_c...</td>\n",
       "      <td>{'public_metrics': {'followers_count': 6622, '...</td>\n",
       "      <td>OK</td>\n",
       "      <td>US</td>\n",
       "      <td>na</td>\n",
       "    </tr>\n",
       "    <tr>\n",
       "      <th>6635</th>\n",
       "      <td>6635</td>\n",
       "      <td>1524808646265389056</td>\n",
       "      <td>@DonaldJTrumpJr We balk at electric cars and g...</td>\n",
       "      <td>758800298559188992</td>\n",
       "      <td>{'mentions': [{'start': 0, 'end': 15, 'usernam...</td>\n",
       "      <td>2022-05-12 17:48:05+00:00</td>\n",
       "      <td>{'place_type': 'admin', 'country': 'United Sta...</td>\n",
       "      <td>{'retweet_count': 0, 'reply_count': 0, 'like_c...</td>\n",
       "      <td>{'public_metrics': {'followers_count': 3699, '...</td>\n",
       "      <td>USA</td>\n",
       "      <td>US</td>\n",
       "      <td>na</td>\n",
       "    </tr>\n",
       "    <tr>\n",
       "      <th>8101</th>\n",
       "      <td>8101</td>\n",
       "      <td>1522856181190037504</td>\n",
       "      <td>@rosscmary @brolivor As the world goes to crap...</td>\n",
       "      <td>819677526461128704</td>\n",
       "      <td>{'mentions': [{'start': 0, 'end': 10, 'usernam...</td>\n",
       "      <td>2022-05-07 08:29:41+00:00</td>\n",
       "      <td>{'place_type': 'city', 'country': 'United Stat...</td>\n",
       "      <td>{'retweet_count': 0, 'reply_count': 2, 'like_c...</td>\n",
       "      <td>{'public_metrics': {'followers_count': 1570, '...</td>\n",
       "      <td>NY</td>\n",
       "      <td>US</td>\n",
       "      <td>na</td>\n",
       "    </tr>\n",
       "    <tr>\n",
       "      <th>4384</th>\n",
       "      <td>4384</td>\n",
       "      <td>1525719619788541952</td>\n",
       "      <td>We are shipping pallets of baby formula to the...</td>\n",
       "      <td>1519948771496452096</td>\n",
       "      <td>NaN</td>\n",
       "      <td>2022-05-15 06:07:58+00:00</td>\n",
       "      <td>{'full_name': 'Houston, TX', 'country': 'Unite...</td>\n",
       "      <td>{'retweet_count': 0, 'reply_count': 0, 'like_c...</td>\n",
       "      <td>{'name': 'Jack', 'verified': False, 'username'...</td>\n",
       "      <td>TX</td>\n",
       "      <td>US</td>\n",
       "      <td>na</td>\n",
       "    </tr>\n",
       "    <tr>\n",
       "      <th>1523</th>\n",
       "      <td>1523</td>\n",
       "      <td>1527766813236404224</td>\n",
       "      <td>Matt Gaetz thinks families using Gov’t. Assist...</td>\n",
       "      <td>34553489</td>\n",
       "      <td>{'urls': [{'start': 123, 'end': 146, 'url': 'h...</td>\n",
       "      <td>2022-05-20 21:42:47+00:00</td>\n",
       "      <td>{'full_name': 'Atlanta, GA', 'country_code': '...</td>\n",
       "      <td>{'retweet_count': 0, 'reply_count': 0, 'like_c...</td>\n",
       "      <td>{'name': 'terry vee', 'created_at': '2009-04-2...</td>\n",
       "      <td>GA</td>\n",
       "      <td>US</td>\n",
       "      <td>na</td>\n",
       "    </tr>\n",
       "    <tr>\n",
       "      <th>6584</th>\n",
       "      <td>6584</td>\n",
       "      <td>1524823399964495872</td>\n",
       "      <td>How the hell does the most powerful nation on ...</td>\n",
       "      <td>1022428176</td>\n",
       "      <td>NaN</td>\n",
       "      <td>2022-05-12 18:46:43+00:00</td>\n",
       "      <td>{'place_type': 'city', 'country': 'United Stat...</td>\n",
       "      <td>{'retweet_count': 4, 'reply_count': 11, 'like_...</td>\n",
       "      <td>{'public_metrics': {'followers_count': 6394, '...</td>\n",
       "      <td>OK</td>\n",
       "      <td>US</td>\n",
       "      <td>na</td>\n",
       "    </tr>\n",
       "    <tr>\n",
       "      <th>5938</th>\n",
       "      <td>5938</td>\n",
       "      <td>1525082078852927488</td>\n",
       "      <td>@Acts23811 @FactSparrow what are the facts abo...</td>\n",
       "      <td>1276740711984005120</td>\n",
       "      <td>{'mentions': [{'start': 0, 'end': 10, 'usernam...</td>\n",
       "      <td>2022-05-13 11:54:36+00:00</td>\n",
       "      <td>{'full_name': 'Silver Lake, NC', 'place_type':...</td>\n",
       "      <td>{'retweet_count': 0, 'reply_count': 2, 'like_c...</td>\n",
       "      <td>{'username': 'daddyrose91865', 'id': '12767407...</td>\n",
       "      <td>NC</td>\n",
       "      <td>US</td>\n",
       "      <td>na</td>\n",
       "    </tr>\n",
       "    <tr>\n",
       "      <th>1562</th>\n",
       "      <td>1562</td>\n",
       "      <td>1527747173655449600</td>\n",
       "      <td>@KTVOTV Congressman Sam Graves voted AGAINST f...</td>\n",
       "      <td>24570386</td>\n",
       "      <td>{'hashtags': [{'start': 84, 'end': 105, 'tag':...</td>\n",
       "      <td>2022-05-20 20:24:45+00:00</td>\n",
       "      <td>{'full_name': 'Bucyrus, OH', 'country_code': '...</td>\n",
       "      <td>{'retweet_count': 0, 'reply_count': 0, 'like_c...</td>\n",
       "      <td>{'name': 'Doug Gray', 'created_at': '2009-03-1...</td>\n",
       "      <td>OH</td>\n",
       "      <td>US</td>\n",
       "      <td>na</td>\n",
       "    </tr>\n",
       "    <tr>\n",
       "      <th>3802</th>\n",
       "      <td>3802</td>\n",
       "      <td>1526294398593601536</td>\n",
       "      <td>@EliseStefanik They been trying to get that pl...</td>\n",
       "      <td>945988664</td>\n",
       "      <td>{'annotations': [{'start': 174, 'end': 178, 'p...</td>\n",
       "      <td>2022-05-16 20:11:56+00:00</td>\n",
       "      <td>{'geo': {'type': 'Feature', 'bbox': [-73.93361...</td>\n",
       "      <td>{'retweet_count': 3, 'reply_count': 0, 'like_c...</td>\n",
       "      <td>{'public_metrics': {'followers_count': 1544, '...</td>\n",
       "      <td>NY</td>\n",
       "      <td>US</td>\n",
       "      <td>na</td>\n",
       "    </tr>\n",
       "    <tr>\n",
       "      <th>7050</th>\n",
       "      <td>7050</td>\n",
       "      <td>1524565953471672320</td>\n",
       "      <td>What's the #formula of baby formula? A secret ...</td>\n",
       "      <td>1066526090</td>\n",
       "      <td>{'hashtags': [{'start': 11, 'end': 19, 'tag': ...</td>\n",
       "      <td>2022-05-12 01:43:43+00:00</td>\n",
       "      <td>{'id': 'b49b3053b5c25bf5', 'place_type': 'city...</td>\n",
       "      <td>{'retweet_count': 0, 'reply_count': 0, 'like_c...</td>\n",
       "      <td>{'created_at': '2013-01-06T19:42:13.000Z', 'us...</td>\n",
       "      <td>CO</td>\n",
       "      <td>US</td>\n",
       "      <td>na</td>\n",
       "    </tr>\n",
       "    <tr>\n",
       "      <th>436</th>\n",
       "      <td>436</td>\n",
       "      <td>1528756310866399232</td>\n",
       "      <td>The @NHSuk Healthy Start scheme provides fruit...</td>\n",
       "      <td>1099309641241120768</td>\n",
       "      <td>{'urls': [{'start': 255, 'end': 278, 'url': 'h...</td>\n",
       "      <td>2022-05-23 15:14:42+00:00</td>\n",
       "      <td>{'id': '0a7df5cb329b4dff', 'place_type': 'city...</td>\n",
       "      <td>{'retweet_count': 2, 'reply_count': 0, 'like_c...</td>\n",
       "      <td>{'created_at': '2019-02-23T14:06:57.000Z', 'us...</td>\n",
       "      <td>England</td>\n",
       "      <td>GB</td>\n",
       "      <td>na</td>\n",
       "    </tr>\n",
       "    <tr>\n",
       "      <th>260</th>\n",
       "      <td>260</td>\n",
       "      <td>1528880075655225344</td>\n",
       "      <td>Powdered formula, unlike its liquid equivalent...</td>\n",
       "      <td>31325104</td>\n",
       "      <td>{'urls': [{'start': 257, 'end': 280, 'url': 'h...</td>\n",
       "      <td>2022-05-23 23:26:29+00:00</td>\n",
       "      <td>{'id': '0e9eb11ae9e524aa', 'place_type': 'city...</td>\n",
       "      <td>{'retweet_count': 0, 'reply_count': 0, 'like_c...</td>\n",
       "      <td>{'created_at': '2009-04-15T03:22:49.000Z', 'us...</td>\n",
       "      <td>NY</td>\n",
       "      <td>US</td>\n",
       "      <td>na</td>\n",
       "    </tr>\n",
       "    <tr>\n",
       "      <th>2397</th>\n",
       "      <td>2397</td>\n",
       "      <td>1527336162771095552</td>\n",
       "      <td>192 House Republicans voted NO on baby formula...</td>\n",
       "      <td>2384589829</td>\n",
       "      <td>{'urls': [{'start': 228, 'end': 251, 'url': 'h...</td>\n",
       "      <td>2022-05-19 17:11:32+00:00</td>\n",
       "      <td>{'place_type': 'city', 'country_code': 'US', '...</td>\n",
       "      <td>{'retweet_count': 0, 'reply_count': 0, 'like_c...</td>\n",
       "      <td>{'verified': False, 'id': '2384589829', 'usern...</td>\n",
       "      <td>CA</td>\n",
       "      <td>US</td>\n",
       "      <td>na</td>\n",
       "    </tr>\n",
       "    <tr>\n",
       "      <th>308</th>\n",
       "      <td>308</td>\n",
       "      <td>1528846800475627520</td>\n",
       "      <td>@washingtonpost Damn @jaketapper tough questio...</td>\n",
       "      <td>1521274311868309504</td>\n",
       "      <td>{'hashtags': [{'start': 197, 'end': 217, 'tag'...</td>\n",
       "      <td>2022-05-23 21:14:16+00:00</td>\n",
       "      <td>{'id': '737fcb9daae404ac', 'place_type': 'city...</td>\n",
       "      <td>{'retweet_count': 0, 'reply_count': 0, 'like_c...</td>\n",
       "      <td>{'created_at': '2022-05-02T23:44:06.000Z', 'us...</td>\n",
       "      <td>ID</td>\n",
       "      <td>US</td>\n",
       "      <td>na</td>\n",
       "    </tr>\n",
       "    <tr>\n",
       "      <th>6613</th>\n",
       "      <td>6613</td>\n",
       "      <td>1524814412464500736</td>\n",
       "      <td>I am outraged that the Biden administration se...</td>\n",
       "      <td>813266688</td>\n",
       "      <td>{'annotations': [{'start': 23, 'end': 27, 'pro...</td>\n",
       "      <td>2022-05-12 18:11:00+00:00</td>\n",
       "      <td>{'place_type': 'city', 'country': 'United Stat...</td>\n",
       "      <td>{'retweet_count': 0, 'reply_count': 0, 'like_c...</td>\n",
       "      <td>{'public_metrics': {'followers_count': 8, 'fol...</td>\n",
       "      <td>FL</td>\n",
       "      <td>US</td>\n",
       "      <td>na</td>\n",
       "    </tr>\n",
       "    <tr>\n",
       "      <th>1036</th>\n",
       "      <td>1036</td>\n",
       "      <td>1528344169005064192</td>\n",
       "      <td>President Biden and Democrats have passed 129 ...</td>\n",
       "      <td>363885195</td>\n",
       "      <td>{'urls': [{'start': 152, 'end': 175, 'url': 'h...</td>\n",
       "      <td>2022-05-22 11:56:59+00:00</td>\n",
       "      <td>{'country_code': 'US', 'place_type': 'admin', ...</td>\n",
       "      <td>{'retweet_count': 0, 'reply_count': 0, 'like_c...</td>\n",
       "      <td>{'verified': False, 'name': 'Richard Koepnick'...</td>\n",
       "      <td>USA</td>\n",
       "      <td>US</td>\n",
       "      <td>na</td>\n",
       "    </tr>\n",
       "    <tr>\n",
       "      <th>4691</th>\n",
       "      <td>4691</td>\n",
       "      <td>1525516468695273472</td>\n",
       "      <td>OK,  gas is one thing, baby formula another, n...</td>\n",
       "      <td>20945856</td>\n",
       "      <td>{'mentions': [{'start': 103, 'end': 118, 'user...</td>\n",
       "      <td>2022-05-14 16:40:43+00:00</td>\n",
       "      <td>{'place_type': 'city', 'country': 'United Stat...</td>\n",
       "      <td>{'retweet_count': 0, 'reply_count': 0, 'like_c...</td>\n",
       "      <td>{'id': '20945856', 'username': 'ryanbuckhannon...</td>\n",
       "      <td>SC</td>\n",
       "      <td>US</td>\n",
       "      <td>na</td>\n",
       "    </tr>\n",
       "    <tr>\n",
       "      <th>2182</th>\n",
       "      <td>2182</td>\n",
       "      <td>1527405452404830208</td>\n",
       "      <td>With this baby formula shortage, people will s...</td>\n",
       "      <td>915994265066643456</td>\n",
       "      <td>NaN</td>\n",
       "      <td>2022-05-19 21:46:52+00:00</td>\n",
       "      <td>{'place_type': 'city', 'country_code': 'US', '...</td>\n",
       "      <td>{'retweet_count': 0, 'reply_count': 0, 'like_c...</td>\n",
       "      <td>{'verified': False, 'id': '915994265066643457'...</td>\n",
       "      <td>NY</td>\n",
       "      <td>US</td>\n",
       "      <td>na</td>\n",
       "    </tr>\n",
       "    <tr>\n",
       "      <th>1196</th>\n",
       "      <td>1196</td>\n",
       "      <td>1528119330507870208</td>\n",
       "      <td>@geostylegeo Apparently it's fixing the gasoli...</td>\n",
       "      <td>1251446049694081024</td>\n",
       "      <td>{'mentions': [{'start': 0, 'end': 12, 'usernam...</td>\n",
       "      <td>2022-05-21 21:03:34+00:00</td>\n",
       "      <td>{'country_code': 'AU', 'place_type': 'city', '...</td>\n",
       "      <td>{'retweet_count': 0, 'reply_count': 0, 'like_c...</td>\n",
       "      <td>{'verified': False, 'name': 'Shah Ali Riyad | ...</td>\n",
       "      <td>Victoria</td>\n",
       "      <td>AU</td>\n",
       "      <td>na</td>\n",
       "    </tr>\n",
       "    <tr>\n",
       "      <th>3435</th>\n",
       "      <td>3435</td>\n",
       "      <td>1526631971409076224</td>\n",
       "      <td>@AprilFoolsRebel @JesseKellyDC Actually the U....</td>\n",
       "      <td>827507020387536896</td>\n",
       "      <td>{'mentions': [{'start': 0, 'end': 16, 'usernam...</td>\n",
       "      <td>2022-05-17 18:33:20+00:00</td>\n",
       "      <td>{'country_code': 'US', 'place_type': 'city', '...</td>\n",
       "      <td>{'retweet_count': 0, 'reply_count': 0, 'like_c...</td>\n",
       "      <td>{'created_at': '2017-02-03T13:20:22.000Z', 'id...</td>\n",
       "      <td>MD</td>\n",
       "      <td>US</td>\n",
       "      <td>na</td>\n",
       "    </tr>\n",
       "  </tbody>\n",
       "</table>\n",
       "</div>"
      ],
      "text/plain": [
       "      Unnamed: 0                   id  \\\n",
       "6761        6761  1524785306821607424   \n",
       "6635        6635  1524808646265389056   \n",
       "8101        8101  1522856181190037504   \n",
       "4384        4384  1525719619788541952   \n",
       "1523        1523  1527766813236404224   \n",
       "6584        6584  1524823399964495872   \n",
       "5938        5938  1525082078852927488   \n",
       "1562        1562  1527747173655449600   \n",
       "3802        3802  1526294398593601536   \n",
       "7050        7050  1524565953471672320   \n",
       "436          436  1528756310866399232   \n",
       "260          260  1528880075655225344   \n",
       "2397        2397  1527336162771095552   \n",
       "308          308  1528846800475627520   \n",
       "6613        6613  1524814412464500736   \n",
       "1036        1036  1528344169005064192   \n",
       "4691        4691  1525516468695273472   \n",
       "2182        2182  1527405452404830208   \n",
       "1196        1196  1528119330507870208   \n",
       "3435        3435  1526631971409076224   \n",
       "\n",
       "                                                   text            author_id  \\\n",
       "6761  So I'm hearing if you're struggling to find yo...           3138425305   \n",
       "6635  @DonaldJTrumpJr We balk at electric cars and g...   758800298559188992   \n",
       "8101  @rosscmary @brolivor As the world goes to crap...   819677526461128704   \n",
       "4384  We are shipping pallets of baby formula to the...  1519948771496452096   \n",
       "1523  Matt Gaetz thinks families using Gov’t. Assist...             34553489   \n",
       "6584  How the hell does the most powerful nation on ...           1022428176   \n",
       "5938  @Acts23811 @FactSparrow what are the facts abo...  1276740711984005120   \n",
       "1562  @KTVOTV Congressman Sam Graves voted AGAINST f...             24570386   \n",
       "3802  @EliseStefanik They been trying to get that pl...            945988664   \n",
       "7050  What's the #formula of baby formula? A secret ...           1066526090   \n",
       "436   The @NHSuk Healthy Start scheme provides fruit...  1099309641241120768   \n",
       "260   Powdered formula, unlike its liquid equivalent...             31325104   \n",
       "2397  192 House Republicans voted NO on baby formula...           2384589829   \n",
       "308   @washingtonpost Damn @jaketapper tough questio...  1521274311868309504   \n",
       "6613  I am outraged that the Biden administration se...            813266688   \n",
       "1036  President Biden and Democrats have passed 129 ...            363885195   \n",
       "4691  OK,  gas is one thing, baby formula another, n...             20945856   \n",
       "2182  With this baby formula shortage, people will s...   915994265066643456   \n",
       "1196  @geostylegeo Apparently it's fixing the gasoli...  1251446049694081024   \n",
       "3435  @AprilFoolsRebel @JesseKellyDC Actually the U....   827507020387536896   \n",
       "\n",
       "                                               entities  \\\n",
       "6761  {'annotations': [{'start': 68, 'end': 73, 'pro...   \n",
       "6635  {'mentions': [{'start': 0, 'end': 15, 'usernam...   \n",
       "8101  {'mentions': [{'start': 0, 'end': 10, 'usernam...   \n",
       "4384                                                NaN   \n",
       "1523  {'urls': [{'start': 123, 'end': 146, 'url': 'h...   \n",
       "6584                                                NaN   \n",
       "5938  {'mentions': [{'start': 0, 'end': 10, 'usernam...   \n",
       "1562  {'hashtags': [{'start': 84, 'end': 105, 'tag':...   \n",
       "3802  {'annotations': [{'start': 174, 'end': 178, 'p...   \n",
       "7050  {'hashtags': [{'start': 11, 'end': 19, 'tag': ...   \n",
       "436   {'urls': [{'start': 255, 'end': 278, 'url': 'h...   \n",
       "260   {'urls': [{'start': 257, 'end': 280, 'url': 'h...   \n",
       "2397  {'urls': [{'start': 228, 'end': 251, 'url': 'h...   \n",
       "308   {'hashtags': [{'start': 197, 'end': 217, 'tag'...   \n",
       "6613  {'annotations': [{'start': 23, 'end': 27, 'pro...   \n",
       "1036  {'urls': [{'start': 152, 'end': 175, 'url': 'h...   \n",
       "4691  {'mentions': [{'start': 103, 'end': 118, 'user...   \n",
       "2182                                                NaN   \n",
       "1196  {'mentions': [{'start': 0, 'end': 12, 'usernam...   \n",
       "3435  {'mentions': [{'start': 0, 'end': 16, 'usernam...   \n",
       "\n",
       "                     created_at  \\\n",
       "6761  2022-05-12 16:15:20+00:00   \n",
       "6635  2022-05-12 17:48:05+00:00   \n",
       "8101  2022-05-07 08:29:41+00:00   \n",
       "4384  2022-05-15 06:07:58+00:00   \n",
       "1523  2022-05-20 21:42:47+00:00   \n",
       "6584  2022-05-12 18:46:43+00:00   \n",
       "5938  2022-05-13 11:54:36+00:00   \n",
       "1562  2022-05-20 20:24:45+00:00   \n",
       "3802  2022-05-16 20:11:56+00:00   \n",
       "7050  2022-05-12 01:43:43+00:00   \n",
       "436   2022-05-23 15:14:42+00:00   \n",
       "260   2022-05-23 23:26:29+00:00   \n",
       "2397  2022-05-19 17:11:32+00:00   \n",
       "308   2022-05-23 21:14:16+00:00   \n",
       "6613  2022-05-12 18:11:00+00:00   \n",
       "1036  2022-05-22 11:56:59+00:00   \n",
       "4691  2022-05-14 16:40:43+00:00   \n",
       "2182  2022-05-19 21:46:52+00:00   \n",
       "1196  2022-05-21 21:03:34+00:00   \n",
       "3435  2022-05-17 18:33:20+00:00   \n",
       "\n",
       "                                                    geo  \\\n",
       "6761  {'place_type': 'city', 'country': 'United Stat...   \n",
       "6635  {'place_type': 'admin', 'country': 'United Sta...   \n",
       "8101  {'place_type': 'city', 'country': 'United Stat...   \n",
       "4384  {'full_name': 'Houston, TX', 'country': 'Unite...   \n",
       "1523  {'full_name': 'Atlanta, GA', 'country_code': '...   \n",
       "6584  {'place_type': 'city', 'country': 'United Stat...   \n",
       "5938  {'full_name': 'Silver Lake, NC', 'place_type':...   \n",
       "1562  {'full_name': 'Bucyrus, OH', 'country_code': '...   \n",
       "3802  {'geo': {'type': 'Feature', 'bbox': [-73.93361...   \n",
       "7050  {'id': 'b49b3053b5c25bf5', 'place_type': 'city...   \n",
       "436   {'id': '0a7df5cb329b4dff', 'place_type': 'city...   \n",
       "260   {'id': '0e9eb11ae9e524aa', 'place_type': 'city...   \n",
       "2397  {'place_type': 'city', 'country_code': 'US', '...   \n",
       "308   {'id': '737fcb9daae404ac', 'place_type': 'city...   \n",
       "6613  {'place_type': 'city', 'country': 'United Stat...   \n",
       "1036  {'country_code': 'US', 'place_type': 'admin', ...   \n",
       "4691  {'place_type': 'city', 'country': 'United Stat...   \n",
       "2182  {'place_type': 'city', 'country_code': 'US', '...   \n",
       "1196  {'country_code': 'AU', 'place_type': 'city', '...   \n",
       "3435  {'country_code': 'US', 'place_type': 'city', '...   \n",
       "\n",
       "                                         public_metrics  \\\n",
       "6761  {'retweet_count': 0, 'reply_count': 0, 'like_c...   \n",
       "6635  {'retweet_count': 0, 'reply_count': 0, 'like_c...   \n",
       "8101  {'retweet_count': 0, 'reply_count': 2, 'like_c...   \n",
       "4384  {'retweet_count': 0, 'reply_count': 0, 'like_c...   \n",
       "1523  {'retweet_count': 0, 'reply_count': 0, 'like_c...   \n",
       "6584  {'retweet_count': 4, 'reply_count': 11, 'like_...   \n",
       "5938  {'retweet_count': 0, 'reply_count': 2, 'like_c...   \n",
       "1562  {'retweet_count': 0, 'reply_count': 0, 'like_c...   \n",
       "3802  {'retweet_count': 3, 'reply_count': 0, 'like_c...   \n",
       "7050  {'retweet_count': 0, 'reply_count': 0, 'like_c...   \n",
       "436   {'retweet_count': 2, 'reply_count': 0, 'like_c...   \n",
       "260   {'retweet_count': 0, 'reply_count': 0, 'like_c...   \n",
       "2397  {'retweet_count': 0, 'reply_count': 0, 'like_c...   \n",
       "308   {'retweet_count': 0, 'reply_count': 0, 'like_c...   \n",
       "6613  {'retweet_count': 0, 'reply_count': 0, 'like_c...   \n",
       "1036  {'retweet_count': 0, 'reply_count': 0, 'like_c...   \n",
       "4691  {'retweet_count': 0, 'reply_count': 0, 'like_c...   \n",
       "2182  {'retweet_count': 0, 'reply_count': 0, 'like_c...   \n",
       "1196  {'retweet_count': 0, 'reply_count': 0, 'like_c...   \n",
       "3435  {'retweet_count': 0, 'reply_count': 0, 'like_c...   \n",
       "\n",
       "                                                 author     state country  \\\n",
       "6761  {'public_metrics': {'followers_count': 6622, '...        OK      US   \n",
       "6635  {'public_metrics': {'followers_count': 3699, '...       USA      US   \n",
       "8101  {'public_metrics': {'followers_count': 1570, '...        NY      US   \n",
       "4384  {'name': 'Jack', 'verified': False, 'username'...        TX      US   \n",
       "1523  {'name': 'terry vee', 'created_at': '2009-04-2...        GA      US   \n",
       "6584  {'public_metrics': {'followers_count': 6394, '...        OK      US   \n",
       "5938  {'username': 'daddyrose91865', 'id': '12767407...        NC      US   \n",
       "1562  {'name': 'Doug Gray', 'created_at': '2009-03-1...        OH      US   \n",
       "3802  {'public_metrics': {'followers_count': 1544, '...        NY      US   \n",
       "7050  {'created_at': '2013-01-06T19:42:13.000Z', 'us...        CO      US   \n",
       "436   {'created_at': '2019-02-23T14:06:57.000Z', 'us...   England      GB   \n",
       "260   {'created_at': '2009-04-15T03:22:49.000Z', 'us...        NY      US   \n",
       "2397  {'verified': False, 'id': '2384589829', 'usern...        CA      US   \n",
       "308   {'created_at': '2022-05-02T23:44:06.000Z', 'us...        ID      US   \n",
       "6613  {'public_metrics': {'followers_count': 8, 'fol...        FL      US   \n",
       "1036  {'verified': False, 'name': 'Richard Koepnick'...       USA      US   \n",
       "4691  {'id': '20945856', 'username': 'ryanbuckhannon...        SC      US   \n",
       "2182  {'verified': False, 'id': '915994265066643457'...        NY      US   \n",
       "1196  {'verified': False, 'name': 'Shah Ali Riyad | ...  Victoria      AU   \n",
       "3435  {'created_at': '2017-02-03T13:20:22.000Z', 'id...        MD      US   \n",
       "\n",
       "     party  \n",
       "6761    na  \n",
       "6635    na  \n",
       "8101    na  \n",
       "4384    na  \n",
       "1523    na  \n",
       "6584    na  \n",
       "5938    na  \n",
       "1562    na  \n",
       "3802    na  \n",
       "7050    na  \n",
       "436     na  \n",
       "260     na  \n",
       "2397    na  \n",
       "308     na  \n",
       "6613    na  \n",
       "1036    na  \n",
       "4691    na  \n",
       "2182    na  \n",
       "1196    na  \n",
       "3435    na  "
      ]
     },
     "execution_count": 110,
     "metadata": {},
     "output_type": "execute_result"
    }
   ],
   "source": [
    "geo_tweets_sample['party'] = polarisation\n",
    "geo_tweets_sample.head(20)"
   ]
  },
  {
   "cell_type": "code",
   "execution_count": 111,
   "metadata": {},
   "outputs": [],
   "source": [
    "geo_tweets_sample.to_csv(\"data/baby_formula_location_polarisation.csv\")"
   ]
  },
  {
   "cell_type": "code",
   "execution_count": 131,
   "metadata": {},
   "outputs": [
    {
     "data": {
      "text/html": [
       "<div>\n",
       "<style scoped>\n",
       "    .dataframe tbody tr th:only-of-type {\n",
       "        vertical-align: middle;\n",
       "    }\n",
       "\n",
       "    .dataframe tbody tr th {\n",
       "        vertical-align: top;\n",
       "    }\n",
       "\n",
       "    .dataframe thead th {\n",
       "        text-align: right;\n",
       "    }\n",
       "</style>\n",
       "<table border=\"1\" class=\"dataframe\">\n",
       "  <thead>\n",
       "    <tr style=\"text-align: right;\">\n",
       "      <th></th>\n",
       "      <th>state</th>\n",
       "      <th>code</th>\n",
       "      <th>counts</th>\n",
       "      <th>max_party</th>\n",
       "      <th>dem_counts</th>\n",
       "      <th>rep_counts</th>\n",
       "      <th>ratio</th>\n",
       "    </tr>\n",
       "  </thead>\n",
       "  <tbody>\n",
       "    <tr>\n",
       "      <th>0</th>\n",
       "      <td>Texas</td>\n",
       "      <td>TX</td>\n",
       "      <td>637</td>\n",
       "      <td>Republican</td>\n",
       "      <td>11</td>\n",
       "      <td>14</td>\n",
       "      <td>-3</td>\n",
       "    </tr>\n",
       "    <tr>\n",
       "      <th>1</th>\n",
       "      <td>Colorado</td>\n",
       "      <td>CO</td>\n",
       "      <td>140</td>\n",
       "      <td>Democratic</td>\n",
       "      <td>4</td>\n",
       "      <td>3</td>\n",
       "      <td>1</td>\n",
       "    </tr>\n",
       "    <tr>\n",
       "      <th>2</th>\n",
       "      <td>Massachusetts</td>\n",
       "      <td>MA</td>\n",
       "      <td>150</td>\n",
       "      <td>Republican</td>\n",
       "      <td>1</td>\n",
       "      <td>16</td>\n",
       "      <td>-15</td>\n",
       "    </tr>\n",
       "    <tr>\n",
       "      <th>3</th>\n",
       "      <td>Florida</td>\n",
       "      <td>FL</td>\n",
       "      <td>669</td>\n",
       "      <td>Democratic</td>\n",
       "      <td>40</td>\n",
       "      <td>15</td>\n",
       "      <td>25</td>\n",
       "    </tr>\n",
       "    <tr>\n",
       "      <th>4</th>\n",
       "      <td>New York</td>\n",
       "      <td>NY</td>\n",
       "      <td>465</td>\n",
       "      <td>Democratic</td>\n",
       "      <td>12</td>\n",
       "      <td>11</td>\n",
       "      <td>1</td>\n",
       "    </tr>\n",
       "    <tr>\n",
       "      <th>5</th>\n",
       "      <td>Pennsylvania</td>\n",
       "      <td>PA</td>\n",
       "      <td>194</td>\n",
       "      <td>Democratic</td>\n",
       "      <td>4</td>\n",
       "      <td>1</td>\n",
       "      <td>3</td>\n",
       "    </tr>\n",
       "    <tr>\n",
       "      <th>6</th>\n",
       "      <td>Alabama</td>\n",
       "      <td>AL</td>\n",
       "      <td>80</td>\n",
       "      <td>Democratic</td>\n",
       "      <td>6</td>\n",
       "      <td>2</td>\n",
       "      <td>4</td>\n",
       "    </tr>\n",
       "    <tr>\n",
       "      <th>7</th>\n",
       "      <td>North Carolina</td>\n",
       "      <td>NC</td>\n",
       "      <td>143</td>\n",
       "      <td>neu</td>\n",
       "      <td>2</td>\n",
       "      <td>2</td>\n",
       "      <td>0</td>\n",
       "    </tr>\n",
       "    <tr>\n",
       "      <th>8</th>\n",
       "      <td>Illinois</td>\n",
       "      <td>IL</td>\n",
       "      <td>218</td>\n",
       "      <td>Democratic</td>\n",
       "      <td>8</td>\n",
       "      <td>3</td>\n",
       "      <td>5</td>\n",
       "    </tr>\n",
       "    <tr>\n",
       "      <th>9</th>\n",
       "      <td>Oklahoma</td>\n",
       "      <td>OK</td>\n",
       "      <td>74</td>\n",
       "      <td>neu</td>\n",
       "      <td>0</td>\n",
       "      <td>0</td>\n",
       "      <td>0</td>\n",
       "    </tr>\n",
       "    <tr>\n",
       "      <th>10</th>\n",
       "      <td>California</td>\n",
       "      <td>CA</td>\n",
       "      <td>840</td>\n",
       "      <td>Democratic</td>\n",
       "      <td>23</td>\n",
       "      <td>16</td>\n",
       "      <td>7</td>\n",
       "    </tr>\n",
       "    <tr>\n",
       "      <th>11</th>\n",
       "      <td>Minnesota</td>\n",
       "      <td>MN</td>\n",
       "      <td>77</td>\n",
       "      <td>Democratic</td>\n",
       "      <td>4</td>\n",
       "      <td>0</td>\n",
       "      <td>4</td>\n",
       "    </tr>\n",
       "    <tr>\n",
       "      <th>12</th>\n",
       "      <td>Maryland</td>\n",
       "      <td>MD</td>\n",
       "      <td>123</td>\n",
       "      <td>neu</td>\n",
       "      <td>2</td>\n",
       "      <td>2</td>\n",
       "      <td>0</td>\n",
       "    </tr>\n",
       "    <tr>\n",
       "      <th>13</th>\n",
       "      <td>Kentucky</td>\n",
       "      <td>KY</td>\n",
       "      <td>69</td>\n",
       "      <td>Democratic</td>\n",
       "      <td>4</td>\n",
       "      <td>1</td>\n",
       "      <td>3</td>\n",
       "    </tr>\n",
       "    <tr>\n",
       "      <th>14</th>\n",
       "      <td>New Jersey</td>\n",
       "      <td>NJ</td>\n",
       "      <td>211</td>\n",
       "      <td>Democratic</td>\n",
       "      <td>9</td>\n",
       "      <td>3</td>\n",
       "      <td>6</td>\n",
       "    </tr>\n",
       "    <tr>\n",
       "      <th>15</th>\n",
       "      <td>Ohio</td>\n",
       "      <td>OH</td>\n",
       "      <td>214</td>\n",
       "      <td>Democratic</td>\n",
       "      <td>7</td>\n",
       "      <td>4</td>\n",
       "      <td>3</td>\n",
       "    </tr>\n",
       "    <tr>\n",
       "      <th>16</th>\n",
       "      <td>Washington</td>\n",
       "      <td>WA</td>\n",
       "      <td>173</td>\n",
       "      <td>Republican</td>\n",
       "      <td>3</td>\n",
       "      <td>8</td>\n",
       "      <td>-5</td>\n",
       "    </tr>\n",
       "    <tr>\n",
       "      <th>17</th>\n",
       "      <td>District of Columbia</td>\n",
       "      <td>DC</td>\n",
       "      <td>127</td>\n",
       "      <td>Democratic</td>\n",
       "      <td>9</td>\n",
       "      <td>3</td>\n",
       "      <td>6</td>\n",
       "    </tr>\n",
       "    <tr>\n",
       "      <th>18</th>\n",
       "      <td>Nevada</td>\n",
       "      <td>NV</td>\n",
       "      <td>119</td>\n",
       "      <td>neu</td>\n",
       "      <td>0</td>\n",
       "      <td>0</td>\n",
       "      <td>0</td>\n",
       "    </tr>\n",
       "    <tr>\n",
       "      <th>19</th>\n",
       "      <td>Arizona</td>\n",
       "      <td>AZ</td>\n",
       "      <td>161</td>\n",
       "      <td>Democratic</td>\n",
       "      <td>3</td>\n",
       "      <td>2</td>\n",
       "      <td>1</td>\n",
       "    </tr>\n",
       "    <tr>\n",
       "      <th>20</th>\n",
       "      <td>Arkansas</td>\n",
       "      <td>AR</td>\n",
       "      <td>44</td>\n",
       "      <td>Republican</td>\n",
       "      <td>0</td>\n",
       "      <td>1</td>\n",
       "      <td>-1</td>\n",
       "    </tr>\n",
       "    <tr>\n",
       "      <th>21</th>\n",
       "      <td>Utah</td>\n",
       "      <td>UT</td>\n",
       "      <td>44</td>\n",
       "      <td>neu</td>\n",
       "      <td>0</td>\n",
       "      <td>0</td>\n",
       "      <td>0</td>\n",
       "    </tr>\n",
       "    <tr>\n",
       "      <th>22</th>\n",
       "      <td>Louisiana</td>\n",
       "      <td>LA</td>\n",
       "      <td>56</td>\n",
       "      <td>Democratic</td>\n",
       "      <td>2</td>\n",
       "      <td>1</td>\n",
       "      <td>1</td>\n",
       "    </tr>\n",
       "    <tr>\n",
       "      <th>23</th>\n",
       "      <td>Missouri</td>\n",
       "      <td>MO</td>\n",
       "      <td>95</td>\n",
       "      <td>Republican</td>\n",
       "      <td>2</td>\n",
       "      <td>3</td>\n",
       "      <td>-1</td>\n",
       "    </tr>\n",
       "    <tr>\n",
       "      <th>24</th>\n",
       "      <td>Michigan</td>\n",
       "      <td>MI</td>\n",
       "      <td>139</td>\n",
       "      <td>Republican</td>\n",
       "      <td>2</td>\n",
       "      <td>5</td>\n",
       "      <td>-3</td>\n",
       "    </tr>\n",
       "    <tr>\n",
       "      <th>25</th>\n",
       "      <td>Wisconsin</td>\n",
       "      <td>WI</td>\n",
       "      <td>65</td>\n",
       "      <td>Republican</td>\n",
       "      <td>1</td>\n",
       "      <td>2</td>\n",
       "      <td>-1</td>\n",
       "    </tr>\n",
       "    <tr>\n",
       "      <th>26</th>\n",
       "      <td>Georgia</td>\n",
       "      <td>GA</td>\n",
       "      <td>169</td>\n",
       "      <td>Democratic</td>\n",
       "      <td>8</td>\n",
       "      <td>0</td>\n",
       "      <td>8</td>\n",
       "    </tr>\n",
       "    <tr>\n",
       "      <th>27</th>\n",
       "      <td>Iowa</td>\n",
       "      <td>IA</td>\n",
       "      <td>42</td>\n",
       "      <td>neu</td>\n",
       "      <td>0</td>\n",
       "      <td>0</td>\n",
       "      <td>0</td>\n",
       "    </tr>\n",
       "    <tr>\n",
       "      <th>28</th>\n",
       "      <td>Tennessee</td>\n",
       "      <td>TN</td>\n",
       "      <td>103</td>\n",
       "      <td>Democratic</td>\n",
       "      <td>3</td>\n",
       "      <td>2</td>\n",
       "      <td>1</td>\n",
       "    </tr>\n",
       "    <tr>\n",
       "      <th>29</th>\n",
       "      <td>New Mexico</td>\n",
       "      <td>NM</td>\n",
       "      <td>47</td>\n",
       "      <td>Republican</td>\n",
       "      <td>0</td>\n",
       "      <td>5</td>\n",
       "      <td>-5</td>\n",
       "    </tr>\n",
       "    <tr>\n",
       "      <th>30</th>\n",
       "      <td>Nebraska</td>\n",
       "      <td>NE</td>\n",
       "      <td>37</td>\n",
       "      <td>neu</td>\n",
       "      <td>0</td>\n",
       "      <td>0</td>\n",
       "      <td>0</td>\n",
       "    </tr>\n",
       "    <tr>\n",
       "      <th>31</th>\n",
       "      <td>South Carolina</td>\n",
       "      <td>SC</td>\n",
       "      <td>85</td>\n",
       "      <td>Democratic</td>\n",
       "      <td>3</td>\n",
       "      <td>2</td>\n",
       "      <td>1</td>\n",
       "    </tr>\n",
       "    <tr>\n",
       "      <th>32</th>\n",
       "      <td>Kansas</td>\n",
       "      <td>KS</td>\n",
       "      <td>27</td>\n",
       "      <td>neu</td>\n",
       "      <td>1</td>\n",
       "      <td>1</td>\n",
       "      <td>0</td>\n",
       "    </tr>\n",
       "    <tr>\n",
       "      <th>33</th>\n",
       "      <td>North Dakota</td>\n",
       "      <td>ND</td>\n",
       "      <td>3</td>\n",
       "      <td>neu</td>\n",
       "      <td>0</td>\n",
       "      <td>0</td>\n",
       "      <td>0</td>\n",
       "    </tr>\n",
       "    <tr>\n",
       "      <th>34</th>\n",
       "      <td>New Hampshire</td>\n",
       "      <td>NH</td>\n",
       "      <td>25</td>\n",
       "      <td>neu</td>\n",
       "      <td>0</td>\n",
       "      <td>0</td>\n",
       "      <td>0</td>\n",
       "    </tr>\n",
       "    <tr>\n",
       "      <th>35</th>\n",
       "      <td>Mississippi</td>\n",
       "      <td>MS</td>\n",
       "      <td>24</td>\n",
       "      <td>neu</td>\n",
       "      <td>0</td>\n",
       "      <td>0</td>\n",
       "      <td>0</td>\n",
       "    </tr>\n",
       "    <tr>\n",
       "      <th>36</th>\n",
       "      <td>Montana</td>\n",
       "      <td>MT</td>\n",
       "      <td>16</td>\n",
       "      <td>neu</td>\n",
       "      <td>0</td>\n",
       "      <td>0</td>\n",
       "      <td>0</td>\n",
       "    </tr>\n",
       "    <tr>\n",
       "      <th>37</th>\n",
       "      <td>Oregon</td>\n",
       "      <td>OR</td>\n",
       "      <td>100</td>\n",
       "      <td>Democratic</td>\n",
       "      <td>1</td>\n",
       "      <td>0</td>\n",
       "      <td>1</td>\n",
       "    </tr>\n",
       "    <tr>\n",
       "      <th>38</th>\n",
       "      <td>Indiana</td>\n",
       "      <td>IN</td>\n",
       "      <td>99</td>\n",
       "      <td>Republican</td>\n",
       "      <td>2</td>\n",
       "      <td>3</td>\n",
       "      <td>-1</td>\n",
       "    </tr>\n",
       "    <tr>\n",
       "      <th>39</th>\n",
       "      <td>Delaware</td>\n",
       "      <td>DE</td>\n",
       "      <td>9</td>\n",
       "      <td>neu</td>\n",
       "      <td>0</td>\n",
       "      <td>0</td>\n",
       "      <td>0</td>\n",
       "    </tr>\n",
       "    <tr>\n",
       "      <th>40</th>\n",
       "      <td>Idaho</td>\n",
       "      <td>ID</td>\n",
       "      <td>32</td>\n",
       "      <td>Democratic</td>\n",
       "      <td>2</td>\n",
       "      <td>0</td>\n",
       "      <td>2</td>\n",
       "    </tr>\n",
       "    <tr>\n",
       "      <th>41</th>\n",
       "      <td>Wyoming</td>\n",
       "      <td>WY</td>\n",
       "      <td>8</td>\n",
       "      <td>Republican</td>\n",
       "      <td>0</td>\n",
       "      <td>1</td>\n",
       "      <td>-1</td>\n",
       "    </tr>\n",
       "    <tr>\n",
       "      <th>42</th>\n",
       "      <td>Virginia</td>\n",
       "      <td>VA</td>\n",
       "      <td>128</td>\n",
       "      <td>Republican</td>\n",
       "      <td>5</td>\n",
       "      <td>7</td>\n",
       "      <td>-2</td>\n",
       "    </tr>\n",
       "    <tr>\n",
       "      <th>43</th>\n",
       "      <td>Connecticut</td>\n",
       "      <td>CT</td>\n",
       "      <td>43</td>\n",
       "      <td>neu</td>\n",
       "      <td>0</td>\n",
       "      <td>0</td>\n",
       "      <td>0</td>\n",
       "    </tr>\n",
       "    <tr>\n",
       "      <th>44</th>\n",
       "      <td>West Virginia</td>\n",
       "      <td>WV</td>\n",
       "      <td>8</td>\n",
       "      <td>neu</td>\n",
       "      <td>0</td>\n",
       "      <td>0</td>\n",
       "      <td>0</td>\n",
       "    </tr>\n",
       "    <tr>\n",
       "      <th>45</th>\n",
       "      <td>Alaska</td>\n",
       "      <td>AK</td>\n",
       "      <td>11</td>\n",
       "      <td>neu</td>\n",
       "      <td>0</td>\n",
       "      <td>0</td>\n",
       "      <td>0</td>\n",
       "    </tr>\n",
       "    <tr>\n",
       "      <th>46</th>\n",
       "      <td>Rhode Island</td>\n",
       "      <td>RI</td>\n",
       "      <td>17</td>\n",
       "      <td>neu</td>\n",
       "      <td>0</td>\n",
       "      <td>0</td>\n",
       "      <td>0</td>\n",
       "    </tr>\n",
       "    <tr>\n",
       "      <th>47</th>\n",
       "      <td>South Dakota</td>\n",
       "      <td>SD</td>\n",
       "      <td>15</td>\n",
       "      <td>neu</td>\n",
       "      <td>0</td>\n",
       "      <td>0</td>\n",
       "      <td>0</td>\n",
       "    </tr>\n",
       "    <tr>\n",
       "      <th>48</th>\n",
       "      <td>Hawaii</td>\n",
       "      <td>HI</td>\n",
       "      <td>16</td>\n",
       "      <td>neu</td>\n",
       "      <td>0</td>\n",
       "      <td>0</td>\n",
       "      <td>0</td>\n",
       "    </tr>\n",
       "    <tr>\n",
       "      <th>49</th>\n",
       "      <td>Maine</td>\n",
       "      <td>ME</td>\n",
       "      <td>4</td>\n",
       "      <td>neu</td>\n",
       "      <td>0</td>\n",
       "      <td>0</td>\n",
       "      <td>0</td>\n",
       "    </tr>\n",
       "    <tr>\n",
       "      <th>50</th>\n",
       "      <td>Vermont</td>\n",
       "      <td>VT</td>\n",
       "      <td>6</td>\n",
       "      <td>neu</td>\n",
       "      <td>0</td>\n",
       "      <td>0</td>\n",
       "      <td>0</td>\n",
       "    </tr>\n",
       "  </tbody>\n",
       "</table>\n",
       "</div>"
      ],
      "text/plain": [
       "                   state code  counts   max_party  dem_counts  rep_counts  \\\n",
       "0                  Texas   TX     637  Republican          11          14   \n",
       "1               Colorado   CO     140  Democratic           4           3   \n",
       "2          Massachusetts   MA     150  Republican           1          16   \n",
       "3                Florida   FL     669  Democratic          40          15   \n",
       "4               New York   NY     465  Democratic          12          11   \n",
       "5           Pennsylvania   PA     194  Democratic           4           1   \n",
       "6                Alabama   AL      80  Democratic           6           2   \n",
       "7         North Carolina   NC     143         neu           2           2   \n",
       "8               Illinois   IL     218  Democratic           8           3   \n",
       "9               Oklahoma   OK      74         neu           0           0   \n",
       "10            California   CA     840  Democratic          23          16   \n",
       "11             Minnesota   MN      77  Democratic           4           0   \n",
       "12              Maryland   MD     123         neu           2           2   \n",
       "13              Kentucky   KY      69  Democratic           4           1   \n",
       "14            New Jersey   NJ     211  Democratic           9           3   \n",
       "15                  Ohio   OH     214  Democratic           7           4   \n",
       "16            Washington   WA     173  Republican           3           8   \n",
       "17  District of Columbia   DC     127  Democratic           9           3   \n",
       "18                Nevada   NV     119         neu           0           0   \n",
       "19               Arizona   AZ     161  Democratic           3           2   \n",
       "20              Arkansas   AR      44  Republican           0           1   \n",
       "21                  Utah   UT      44         neu           0           0   \n",
       "22             Louisiana   LA      56  Democratic           2           1   \n",
       "23              Missouri   MO      95  Republican           2           3   \n",
       "24              Michigan   MI     139  Republican           2           5   \n",
       "25             Wisconsin   WI      65  Republican           1           2   \n",
       "26               Georgia   GA     169  Democratic           8           0   \n",
       "27                  Iowa   IA      42         neu           0           0   \n",
       "28             Tennessee   TN     103  Democratic           3           2   \n",
       "29            New Mexico   NM      47  Republican           0           5   \n",
       "30              Nebraska   NE      37         neu           0           0   \n",
       "31        South Carolina   SC      85  Democratic           3           2   \n",
       "32                Kansas   KS      27         neu           1           1   \n",
       "33          North Dakota   ND       3         neu           0           0   \n",
       "34         New Hampshire   NH      25         neu           0           0   \n",
       "35           Mississippi   MS      24         neu           0           0   \n",
       "36               Montana   MT      16         neu           0           0   \n",
       "37                Oregon   OR     100  Democratic           1           0   \n",
       "38               Indiana   IN      99  Republican           2           3   \n",
       "39              Delaware   DE       9         neu           0           0   \n",
       "40                 Idaho   ID      32  Democratic           2           0   \n",
       "41               Wyoming   WY       8  Republican           0           1   \n",
       "42              Virginia   VA     128  Republican           5           7   \n",
       "43           Connecticut   CT      43         neu           0           0   \n",
       "44         West Virginia   WV       8         neu           0           0   \n",
       "45                Alaska   AK      11         neu           0           0   \n",
       "46          Rhode Island   RI      17         neu           0           0   \n",
       "47          South Dakota   SD      15         neu           0           0   \n",
       "48                Hawaii   HI      16         neu           0           0   \n",
       "49                 Maine   ME       4         neu           0           0   \n",
       "50               Vermont   VT       6         neu           0           0   \n",
       "\n",
       "    ratio  \n",
       "0      -3  \n",
       "1       1  \n",
       "2     -15  \n",
       "3      25  \n",
       "4       1  \n",
       "5       3  \n",
       "6       4  \n",
       "7       0  \n",
       "8       5  \n",
       "9       0  \n",
       "10      7  \n",
       "11      4  \n",
       "12      0  \n",
       "13      3  \n",
       "14      6  \n",
       "15      3  \n",
       "16     -5  \n",
       "17      6  \n",
       "18      0  \n",
       "19      1  \n",
       "20     -1  \n",
       "21      0  \n",
       "22      1  \n",
       "23     -1  \n",
       "24     -3  \n",
       "25     -1  \n",
       "26      8  \n",
       "27      0  \n",
       "28      1  \n",
       "29     -5  \n",
       "30      0  \n",
       "31      1  \n",
       "32      0  \n",
       "33      0  \n",
       "34      0  \n",
       "35      0  \n",
       "36      0  \n",
       "37      1  \n",
       "38     -1  \n",
       "39      0  \n",
       "40      2  \n",
       "41     -1  \n",
       "42     -2  \n",
       "43      0  \n",
       "44      0  \n",
       "45      0  \n",
       "46      0  \n",
       "47      0  \n",
       "48      0  \n",
       "49      0  \n",
       "50      0  "
      ]
     },
     "execution_count": 131,
     "metadata": {},
     "output_type": "execute_result"
    }
   ],
   "source": [
    "state_codes = list(df_viz['code'])\n",
    "polarisation = []\n",
    "demo_counts = []\n",
    "repub_counts = []\n",
    "ratio = []\n",
    "for code in state_codes:\n",
    "    state_tweets = geo_tweets_sample[geo_tweets_sample['state']==code]\n",
    "    parties = list(state_tweets['party'])\n",
    "    demo_counts.append(parties.count('Democratic'))\n",
    "    repub_counts.append(parties.count('Republican'))\n",
    "    ratio.append(parties.count('Democratic') - parties.count('Republican'))\n",
    "    if parties.count('Republican') > parties.count('Democratic'):\n",
    "        polarisation.append('Republican')\n",
    "    elif parties.count('Republican') < parties.count('Democratic'):\n",
    "        polarisation.append('Democratic')\n",
    "    else:\n",
    "        polarisation.append('neu')\n",
    "    #polarisation.append(most_frequent(list(state_tweets['party'])))\n",
    "\n",
    "#print(polarisation)\n",
    "#print(len(state_codes))\n",
    "df_viz['max_party'] = polarisation\n",
    "df_viz['dem_counts'] = demo_counts\n",
    "df_viz['rep_counts'] = repub_counts\n",
    "df_viz['ratio'] = ratio\n",
    "df_viz.to_csv('data/visualisation_data.csv')\n",
    "df_viz"
   ]
  },
  {
   "cell_type": "code",
   "execution_count": 132,
   "metadata": {},
   "outputs": [
    {
     "data": {
      "application/vnd.plotly.v1+json": {
       "config": {
        "plotlyServerURL": "https://plot.ly"
       },
       "data": [
        {
         "coloraxis": "coloraxis",
         "geo": "geo",
         "hovertemplate": "code=%{location}<br>ratio=%{z}<extra></extra>",
         "locationmode": "USA-states",
         "locations": [
          "TX",
          "CO",
          "MA",
          "FL",
          "NY",
          "PA",
          "AL",
          "NC",
          "IL",
          "OK",
          "CA",
          "MN",
          "MD",
          "KY",
          "NJ",
          "OH",
          "WA",
          "DC",
          "NV",
          "AZ",
          "AR",
          "UT",
          "LA",
          "MO",
          "MI",
          "WI",
          "GA",
          "IA",
          "TN",
          "NM",
          "NE",
          "SC",
          "KS",
          "ND",
          "NH",
          "MS",
          "MT",
          "OR",
          "IN",
          "DE",
          "ID",
          "WY",
          "VA",
          "CT",
          "WV",
          "AK",
          "RI",
          "SD",
          "HI",
          "ME",
          "VT"
         ],
         "name": "",
         "type": "choropleth",
         "z": [
          -3,
          1,
          -15,
          25,
          1,
          3,
          4,
          0,
          5,
          0,
          7,
          4,
          0,
          3,
          6,
          3,
          -5,
          6,
          0,
          1,
          -1,
          0,
          1,
          -1,
          -3,
          -1,
          8,
          0,
          1,
          -5,
          0,
          1,
          0,
          0,
          0,
          0,
          0,
          1,
          -1,
          0,
          2,
          -1,
          -2,
          0,
          0,
          0,
          0,
          0,
          0,
          0,
          0
         ]
        }
       ],
       "layout": {
        "coloraxis": {
         "colorbar": {
          "title": {
           "text": "ratio"
          }
         },
         "colorscale": [
          [
           0,
           "rgb(255,0,0)"
          ],
          [
           1,
           "rgb(0,0,255)"
          ]
         ]
        },
        "geo": {
         "center": {},
         "domain": {
          "x": [
           0,
           1
          ],
          "y": [
           0,
           1
          ]
         },
         "scope": "usa"
        },
        "legend": {
         "tracegroupgap": 0
        },
        "margin": {
         "t": 60
        },
        "template": {
         "data": {
          "bar": [
           {
            "error_x": {
             "color": "#2a3f5f"
            },
            "error_y": {
             "color": "#2a3f5f"
            },
            "marker": {
             "line": {
              "color": "#E5ECF6",
              "width": 0.5
             },
             "pattern": {
              "fillmode": "overlay",
              "size": 10,
              "solidity": 0.2
             }
            },
            "type": "bar"
           }
          ],
          "barpolar": [
           {
            "marker": {
             "line": {
              "color": "#E5ECF6",
              "width": 0.5
             },
             "pattern": {
              "fillmode": "overlay",
              "size": 10,
              "solidity": 0.2
             }
            },
            "type": "barpolar"
           }
          ],
          "carpet": [
           {
            "aaxis": {
             "endlinecolor": "#2a3f5f",
             "gridcolor": "white",
             "linecolor": "white",
             "minorgridcolor": "white",
             "startlinecolor": "#2a3f5f"
            },
            "baxis": {
             "endlinecolor": "#2a3f5f",
             "gridcolor": "white",
             "linecolor": "white",
             "minorgridcolor": "white",
             "startlinecolor": "#2a3f5f"
            },
            "type": "carpet"
           }
          ],
          "choropleth": [
           {
            "colorbar": {
             "outlinewidth": 0,
             "ticks": ""
            },
            "type": "choropleth"
           }
          ],
          "contour": [
           {
            "colorbar": {
             "outlinewidth": 0,
             "ticks": ""
            },
            "colorscale": [
             [
              0,
              "#0d0887"
             ],
             [
              0.1111111111111111,
              "#46039f"
             ],
             [
              0.2222222222222222,
              "#7201a8"
             ],
             [
              0.3333333333333333,
              "#9c179e"
             ],
             [
              0.4444444444444444,
              "#bd3786"
             ],
             [
              0.5555555555555556,
              "#d8576b"
             ],
             [
              0.6666666666666666,
              "#ed7953"
             ],
             [
              0.7777777777777778,
              "#fb9f3a"
             ],
             [
              0.8888888888888888,
              "#fdca26"
             ],
             [
              1,
              "#f0f921"
             ]
            ],
            "type": "contour"
           }
          ],
          "contourcarpet": [
           {
            "colorbar": {
             "outlinewidth": 0,
             "ticks": ""
            },
            "type": "contourcarpet"
           }
          ],
          "heatmap": [
           {
            "colorbar": {
             "outlinewidth": 0,
             "ticks": ""
            },
            "colorscale": [
             [
              0,
              "#0d0887"
             ],
             [
              0.1111111111111111,
              "#46039f"
             ],
             [
              0.2222222222222222,
              "#7201a8"
             ],
             [
              0.3333333333333333,
              "#9c179e"
             ],
             [
              0.4444444444444444,
              "#bd3786"
             ],
             [
              0.5555555555555556,
              "#d8576b"
             ],
             [
              0.6666666666666666,
              "#ed7953"
             ],
             [
              0.7777777777777778,
              "#fb9f3a"
             ],
             [
              0.8888888888888888,
              "#fdca26"
             ],
             [
              1,
              "#f0f921"
             ]
            ],
            "type": "heatmap"
           }
          ],
          "heatmapgl": [
           {
            "colorbar": {
             "outlinewidth": 0,
             "ticks": ""
            },
            "colorscale": [
             [
              0,
              "#0d0887"
             ],
             [
              0.1111111111111111,
              "#46039f"
             ],
             [
              0.2222222222222222,
              "#7201a8"
             ],
             [
              0.3333333333333333,
              "#9c179e"
             ],
             [
              0.4444444444444444,
              "#bd3786"
             ],
             [
              0.5555555555555556,
              "#d8576b"
             ],
             [
              0.6666666666666666,
              "#ed7953"
             ],
             [
              0.7777777777777778,
              "#fb9f3a"
             ],
             [
              0.8888888888888888,
              "#fdca26"
             ],
             [
              1,
              "#f0f921"
             ]
            ],
            "type": "heatmapgl"
           }
          ],
          "histogram": [
           {
            "marker": {
             "pattern": {
              "fillmode": "overlay",
              "size": 10,
              "solidity": 0.2
             }
            },
            "type": "histogram"
           }
          ],
          "histogram2d": [
           {
            "colorbar": {
             "outlinewidth": 0,
             "ticks": ""
            },
            "colorscale": [
             [
              0,
              "#0d0887"
             ],
             [
              0.1111111111111111,
              "#46039f"
             ],
             [
              0.2222222222222222,
              "#7201a8"
             ],
             [
              0.3333333333333333,
              "#9c179e"
             ],
             [
              0.4444444444444444,
              "#bd3786"
             ],
             [
              0.5555555555555556,
              "#d8576b"
             ],
             [
              0.6666666666666666,
              "#ed7953"
             ],
             [
              0.7777777777777778,
              "#fb9f3a"
             ],
             [
              0.8888888888888888,
              "#fdca26"
             ],
             [
              1,
              "#f0f921"
             ]
            ],
            "type": "histogram2d"
           }
          ],
          "histogram2dcontour": [
           {
            "colorbar": {
             "outlinewidth": 0,
             "ticks": ""
            },
            "colorscale": [
             [
              0,
              "#0d0887"
             ],
             [
              0.1111111111111111,
              "#46039f"
             ],
             [
              0.2222222222222222,
              "#7201a8"
             ],
             [
              0.3333333333333333,
              "#9c179e"
             ],
             [
              0.4444444444444444,
              "#bd3786"
             ],
             [
              0.5555555555555556,
              "#d8576b"
             ],
             [
              0.6666666666666666,
              "#ed7953"
             ],
             [
              0.7777777777777778,
              "#fb9f3a"
             ],
             [
              0.8888888888888888,
              "#fdca26"
             ],
             [
              1,
              "#f0f921"
             ]
            ],
            "type": "histogram2dcontour"
           }
          ],
          "mesh3d": [
           {
            "colorbar": {
             "outlinewidth": 0,
             "ticks": ""
            },
            "type": "mesh3d"
           }
          ],
          "parcoords": [
           {
            "line": {
             "colorbar": {
              "outlinewidth": 0,
              "ticks": ""
             }
            },
            "type": "parcoords"
           }
          ],
          "pie": [
           {
            "automargin": true,
            "type": "pie"
           }
          ],
          "scatter": [
           {
            "fillpattern": {
             "fillmode": "overlay",
             "size": 10,
             "solidity": 0.2
            },
            "type": "scatter"
           }
          ],
          "scatter3d": [
           {
            "line": {
             "colorbar": {
              "outlinewidth": 0,
              "ticks": ""
             }
            },
            "marker": {
             "colorbar": {
              "outlinewidth": 0,
              "ticks": ""
             }
            },
            "type": "scatter3d"
           }
          ],
          "scattercarpet": [
           {
            "marker": {
             "colorbar": {
              "outlinewidth": 0,
              "ticks": ""
             }
            },
            "type": "scattercarpet"
           }
          ],
          "scattergeo": [
           {
            "marker": {
             "colorbar": {
              "outlinewidth": 0,
              "ticks": ""
             }
            },
            "type": "scattergeo"
           }
          ],
          "scattergl": [
           {
            "marker": {
             "colorbar": {
              "outlinewidth": 0,
              "ticks": ""
             }
            },
            "type": "scattergl"
           }
          ],
          "scattermapbox": [
           {
            "marker": {
             "colorbar": {
              "outlinewidth": 0,
              "ticks": ""
             }
            },
            "type": "scattermapbox"
           }
          ],
          "scatterpolar": [
           {
            "marker": {
             "colorbar": {
              "outlinewidth": 0,
              "ticks": ""
             }
            },
            "type": "scatterpolar"
           }
          ],
          "scatterpolargl": [
           {
            "marker": {
             "colorbar": {
              "outlinewidth": 0,
              "ticks": ""
             }
            },
            "type": "scatterpolargl"
           }
          ],
          "scatterternary": [
           {
            "marker": {
             "colorbar": {
              "outlinewidth": 0,
              "ticks": ""
             }
            },
            "type": "scatterternary"
           }
          ],
          "surface": [
           {
            "colorbar": {
             "outlinewidth": 0,
             "ticks": ""
            },
            "colorscale": [
             [
              0,
              "#0d0887"
             ],
             [
              0.1111111111111111,
              "#46039f"
             ],
             [
              0.2222222222222222,
              "#7201a8"
             ],
             [
              0.3333333333333333,
              "#9c179e"
             ],
             [
              0.4444444444444444,
              "#bd3786"
             ],
             [
              0.5555555555555556,
              "#d8576b"
             ],
             [
              0.6666666666666666,
              "#ed7953"
             ],
             [
              0.7777777777777778,
              "#fb9f3a"
             ],
             [
              0.8888888888888888,
              "#fdca26"
             ],
             [
              1,
              "#f0f921"
             ]
            ],
            "type": "surface"
           }
          ],
          "table": [
           {
            "cells": {
             "fill": {
              "color": "#EBF0F8"
             },
             "line": {
              "color": "white"
             }
            },
            "header": {
             "fill": {
              "color": "#C8D4E3"
             },
             "line": {
              "color": "white"
             }
            },
            "type": "table"
           }
          ]
         },
         "layout": {
          "annotationdefaults": {
           "arrowcolor": "#2a3f5f",
           "arrowhead": 0,
           "arrowwidth": 1
          },
          "autotypenumbers": "strict",
          "coloraxis": {
           "colorbar": {
            "outlinewidth": 0,
            "ticks": ""
           }
          },
          "colorscale": {
           "diverging": [
            [
             0,
             "#8e0152"
            ],
            [
             0.1,
             "#c51b7d"
            ],
            [
             0.2,
             "#de77ae"
            ],
            [
             0.3,
             "#f1b6da"
            ],
            [
             0.4,
             "#fde0ef"
            ],
            [
             0.5,
             "#f7f7f7"
            ],
            [
             0.6,
             "#e6f5d0"
            ],
            [
             0.7,
             "#b8e186"
            ],
            [
             0.8,
             "#7fbc41"
            ],
            [
             0.9,
             "#4d9221"
            ],
            [
             1,
             "#276419"
            ]
           ],
           "sequential": [
            [
             0,
             "#0d0887"
            ],
            [
             0.1111111111111111,
             "#46039f"
            ],
            [
             0.2222222222222222,
             "#7201a8"
            ],
            [
             0.3333333333333333,
             "#9c179e"
            ],
            [
             0.4444444444444444,
             "#bd3786"
            ],
            [
             0.5555555555555556,
             "#d8576b"
            ],
            [
             0.6666666666666666,
             "#ed7953"
            ],
            [
             0.7777777777777778,
             "#fb9f3a"
            ],
            [
             0.8888888888888888,
             "#fdca26"
            ],
            [
             1,
             "#f0f921"
            ]
           ],
           "sequentialminus": [
            [
             0,
             "#0d0887"
            ],
            [
             0.1111111111111111,
             "#46039f"
            ],
            [
             0.2222222222222222,
             "#7201a8"
            ],
            [
             0.3333333333333333,
             "#9c179e"
            ],
            [
             0.4444444444444444,
             "#bd3786"
            ],
            [
             0.5555555555555556,
             "#d8576b"
            ],
            [
             0.6666666666666666,
             "#ed7953"
            ],
            [
             0.7777777777777778,
             "#fb9f3a"
            ],
            [
             0.8888888888888888,
             "#fdca26"
            ],
            [
             1,
             "#f0f921"
            ]
           ]
          },
          "colorway": [
           "#636efa",
           "#EF553B",
           "#00cc96",
           "#ab63fa",
           "#FFA15A",
           "#19d3f3",
           "#FF6692",
           "#B6E880",
           "#FF97FF",
           "#FECB52"
          ],
          "font": {
           "color": "#2a3f5f"
          },
          "geo": {
           "bgcolor": "white",
           "lakecolor": "white",
           "landcolor": "#E5ECF6",
           "showlakes": true,
           "showland": true,
           "subunitcolor": "white"
          },
          "hoverlabel": {
           "align": "left"
          },
          "hovermode": "closest",
          "mapbox": {
           "style": "light"
          },
          "paper_bgcolor": "white",
          "plot_bgcolor": "#E5ECF6",
          "polar": {
           "angularaxis": {
            "gridcolor": "white",
            "linecolor": "white",
            "ticks": ""
           },
           "bgcolor": "#E5ECF6",
           "radialaxis": {
            "gridcolor": "white",
            "linecolor": "white",
            "ticks": ""
           }
          },
          "scene": {
           "xaxis": {
            "backgroundcolor": "#E5ECF6",
            "gridcolor": "white",
            "gridwidth": 2,
            "linecolor": "white",
            "showbackground": true,
            "ticks": "",
            "zerolinecolor": "white"
           },
           "yaxis": {
            "backgroundcolor": "#E5ECF6",
            "gridcolor": "white",
            "gridwidth": 2,
            "linecolor": "white",
            "showbackground": true,
            "ticks": "",
            "zerolinecolor": "white"
           },
           "zaxis": {
            "backgroundcolor": "#E5ECF6",
            "gridcolor": "white",
            "gridwidth": 2,
            "linecolor": "white",
            "showbackground": true,
            "ticks": "",
            "zerolinecolor": "white"
           }
          },
          "shapedefaults": {
           "line": {
            "color": "#2a3f5f"
           }
          },
          "ternary": {
           "aaxis": {
            "gridcolor": "white",
            "linecolor": "white",
            "ticks": ""
           },
           "baxis": {
            "gridcolor": "white",
            "linecolor": "white",
            "ticks": ""
           },
           "bgcolor": "#E5ECF6",
           "caxis": {
            "gridcolor": "white",
            "linecolor": "white",
            "ticks": ""
           }
          },
          "title": {
           "x": 0.05
          },
          "xaxis": {
           "automargin": true,
           "gridcolor": "white",
           "linecolor": "white",
           "ticks": "",
           "title": {
            "standoff": 15
           },
           "zerolinecolor": "white",
           "zerolinewidth": 2
          },
          "yaxis": {
           "automargin": true,
           "gridcolor": "white",
           "linecolor": "white",
           "ticks": "",
           "title": {
            "standoff": 15
           },
           "zerolinecolor": "white",
           "zerolinewidth": 2
          }
         }
        }
       }
      },
      "text/html": [
       "<div>                            <div id=\"b825197c-df3c-4b5a-ad50-395c52c29c9b\" class=\"plotly-graph-div\" style=\"height:525px; width:100%;\"></div>            <script type=\"text/javascript\">                require([\"plotly\"], function(Plotly) {                    window.PLOTLYENV=window.PLOTLYENV || {};                                    if (document.getElementById(\"b825197c-df3c-4b5a-ad50-395c52c29c9b\")) {                    Plotly.newPlot(                        \"b825197c-df3c-4b5a-ad50-395c52c29c9b\",                        [{\"coloraxis\":\"coloraxis\",\"geo\":\"geo\",\"hovertemplate\":\"code=%{location}<br>ratio=%{z}<extra></extra>\",\"locationmode\":\"USA-states\",\"locations\":[\"TX\",\"CO\",\"MA\",\"FL\",\"NY\",\"PA\",\"AL\",\"NC\",\"IL\",\"OK\",\"CA\",\"MN\",\"MD\",\"KY\",\"NJ\",\"OH\",\"WA\",\"DC\",\"NV\",\"AZ\",\"AR\",\"UT\",\"LA\",\"MO\",\"MI\",\"WI\",\"GA\",\"IA\",\"TN\",\"NM\",\"NE\",\"SC\",\"KS\",\"ND\",\"NH\",\"MS\",\"MT\",\"OR\",\"IN\",\"DE\",\"ID\",\"WY\",\"VA\",\"CT\",\"WV\",\"AK\",\"RI\",\"SD\",\"HI\",\"ME\",\"VT\"],\"name\":\"\",\"z\":[-3,1,-15,25,1,3,4,0,5,0,7,4,0,3,6,3,-5,6,0,1,-1,0,1,-1,-3,-1,8,0,1,-5,0,1,0,0,0,0,0,1,-1,0,2,-1,-2,0,0,0,0,0,0,0,0],\"type\":\"choropleth\"}],                        {\"template\":{\"data\":{\"histogram2dcontour\":[{\"type\":\"histogram2dcontour\",\"colorbar\":{\"outlinewidth\":0,\"ticks\":\"\"},\"colorscale\":[[0.0,\"#0d0887\"],[0.1111111111111111,\"#46039f\"],[0.2222222222222222,\"#7201a8\"],[0.3333333333333333,\"#9c179e\"],[0.4444444444444444,\"#bd3786\"],[0.5555555555555556,\"#d8576b\"],[0.6666666666666666,\"#ed7953\"],[0.7777777777777778,\"#fb9f3a\"],[0.8888888888888888,\"#fdca26\"],[1.0,\"#f0f921\"]]}],\"choropleth\":[{\"type\":\"choropleth\",\"colorbar\":{\"outlinewidth\":0,\"ticks\":\"\"}}],\"histogram2d\":[{\"type\":\"histogram2d\",\"colorbar\":{\"outlinewidth\":0,\"ticks\":\"\"},\"colorscale\":[[0.0,\"#0d0887\"],[0.1111111111111111,\"#46039f\"],[0.2222222222222222,\"#7201a8\"],[0.3333333333333333,\"#9c179e\"],[0.4444444444444444,\"#bd3786\"],[0.5555555555555556,\"#d8576b\"],[0.6666666666666666,\"#ed7953\"],[0.7777777777777778,\"#fb9f3a\"],[0.8888888888888888,\"#fdca26\"],[1.0,\"#f0f921\"]]}],\"heatmap\":[{\"type\":\"heatmap\",\"colorbar\":{\"outlinewidth\":0,\"ticks\":\"\"},\"colorscale\":[[0.0,\"#0d0887\"],[0.1111111111111111,\"#46039f\"],[0.2222222222222222,\"#7201a8\"],[0.3333333333333333,\"#9c179e\"],[0.4444444444444444,\"#bd3786\"],[0.5555555555555556,\"#d8576b\"],[0.6666666666666666,\"#ed7953\"],[0.7777777777777778,\"#fb9f3a\"],[0.8888888888888888,\"#fdca26\"],[1.0,\"#f0f921\"]]}],\"heatmapgl\":[{\"type\":\"heatmapgl\",\"colorbar\":{\"outlinewidth\":0,\"ticks\":\"\"},\"colorscale\":[[0.0,\"#0d0887\"],[0.1111111111111111,\"#46039f\"],[0.2222222222222222,\"#7201a8\"],[0.3333333333333333,\"#9c179e\"],[0.4444444444444444,\"#bd3786\"],[0.5555555555555556,\"#d8576b\"],[0.6666666666666666,\"#ed7953\"],[0.7777777777777778,\"#fb9f3a\"],[0.8888888888888888,\"#fdca26\"],[1.0,\"#f0f921\"]]}],\"contourcarpet\":[{\"type\":\"contourcarpet\",\"colorbar\":{\"outlinewidth\":0,\"ticks\":\"\"}}],\"contour\":[{\"type\":\"contour\",\"colorbar\":{\"outlinewidth\":0,\"ticks\":\"\"},\"colorscale\":[[0.0,\"#0d0887\"],[0.1111111111111111,\"#46039f\"],[0.2222222222222222,\"#7201a8\"],[0.3333333333333333,\"#9c179e\"],[0.4444444444444444,\"#bd3786\"],[0.5555555555555556,\"#d8576b\"],[0.6666666666666666,\"#ed7953\"],[0.7777777777777778,\"#fb9f3a\"],[0.8888888888888888,\"#fdca26\"],[1.0,\"#f0f921\"]]}],\"surface\":[{\"type\":\"surface\",\"colorbar\":{\"outlinewidth\":0,\"ticks\":\"\"},\"colorscale\":[[0.0,\"#0d0887\"],[0.1111111111111111,\"#46039f\"],[0.2222222222222222,\"#7201a8\"],[0.3333333333333333,\"#9c179e\"],[0.4444444444444444,\"#bd3786\"],[0.5555555555555556,\"#d8576b\"],[0.6666666666666666,\"#ed7953\"],[0.7777777777777778,\"#fb9f3a\"],[0.8888888888888888,\"#fdca26\"],[1.0,\"#f0f921\"]]}],\"mesh3d\":[{\"type\":\"mesh3d\",\"colorbar\":{\"outlinewidth\":0,\"ticks\":\"\"}}],\"scatter\":[{\"fillpattern\":{\"fillmode\":\"overlay\",\"size\":10,\"solidity\":0.2},\"type\":\"scatter\"}],\"parcoords\":[{\"type\":\"parcoords\",\"line\":{\"colorbar\":{\"outlinewidth\":0,\"ticks\":\"\"}}}],\"scatterpolargl\":[{\"type\":\"scatterpolargl\",\"marker\":{\"colorbar\":{\"outlinewidth\":0,\"ticks\":\"\"}}}],\"bar\":[{\"error_x\":{\"color\":\"#2a3f5f\"},\"error_y\":{\"color\":\"#2a3f5f\"},\"marker\":{\"line\":{\"color\":\"#E5ECF6\",\"width\":0.5},\"pattern\":{\"fillmode\":\"overlay\",\"size\":10,\"solidity\":0.2}},\"type\":\"bar\"}],\"scattergeo\":[{\"type\":\"scattergeo\",\"marker\":{\"colorbar\":{\"outlinewidth\":0,\"ticks\":\"\"}}}],\"scatterpolar\":[{\"type\":\"scatterpolar\",\"marker\":{\"colorbar\":{\"outlinewidth\":0,\"ticks\":\"\"}}}],\"histogram\":[{\"marker\":{\"pattern\":{\"fillmode\":\"overlay\",\"size\":10,\"solidity\":0.2}},\"type\":\"histogram\"}],\"scattergl\":[{\"type\":\"scattergl\",\"marker\":{\"colorbar\":{\"outlinewidth\":0,\"ticks\":\"\"}}}],\"scatter3d\":[{\"type\":\"scatter3d\",\"line\":{\"colorbar\":{\"outlinewidth\":0,\"ticks\":\"\"}},\"marker\":{\"colorbar\":{\"outlinewidth\":0,\"ticks\":\"\"}}}],\"scattermapbox\":[{\"type\":\"scattermapbox\",\"marker\":{\"colorbar\":{\"outlinewidth\":0,\"ticks\":\"\"}}}],\"scatterternary\":[{\"type\":\"scatterternary\",\"marker\":{\"colorbar\":{\"outlinewidth\":0,\"ticks\":\"\"}}}],\"scattercarpet\":[{\"type\":\"scattercarpet\",\"marker\":{\"colorbar\":{\"outlinewidth\":0,\"ticks\":\"\"}}}],\"carpet\":[{\"aaxis\":{\"endlinecolor\":\"#2a3f5f\",\"gridcolor\":\"white\",\"linecolor\":\"white\",\"minorgridcolor\":\"white\",\"startlinecolor\":\"#2a3f5f\"},\"baxis\":{\"endlinecolor\":\"#2a3f5f\",\"gridcolor\":\"white\",\"linecolor\":\"white\",\"minorgridcolor\":\"white\",\"startlinecolor\":\"#2a3f5f\"},\"type\":\"carpet\"}],\"table\":[{\"cells\":{\"fill\":{\"color\":\"#EBF0F8\"},\"line\":{\"color\":\"white\"}},\"header\":{\"fill\":{\"color\":\"#C8D4E3\"},\"line\":{\"color\":\"white\"}},\"type\":\"table\"}],\"barpolar\":[{\"marker\":{\"line\":{\"color\":\"#E5ECF6\",\"width\":0.5},\"pattern\":{\"fillmode\":\"overlay\",\"size\":10,\"solidity\":0.2}},\"type\":\"barpolar\"}],\"pie\":[{\"automargin\":true,\"type\":\"pie\"}]},\"layout\":{\"autotypenumbers\":\"strict\",\"colorway\":[\"#636efa\",\"#EF553B\",\"#00cc96\",\"#ab63fa\",\"#FFA15A\",\"#19d3f3\",\"#FF6692\",\"#B6E880\",\"#FF97FF\",\"#FECB52\"],\"font\":{\"color\":\"#2a3f5f\"},\"hovermode\":\"closest\",\"hoverlabel\":{\"align\":\"left\"},\"paper_bgcolor\":\"white\",\"plot_bgcolor\":\"#E5ECF6\",\"polar\":{\"bgcolor\":\"#E5ECF6\",\"angularaxis\":{\"gridcolor\":\"white\",\"linecolor\":\"white\",\"ticks\":\"\"},\"radialaxis\":{\"gridcolor\":\"white\",\"linecolor\":\"white\",\"ticks\":\"\"}},\"ternary\":{\"bgcolor\":\"#E5ECF6\",\"aaxis\":{\"gridcolor\":\"white\",\"linecolor\":\"white\",\"ticks\":\"\"},\"baxis\":{\"gridcolor\":\"white\",\"linecolor\":\"white\",\"ticks\":\"\"},\"caxis\":{\"gridcolor\":\"white\",\"linecolor\":\"white\",\"ticks\":\"\"}},\"coloraxis\":{\"colorbar\":{\"outlinewidth\":0,\"ticks\":\"\"}},\"colorscale\":{\"sequential\":[[0.0,\"#0d0887\"],[0.1111111111111111,\"#46039f\"],[0.2222222222222222,\"#7201a8\"],[0.3333333333333333,\"#9c179e\"],[0.4444444444444444,\"#bd3786\"],[0.5555555555555556,\"#d8576b\"],[0.6666666666666666,\"#ed7953\"],[0.7777777777777778,\"#fb9f3a\"],[0.8888888888888888,\"#fdca26\"],[1.0,\"#f0f921\"]],\"sequentialminus\":[[0.0,\"#0d0887\"],[0.1111111111111111,\"#46039f\"],[0.2222222222222222,\"#7201a8\"],[0.3333333333333333,\"#9c179e\"],[0.4444444444444444,\"#bd3786\"],[0.5555555555555556,\"#d8576b\"],[0.6666666666666666,\"#ed7953\"],[0.7777777777777778,\"#fb9f3a\"],[0.8888888888888888,\"#fdca26\"],[1.0,\"#f0f921\"]],\"diverging\":[[0,\"#8e0152\"],[0.1,\"#c51b7d\"],[0.2,\"#de77ae\"],[0.3,\"#f1b6da\"],[0.4,\"#fde0ef\"],[0.5,\"#f7f7f7\"],[0.6,\"#e6f5d0\"],[0.7,\"#b8e186\"],[0.8,\"#7fbc41\"],[0.9,\"#4d9221\"],[1,\"#276419\"]]},\"xaxis\":{\"gridcolor\":\"white\",\"linecolor\":\"white\",\"ticks\":\"\",\"title\":{\"standoff\":15},\"zerolinecolor\":\"white\",\"automargin\":true,\"zerolinewidth\":2},\"yaxis\":{\"gridcolor\":\"white\",\"linecolor\":\"white\",\"ticks\":\"\",\"title\":{\"standoff\":15},\"zerolinecolor\":\"white\",\"automargin\":true,\"zerolinewidth\":2},\"scene\":{\"xaxis\":{\"backgroundcolor\":\"#E5ECF6\",\"gridcolor\":\"white\",\"linecolor\":\"white\",\"showbackground\":true,\"ticks\":\"\",\"zerolinecolor\":\"white\",\"gridwidth\":2},\"yaxis\":{\"backgroundcolor\":\"#E5ECF6\",\"gridcolor\":\"white\",\"linecolor\":\"white\",\"showbackground\":true,\"ticks\":\"\",\"zerolinecolor\":\"white\",\"gridwidth\":2},\"zaxis\":{\"backgroundcolor\":\"#E5ECF6\",\"gridcolor\":\"white\",\"linecolor\":\"white\",\"showbackground\":true,\"ticks\":\"\",\"zerolinecolor\":\"white\",\"gridwidth\":2}},\"shapedefaults\":{\"line\":{\"color\":\"#2a3f5f\"}},\"annotationdefaults\":{\"arrowcolor\":\"#2a3f5f\",\"arrowhead\":0,\"arrowwidth\":1},\"geo\":{\"bgcolor\":\"white\",\"landcolor\":\"#E5ECF6\",\"subunitcolor\":\"white\",\"showland\":true,\"showlakes\":true,\"lakecolor\":\"white\"},\"title\":{\"x\":0.05},\"mapbox\":{\"style\":\"light\"}}},\"geo\":{\"domain\":{\"x\":[0.0,1.0],\"y\":[0.0,1.0]},\"center\":{},\"scope\":\"usa\"},\"coloraxis\":{\"colorbar\":{\"title\":{\"text\":\"ratio\"}},\"colorscale\":[[0.0,\"rgb(255,0,0)\"],[1.0,\"rgb(0,0,255)\"]]},\"legend\":{\"tracegroupgap\":0},\"margin\":{\"t\":60}},                        {\"responsive\": true}                    ).then(function(){\n",
       "                            \n",
       "var gd = document.getElementById('b825197c-df3c-4b5a-ad50-395c52c29c9b');\n",
       "var x = new MutationObserver(function (mutations, observer) {{\n",
       "        var display = window.getComputedStyle(gd).display;\n",
       "        if (!display || display === 'none') {{\n",
       "            console.log([gd, 'removed!']);\n",
       "            Plotly.purge(gd);\n",
       "            observer.disconnect();\n",
       "        }}\n",
       "}});\n",
       "\n",
       "// Listen for the removal of the full notebook cells\n",
       "var notebookContainer = gd.closest('#notebook-container');\n",
       "if (notebookContainer) {{\n",
       "    x.observe(notebookContainer, {childList: true});\n",
       "}}\n",
       "\n",
       "// Listen for the clearing of the current output cell\n",
       "var outputEl = gd.closest('.output');\n",
       "if (outputEl) {{\n",
       "    x.observe(outputEl, {childList: true});\n",
       "}}\n",
       "\n",
       "                        })                };                });            </script>        </div>"
      ]
     },
     "metadata": {},
     "output_type": "display_data"
    }
   ],
   "source": [
    "fig = px.choropleth(df_viz,\n",
    "                    locations='code', \n",
    "                    locationmode=\"USA-states\", \n",
    "                    scope=\"usa\",\n",
    "                    color='ratio',\n",
    "                    color_continuous_scale=\"Bluered_r\", \n",
    "                    \n",
    "                    )\n",
    "fig.show()"
   ]
  },
  {
   "cell_type": "code",
   "execution_count": null,
   "metadata": {},
   "outputs": [],
   "source": []
  }
 ],
 "metadata": {
  "kernelspec": {
   "display_name": "Python 3",
   "language": "python",
   "name": "python3"
  },
  "language_info": {
   "codemirror_mode": {
    "name": "ipython",
    "version": 3
   },
   "file_extension": ".py",
   "mimetype": "text/x-python",
   "name": "python",
   "nbconvert_exporter": "python",
   "pygments_lexer": "ipython3",
   "version": "3.8.11"
  }
 },
 "nbformat": 4,
 "nbformat_minor": 4
}
