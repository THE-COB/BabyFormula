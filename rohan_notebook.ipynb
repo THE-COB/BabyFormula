{
 "cells": [
  {
   "cell_type": "code",
   "execution_count": 1,
   "id": "6241aea3-fd84-48d1-9ef9-91d6b6abf772",
   "metadata": {},
   "outputs": [],
   "source": [
    "import json\n",
    "import pandas as pd\n",
    "import seaborn as sns"
   ]
  },
  {
   "cell_type": "code",
   "execution_count": 2,
   "id": "e5a8fdec-241b-490a-9322-be26ae07258a",
   "metadata": {},
   "outputs": [],
   "source": [
    "all_tweets = pd.read_json(\"data/baby_formula.json\")"
   ]
  },
  {
   "cell_type": "code",
   "execution_count": 3,
   "id": "1a93584f-0f83-479e-a4ee-a63930801ce3",
   "metadata": {},
   "outputs": [
    {
     "data": {
      "text/html": [
       "<div>\n",
       "<style scoped>\n",
       "    .dataframe tbody tr th:only-of-type {\n",
       "        vertical-align: middle;\n",
       "    }\n",
       "\n",
       "    .dataframe tbody tr th {\n",
       "        vertical-align: top;\n",
       "    }\n",
       "\n",
       "    .dataframe thead th {\n",
       "        text-align: right;\n",
       "    }\n",
       "</style>\n",
       "<table border=\"1\" class=\"dataframe\">\n",
       "  <thead>\n",
       "    <tr style=\"text-align: right;\">\n",
       "      <th></th>\n",
       "      <th>id</th>\n",
       "      <th>text</th>\n",
       "      <th>author_id</th>\n",
       "      <th>created_at</th>\n",
       "      <th>public_metrics</th>\n",
       "      <th>entities</th>\n",
       "      <th>author</th>\n",
       "      <th>withheld</th>\n",
       "    </tr>\n",
       "  </thead>\n",
       "  <tbody>\n",
       "    <tr>\n",
       "      <th>346852</th>\n",
       "      <td>1525100221943930880</td>\n",
       "      <td>@K_JeanPierre Democrat Men, your all in this t...</td>\n",
       "      <td>1451904065588367360</td>\n",
       "      <td>2022-05-13 13:06:42+00:00</td>\n",
       "      <td>{'retweet_count': 0, 'reply_count': 0, 'like_c...</td>\n",
       "      <td>{'mentions': [{'start': 0, 'end': 13, 'usernam...</td>\n",
       "      <td>{'public_metrics': {'followers_count': 8, 'fol...</td>\n",
       "      <td>NaN</td>\n",
       "    </tr>\n",
       "    <tr>\n",
       "      <th>518389</th>\n",
       "      <td>1523821665393815552</td>\n",
       "      <td>Yeah cuz thats important right now.  How about...</td>\n",
       "      <td>1514716656282525696</td>\n",
       "      <td>2022-05-10 00:26:10+00:00</td>\n",
       "      <td>{'retweet_count': 0, 'reply_count': 0, 'like_c...</td>\n",
       "      <td>{'urls': [{'start': 149, 'end': 172, 'url': 'h...</td>\n",
       "      <td>{'public_metrics': {'followers_count': 16, 'fo...</td>\n",
       "      <td>NaN</td>\n",
       "    </tr>\n",
       "    <tr>\n",
       "      <th>360</th>\n",
       "      <td>1527875362364936192</td>\n",
       "      <td>\"Breast is best\" now belongs to the elites. ht...</td>\n",
       "      <td>16420692</td>\n",
       "      <td>2022-05-21 04:54:07+00:00</td>\n",
       "      <td>{'retweet_count': 0, 'reply_count': 0, 'like_c...</td>\n",
       "      <td>{'urls': [{'start': 44, 'end': 67, 'url': 'htt...</td>\n",
       "      <td>{'created_at': '2008-09-23T15:47:08.000Z', 'us...</td>\n",
       "      <td>NaN</td>\n",
       "    </tr>\n",
       "    <tr>\n",
       "      <th>460781</th>\n",
       "      <td>1524467272399527936</td>\n",
       "      <td>All of this money, but somehow the United Stat...</td>\n",
       "      <td>2274042686</td>\n",
       "      <td>2022-05-11 19:11:35+00:00</td>\n",
       "      <td>{'retweet_count': 1, 'reply_count': 0, 'like_c...</td>\n",
       "      <td>{'annotations': [{'start': 35, 'end': 47, 'pro...</td>\n",
       "      <td>{'id': '2274042686', 'username': 'SaveByLessar...</td>\n",
       "      <td>NaN</td>\n",
       "    </tr>\n",
       "    <tr>\n",
       "      <th>246079</th>\n",
       "      <td>1525575725159677952</td>\n",
       "      <td>@JesseKellyDC How dare you! And I bet you have...</td>\n",
       "      <td>307536064</td>\n",
       "      <td>2022-05-14 20:36:11+00:00</td>\n",
       "      <td>{'retweet_count': 0, 'reply_count': 0, 'like_c...</td>\n",
       "      <td>{'mentions': [{'start': 0, 'end': 13, 'usernam...</td>\n",
       "      <td>{'verified': False, 'name': 'HaPy', 'username'...</td>\n",
       "      <td>NaN</td>\n",
       "    </tr>\n",
       "    <tr>\n",
       "      <th>...</th>\n",
       "      <td>...</td>\n",
       "      <td>...</td>\n",
       "      <td>...</td>\n",
       "      <td>...</td>\n",
       "      <td>...</td>\n",
       "      <td>...</td>\n",
       "      <td>...</td>\n",
       "      <td>...</td>\n",
       "    </tr>\n",
       "    <tr>\n",
       "      <th>142286</th>\n",
       "      <td>1526920202369253376</td>\n",
       "      <td>@1WitchyChick @Ann_Kelly007 @ErinJH_9011 @even...</td>\n",
       "      <td>174007151</td>\n",
       "      <td>2022-05-18 13:38:39+00:00</td>\n",
       "      <td>{'retweet_count': 0, 'reply_count': 0, 'like_c...</td>\n",
       "      <td>{'mentions': [{'start': 0, 'end': 13, 'usernam...</td>\n",
       "      <td>{'id': '174007151', 'username': 'Xenomorph10',...</td>\n",
       "      <td>NaN</td>\n",
       "    </tr>\n",
       "    <tr>\n",
       "      <th>464446</th>\n",
       "      <td>1524444764401242112</td>\n",
       "      <td>@DrJBhattacharya Is it true pallets of infant ...</td>\n",
       "      <td>2499831370</td>\n",
       "      <td>2022-05-11 17:42:09+00:00</td>\n",
       "      <td>{'retweet_count': 0, 'reply_count': 0, 'like_c...</td>\n",
       "      <td>{'mentions': [{'start': 0, 'end': 16, 'usernam...</td>\n",
       "      <td>{'name': 'Cynthia Spradlin', 'created_at': '20...</td>\n",
       "      <td>NaN</td>\n",
       "    </tr>\n",
       "    <tr>\n",
       "      <th>326445</th>\n",
       "      <td>1525166508598513664</td>\n",
       "      <td>John Legend reacted to the Republican congress...</td>\n",
       "      <td>9695312</td>\n",
       "      <td>2022-05-13 17:30:06+00:00</td>\n",
       "      <td>{'retweet_count': 20, 'reply_count': 9, 'like_...</td>\n",
       "      <td>{'urls': [{'start': 115, 'end': 138, 'url': 'h...</td>\n",
       "      <td>{'created_at': '2007-10-25T21:33:23.000Z', 'id...</td>\n",
       "      <td>NaN</td>\n",
       "    </tr>\n",
       "    <tr>\n",
       "      <th>133760</th>\n",
       "      <td>1526996214214008832</td>\n",
       "      <td>@cvpayne @GaryKaltbaum\\n@FoxBusiness If Pelosi...</td>\n",
       "      <td>1424820416921616384</td>\n",
       "      <td>2022-05-18 18:40:42+00:00</td>\n",
       "      <td>{'retweet_count': 0, 'reply_count': 0, 'like_c...</td>\n",
       "      <td>{'hashtags': [{'start': 82, 'end': 100, 'tag':...</td>\n",
       "      <td>{'created_at': '2021-08-09T19:50:59.000Z', 'na...</td>\n",
       "      <td>NaN</td>\n",
       "    </tr>\n",
       "    <tr>\n",
       "      <th>270965</th>\n",
       "      <td>1525453184411508736</td>\n",
       "      <td>@cwebbonline If government shuts down a formul...</td>\n",
       "      <td>1511317219791228928</td>\n",
       "      <td>2022-05-14 12:29:15+00:00</td>\n",
       "      <td>{'retweet_count': 0, 'reply_count': 0, 'like_c...</td>\n",
       "      <td>{'mentions': [{'start': 0, 'end': 12, 'usernam...</td>\n",
       "      <td>{'name': 'Ruth Pry', 'created_at': '2022-04-05...</td>\n",
       "      <td>NaN</td>\n",
       "    </tr>\n",
       "  </tbody>\n",
       "</table>\n",
       "<p>1000 rows × 8 columns</p>\n",
       "</div>"
      ],
      "text/plain": [
       "                         id  \\\n",
       "346852  1525100221943930880   \n",
       "518389  1523821665393815552   \n",
       "360     1527875362364936192   \n",
       "460781  1524467272399527936   \n",
       "246079  1525575725159677952   \n",
       "...                     ...   \n",
       "142286  1526920202369253376   \n",
       "464446  1524444764401242112   \n",
       "326445  1525166508598513664   \n",
       "133760  1526996214214008832   \n",
       "270965  1525453184411508736   \n",
       "\n",
       "                                                     text  \\\n",
       "346852  @K_JeanPierre Democrat Men, your all in this t...   \n",
       "518389  Yeah cuz thats important right now.  How about...   \n",
       "360     \"Breast is best\" now belongs to the elites. ht...   \n",
       "460781  All of this money, but somehow the United Stat...   \n",
       "246079  @JesseKellyDC How dare you! And I bet you have...   \n",
       "...                                                   ...   \n",
       "142286  @1WitchyChick @Ann_Kelly007 @ErinJH_9011 @even...   \n",
       "464446  @DrJBhattacharya Is it true pallets of infant ...   \n",
       "326445  John Legend reacted to the Republican congress...   \n",
       "133760  @cvpayne @GaryKaltbaum\\n@FoxBusiness If Pelosi...   \n",
       "270965  @cwebbonline If government shuts down a formul...   \n",
       "\n",
       "                  author_id                created_at  \\\n",
       "346852  1451904065588367360 2022-05-13 13:06:42+00:00   \n",
       "518389  1514716656282525696 2022-05-10 00:26:10+00:00   \n",
       "360                16420692 2022-05-21 04:54:07+00:00   \n",
       "460781           2274042686 2022-05-11 19:11:35+00:00   \n",
       "246079            307536064 2022-05-14 20:36:11+00:00   \n",
       "...                     ...                       ...   \n",
       "142286            174007151 2022-05-18 13:38:39+00:00   \n",
       "464446           2499831370 2022-05-11 17:42:09+00:00   \n",
       "326445              9695312 2022-05-13 17:30:06+00:00   \n",
       "133760  1424820416921616384 2022-05-18 18:40:42+00:00   \n",
       "270965  1511317219791228928 2022-05-14 12:29:15+00:00   \n",
       "\n",
       "                                           public_metrics  \\\n",
       "346852  {'retweet_count': 0, 'reply_count': 0, 'like_c...   \n",
       "518389  {'retweet_count': 0, 'reply_count': 0, 'like_c...   \n",
       "360     {'retweet_count': 0, 'reply_count': 0, 'like_c...   \n",
       "460781  {'retweet_count': 1, 'reply_count': 0, 'like_c...   \n",
       "246079  {'retweet_count': 0, 'reply_count': 0, 'like_c...   \n",
       "...                                                   ...   \n",
       "142286  {'retweet_count': 0, 'reply_count': 0, 'like_c...   \n",
       "464446  {'retweet_count': 0, 'reply_count': 0, 'like_c...   \n",
       "326445  {'retweet_count': 20, 'reply_count': 9, 'like_...   \n",
       "133760  {'retweet_count': 0, 'reply_count': 0, 'like_c...   \n",
       "270965  {'retweet_count': 0, 'reply_count': 0, 'like_c...   \n",
       "\n",
       "                                                 entities  \\\n",
       "346852  {'mentions': [{'start': 0, 'end': 13, 'usernam...   \n",
       "518389  {'urls': [{'start': 149, 'end': 172, 'url': 'h...   \n",
       "360     {'urls': [{'start': 44, 'end': 67, 'url': 'htt...   \n",
       "460781  {'annotations': [{'start': 35, 'end': 47, 'pro...   \n",
       "246079  {'mentions': [{'start': 0, 'end': 13, 'usernam...   \n",
       "...                                                   ...   \n",
       "142286  {'mentions': [{'start': 0, 'end': 13, 'usernam...   \n",
       "464446  {'mentions': [{'start': 0, 'end': 16, 'usernam...   \n",
       "326445  {'urls': [{'start': 115, 'end': 138, 'url': 'h...   \n",
       "133760  {'hashtags': [{'start': 82, 'end': 100, 'tag':...   \n",
       "270965  {'mentions': [{'start': 0, 'end': 12, 'usernam...   \n",
       "\n",
       "                                                   author withheld  \n",
       "346852  {'public_metrics': {'followers_count': 8, 'fol...      NaN  \n",
       "518389  {'public_metrics': {'followers_count': 16, 'fo...      NaN  \n",
       "360     {'created_at': '2008-09-23T15:47:08.000Z', 'us...      NaN  \n",
       "460781  {'id': '2274042686', 'username': 'SaveByLessar...      NaN  \n",
       "246079  {'verified': False, 'name': 'HaPy', 'username'...      NaN  \n",
       "...                                                   ...      ...  \n",
       "142286  {'id': '174007151', 'username': 'Xenomorph10',...      NaN  \n",
       "464446  {'name': 'Cynthia Spradlin', 'created_at': '20...      NaN  \n",
       "326445  {'created_at': '2007-10-25T21:33:23.000Z', 'id...      NaN  \n",
       "133760  {'created_at': '2021-08-09T19:50:59.000Z', 'na...      NaN  \n",
       "270965  {'name': 'Ruth Pry', 'created_at': '2022-04-05...      NaN  \n",
       "\n",
       "[1000 rows x 8 columns]"
      ]
     },
     "execution_count": 3,
     "metadata": {},
     "output_type": "execute_result"
    }
   ],
   "source": [
    "all_tweets_sample = all_tweets.sample(1000)\n",
    "all_tweets_sample"
   ]
  },
  {
   "cell_type": "markdown",
   "id": "6b2cf4ae-5f44-4e60-8d67-3b8d7e3ced03",
   "metadata": {},
   "source": [
    "### Cleaning Text"
   ]
  },
  {
   "cell_type": "code",
   "execution_count": 4,
   "id": "5438f9f9-59ea-4437-8479-bd317636a0f6",
   "metadata": {},
   "outputs": [
    {
     "name": "stderr",
     "output_type": "stream",
     "text": [
      "[nltk_data] Downloading package stopwords to /home/rohan/nltk_data...\n",
      "[nltk_data]   Package stopwords is already up-to-date!\n",
      "[nltk_data] Downloading package omw-1.4 to /home/rohan/nltk_data...\n",
      "[nltk_data]   Package omw-1.4 is already up-to-date!\n"
     ]
    }
   ],
   "source": [
    "import re\n",
    "\n",
    "import nltk.corpus\n",
    "nltk.download('stopwords')\n",
    "from nltk.corpus import stopwords\n",
    "\n",
    "import nltk\n",
    "nltk.download('omw-1.4')\n",
    "from nltk.stem.porter import PorterStemmer\n",
    "from nltk.stem import WordNetLemmatizer\n",
    "\n",
    "def clean_text_basic(text):\n",
    "    '''\n",
    "    Normalizes text, removes unicode chars\n",
    "        Params:\n",
    "            text (string): text to be normalized\n",
    "        Returns:\n",
    "            cleaned_text (string): The text cleaned with the steps above\n",
    "    '''\n",
    "    # regular expression from https://monkeylearn.com/blog/text-cleaning/\n",
    "    cleaned_text = re.sub(r\"(@\\[A-Za-z0-9]+)|([^0-9A-Za-z \\t])|(\\w+:\\/\\/\\S+)|^rt|http.+?\", \"\", text)\n",
    "    cleaned_text = cleaned_text.lower()\n",
    "    return cleaned_text\n",
    "\n",
    "def clean_text_level2(text):\n",
    "    '''\n",
    "    Cleans with the basic steps but also removes stop words and lemmatizes\n",
    "        Params:\n",
    "            text (string): text to be normalized\n",
    "        Returns:\n",
    "            cleaned_text (string): The text cleaned with the steps above\n",
    "    '''\n",
    "    text = clean_text_basic(text)\n",
    "    stoppies = stopwords.words('english')\n",
    "    lemmatizer = WordNetLemmatizer()\n",
    "    # expression partially from https://monkeylearn.com/blog/text-cleaning/\n",
    "    cleaned_text = \" \".join([lemmatizer.lemmatize(word) for word in text.split() if word not in (stoppies)])\n",
    "    return cleaned_text\n"
   ]
  },
  {
   "cell_type": "code",
   "execution_count": 5,
   "id": "830fbd0d-412c-423a-8c93-988dc26a3c62",
   "metadata": {},
   "outputs": [
    {
     "data": {
      "text/html": [
       "<div>\n",
       "<style scoped>\n",
       "    .dataframe tbody tr th:only-of-type {\n",
       "        vertical-align: middle;\n",
       "    }\n",
       "\n",
       "    .dataframe tbody tr th {\n",
       "        vertical-align: top;\n",
       "    }\n",
       "\n",
       "    .dataframe thead th {\n",
       "        text-align: right;\n",
       "    }\n",
       "</style>\n",
       "<table border=\"1\" class=\"dataframe\">\n",
       "  <thead>\n",
       "    <tr style=\"text-align: right;\">\n",
       "      <th></th>\n",
       "      <th>id</th>\n",
       "      <th>text</th>\n",
       "      <th>author_id</th>\n",
       "      <th>created_at</th>\n",
       "      <th>public_metrics</th>\n",
       "      <th>entities</th>\n",
       "      <th>author</th>\n",
       "      <th>withheld</th>\n",
       "      <th>clean_text</th>\n",
       "      <th>very_clean_text</th>\n",
       "    </tr>\n",
       "  </thead>\n",
       "  <tbody>\n",
       "    <tr>\n",
       "      <th>346852</th>\n",
       "      <td>1525100221943930880</td>\n",
       "      <td>@K_JeanPierre Democrat Men, your all in this t...</td>\n",
       "      <td>1451904065588367360</td>\n",
       "      <td>2022-05-13 13:06:42+00:00</td>\n",
       "      <td>{'retweet_count': 0, 'reply_count': 0, 'like_c...</td>\n",
       "      <td>{'mentions': [{'start': 0, 'end': 13, 'usernam...</td>\n",
       "      <td>{'public_metrics': {'followers_count': 8, 'fol...</td>\n",
       "      <td>NaN</td>\n",
       "      <td>kjeanpierre democrat men your all in this toge...</td>\n",
       "      <td>kjeanpierre democrat men togetherfight baby fo...</td>\n",
       "    </tr>\n",
       "    <tr>\n",
       "      <th>518389</th>\n",
       "      <td>1523821665393815552</td>\n",
       "      <td>Yeah cuz thats important right now.  How about...</td>\n",
       "      <td>1514716656282525696</td>\n",
       "      <td>2022-05-10 00:26:10+00:00</td>\n",
       "      <td>{'retweet_count': 0, 'reply_count': 0, 'like_c...</td>\n",
       "      <td>{'urls': [{'start': 149, 'end': 172, 'url': 'h...</td>\n",
       "      <td>{'public_metrics': {'followers_count': 16, 'fo...</td>\n",
       "      <td>NaN</td>\n",
       "      <td>yeah cuz thats important right now  how about ...</td>\n",
       "      <td>yeah cuz thats important right go find baby fo...</td>\n",
       "    </tr>\n",
       "    <tr>\n",
       "      <th>360</th>\n",
       "      <td>1527875362364936192</td>\n",
       "      <td>\"Breast is best\" now belongs to the elites. ht...</td>\n",
       "      <td>16420692</td>\n",
       "      <td>2022-05-21 04:54:07+00:00</td>\n",
       "      <td>{'retweet_count': 0, 'reply_count': 0, 'like_c...</td>\n",
       "      <td>{'urls': [{'start': 44, 'end': 67, 'url': 'htt...</td>\n",
       "      <td>{'created_at': '2008-09-23T15:47:08.000Z', 'us...</td>\n",
       "      <td>NaN</td>\n",
       "      <td>breast is best now belongs to the elites  via ...</td>\n",
       "      <td>breast best belongs elite via slate</td>\n",
       "    </tr>\n",
       "    <tr>\n",
       "      <th>460781</th>\n",
       "      <td>1524467272399527936</td>\n",
       "      <td>All of this money, but somehow the United Stat...</td>\n",
       "      <td>2274042686</td>\n",
       "      <td>2022-05-11 19:11:35+00:00</td>\n",
       "      <td>{'retweet_count': 1, 'reply_count': 0, 'like_c...</td>\n",
       "      <td>{'annotations': [{'start': 35, 'end': 47, 'pro...</td>\n",
       "      <td>{'id': '2274042686', 'username': 'SaveByLessar...</td>\n",
       "      <td>NaN</td>\n",
       "      <td>all of this money but somehow the united state...</td>\n",
       "      <td>money somehow united state baby formulawhy</td>\n",
       "    </tr>\n",
       "    <tr>\n",
       "      <th>246079</th>\n",
       "      <td>1525575725159677952</td>\n",
       "      <td>@JesseKellyDC How dare you! And I bet you have...</td>\n",
       "      <td>307536064</td>\n",
       "      <td>2022-05-14 20:36:11+00:00</td>\n",
       "      <td>{'retweet_count': 0, 'reply_count': 0, 'like_c...</td>\n",
       "      <td>{'mentions': [{'start': 0, 'end': 13, 'usernam...</td>\n",
       "      <td>{'verified': False, 'name': 'HaPy', 'username'...</td>\n",
       "      <td>NaN</td>\n",
       "      <td>jessekellydc how dare you and i bet you have f...</td>\n",
       "      <td>jessekellydc dare bet food go microwave maybe ...</td>\n",
       "    </tr>\n",
       "    <tr>\n",
       "      <th>...</th>\n",
       "      <td>...</td>\n",
       "      <td>...</td>\n",
       "      <td>...</td>\n",
       "      <td>...</td>\n",
       "      <td>...</td>\n",
       "      <td>...</td>\n",
       "      <td>...</td>\n",
       "      <td>...</td>\n",
       "      <td>...</td>\n",
       "      <td>...</td>\n",
       "    </tr>\n",
       "    <tr>\n",
       "      <th>142286</th>\n",
       "      <td>1526920202369253376</td>\n",
       "      <td>@1WitchyChick @Ann_Kelly007 @ErinJH_9011 @even...</td>\n",
       "      <td>174007151</td>\n",
       "      <td>2022-05-18 13:38:39+00:00</td>\n",
       "      <td>{'retweet_count': 0, 'reply_count': 0, 'like_c...</td>\n",
       "      <td>{'mentions': [{'start': 0, 'end': 13, 'usernam...</td>\n",
       "      <td>{'id': '174007151', 'username': 'Xenomorph10',...</td>\n",
       "      <td>NaN</td>\n",
       "      <td>1witchychick annkelly007 erinjh9011 evenmorebi...</td>\n",
       "      <td>1witchychick annkelly007 erinjh9011 evenmorebi...</td>\n",
       "    </tr>\n",
       "    <tr>\n",
       "      <th>464446</th>\n",
       "      <td>1524444764401242112</td>\n",
       "      <td>@DrJBhattacharya Is it true pallets of infant ...</td>\n",
       "      <td>2499831370</td>\n",
       "      <td>2022-05-11 17:42:09+00:00</td>\n",
       "      <td>{'retweet_count': 0, 'reply_count': 0, 'like_c...</td>\n",
       "      <td>{'mentions': [{'start': 0, 'end': 16, 'usernam...</td>\n",
       "      <td>{'name': 'Cynthia Spradlin', 'created_at': '20...</td>\n",
       "      <td>NaN</td>\n",
       "      <td>drjbhattacharya is it true pallets of infant f...</td>\n",
       "      <td>drjbhattacharya true pallet infant formula del...</td>\n",
       "    </tr>\n",
       "    <tr>\n",
       "      <th>326445</th>\n",
       "      <td>1525166508598513664</td>\n",
       "      <td>John Legend reacted to the Republican congress...</td>\n",
       "      <td>9695312</td>\n",
       "      <td>2022-05-13 17:30:06+00:00</td>\n",
       "      <td>{'retweet_count': 20, 'reply_count': 9, 'like_...</td>\n",
       "      <td>{'urls': [{'start': 115, 'end': 138, 'url': 'h...</td>\n",
       "      <td>{'created_at': '2007-10-25T21:33:23.000Z', 'id...</td>\n",
       "      <td>NaN</td>\n",
       "      <td>john legend reacted to the republican congress...</td>\n",
       "      <td>john legend reacted republican congressman wro...</td>\n",
       "    </tr>\n",
       "    <tr>\n",
       "      <th>133760</th>\n",
       "      <td>1526996214214008832</td>\n",
       "      <td>@cvpayne @GaryKaltbaum\\n@FoxBusiness If Pelosi...</td>\n",
       "      <td>1424820416921616384</td>\n",
       "      <td>2022-05-18 18:40:42+00:00</td>\n",
       "      <td>{'retweet_count': 0, 'reply_count': 0, 'like_c...</td>\n",
       "      <td>{'hashtags': [{'start': 82, 'end': 100, 'tag':...</td>\n",
       "      <td>{'created_at': '2021-08-09T19:50:59.000Z', 'na...</td>\n",
       "      <td>NaN</td>\n",
       "      <td>cvpayne garykaltbaumfoxbusiness if pelosi is l...</td>\n",
       "      <td>cvpayne garykaltbaumfoxbusiness pelosi looking...</td>\n",
       "    </tr>\n",
       "    <tr>\n",
       "      <th>270965</th>\n",
       "      <td>1525453184411508736</td>\n",
       "      <td>@cwebbonline If government shuts down a formul...</td>\n",
       "      <td>1511317219791228928</td>\n",
       "      <td>2022-05-14 12:29:15+00:00</td>\n",
       "      <td>{'retweet_count': 0, 'reply_count': 0, 'like_c...</td>\n",
       "      <td>{'mentions': [{'start': 0, 'end': 12, 'usernam...</td>\n",
       "      <td>{'name': 'Ruth Pry', 'created_at': '2022-04-05...</td>\n",
       "      <td>NaN</td>\n",
       "      <td>cwebbonline if government shuts down a formula...</td>\n",
       "      <td>cwebbonline government shuts formula manufactu...</td>\n",
       "    </tr>\n",
       "  </tbody>\n",
       "</table>\n",
       "<p>1000 rows × 10 columns</p>\n",
       "</div>"
      ],
      "text/plain": [
       "                         id  \\\n",
       "346852  1525100221943930880   \n",
       "518389  1523821665393815552   \n",
       "360     1527875362364936192   \n",
       "460781  1524467272399527936   \n",
       "246079  1525575725159677952   \n",
       "...                     ...   \n",
       "142286  1526920202369253376   \n",
       "464446  1524444764401242112   \n",
       "326445  1525166508598513664   \n",
       "133760  1526996214214008832   \n",
       "270965  1525453184411508736   \n",
       "\n",
       "                                                     text  \\\n",
       "346852  @K_JeanPierre Democrat Men, your all in this t...   \n",
       "518389  Yeah cuz thats important right now.  How about...   \n",
       "360     \"Breast is best\" now belongs to the elites. ht...   \n",
       "460781  All of this money, but somehow the United Stat...   \n",
       "246079  @JesseKellyDC How dare you! And I bet you have...   \n",
       "...                                                   ...   \n",
       "142286  @1WitchyChick @Ann_Kelly007 @ErinJH_9011 @even...   \n",
       "464446  @DrJBhattacharya Is it true pallets of infant ...   \n",
       "326445  John Legend reacted to the Republican congress...   \n",
       "133760  @cvpayne @GaryKaltbaum\\n@FoxBusiness If Pelosi...   \n",
       "270965  @cwebbonline If government shuts down a formul...   \n",
       "\n",
       "                  author_id                created_at  \\\n",
       "346852  1451904065588367360 2022-05-13 13:06:42+00:00   \n",
       "518389  1514716656282525696 2022-05-10 00:26:10+00:00   \n",
       "360                16420692 2022-05-21 04:54:07+00:00   \n",
       "460781           2274042686 2022-05-11 19:11:35+00:00   \n",
       "246079            307536064 2022-05-14 20:36:11+00:00   \n",
       "...                     ...                       ...   \n",
       "142286            174007151 2022-05-18 13:38:39+00:00   \n",
       "464446           2499831370 2022-05-11 17:42:09+00:00   \n",
       "326445              9695312 2022-05-13 17:30:06+00:00   \n",
       "133760  1424820416921616384 2022-05-18 18:40:42+00:00   \n",
       "270965  1511317219791228928 2022-05-14 12:29:15+00:00   \n",
       "\n",
       "                                           public_metrics  \\\n",
       "346852  {'retweet_count': 0, 'reply_count': 0, 'like_c...   \n",
       "518389  {'retweet_count': 0, 'reply_count': 0, 'like_c...   \n",
       "360     {'retweet_count': 0, 'reply_count': 0, 'like_c...   \n",
       "460781  {'retweet_count': 1, 'reply_count': 0, 'like_c...   \n",
       "246079  {'retweet_count': 0, 'reply_count': 0, 'like_c...   \n",
       "...                                                   ...   \n",
       "142286  {'retweet_count': 0, 'reply_count': 0, 'like_c...   \n",
       "464446  {'retweet_count': 0, 'reply_count': 0, 'like_c...   \n",
       "326445  {'retweet_count': 20, 'reply_count': 9, 'like_...   \n",
       "133760  {'retweet_count': 0, 'reply_count': 0, 'like_c...   \n",
       "270965  {'retweet_count': 0, 'reply_count': 0, 'like_c...   \n",
       "\n",
       "                                                 entities  \\\n",
       "346852  {'mentions': [{'start': 0, 'end': 13, 'usernam...   \n",
       "518389  {'urls': [{'start': 149, 'end': 172, 'url': 'h...   \n",
       "360     {'urls': [{'start': 44, 'end': 67, 'url': 'htt...   \n",
       "460781  {'annotations': [{'start': 35, 'end': 47, 'pro...   \n",
       "246079  {'mentions': [{'start': 0, 'end': 13, 'usernam...   \n",
       "...                                                   ...   \n",
       "142286  {'mentions': [{'start': 0, 'end': 13, 'usernam...   \n",
       "464446  {'mentions': [{'start': 0, 'end': 16, 'usernam...   \n",
       "326445  {'urls': [{'start': 115, 'end': 138, 'url': 'h...   \n",
       "133760  {'hashtags': [{'start': 82, 'end': 100, 'tag':...   \n",
       "270965  {'mentions': [{'start': 0, 'end': 12, 'usernam...   \n",
       "\n",
       "                                                   author withheld  \\\n",
       "346852  {'public_metrics': {'followers_count': 8, 'fol...      NaN   \n",
       "518389  {'public_metrics': {'followers_count': 16, 'fo...      NaN   \n",
       "360     {'created_at': '2008-09-23T15:47:08.000Z', 'us...      NaN   \n",
       "460781  {'id': '2274042686', 'username': 'SaveByLessar...      NaN   \n",
       "246079  {'verified': False, 'name': 'HaPy', 'username'...      NaN   \n",
       "...                                                   ...      ...   \n",
       "142286  {'id': '174007151', 'username': 'Xenomorph10',...      NaN   \n",
       "464446  {'name': 'Cynthia Spradlin', 'created_at': '20...      NaN   \n",
       "326445  {'created_at': '2007-10-25T21:33:23.000Z', 'id...      NaN   \n",
       "133760  {'created_at': '2021-08-09T19:50:59.000Z', 'na...      NaN   \n",
       "270965  {'name': 'Ruth Pry', 'created_at': '2022-04-05...      NaN   \n",
       "\n",
       "                                               clean_text  \\\n",
       "346852  kjeanpierre democrat men your all in this toge...   \n",
       "518389  yeah cuz thats important right now  how about ...   \n",
       "360     breast is best now belongs to the elites  via ...   \n",
       "460781  all of this money but somehow the united state...   \n",
       "246079  jessekellydc how dare you and i bet you have f...   \n",
       "...                                                   ...   \n",
       "142286  1witchychick annkelly007 erinjh9011 evenmorebi...   \n",
       "464446  drjbhattacharya is it true pallets of infant f...   \n",
       "326445  john legend reacted to the republican congress...   \n",
       "133760  cvpayne garykaltbaumfoxbusiness if pelosi is l...   \n",
       "270965  cwebbonline if government shuts down a formula...   \n",
       "\n",
       "                                          very_clean_text  \n",
       "346852  kjeanpierre democrat men togetherfight baby fo...  \n",
       "518389  yeah cuz thats important right go find baby fo...  \n",
       "360                   breast best belongs elite via slate  \n",
       "460781         money somehow united state baby formulawhy  \n",
       "246079  jessekellydc dare bet food go microwave maybe ...  \n",
       "...                                                   ...  \n",
       "142286  1witchychick annkelly007 erinjh9011 evenmorebi...  \n",
       "464446  drjbhattacharya true pallet infant formula del...  \n",
       "326445  john legend reacted republican congressman wro...  \n",
       "133760  cvpayne garykaltbaumfoxbusiness pelosi looking...  \n",
       "270965  cwebbonline government shuts formula manufactu...  \n",
       "\n",
       "[1000 rows x 10 columns]"
      ]
     },
     "execution_count": 5,
     "metadata": {},
     "output_type": "execute_result"
    }
   ],
   "source": [
    "all_tweets_sample[\"clean_text\"] = all_tweets_sample[\"text\"].apply(clean_text_basic)\n",
    "all_tweets_sample[\"very_clean_text\"] = all_tweets_sample[\"text\"].apply(clean_text_level2)\n",
    "all_tweets_sample"
   ]
  },
  {
   "cell_type": "markdown",
   "id": "a9ed90e2-2b49-4213-8d43-6cbc764c039a",
   "metadata": {},
   "source": [
    "### Sentiment Analyzers"
   ]
  },
  {
   "cell_type": "code",
   "execution_count": 6,
   "id": "78e82b0d-1b58-493e-81cc-86644a7e6f4b",
   "metadata": {},
   "outputs": [
    {
     "name": "stderr",
     "output_type": "stream",
     "text": [
      "[nltk_data] Downloading package vader_lexicon to\n",
      "[nltk_data]     /home/rohan/nltk_data...\n",
      "[nltk_data]   Package vader_lexicon is already up-to-date!\n",
      "2022-05-29 14:27:10.230722: W tensorflow/stream_executor/platform/default/dso_loader.cc:64] Could not load dynamic library 'libcudart.so.11.0'; dlerror: libcudart.so.11.0: cannot open shared object file: No such file or directory\n",
      "2022-05-29 14:27:10.230771: I tensorflow/stream_executor/cuda/cudart_stub.cc:29] Ignore above cudart dlerror if you do not have a GPU set up on your machine.\n"
     ]
    },
    {
     "name": "stdout",
     "output_type": "stream",
     "text": [
      "2022-05-29 14:27:12,140 loading file /home/rohan/.flair/models/sentiment-en-mix-distillbert_4.pt\n"
     ]
    },
    {
     "data": {
      "text/plain": [
       "'@K_JeanPierre Democrat Men, your all in this together...Fight the baby formula shortage by using this and donate your breast milk! https://t.co/jfBAq77kXH'"
      ]
     },
     "execution_count": 6,
     "metadata": {},
     "output_type": "execute_result"
    }
   ],
   "source": [
    "from nltk.sentiment import SentimentIntensityAnalyzer\n",
    "import operator\n",
    "nltk.download('vader_lexicon')\n",
    "sia = SentimentIntensityAnalyzer()\n",
    "def get_sentiment(text):\n",
    "    '''\n",
    "    Gets the sentiment score of text from the nltk sentiment thingy.\n",
    "        Params:\n",
    "            text (string): Text to analyze\n",
    "        Returns:\n",
    "            sent (float): Real number from -1 to 1\n",
    "    '''\n",
    "    return sia.polarity_scores(text)[\"compound\"]\n",
    "\n",
    "from flair.models import TextClassifier\n",
    "from flair.data import Sentence\n",
    "flair_sia = TextClassifier.load('en-sentiment')\n",
    "def get_sentiment_flair(text):\n",
    "    # RETURNS CONFIDENCE, NOT POLARITY, DO NOT CONFUSE FOR POLARITY CAUSE IT'S CONFIDENCE\n",
    "    sentence = Sentence(text)\n",
    "    flair_sia.predict(sentence)\n",
    "    try:\n",
    "        pol = sentence.labels[0].to_dict()\n",
    "    except:\n",
    "        return 0.0\n",
    "    if pol[\"value\"] == \"NEGATIVE\":\n",
    "        pol[\"confidence\"] *= -1\n",
    "    return pol[\"confidence\"]\n",
    "get_sentiment_flair(all_tweets_sample.iloc[0][\"very_clean_text\"])\n",
    "all_tweets_sample.iloc[0][\"text\"]"
   ]
  },
  {
   "cell_type": "code",
   "execution_count": 7,
   "id": "5a569fcf-6e04-4521-b9a8-2ac5dc96040b",
   "metadata": {},
   "outputs": [
    {
     "name": "stdout",
     "output_type": "stream",
     "text": [
      "2022-05-29 14:27:20,904 Warning: An empty Sentence was created! Are there empty strings in your dataset?\n",
      "2022-05-29 14:27:21,291 Warning: An empty Sentence was created! Are there empty strings in your dataset?\n",
      "2022-05-29 14:27:22,003 Warning: An empty Sentence was created! Are there empty strings in your dataset?\n",
      "2022-05-29 14:27:22,675 Warning: An empty Sentence was created! Are there empty strings in your dataset?\n",
      "2022-05-29 14:27:22,841 Warning: An empty Sentence was created! Are there empty strings in your dataset?\n",
      "2022-05-29 14:27:23,684 Warning: An empty Sentence was created! Are there empty strings in your dataset?\n",
      "2022-05-29 14:27:23,930 Warning: An empty Sentence was created! Are there empty strings in your dataset?\n",
      "2022-05-29 14:27:27,158 Warning: An empty Sentence was created! Are there empty strings in your dataset?\n",
      "2022-05-29 14:27:27,877 Warning: An empty Sentence was created! Are there empty strings in your dataset?\n",
      "2022-05-29 14:27:28,148 Warning: An empty Sentence was created! Are there empty strings in your dataset?\n",
      "2022-05-29 14:27:28,776 Warning: An empty Sentence was created! Are there empty strings in your dataset?\n",
      "2022-05-29 14:27:30,336 Warning: An empty Sentence was created! Are there empty strings in your dataset?\n",
      "2022-05-29 14:27:31,250 Warning: An empty Sentence was created! Are there empty strings in your dataset?\n",
      "2022-05-29 14:27:31,325 Warning: An empty Sentence was created! Are there empty strings in your dataset?\n",
      "2022-05-29 14:27:35,304 Warning: An empty Sentence was created! Are there empty strings in your dataset?\n"
     ]
    }
   ],
   "source": [
    "all_tweets_sample[\"sentiment\"] = all_tweets_sample[\"clean_text\"].apply(get_sentiment)\n",
    "all_tweets_sample[\"very_clean_sentiment\"] = all_tweets_sample[\"very_clean_text\"].apply(get_sentiment)\n",
    "all_tweets_sample[\"flair_sentiment_confidence\"] = all_tweets_sample[\"clean_text\"].apply(get_sentiment_flair)"
   ]
  },
  {
   "cell_type": "code",
   "execution_count": 9,
   "id": "1a7107ca-8937-4fe5-91fc-4dd253eed9d1",
   "metadata": {},
   "outputs": [
    {
     "data": {
      "text/plain": [
       "'All of this money, but somehow the United States is out of baby formula?\\n\\nWHY?!'"
      ]
     },
     "metadata": {},
     "output_type": "display_data"
    },
    {
     "data": {
      "text/plain": [
       "0.5719"
      ]
     },
     "metadata": {},
     "output_type": "display_data"
    },
    {
     "data": {
      "text/plain": [
       "0.4215"
      ]
     },
     "metadata": {},
     "output_type": "display_data"
    },
    {
     "data": {
      "text/plain": [
       "-0.9930806756019592"
      ]
     },
     "metadata": {},
     "output_type": "display_data"
    }
   ],
   "source": [
    "def show_sentiments(index):\n",
    "    display(all_tweets_sample[\"text\"].iloc[index])\n",
    "    display(all_tweets_sample[\"sentiment\"].iloc[index])\n",
    "    display(all_tweets_sample[\"very_clean_sentiment\"].iloc[index])\n",
    "    display(all_tweets_sample[\"flair_sentiment_confidence\"].iloc[index])\n",
    "show_sentiments(3)"
   ]
  },
  {
   "cell_type": "code",
   "execution_count": 10,
   "id": "f343285f-dd7b-480d-b782-a7cc1aab1fe6",
   "metadata": {},
   "outputs": [
    {
     "data": {
      "text/plain": [
       "<seaborn.axisgrid.FacetGrid at 0x7f80cd6b71c0>"
      ]
     },
     "execution_count": 10,
     "metadata": {},
     "output_type": "execute_result"
    },
    {
     "data": {
      "image/png": "[encoded data removed]",
      "text/plain": [
       "<Figure size 360x360 with 1 Axes>"
      ]
     },
     "metadata": {
      "needs_background": "light"
     },
     "output_type": "display_data"
    }
   ],
   "source": [
    "sns.displot(all_tweets_sample[\"sentiment\"], kde=True)"
   ]
  },
  {
   "cell_type": "code",
   "execution_count": 11,
   "id": "8e598c27-a5f9-4803-bd15-953eea283be3",
   "metadata": {},
   "outputs": [
    {
     "data": {
      "text/plain": [
       "<seaborn.axisgrid.FacetGrid at 0x7f8156a7a130>"
      ]
     },
     "execution_count": 11,
     "metadata": {},
     "output_type": "execute_result"
    },
    {
     "data": {
      "image/png": "[encoded data removed]",
      "text/plain": [
       "<Figure size 360x360 with 1 Axes>"
      ]
     },
     "metadata": {
      "needs_background": "light"
     },
     "output_type": "display_data"
    }
   ],
   "source": [
    "sns.displot(all_tweets_sample[\"very_clean_sentiment\"], kde=True)"
   ]
  },
  {
   "cell_type": "code",
   "execution_count": 12,
   "id": "627f2f6e-dcff-4133-af99-f5a9579f4e79",
   "metadata": {},
   "outputs": [
    {
     "data": {
      "text/plain": [
       "<seaborn.axisgrid.FacetGrid at 0x7f8029af7850>"
      ]
     },
     "execution_count": 12,
     "metadata": {},
     "output_type": "execute_result"
    },
    {
     "data": {
      "image/png": "[encoded data removed]",
      "text/plain": [
       "<Figure size 360x360 with 1 Axes>"
      ]
     },
     "metadata": {
      "needs_background": "light"
     },
     "output_type": "display_data"
    }
   ],
   "source": [
    "sns.displot(all_tweets_sample[\"flair_sentiment_confidence\"], kde=True)"
   ]
  },
  {
   "cell_type": "markdown",
   "id": "589cbf0d-50d4-4622-8395-66030927d115",
   "metadata": {},
   "source": [
    "### Roe V Wade Stuff"
   ]
  },
  {
   "cell_type": "code",
   "execution_count": 16,
   "id": "7d036fc5-acbf-4787-b3c2-dd0f3deddc0f",
   "metadata": {},
   "outputs": [
    {
     "name": "stderr",
     "output_type": "stream",
     "text": [
      "/tmp/ipykernel_21463/454460589.py:2: UserWarning: This pattern is interpreted as a regular expression, and has match groups. To actually get the groups, use str.extract.\n",
      "  all_tweets_sample[\"has_abortion_word\"] = all_tweets_sample[\"clean_text\"].str.contains(roevwade_exp)\n"
     ]
    },
    {
     "data": {
      "text/plain": [
       "41"
      ]
     },
     "metadata": {},
     "output_type": "display_data"
    },
    {
     "data": {
      "text/plain": [
       "'@RawStory @JoyAnnReid GOP bumper sticker: Drill for baby formula independence before aborted critical race theory gay groomer border babies drink it all at inflated prices!'"
      ]
     },
     "metadata": {},
     "output_type": "display_data"
    },
    {
     "data": {
      "text/plain": [
       "'The Republican Party, the same party that is banning abortion access to women across the US in the name of being ‘pro-life’, have just rejected a bill of $29 million to aid the US baby formula shortage. I am actually gobsmacked at their hypocrisy. Like how do they not see it?'"
      ]
     },
     "metadata": {},
     "output_type": "display_data"
    },
    {
     "data": {
      "text/plain": [
       "'PPD/PPA/PPP = why I am so violently pro-abortion. If your mental health is iffy pre/peripartum, it can be a million times worse post. The rage, sleep deprivation, inability to breastfeed coupled with a fairly traumatic pregnancy/birthing experience - would not wish that on anyone https://t.co/wW8I4p4Ypt'"
      ]
     },
     "metadata": {},
     "output_type": "display_data"
    },
    {
     "data": {
      "text/plain": [
       "\"@Jaizem How convenient, With the baby formula shortage... They will say see look, we need abortion bc 'childbearing persons' can't feed their babies..\\nAll ready hearing that our children are starving bc the government isn't providing enough\""
      ]
     },
     "metadata": {},
     "output_type": "display_data"
    },
    {
     "data": {
      "text/plain": [
       "'Kamala\\'s great promo, \"no baby formula, therefore abort your children\".  Is it mere coincidence the abortion leak &amp; baby formula issue happened at the same time?  #DemonCrats say no breast feeding or formula, therefore baby looses his/her life.  Sorry  only 2 genders to destroy. https://t.co/ImfmFVEsMb'"
      ]
     },
     "metadata": {},
     "output_type": "display_data"
    },
    {
     "data": {
      "text/plain": [
       "'So the \"pro-life\" group is demanding Biden push this plant to reopen to continue producing toxic baby formula. Why does he want to poison babies? https://t.co/NBmsWLEBC9'"
      ]
     },
     "metadata": {},
     "output_type": "display_data"
    },
    {
     "data": {
      "text/plain": [
       "'@LukeSte38396471 @J_sin_official @shanearama @elonmusk Party of communist. Ask anyone born k. The 40s how abortion laws worked out for that generation. Now stop protecting babies while all republicans voted no on baby formula. Just stop protecting these maniacs'"
      ]
     },
     "metadata": {},
     "output_type": "display_data"
    },
    {
     "data": {
      "text/plain": [
       "'There was never a baby formula shortage till men started giving birth. Abortion is a mans right too. As we are birthing people too, Not just woman. BTW Biden is hording formula on the southern boarder. @Kat_Cammack made me aware of @POTUS letting our newborns starve. https://t.co/gNvpXCHnio'"
      ]
     },
     "metadata": {},
     "output_type": "display_data"
    },
    {
     "data": {
      "text/plain": [
       "'Just so I’m clear:\\n\\nThey’re working to overturn Roe v. Wade during a pandemic and infant formula shortage, while people  are struggling with their jobs or TSA not properly accommodating breastfeeding parents?'"
      ]
     },
     "metadata": {},
     "output_type": "display_data"
    },
    {
     "data": {
      "text/plain": [
       "'@daveweigel @owillis If Dems can’t re-focus “Defund” around anti-abortion movement, then they aren’t being creative enough.\\n\\n“GOP votes to defund baby formula! Pro-baby malnutrition party just wants women to birth more starving babies!”'"
      ]
     },
     "metadata": {},
     "output_type": "display_data"
    },
    {
     "data": {
      "text/plain": [
       "'We see you. All 192 of you \"pro-life\" Republicans voting against feeding babies. \\n\\nJust to be clear, when exactly is it that being \"pro-life\" kicks in? Just for abortion? \\n\\nhttps://t.co/BUvhCfnNpo'"
      ]
     },
     "metadata": {},
     "output_type": "display_data"
    },
    {
     "data": {
      "text/plain": [
       "'@cruzforil He’s pro abortion so baby formula shortage is NOT an issue. Our “Devout” Catholic resident of the White House…'"
      ]
     },
     "metadata": {},
     "output_type": "display_data"
    },
    {
     "data": {
      "text/plain": [
       "\"@mybiznoturs84 @Prolife_Sam Don't be silly, there are LOTS of men right now trying desperately to learn to breastfeed.\""
      ]
     },
     "metadata": {},
     "output_type": "display_data"
    },
    {
     "data": {
      "text/plain": [
       "'Bitch STFU. You’re pro-life but voted against baby formula? I hope Georgia votes you out. https://t.co/LymrskCYtj'"
      ]
     },
     "metadata": {},
     "output_type": "display_data"
    },
    {
     "data": {
      "text/plain": [
       "'America… has no /limited baby formula but makes it illegal to have an abortion so…more babies needing formula? #babyformula #abortionrights what fucking century are we in?'"
      ]
     },
     "metadata": {},
     "output_type": "display_data"
    },
    {
     "data": {
      "text/plain": [
       "'@EliseStefanik Why would ANYONE vote for this VILE LIAR?\\n\\n1. Biden has a plan👇🏼\\n\\n 2. She constantly whines that US should detain immigrants — now “pro-life” Elise wants us to (illegally) STARVE those babies in our care?\\n\\n3. A US Rep casually calling Dems “pedo grifters”?https://t.co/ceja53pCOQ'"
      ]
     },
     "metadata": {},
     "output_type": "display_data"
    },
    {
     "data": {
      "text/plain": [
       "\"@NoLieWithBTC Don't forget the deregulation policies. The corps making US baby formula invested in stock buy backs instead of maintaining the machines resulting in bacteria that made 4 babies sick of which 2 died. The pro-life party MY ASS!!!!\""
      ]
     },
     "metadata": {},
     "output_type": "display_data"
    },
    {
     "data": {
      "text/plain": [
       "\"We're short on baby formula for babies.\\n\\nThe Left: Argh, that means we should allow more abortions.\\n\\nThe Right: Argh, that means we should let illegal babies starve to death!\\n\\nDon't our concern for cute cuddly little babies just bring out the best in everyone!\""
      ]
     },
     "metadata": {},
     "output_type": "display_data"
    },
    {
     "data": {
      "text/plain": [
       "'#BidenAdministration know they can not solve inflation and shortage of baby foods, they said it is better to permit to kill the babies. No baby formula, free abortion. No food= No babies. #DemocratsAreADisaster . https://t.co/C9lzcut9tg'"
      ]
     },
     "metadata": {},
     "output_type": "display_data"
    },
    {
     "data": {
      "text/plain": [
       "'@ericswalwell Your party deserves to lose in Nov if every candidate fails to make this along with baby formula vote and anti-abortion stance of Rs the only issues they run on.'"
      ]
     },
     "metadata": {},
     "output_type": "display_data"
    },
    {
     "data": {
      "text/plain": [
       "'Tomorrows tweet: \\n\\n“You want more baby formula on the shelves?\\n\\nLet’s make sure we codify #RoeVWade”\\n\\nI swear I could work at this White House. https://t.co/nFgMHPdmef https://t.co/MrJ1q4TnZM'"
      ]
     },
     "metadata": {},
     "output_type": "display_data"
    },
    {
     "data": {
      "text/plain": [
       "'Listen look through there eyes👀 \\n&amp; you will see their lies\\nThere’s no shortage of baby formula they want you to think things are\\ngetting worse \\nso you keep having Abortions\\ngiving your souls away for money \\nOnly true love❤️will make you happy remember this before U kill a baby🙏'"
      ]
     },
     "metadata": {},
     "output_type": "display_data"
    },
    {
     "data": {
      "text/plain": [
       "'must be all those liberal abortion machines &amp; EVs shipping baby formula to Mexico https://t.co/JWoBDhYYn5'"
      ]
     },
     "metadata": {},
     "output_type": "display_data"
    },
    {
     "data": {
      "text/plain": [
       "'@LeaderMcConnell VOTE \\n#LIBERTY #PRINCIPLE #TRUTH\\n#AMERICAFIRST #USA #MAGA #PROLIFE #CONSTITUTION #LAWANDORDER #Trump #PATRIOTS #1A #2A #GODFIRST 🇺🇸\\n\\nSAY NO TO #RINO &amp; #DEMOCRAT #SELLOUTS #COMMIES #SOCIALIST #NAZI #abortion #RoeVWade  #BabyFormulaCrisis #IllegalAliens\\n\\nhttps://t.co/iyU0PCxbt6'"
      ]
     },
     "metadata": {},
     "output_type": "display_data"
    },
    {
     "data": {
      "text/plain": [
       "'Psaki - it’s morally right to send baby formula to illegal immigrant babies vs ours. And let’s support abortion 😂🤷\\u200d♂️🤦\\u200d♂️ #CantMakeThisUp'"
      ]
     },
     "metadata": {},
     "output_type": "display_data"
    },
    {
     "data": {
      "text/plain": [
       "\"@ZerlinaShow @MSNBC @ZerlinaMaxwell Do you find it odd the politicians and media is more worried about an abortion shortage than they are about a Baby Formula shortage? Do you think it's because the Politicians and Liberal media are eating baby fetuses? https://t.co/vwzh2KaZku\""
      ]
     },
     "metadata": {},
     "output_type": "display_data"
    },
    {
     "data": {
      "text/plain": [
       "\"Breastfeeding moms, please consider donating breastmilk to Pro-Life Birth Centers for those having trouble obtaining baby formula as a beautiful witness of pro-lifers' commitment to supporting Life at all stages. Our Lady of La Leche Pray Mothers of Infants. https://t.co/sAxylXPakQ\""
      ]
     },
     "metadata": {},
     "output_type": "display_data"
    },
    {
     "data": {
      "text/plain": [
       "'Republicans: Do not get an abortion, that’s murder\\n\\nAlso Republicans: Let’s instead starve the babies after we force you to carry them by voting against baby formula\\n\\nThis is the party that @elonmusk loves smh https://t.co/boLXxNeKoH'"
      ]
     },
     "metadata": {},
     "output_type": "display_data"
    },
    {
     "data": {
      "text/plain": [
       "'@TheTNHoller @TNGOP @RepTimBurchett @RepChuck @RepMarkGreen @DesJarlaisTN04 @DHarshbargerTN1 HR7790 is literally a PRO-LIFE piece of legislation. These monsters just don’t give any fucks about newborns and infants once the cord is cut. Killin’ kids to own the libs, USA USA USA. #BabyFormulaShortage'"
      ]
     },
     "metadata": {},
     "output_type": "display_data"
    },
    {
     "data": {
      "text/plain": [
       "\"@RepStefanik So you aren't pro life?? or only pro white life??  And this law that provides for migrants goes back to 1997. Learn your facts. #GOPLiesAboutEverything \\nhttps://t.co/UWXlFTWYgY\""
      ]
     },
     "metadata": {},
     "output_type": "display_data"
    },
    {
     "data": {
      "text/plain": [
       "'Here are facts:\\n\\nThe bullshit Pro-life frauds in the GQP voted AGAINST\\n\\nBaby formula \\nWIC for Baby Formula \\nDomestic Terrorism Prevention Act. \\n\\nThese are not words or bullshit talk, THESE ARE THEIR ACTIONS \\n\\nTHEY VOTED NO \\n\\nVOTE OUT ALL THESE FRAUDS https://t.co/r7B1Bs2UuD'"
      ]
     },
     "metadata": {},
     "output_type": "display_data"
    },
    {
     "data": {
      "text/plain": [
       "'@GOPLeader VOTE \\n#LIBERTY #PRINCIPLE #TRUTH\\n#AMERICAFIRST #USA #MAGA #PROLIFE #CONSTITUTION #LAWANDORDER #Trump #PATRIOTS #1A #2A #GODFIRST 🇺🇸\\n\\nSAY NO TO #RINO &amp; #DEMOCRAT #SELLOUTS #COMMIES #SOCIALIST #NAZI #abortion #RoeVWade  #BabyFormulaCrisis #IllegalAliens\\n\\nhttps://t.co/iyU0PCxbt6'"
      ]
     },
     "metadata": {},
     "output_type": "display_data"
    },
    {
     "data": {
      "text/plain": [
       "'@RyanB81111387 @kayleighmcenany The Democrats are talking to these 13-17 years old to seek an abortion.  No need for baby formula.'"
      ]
     },
     "metadata": {},
     "output_type": "display_data"
    },
    {
     "data": {
      "text/plain": [
       "'Infant formula is infant healthcare \\n\\nRepublicans voted against healthcare \\n\\nRepublicans don’t care about infant healthcare.\\n\\nRepublicans don’t care about neonatal healthcare.\\n\\nThey are Not ProLife, they are pro-control.'"
      ]
     },
     "metadata": {},
     "output_type": "display_data"
    },
    {
     "data": {
      "text/plain": [
       "\"@lindyli @BradleyWhitford @EliseStefanik can't even read clear words on products on these pallets that pudgy little asswipe is burbling about. Even if it were baby formula, sounds like this alleged pro-lifer wants to starve babies. Maybe she's a Q-loon who hopes Dems will starve without babies to eat.\""
      ]
     },
     "metadata": {},
     "output_type": "display_data"
    },
    {
     "data": {
      "text/plain": [
       "'@Jim_Jordan Get baby formula in America!  Who cares about roe v wade.  We are dying here in America!!!  Fix it.'"
      ]
     },
     "metadata": {},
     "output_type": "display_data"
    },
    {
     "data": {
      "text/plain": [
       "'Democrats: Forget about #gasprices, grocery prices, food &amp; baby formula shortages, the economy, inflation, immigration and crime! The midterms are about abortions, stupid! https://t.co/jypRU8zBPK'"
      ]
     },
     "metadata": {},
     "output_type": "display_data"
    },
    {
     "data": {
      "text/plain": [
       "'@realreysanchez @FoxNews Babies starving, because Biden send all babies formula to illegals, while Americans cannot get it. Dems hoped, every baby will be aborted, so they won’t need baby formula. And it they survive, they’ll be killed by streets violence, thanks to dems DA'"
      ]
     },
     "metadata": {},
     "output_type": "display_data"
    },
    {
     "data": {
      "text/plain": [
       "'@Abc434Law Not all women can breast feed, so formula is vital to babies. Since abortion is banned, thank God, it quite a mystery that ILLEGALS get baby formula, but not American Citizens!!! Radical dems are all about murder!!!!!!!!'"
      ]
     },
     "metadata": {},
     "output_type": "display_data"
    },
    {
     "data": {
      "text/plain": [
       "'Soooooo abortion bad, starving good?\\n\\nhttps://t.co/exPCcroK0W'"
      ]
     },
     "metadata": {},
     "output_type": "display_data"
    },
    {
     "data": {
      "text/plain": [
       "'@RepMTG Well, shit. Baby formula is out of stock? When abortions are banned, how are all the babies going to be fed, Marg? Since you have so much time to complain, let’s leave the baby formula shortage up to you.'"
      ]
     },
     "metadata": {},
     "output_type": "display_data"
    },
    {
     "data": {
      "text/plain": [
       "286414    None\n",
       "104915    None\n",
       "457192    None\n",
       "490959    None\n",
       "101133    None\n",
       "392362    None\n",
       "51126     None\n",
       "295626    None\n",
       "378693    None\n",
       "96847     None\n",
       "71499     None\n",
       "521554    None\n",
       "536650    None\n",
       "86612     None\n",
       "34895     None\n",
       "250272    None\n",
       "136211    None\n",
       "390948    None\n",
       "518705    None\n",
       "34293     None\n",
       "286430    None\n",
       "380762    None\n",
       "297233    None\n",
       "139411    None\n",
       "245725    None\n",
       "424791    None\n",
       "429157    None\n",
       "115256    None\n",
       "61898     None\n",
       "318902    None\n",
       "114957    None\n",
       "139379    None\n",
       "226080    None\n",
       "255058    None\n",
       "284432    None\n",
       "487604    None\n",
       "408364    None\n",
       "313026    None\n",
       "381469    None\n",
       "52051     None\n",
       "474319    None\n",
       "Name: text, dtype: object"
      ]
     },
     "execution_count": 16,
     "metadata": {},
     "output_type": "execute_result"
    }
   ],
   "source": [
    "roevwade_exp = r\"(roe)|(wade)|(abort\\w+)|(pro.?life)|(pro.?choice)|(fetus)\"\n",
    "all_tweets_sample[\"has_abortion_word\"] = all_tweets_sample[\"clean_text\"].str.contains(roevwade_exp)\n",
    "abortion_tweets = all_tweets_sample[all_tweets_sample[\"has_abortion_word\"] == True]\n",
    "display(len(abortion_tweets))\n",
    "abortion_tweets[\"text\"].apply(lambda x: display(x))"
   ]
  },
  {
   "cell_type": "code",
   "execution_count": null,
   "id": "8a6079b6-ae29-4310-9b7f-73c8141030c4",
   "metadata": {},
   "outputs": [],
   "source": []
  }
 ],
 "metadata": {
  "kernelspec": {
   "display_name": "Python 3 (ipykernel)",
   "language": "python",
   "name": "python3"
  },
  "language_info": {
   "codemirror_mode": {
    "name": "ipython",
    "version": 3
   },
   "file_extension": ".py",
   "mimetype": "text/x-python",
   "name": "python",
   "nbconvert_exporter": "python",
   "pygments_lexer": "ipython3",
   "version": "3.8.10"
  }
 },
 "nbformat": 4,
 "nbformat_minor": 5
}
