{
 "cells": [
  {
   "cell_type": "code",
   "execution_count": 6,
   "id": "6241aea3-fd84-48d1-9ef9-91d6b6abf772",
   "metadata": {},
   "outputs": [],
   "source": [
    "import json\n",
    "import pandas as pd\n",
    "import seaborn as sns"
   ]
  },
  {
   "cell_type": "code",
   "execution_count": 7,
   "id": "e5a8fdec-241b-490a-9322-be26ae07258a",
   "metadata": {},
   "outputs": [],
   "source": [
    "all_tweets = pd.read_json(\"data/baby_formula.json\")"
   ]
  },
  {
   "cell_type": "code",
   "execution_count": 8,
   "id": "1a93584f-0f83-479e-a4ee-a63930801ce3",
   "metadata": {},
   "outputs": [
    {
     "data": {
      "text/html": [
       "<div>\n",
       "<style scoped>\n",
       "    .dataframe tbody tr th:only-of-type {\n",
       "        vertical-align: middle;\n",
       "    }\n",
       "\n",
       "    .dataframe tbody tr th {\n",
       "        vertical-align: top;\n",
       "    }\n",
       "\n",
       "    .dataframe thead th {\n",
       "        text-align: right;\n",
       "    }\n",
       "</style>\n",
       "<table border=\"1\" class=\"dataframe\">\n",
       "  <thead>\n",
       "    <tr style=\"text-align: right;\">\n",
       "      <th></th>\n",
       "      <th>id</th>\n",
       "      <th>text</th>\n",
       "      <th>author_id</th>\n",
       "      <th>created_at</th>\n",
       "      <th>public_metrics</th>\n",
       "      <th>entities</th>\n",
       "      <th>author</th>\n",
       "      <th>withheld</th>\n",
       "    </tr>\n",
       "  </thead>\n",
       "  <tbody>\n",
       "    <tr>\n",
       "      <th>180693</th>\n",
       "      <td>1526361810768695296</td>\n",
       "      <td>Tucker: They are hoarding baby formula https:/...</td>\n",
       "      <td>4091541562</td>\n",
       "      <td>2022-05-17 00:39:48+00:00</td>\n",
       "      <td>{'retweet_count': 0, 'reply_count': 0, 'like_c...</td>\n",
       "      <td>{'urls': [{'start': 39, 'end': 62, 'url': 'htt...</td>\n",
       "      <td>{'id': '4091541562', 'public_metrics': {'follo...</td>\n",
       "      <td>NaN</td>\n",
       "    </tr>\n",
       "    <tr>\n",
       "      <th>193707</th>\n",
       "      <td>1526270154228871168</td>\n",
       "      <td>I wouldn't say there is a decrease in baby for...</td>\n",
       "      <td>1507380079566983168</td>\n",
       "      <td>2022-05-16 18:35:36+00:00</td>\n",
       "      <td>{'retweet_count': 0, 'reply_count': 0, 'like_c...</td>\n",
       "      <td>NaN</td>\n",
       "      <td>{'username': 'IndigoHeathen76', 'id': '1507380...</td>\n",
       "      <td>NaN</td>\n",
       "    </tr>\n",
       "    <tr>\n",
       "      <th>487890</th>\n",
       "      <td>1524211392726851584</td>\n",
       "      <td>People are so narrow minded.  This #BabyFormul...</td>\n",
       "      <td>165122428</td>\n",
       "      <td>2022-05-11 02:14:49+00:00</td>\n",
       "      <td>{'retweet_count': 1, 'reply_count': 0, 'like_c...</td>\n",
       "      <td>{'hashtags': [{'start': 35, 'end': 55, 'tag': ...</td>\n",
       "      <td>{'username': 'rob8213', 'name': 'rob sagala', ...</td>\n",
       "      <td>NaN</td>\n",
       "    </tr>\n",
       "    <tr>\n",
       "      <th>46385</th>\n",
       "      <td>1527458147001978880</td>\n",
       "      <td>reagan 1976: \"welfare queens\"\\n\\nradicalized g...</td>\n",
       "      <td>49749502</td>\n",
       "      <td>2022-05-20 01:16:15+00:00</td>\n",
       "      <td>{'retweet_count': 0, 'reply_count': 0, 'like_c...</td>\n",
       "      <td>{'annotations': [{'start': 69, 'end': 74, 'pro...</td>\n",
       "      <td>{'verified': False, 'name': 'sumnermellen', 'u...</td>\n",
       "      <td>NaN</td>\n",
       "    </tr>\n",
       "    <tr>\n",
       "      <th>542621</th>\n",
       "      <td>1521364055738384384</td>\n",
       "      <td>I’m a time where supposedly they wanna depopul...</td>\n",
       "      <td>1262632740</td>\n",
       "      <td>2022-05-03 05:40:31+00:00</td>\n",
       "      <td>{'retweet_count': 0, 'reply_count': 0, 'like_c...</td>\n",
       "      <td>{'annotations': [{'start': 80, 'end': 89, 'pro...</td>\n",
       "      <td>{'public_metrics': {'followers_count': 640, 'f...</td>\n",
       "      <td>NaN</td>\n",
       "    </tr>\n",
       "    <tr>\n",
       "      <th>...</th>\n",
       "      <td>...</td>\n",
       "      <td>...</td>\n",
       "      <td>...</td>\n",
       "      <td>...</td>\n",
       "      <td>...</td>\n",
       "      <td>...</td>\n",
       "      <td>...</td>\n",
       "      <td>...</td>\n",
       "    </tr>\n",
       "    <tr>\n",
       "      <th>44803</th>\n",
       "      <td>1527467065883361280</td>\n",
       "      <td>@RebeccaforReal @NikkiHaley Like voting NO for...</td>\n",
       "      <td>1349701882021883904</td>\n",
       "      <td>2022-05-20 01:51:42+00:00</td>\n",
       "      <td>{'retweet_count': 0, 'reply_count': 0, 'like_c...</td>\n",
       "      <td>{'mentions': [{'start': 0, 'end': 15, 'usernam...</td>\n",
       "      <td>{'username': 'Mitchel29296739', 'name': 'Mitch...</td>\n",
       "      <td>NaN</td>\n",
       "    </tr>\n",
       "    <tr>\n",
       "      <th>379361</th>\n",
       "      <td>1524897022129618944</td>\n",
       "      <td>@greg_price11 @dbongino Crackpipes for all bab...</td>\n",
       "      <td>1639501584</td>\n",
       "      <td>2022-05-12 23:39:15+00:00</td>\n",
       "      <td>{'retweet_count': 0, 'reply_count': 0, 'like_c...</td>\n",
       "      <td>{'mentions': [{'start': 0, 'end': 13, 'usernam...</td>\n",
       "      <td>{'verified': False, 'public_metrics': {'follow...</td>\n",
       "      <td>NaN</td>\n",
       "    </tr>\n",
       "    <tr>\n",
       "      <th>38623</th>\n",
       "      <td>1527511575862681600</td>\n",
       "      <td>@dandoozle @elonmusk Yes, apparently there is ...</td>\n",
       "      <td>1370932333491191808</td>\n",
       "      <td>2022-05-20 04:48:34+00:00</td>\n",
       "      <td>{'retweet_count': 0, 'reply_count': 0, 'like_c...</td>\n",
       "      <td>{'mentions': [{'start': 0, 'end': 10, 'usernam...</td>\n",
       "      <td>{'username': 'jodisweere', 'verified': False, ...</td>\n",
       "      <td>NaN</td>\n",
       "    </tr>\n",
       "    <tr>\n",
       "      <th>384617</th>\n",
       "      <td>1524881845640388608</td>\n",
       "      <td>https://t.co/P1f8sqTWY5</td>\n",
       "      <td>928151018247983104</td>\n",
       "      <td>2022-05-12 22:38:57+00:00</td>\n",
       "      <td>{'retweet_count': 0, 'reply_count': 0, 'like_c...</td>\n",
       "      <td>{'urls': [{'start': 0, 'end': 23, 'url': 'http...</td>\n",
       "      <td>{'name': 'სეალტიელი Derrick', 'created_at': '2...</td>\n",
       "      <td>NaN</td>\n",
       "    </tr>\n",
       "    <tr>\n",
       "      <th>279077</th>\n",
       "      <td>1525359629605097472</td>\n",
       "      <td>Apparently about 44% of baby formula comes fro...</td>\n",
       "      <td>1518710899879645184</td>\n",
       "      <td>2022-05-14 06:17:30+00:00</td>\n",
       "      <td>{'retweet_count': 0, 'reply_count': 0, 'like_c...</td>\n",
       "      <td>{'annotations': [{'start': 48, 'end': 52, 'pro...</td>\n",
       "      <td>{'id': '1518710899879645189', 'username': 'mim...</td>\n",
       "      <td>NaN</td>\n",
       "    </tr>\n",
       "  </tbody>\n",
       "</table>\n",
       "<p>500 rows × 8 columns</p>\n",
       "</div>"
      ],
      "text/plain": [
       "                         id  \\\n",
       "180693  1526361810768695296   \n",
       "193707  1526270154228871168   \n",
       "487890  1524211392726851584   \n",
       "46385   1527458147001978880   \n",
       "542621  1521364055738384384   \n",
       "...                     ...   \n",
       "44803   1527467065883361280   \n",
       "379361  1524897022129618944   \n",
       "38623   1527511575862681600   \n",
       "384617  1524881845640388608   \n",
       "279077  1525359629605097472   \n",
       "\n",
       "                                                     text  \\\n",
       "180693  Tucker: They are hoarding baby formula https:/...   \n",
       "193707  I wouldn't say there is a decrease in baby for...   \n",
       "487890  People are so narrow minded.  This #BabyFormul...   \n",
       "46385   reagan 1976: \"welfare queens\"\\n\\nradicalized g...   \n",
       "542621  I’m a time where supposedly they wanna depopul...   \n",
       "...                                                   ...   \n",
       "44803   @RebeccaforReal @NikkiHaley Like voting NO for...   \n",
       "379361  @greg_price11 @dbongino Crackpipes for all bab...   \n",
       "38623   @dandoozle @elonmusk Yes, apparently there is ...   \n",
       "384617                            https://t.co/P1f8sqTWY5   \n",
       "279077  Apparently about 44% of baby formula comes fro...   \n",
       "\n",
       "                  author_id                created_at  \\\n",
       "180693           4091541562 2022-05-17 00:39:48+00:00   \n",
       "193707  1507380079566983168 2022-05-16 18:35:36+00:00   \n",
       "487890            165122428 2022-05-11 02:14:49+00:00   \n",
       "46385              49749502 2022-05-20 01:16:15+00:00   \n",
       "542621           1262632740 2022-05-03 05:40:31+00:00   \n",
       "...                     ...                       ...   \n",
       "44803   1349701882021883904 2022-05-20 01:51:42+00:00   \n",
       "379361           1639501584 2022-05-12 23:39:15+00:00   \n",
       "38623   1370932333491191808 2022-05-20 04:48:34+00:00   \n",
       "384617   928151018247983104 2022-05-12 22:38:57+00:00   \n",
       "279077  1518710899879645184 2022-05-14 06:17:30+00:00   \n",
       "\n",
       "                                           public_metrics  \\\n",
       "180693  {'retweet_count': 0, 'reply_count': 0, 'like_c...   \n",
       "193707  {'retweet_count': 0, 'reply_count': 0, 'like_c...   \n",
       "487890  {'retweet_count': 1, 'reply_count': 0, 'like_c...   \n",
       "46385   {'retweet_count': 0, 'reply_count': 0, 'like_c...   \n",
       "542621  {'retweet_count': 0, 'reply_count': 0, 'like_c...   \n",
       "...                                                   ...   \n",
       "44803   {'retweet_count': 0, 'reply_count': 0, 'like_c...   \n",
       "379361  {'retweet_count': 0, 'reply_count': 0, 'like_c...   \n",
       "38623   {'retweet_count': 0, 'reply_count': 0, 'like_c...   \n",
       "384617  {'retweet_count': 0, 'reply_count': 0, 'like_c...   \n",
       "279077  {'retweet_count': 0, 'reply_count': 0, 'like_c...   \n",
       "\n",
       "                                                 entities  \\\n",
       "180693  {'urls': [{'start': 39, 'end': 62, 'url': 'htt...   \n",
       "193707                                                NaN   \n",
       "487890  {'hashtags': [{'start': 35, 'end': 55, 'tag': ...   \n",
       "46385   {'annotations': [{'start': 69, 'end': 74, 'pro...   \n",
       "542621  {'annotations': [{'start': 80, 'end': 89, 'pro...   \n",
       "...                                                   ...   \n",
       "44803   {'mentions': [{'start': 0, 'end': 15, 'usernam...   \n",
       "379361  {'mentions': [{'start': 0, 'end': 13, 'usernam...   \n",
       "38623   {'mentions': [{'start': 0, 'end': 10, 'usernam...   \n",
       "384617  {'urls': [{'start': 0, 'end': 23, 'url': 'http...   \n",
       "279077  {'annotations': [{'start': 48, 'end': 52, 'pro...   \n",
       "\n",
       "                                                   author withheld  \n",
       "180693  {'id': '4091541562', 'public_metrics': {'follo...      NaN  \n",
       "193707  {'username': 'IndigoHeathen76', 'id': '1507380...      NaN  \n",
       "487890  {'username': 'rob8213', 'name': 'rob sagala', ...      NaN  \n",
       "46385   {'verified': False, 'name': 'sumnermellen', 'u...      NaN  \n",
       "542621  {'public_metrics': {'followers_count': 640, 'f...      NaN  \n",
       "...                                                   ...      ...  \n",
       "44803   {'username': 'Mitchel29296739', 'name': 'Mitch...      NaN  \n",
       "379361  {'verified': False, 'public_metrics': {'follow...      NaN  \n",
       "38623   {'username': 'jodisweere', 'verified': False, ...      NaN  \n",
       "384617  {'name': 'სეალტიელი Derrick', 'created_at': '2...      NaN  \n",
       "279077  {'id': '1518710899879645189', 'username': 'mim...      NaN  \n",
       "\n",
       "[500 rows x 8 columns]"
      ]
     },
     "execution_count": 8,
     "metadata": {},
     "output_type": "execute_result"
    }
   ],
   "source": [
    "all_tweets_sample = all_tweets.sample(500)\n",
    "all_tweets_sample"
   ]
  },
  {
   "cell_type": "markdown",
   "id": "6b2cf4ae-5f44-4e60-8d67-3b8d7e3ced03",
   "metadata": {},
   "source": [
    "### Cleaning Text"
   ]
  },
  {
   "cell_type": "code",
   "execution_count": 9,
   "id": "5438f9f9-59ea-4437-8479-bd317636a0f6",
   "metadata": {},
   "outputs": [
    {
     "name": "stderr",
     "output_type": "stream",
     "text": [
      "[nltk_data] Downloading package stopwords to /home/rohan/nltk_data...\n",
      "[nltk_data]   Package stopwords is already up-to-date!\n",
      "[nltk_data] Downloading package omw-1.4 to /home/rohan/nltk_data...\n",
      "[nltk_data]   Package omw-1.4 is already up-to-date!\n"
     ]
    }
   ],
   "source": [
    "import re\n",
    "\n",
    "import nltk.corpus\n",
    "nltk.download('stopwords')\n",
    "from nltk.corpus import stopwords\n",
    "\n",
    "import nltk\n",
    "nltk.download('omw-1.4')\n",
    "from nltk.stem.porter import PorterStemmer\n",
    "from nltk.stem import WordNetLemmatizer\n",
    "\n",
    "def clean_text_basic(text):\n",
    "    '''\n",
    "    Normalizes text, removes unicode chars\n",
    "        Params:\n",
    "            text (string): text to be normalized\n",
    "        Returns:\n",
    "            cleaned_text (string): The text cleaned with the steps above\n",
    "    '''\n",
    "    # regular expression from https://monkeylearn.com/blog/text-cleaning/\n",
    "    cleaned_text = re.sub(r\"(@\\[A-Za-z0-9]+)|([^0-9A-Za-z \\t])|(\\w+:\\/\\/\\S+)|^rt|http.+?\", \"\", text)\n",
    "    cleaned_text = cleaned_text.lower()\n",
    "    return cleaned_text\n",
    "\n",
    "def clean_text_level2(text):\n",
    "    '''\n",
    "    Cleans with the basic steps but also removes stop words and lemmatizes\n",
    "        Params:\n",
    "            text (string): text to be normalized\n",
    "        Returns:\n",
    "            cleaned_text (string): The text cleaned with the steps above\n",
    "    '''\n",
    "    text = clean_text_basic(text)\n",
    "    stoppies = stopwords.words('english')\n",
    "    lemmatizer = WordNetLemmatizer()\n",
    "    # expression partially from https://monkeylearn.com/blog/text-cleaning/\n",
    "    cleaned_text = \" \".join([lemmatizer.lemmatize(word) for word in text.split() if word not in (stoppies)])\n",
    "    return cleaned_text\n"
   ]
  },
  {
   "cell_type": "code",
   "execution_count": 10,
   "id": "830fbd0d-412c-423a-8c93-988dc26a3c62",
   "metadata": {},
   "outputs": [
    {
     "data": {
      "text/html": [
       "<div>\n",
       "<style scoped>\n",
       "    .dataframe tbody tr th:only-of-type {\n",
       "        vertical-align: middle;\n",
       "    }\n",
       "\n",
       "    .dataframe tbody tr th {\n",
       "        vertical-align: top;\n",
       "    }\n",
       "\n",
       "    .dataframe thead th {\n",
       "        text-align: right;\n",
       "    }\n",
       "</style>\n",
       "<table border=\"1\" class=\"dataframe\">\n",
       "  <thead>\n",
       "    <tr style=\"text-align: right;\">\n",
       "      <th></th>\n",
       "      <th>id</th>\n",
       "      <th>text</th>\n",
       "      <th>author_id</th>\n",
       "      <th>created_at</th>\n",
       "      <th>public_metrics</th>\n",
       "      <th>entities</th>\n",
       "      <th>author</th>\n",
       "      <th>withheld</th>\n",
       "      <th>clean_text</th>\n",
       "      <th>very_clean_text</th>\n",
       "    </tr>\n",
       "  </thead>\n",
       "  <tbody>\n",
       "    <tr>\n",
       "      <th>180693</th>\n",
       "      <td>1526361810768695296</td>\n",
       "      <td>Tucker: They are hoarding baby formula https:/...</td>\n",
       "      <td>4091541562</td>\n",
       "      <td>2022-05-17 00:39:48+00:00</td>\n",
       "      <td>{'retweet_count': 0, 'reply_count': 0, 'like_c...</td>\n",
       "      <td>{'urls': [{'start': 39, 'end': 62, 'url': 'htt...</td>\n",
       "      <td>{'id': '4091541562', 'public_metrics': {'follo...</td>\n",
       "      <td>NaN</td>\n",
       "      <td>tucker they are hoarding baby formula  via you...</td>\n",
       "      <td>tucker hoarding baby formula via youtube</td>\n",
       "    </tr>\n",
       "    <tr>\n",
       "      <th>193707</th>\n",
       "      <td>1526270154228871168</td>\n",
       "      <td>I wouldn't say there is a decrease in baby for...</td>\n",
       "      <td>1507380079566983168</td>\n",
       "      <td>2022-05-16 18:35:36+00:00</td>\n",
       "      <td>{'retweet_count': 0, 'reply_count': 0, 'like_c...</td>\n",
       "      <td>NaN</td>\n",
       "      <td>{'username': 'IndigoHeathen76', 'id': '1507380...</td>\n",
       "      <td>NaN</td>\n",
       "      <td>i wouldnt say there is a decrease in baby form...</td>\n",
       "      <td>wouldnt say decrease baby formulajust decrease...</td>\n",
       "    </tr>\n",
       "    <tr>\n",
       "      <th>487890</th>\n",
       "      <td>1524211392726851584</td>\n",
       "      <td>People are so narrow minded.  This #BabyFormul...</td>\n",
       "      <td>165122428</td>\n",
       "      <td>2022-05-11 02:14:49+00:00</td>\n",
       "      <td>{'retweet_count': 1, 'reply_count': 0, 'like_c...</td>\n",
       "      <td>{'hashtags': [{'start': 35, 'end': 55, 'tag': ...</td>\n",
       "      <td>{'username': 'rob8213', 'name': 'rob sagala', ...</td>\n",
       "      <td>NaN</td>\n",
       "      <td>people are so narrow minded  this babyformulas...</td>\n",
       "      <td>people narrow minded babyformulashortage solve...</td>\n",
       "    </tr>\n",
       "    <tr>\n",
       "      <th>46385</th>\n",
       "      <td>1527458147001978880</td>\n",
       "      <td>reagan 1976: \"welfare queens\"\\n\\nradicalized g...</td>\n",
       "      <td>49749502</td>\n",
       "      <td>2022-05-20 01:16:15+00:00</td>\n",
       "      <td>{'retweet_count': 0, 'reply_count': 0, 'like_c...</td>\n",
       "      <td>{'annotations': [{'start': 69, 'end': 74, 'pro...</td>\n",
       "      <td>{'verified': False, 'name': 'sumnermellen', 'u...</td>\n",
       "      <td>NaN</td>\n",
       "      <td>reagan 1976 welfare queensradicalized gop 2022...</td>\n",
       "      <td>reagan 1976 welfare queensradicalized gop 2022...</td>\n",
       "    </tr>\n",
       "    <tr>\n",
       "      <th>542621</th>\n",
       "      <td>1521364055738384384</td>\n",
       "      <td>I’m a time where supposedly they wanna depopul...</td>\n",
       "      <td>1262632740</td>\n",
       "      <td>2022-05-03 05:40:31+00:00</td>\n",
       "      <td>{'retweet_count': 0, 'reply_count': 0, 'like_c...</td>\n",
       "      <td>{'annotations': [{'start': 80, 'end': 89, 'pro...</td>\n",
       "      <td>{'public_metrics': {'followers_count': 640, 'f...</td>\n",
       "      <td>NaN</td>\n",
       "      <td>im a time where supposedly they wanna depopula...</td>\n",
       "      <td>im time supposedly wanna depopulate planet ove...</td>\n",
       "    </tr>\n",
       "    <tr>\n",
       "      <th>...</th>\n",
       "      <td>...</td>\n",
       "      <td>...</td>\n",
       "      <td>...</td>\n",
       "      <td>...</td>\n",
       "      <td>...</td>\n",
       "      <td>...</td>\n",
       "      <td>...</td>\n",
       "      <td>...</td>\n",
       "      <td>...</td>\n",
       "      <td>...</td>\n",
       "    </tr>\n",
       "    <tr>\n",
       "      <th>44803</th>\n",
       "      <td>1527467065883361280</td>\n",
       "      <td>@RebeccaforReal @NikkiHaley Like voting NO for...</td>\n",
       "      <td>1349701882021883904</td>\n",
       "      <td>2022-05-20 01:51:42+00:00</td>\n",
       "      <td>{'retweet_count': 0, 'reply_count': 0, 'like_c...</td>\n",
       "      <td>{'mentions': [{'start': 0, 'end': 15, 'usernam...</td>\n",
       "      <td>{'username': 'Mitchel29296739', 'name': 'Mitch...</td>\n",
       "      <td>NaN</td>\n",
       "      <td>rebeccaforreal nikkihaley like voting no for b...</td>\n",
       "      <td>rebeccaforreal nikkihaley like voting baby for...</td>\n",
       "    </tr>\n",
       "    <tr>\n",
       "      <th>379361</th>\n",
       "      <td>1524897022129618944</td>\n",
       "      <td>@greg_price11 @dbongino Crackpipes for all bab...</td>\n",
       "      <td>1639501584</td>\n",
       "      <td>2022-05-12 23:39:15+00:00</td>\n",
       "      <td>{'retweet_count': 0, 'reply_count': 0, 'like_c...</td>\n",
       "      <td>{'mentions': [{'start': 0, 'end': 13, 'usernam...</td>\n",
       "      <td>{'verified': False, 'public_metrics': {'follow...</td>\n",
       "      <td>NaN</td>\n",
       "      <td>gregprice11 dbongino crackpipes for all baby f...</td>\n",
       "      <td>gregprice11 dbongino crackpipes baby formula much</td>\n",
       "    </tr>\n",
       "    <tr>\n",
       "      <th>38623</th>\n",
       "      <td>1527511575862681600</td>\n",
       "      <td>@dandoozle @elonmusk Yes, apparently there is ...</td>\n",
       "      <td>1370932333491191808</td>\n",
       "      <td>2022-05-20 04:48:34+00:00</td>\n",
       "      <td>{'retweet_count': 0, 'reply_count': 0, 'like_c...</td>\n",
       "      <td>{'mentions': [{'start': 0, 'end': 10, 'usernam...</td>\n",
       "      <td>{'username': 'jodisweere', 'verified': False, ...</td>\n",
       "      <td>NaN</td>\n",
       "      <td>dandoozle elonmusk yes apparently there is som...</td>\n",
       "      <td>dandoozle elonmusk yes apparently disagreement...</td>\n",
       "    </tr>\n",
       "    <tr>\n",
       "      <th>384617</th>\n",
       "      <td>1524881845640388608</td>\n",
       "      <td>https://t.co/P1f8sqTWY5</td>\n",
       "      <td>928151018247983104</td>\n",
       "      <td>2022-05-12 22:38:57+00:00</td>\n",
       "      <td>{'retweet_count': 0, 'reply_count': 0, 'like_c...</td>\n",
       "      <td>{'urls': [{'start': 0, 'end': 23, 'url': 'http...</td>\n",
       "      <td>{'name': 'სეალტიელი Derrick', 'created_at': '2...</td>\n",
       "      <td>NaN</td>\n",
       "      <td></td>\n",
       "      <td></td>\n",
       "    </tr>\n",
       "    <tr>\n",
       "      <th>279077</th>\n",
       "      <td>1525359629605097472</td>\n",
       "      <td>Apparently about 44% of baby formula comes fro...</td>\n",
       "      <td>1518710899879645184</td>\n",
       "      <td>2022-05-14 06:17:30+00:00</td>\n",
       "      <td>{'retweet_count': 0, 'reply_count': 0, 'like_c...</td>\n",
       "      <td>{'annotations': [{'start': 48, 'end': 52, 'pro...</td>\n",
       "      <td>{'id': '1518710899879645189', 'username': 'mim...</td>\n",
       "      <td>NaN</td>\n",
       "      <td>apparently about 44 of baby formula comes from...</td>\n",
       "      <td>apparently 44 baby formula come china approxim...</td>\n",
       "    </tr>\n",
       "  </tbody>\n",
       "</table>\n",
       "<p>500 rows × 10 columns</p>\n",
       "</div>"
      ],
      "text/plain": [
       "                         id  \\\n",
       "180693  1526361810768695296   \n",
       "193707  1526270154228871168   \n",
       "487890  1524211392726851584   \n",
       "46385   1527458147001978880   \n",
       "542621  1521364055738384384   \n",
       "...                     ...   \n",
       "44803   1527467065883361280   \n",
       "379361  1524897022129618944   \n",
       "38623   1527511575862681600   \n",
       "384617  1524881845640388608   \n",
       "279077  1525359629605097472   \n",
       "\n",
       "                                                     text  \\\n",
       "180693  Tucker: They are hoarding baby formula https:/...   \n",
       "193707  I wouldn't say there is a decrease in baby for...   \n",
       "487890  People are so narrow minded.  This #BabyFormul...   \n",
       "46385   reagan 1976: \"welfare queens\"\\n\\nradicalized g...   \n",
       "542621  I’m a time where supposedly they wanna depopul...   \n",
       "...                                                   ...   \n",
       "44803   @RebeccaforReal @NikkiHaley Like voting NO for...   \n",
       "379361  @greg_price11 @dbongino Crackpipes for all bab...   \n",
       "38623   @dandoozle @elonmusk Yes, apparently there is ...   \n",
       "384617                            https://t.co/P1f8sqTWY5   \n",
       "279077  Apparently about 44% of baby formula comes fro...   \n",
       "\n",
       "                  author_id                created_at  \\\n",
       "180693           4091541562 2022-05-17 00:39:48+00:00   \n",
       "193707  1507380079566983168 2022-05-16 18:35:36+00:00   \n",
       "487890            165122428 2022-05-11 02:14:49+00:00   \n",
       "46385              49749502 2022-05-20 01:16:15+00:00   \n",
       "542621           1262632740 2022-05-03 05:40:31+00:00   \n",
       "...                     ...                       ...   \n",
       "44803   1349701882021883904 2022-05-20 01:51:42+00:00   \n",
       "379361           1639501584 2022-05-12 23:39:15+00:00   \n",
       "38623   1370932333491191808 2022-05-20 04:48:34+00:00   \n",
       "384617   928151018247983104 2022-05-12 22:38:57+00:00   \n",
       "279077  1518710899879645184 2022-05-14 06:17:30+00:00   \n",
       "\n",
       "                                           public_metrics  \\\n",
       "180693  {'retweet_count': 0, 'reply_count': 0, 'like_c...   \n",
       "193707  {'retweet_count': 0, 'reply_count': 0, 'like_c...   \n",
       "487890  {'retweet_count': 1, 'reply_count': 0, 'like_c...   \n",
       "46385   {'retweet_count': 0, 'reply_count': 0, 'like_c...   \n",
       "542621  {'retweet_count': 0, 'reply_count': 0, 'like_c...   \n",
       "...                                                   ...   \n",
       "44803   {'retweet_count': 0, 'reply_count': 0, 'like_c...   \n",
       "379361  {'retweet_count': 0, 'reply_count': 0, 'like_c...   \n",
       "38623   {'retweet_count': 0, 'reply_count': 0, 'like_c...   \n",
       "384617  {'retweet_count': 0, 'reply_count': 0, 'like_c...   \n",
       "279077  {'retweet_count': 0, 'reply_count': 0, 'like_c...   \n",
       "\n",
       "                                                 entities  \\\n",
       "180693  {'urls': [{'start': 39, 'end': 62, 'url': 'htt...   \n",
       "193707                                                NaN   \n",
       "487890  {'hashtags': [{'start': 35, 'end': 55, 'tag': ...   \n",
       "46385   {'annotations': [{'start': 69, 'end': 74, 'pro...   \n",
       "542621  {'annotations': [{'start': 80, 'end': 89, 'pro...   \n",
       "...                                                   ...   \n",
       "44803   {'mentions': [{'start': 0, 'end': 15, 'usernam...   \n",
       "379361  {'mentions': [{'start': 0, 'end': 13, 'usernam...   \n",
       "38623   {'mentions': [{'start': 0, 'end': 10, 'usernam...   \n",
       "384617  {'urls': [{'start': 0, 'end': 23, 'url': 'http...   \n",
       "279077  {'annotations': [{'start': 48, 'end': 52, 'pro...   \n",
       "\n",
       "                                                   author withheld  \\\n",
       "180693  {'id': '4091541562', 'public_metrics': {'follo...      NaN   \n",
       "193707  {'username': 'IndigoHeathen76', 'id': '1507380...      NaN   \n",
       "487890  {'username': 'rob8213', 'name': 'rob sagala', ...      NaN   \n",
       "46385   {'verified': False, 'name': 'sumnermellen', 'u...      NaN   \n",
       "542621  {'public_metrics': {'followers_count': 640, 'f...      NaN   \n",
       "...                                                   ...      ...   \n",
       "44803   {'username': 'Mitchel29296739', 'name': 'Mitch...      NaN   \n",
       "379361  {'verified': False, 'public_metrics': {'follow...      NaN   \n",
       "38623   {'username': 'jodisweere', 'verified': False, ...      NaN   \n",
       "384617  {'name': 'სეალტიელი Derrick', 'created_at': '2...      NaN   \n",
       "279077  {'id': '1518710899879645189', 'username': 'mim...      NaN   \n",
       "\n",
       "                                               clean_text  \\\n",
       "180693  tucker they are hoarding baby formula  via you...   \n",
       "193707  i wouldnt say there is a decrease in baby form...   \n",
       "487890  people are so narrow minded  this babyformulas...   \n",
       "46385   reagan 1976 welfare queensradicalized gop 2022...   \n",
       "542621  im a time where supposedly they wanna depopula...   \n",
       "...                                                   ...   \n",
       "44803   rebeccaforreal nikkihaley like voting no for b...   \n",
       "379361  gregprice11 dbongino crackpipes for all baby f...   \n",
       "38623   dandoozle elonmusk yes apparently there is som...   \n",
       "384617                                                      \n",
       "279077  apparently about 44 of baby formula comes from...   \n",
       "\n",
       "                                          very_clean_text  \n",
       "180693           tucker hoarding baby formula via youtube  \n",
       "193707  wouldnt say decrease baby formulajust decrease...  \n",
       "487890  people narrow minded babyformulashortage solve...  \n",
       "46385   reagan 1976 welfare queensradicalized gop 2022...  \n",
       "542621  im time supposedly wanna depopulate planet ove...  \n",
       "...                                                   ...  \n",
       "44803   rebeccaforreal nikkihaley like voting baby for...  \n",
       "379361  gregprice11 dbongino crackpipes baby formula much  \n",
       "38623   dandoozle elonmusk yes apparently disagreement...  \n",
       "384617                                                     \n",
       "279077  apparently 44 baby formula come china approxim...  \n",
       "\n",
       "[500 rows x 10 columns]"
      ]
     },
     "execution_count": 10,
     "metadata": {},
     "output_type": "execute_result"
    }
   ],
   "source": [
    "all_tweets_sample[\"clean_text\"] = all_tweets_sample[\"text\"].apply(clean_text_basic)\n",
    "all_tweets_sample[\"very_clean_text\"] = all_tweets_sample[\"text\"].apply(clean_text_level2)\n",
    "all_tweets_sample"
   ]
  },
  {
   "cell_type": "markdown",
   "id": "a9ed90e2-2b49-4213-8d43-6cbc764c039a",
   "metadata": {},
   "source": [
    "### Sentiment Analyzers"
   ]
  },
  {
   "cell_type": "code",
   "execution_count": 37,
   "id": "78e82b0d-1b58-493e-81cc-86644a7e6f4b",
   "metadata": {},
   "outputs": [
    {
     "name": "stdout",
     "output_type": "stream",
     "text": [
      "2022-05-28 16:20:25,016 loading file /home/rohan/.flair/models/sentiment-en-mix-distillbert_4.pt\n"
     ]
    },
    {
     "name": "stderr",
     "output_type": "stream",
     "text": [
      "[nltk_data] Downloading package vader_lexicon to\n",
      "[nltk_data]     /home/rohan/nltk_data...\n",
      "[nltk_data]   Package vader_lexicon is already up-to-date!\n"
     ]
    },
    {
     "data": {
      "text/plain": [
       "'Tucker: They are hoarding baby formula https://t.co/L6h3qfmnYO via @YouTube'"
      ]
     },
     "execution_count": 37,
     "metadata": {},
     "output_type": "execute_result"
    }
   ],
   "source": [
    "from nltk.sentiment import SentimentIntensityAnalyzer\n",
    "import operator\n",
    "nltk.download('vader_lexicon')\n",
    "sia = SentimentIntensityAnalyzer()\n",
    "def get_sentiment(text):\n",
    "    '''\n",
    "    Gets the sentiment score of text from the nltk sentiment thingy.\n",
    "        Params:\n",
    "            text (string): Text to analyze\n",
    "        Returns:\n",
    "            sent (float): Real number from -1 to 1\n",
    "    '''\n",
    "    return sia.polarity_scores(text)[\"compound\"]\n",
    "\n",
    "from flair.models import TextClassifier\n",
    "from flair.data import Sentence\n",
    "flair_sia = TextClassifier.load('en-sentiment')\n",
    "def get_sentiment_flair(text):\n",
    "    # RETURNS CONFIDENCE, NOT POLARITY, DO NOT CONFUSE FOR POLARITY CAUSE IT'S CONFIDENCE\n",
    "    sentence = Sentence(text)\n",
    "    flair_sia.predict(sentence)\n",
    "    try:\n",
    "        pol = sentence.labels[0].to_dict()\n",
    "    except:\n",
    "        return 0.0\n",
    "    if pol[\"value\"] == \"NEGATIVE\":\n",
    "        pol[\"confidence\"] *= -1\n",
    "    return pol[\"confidence\"]\n",
    "get_sentiment_flair(all_tweets_sample.iloc[0][\"very_clean_text\"])\n",
    "all_tweets_sample.iloc[0][\"text\"]"
   ]
  },
  {
   "cell_type": "code",
   "execution_count": 38,
   "id": "5a569fcf-6e04-4521-b9a8-2ac5dc96040b",
   "metadata": {},
   "outputs": [
    {
     "name": "stdout",
     "output_type": "stream",
     "text": [
      "2022-05-28 16:20:29,788 Warning: An empty Sentence was created! Are there empty strings in your dataset?\n",
      "2022-05-28 16:20:30,889 Warning: An empty Sentence was created! Are there empty strings in your dataset?\n",
      "2022-05-28 16:20:31,402 Warning: An empty Sentence was created! Are there empty strings in your dataset?\n",
      "2022-05-28 16:20:31,734 Warning: An empty Sentence was created! Are there empty strings in your dataset?\n",
      "2022-05-28 16:20:32,464 Warning: An empty Sentence was created! Are there empty strings in your dataset?\n",
      "2022-05-28 16:20:37,953 Warning: An empty Sentence was created! Are there empty strings in your dataset?\n",
      "2022-05-28 16:20:38,439 Warning: An empty Sentence was created! Are there empty strings in your dataset?\n",
      "2022-05-28 16:20:38,543 Warning: An empty Sentence was created! Are there empty strings in your dataset?\n"
     ]
    }
   ],
   "source": [
    "all_tweets_sample[\"sentiment\"] = all_tweets_sample[\"clean_text\"].apply(get_sentiment)\n",
    "all_tweets_sample[\"very_clean_sentiment\"] = all_tweets_sample[\"very_clean_text\"].apply(get_sentiment)\n",
    "all_tweets_sample[\"flair_sentiment\"] = all_tweets_sample[\"clean_text\"].apply(get_sentiment_flair)"
   ]
  },
  {
   "cell_type": "code",
   "execution_count": 39,
   "id": "1a7107ca-8937-4fe5-91fc-4dd253eed9d1",
   "metadata": {},
   "outputs": [
    {
     "data": {
      "text/plain": [
       "'reagan 1976: \"welfare queens\"\\n\\nradicalized gop 2022: biggs, boebert, massie, higgins, gaetz, roy, gosar, gohmert, greene vote AGAINST \"access to baby formula act\" that would help low income American women get access to baby formula.\\n\\nThe gop awfulness is metastasizing\\n\\nVOTE'"
      ]
     },
     "metadata": {},
     "output_type": "display_data"
    },
    {
     "data": {
      "text/plain": [
       "0.1531"
      ]
     },
     "metadata": {},
     "output_type": "display_data"
    },
    {
     "data": {
      "text/plain": [
       "0.1531"
      ]
     },
     "metadata": {},
     "output_type": "display_data"
    },
    {
     "data": {
      "text/plain": [
       "-0.9999120235443115"
      ]
     },
     "metadata": {},
     "output_type": "display_data"
    }
   ],
   "source": [
    "def show_sentiments(index):\n",
    "    display(all_tweets_sample[\"text\"].iloc[index])\n",
    "    display(all_tweets_sample[\"sentiment\"].iloc[index])\n",
    "    display(all_tweets_sample[\"very_clean_sentiment\"].iloc[index])\n",
    "    display(all_tweets_sample[\"flair_sentiment\"].iloc[index])\n",
    "show_sentiments(3)"
   ]
  },
  {
   "cell_type": "code",
   "execution_count": 40,
   "id": "f343285f-dd7b-480d-b782-a7cc1aab1fe6",
   "metadata": {},
   "outputs": [
    {
     "data": {
      "text/plain": [
       "<seaborn.axisgrid.FacetGrid at 0x7f96d54d1460>"
      ]
     },
     "execution_count": 40,
     "metadata": {},
     "output_type": "execute_result"
    },
    {
     "data": {
      "image/png": "[encoded data removed]",
      "text/plain": [
       "<Figure size 360x360 with 1 Axes>"
      ]
     },
     "metadata": {
      "needs_background": "light"
     },
     "output_type": "display_data"
    }
   ],
   "source": [
    "sns.displot(all_tweets_sample[\"sentiment\"], kde=True)"
   ]
  },
  {
   "cell_type": "code",
   "execution_count": 41,
   "id": "8e598c27-a5f9-4803-bd15-953eea283be3",
   "metadata": {},
   "outputs": [
    {
     "data": {
      "text/plain": [
       "<seaborn.axisgrid.FacetGrid at 0x7f96c45d3040>"
      ]
     },
     "execution_count": 41,
     "metadata": {},
     "output_type": "execute_result"
    },
    {
     "data": {
      "image/png": "[encoded data removed]",
      "text/plain": [
       "<Figure size 360x360 with 1 Axes>"
      ]
     },
     "metadata": {
      "needs_background": "light"
     },
     "output_type": "display_data"
    }
   ],
   "source": [
    "sns.displot(all_tweets_sample[\"very_clean_sentiment\"], kde=True)"
   ]
  },
  {
   "cell_type": "code",
   "execution_count": 42,
   "id": "627f2f6e-dcff-4133-af99-f5a9579f4e79",
   "metadata": {},
   "outputs": [
    {
     "data": {
      "text/plain": [
       "<seaborn.axisgrid.FacetGrid at 0x7f96c45abd90>"
      ]
     },
     "execution_count": 42,
     "metadata": {},
     "output_type": "execute_result"
    },
    {
     "data": {
      "image/png": "[encoded data removed]",
      "text/plain": [
       "<Figure size 360x360 with 1 Axes>"
      ]
     },
     "metadata": {
      "needs_background": "light"
     },
     "output_type": "display_data"
    }
   ],
   "source": [
    "sns.displot(all_tweets_sample[\"flair_sentiment\"], kde=True)"
   ]
  },
  {
   "cell_type": "code",
   "execution_count": null,
   "id": "60a88789-56a4-42b0-b421-8eef05a26735",
   "metadata": {},
   "outputs": [],
   "source": []
  }
 ],
 "metadata": {
  "kernelspec": {
   "display_name": "Python 3 (ipykernel)",
   "language": "python",
   "name": "python3"
  },
  "language_info": {
   "codemirror_mode": {
    "name": "ipython",
    "version": 3
   },
   "file_extension": ".py",
   "mimetype": "text/x-python",
   "name": "python",
   "nbconvert_exporter": "python",
   "pygments_lexer": "ipython3",
   "version": "3.8.10"
  }
 },
 "nbformat": 4,
 "nbformat_minor": 5
}
